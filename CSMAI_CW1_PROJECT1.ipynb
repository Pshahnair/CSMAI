{
  "cells": [
    {
      "cell_type": "markdown",
      "metadata": {
        "id": "view-in-github",
        "colab_type": "text"
      },
      "source": [
        "<a href=\"https://colab.research.google.com/github/Pshahnair/CSMAI/blob/main/CSMAI_CW1_PROJECT1.ipynb\" target=\"_parent\"><img src=\"https://colab.research.google.com/assets/colab-badge.svg\" alt=\"Open In Colab\"/></a>"
      ]
    },
    {
      "cell_type": "code",
      "execution_count": 1,
      "metadata": {
        "colab": {
          "base_uri": "https://localhost:8080/"
        },
        "id": "bokbyoNCrAxA",
        "outputId": "26f9ae8e-ea21-41cc-8bc6-f416302d5fa5"
      },
      "outputs": [
        {
          "output_type": "stream",
          "name": "stdout",
          "text": [
            "Mounted at /content/drive\n"
          ]
        }
      ],
      "source": [
        "from google.colab import drive\n",
        "drive.mount('/content/drive')"
      ]
    },
    {
      "cell_type": "code",
      "execution_count": 2,
      "metadata": {
        "colab": {
          "base_uri": "https://localhost:8080/"
        },
        "id": "XtckLPtEa7_t",
        "outputId": "4d5183c8-12b3-4b94-9653-9c4d7eb0305c"
      },
      "outputs": [
        {
          "output_type": "stream",
          "name": "stdout",
          "text": [
            "/content/drive/MyDrive/CSMAI_CW1_DOTAv1\n"
          ]
        }
      ],
      "source": [
        "%cd /content/drive/MyDrive/CSMAI_CW1_DOTAv1"
      ]
    },
    {
      "cell_type": "code",
      "source": [
        "!nvidia-smi"
      ],
      "metadata": {
        "colab": {
          "base_uri": "https://localhost:8080/"
        },
        "id": "eOGuad5ysFzm",
        "outputId": "f54d6d8a-b301-495b-bf06-949816f4bcd2"
      },
      "execution_count": null,
      "outputs": [
        {
          "output_type": "stream",
          "name": "stdout",
          "text": [
            "Mon May  5 23:03:29 2025       \n",
            "+-----------------------------------------------------------------------------------------+\n",
            "| NVIDIA-SMI 550.54.15              Driver Version: 550.54.15      CUDA Version: 12.4     |\n",
            "|-----------------------------------------+------------------------+----------------------+\n",
            "| GPU  Name                 Persistence-M | Bus-Id          Disp.A | Volatile Uncorr. ECC |\n",
            "| Fan  Temp   Perf          Pwr:Usage/Cap |           Memory-Usage | GPU-Util  Compute M. |\n",
            "|                                         |                        |               MIG M. |\n",
            "|=========================================+========================+======================|\n",
            "|   0  Tesla T4                       Off |   00000000:00:04.0 Off |                    0 |\n",
            "| N/A   56C    P8             10W /   70W |       0MiB /  15360MiB |      0%      Default |\n",
            "|                                         |                        |                  N/A |\n",
            "+-----------------------------------------+------------------------+----------------------+\n",
            "                                                                                         \n",
            "+-----------------------------------------------------------------------------------------+\n",
            "| Processes:                                                                              |\n",
            "|  GPU   GI   CI        PID   Type   Process name                              GPU Memory |\n",
            "|        ID   ID                                                               Usage      |\n",
            "|=========================================================================================|\n",
            "|  No running processes found                                                             |\n",
            "+-----------------------------------------------------------------------------------------+\n"
          ]
        }
      ]
    },
    {
      "cell_type": "code",
      "execution_count": 3,
      "metadata": {
        "colab": {
          "base_uri": "https://localhost:8080/"
        },
        "id": "HPPySISvcG4L",
        "outputId": "272b2389-145b-4a70-d773-a743c03824ad"
      },
      "outputs": [
        {
          "output_type": "stream",
          "name": "stdout",
          "text": [
            "✅ Current working directory: /content/drive/MyDrive/CSMAI_CW1_DOTAv1\n",
            "📁 Contents:\n",
            "- part1.zip\n",
            "- part2.zip\n",
            "- part3.zip\n",
            "- labelTxt.zip\n",
            "- part1_val.zip\n",
            "- labelTxt_val.zip\n",
            "- Untitled\n",
            "- part1_unzipped\n",
            "- part2_unzipped\n",
            "- part3_unzipped\n",
            "- labelTxt_unzipped\n",
            "- part1_val_unzipped\n",
            "- labelTxt_val_unzipped\n",
            "- train_label_classes.pkl\n",
            "- val_label_classes.pkl\n",
            "- cropped_patches\n",
            "- cropped_patches_val\n",
            "- processed\n",
            "- train_labels.npy\n",
            "- test_labels.npy\n",
            "- train_indices.npy\n",
            "- val_indices.npy\n",
            "- train_labels_split.npy\n",
            "- val_labels_split.npy\n",
            "- train_batch_files.npy\n",
            "- train_parts\n",
            "- val_parts\n",
            "- test_batch_files.npy\n",
            "- test_indices.npy\n",
            "- models\n",
            "- train_parts_reduced\n",
            "- val_parts_reduced\n",
            "- test_parts\n",
            "- test_parts_reduced\n",
            "- results\n",
            "- sgd_tuning_results\n",
            "- cnn_class_weights.pkl\n",
            "- CSMAI_CW1_PROJECT1.ipynb\n"
          ]
        }
      ],
      "source": [
        "import os\n",
        "\n",
        "# Confirm working directory\n",
        "print(\"✅ Current working directory:\", os.getcwd())\n",
        "\n",
        "# List files and folders\n",
        "print(\"📁 Contents:\")\n",
        "for f in os.listdir():\n",
        "    print(\"-\", f)"
      ]
    },
    {
      "cell_type": "code",
      "execution_count": null,
      "metadata": {
        "colab": {
          "base_uri": "https://localhost:8080/"
        },
        "id": "xj5JwP6Os1ON",
        "outputId": "3877cb28-07ff-407b-bcaf-264ec3734896"
      },
      "outputs": [
        {
          "output_type": "stream",
          "name": "stdout",
          "text": [
            "⏩ Folder 'part1_unzipped' already exists — skipping unzip\n"
          ]
        }
      ],
      "source": [
        "import os\n",
        "import zipfile\n",
        "\n",
        "zip_path = 'part1.zip'\n",
        "extract_to = 'part1_unzipped'\n",
        "\n",
        "# ✅ Only unzip if not already extracted\n",
        "if not os.path.exists(extract_to):\n",
        "    with zipfile.ZipFile(zip_path, 'r') as zip_ref:\n",
        "        zip_ref.extractall(extract_to)\n",
        "    print(f\"✅ Unzipped '{zip_path}' to '{extract_to}'\")\n",
        "else:\n",
        "    print(f\"⏩ Folder '{extract_to}' already exists — skipping unzip\")"
      ]
    },
    {
      "cell_type": "code",
      "execution_count": null,
      "metadata": {
        "colab": {
          "base_uri": "https://localhost:8080/"
        },
        "id": "lejeoF5vvUtc",
        "outputId": "d3ab7bab-ba93-4efc-bb84-2b1c4dbf6e8e"
      },
      "outputs": [
        {
          "output_type": "stream",
          "name": "stdout",
          "text": [
            "⏩ Folder 'part2_unzipped' already exists — skipping unzip\n"
          ]
        }
      ],
      "source": [
        "import os\n",
        "import zipfile\n",
        "\n",
        "zip_path = 'part2.zip'\n",
        "extract_to = 'part2_unzipped'\n",
        "\n",
        "# ✅ Only unzip if not already extracted\n",
        "if not os.path.exists(extract_to):\n",
        "    with zipfile.ZipFile(zip_path, 'r') as zip_ref:\n",
        "        zip_ref.extractall(extract_to)\n",
        "    print(f\"✅ Unzipped '{zip_path}' to '{extract_to}'\")\n",
        "else:\n",
        "    print(f\"⏩ Folder '{extract_to}' already exists — skipping unzip\")"
      ]
    },
    {
      "cell_type": "code",
      "execution_count": null,
      "metadata": {
        "colab": {
          "base_uri": "https://localhost:8080/"
        },
        "id": "sRF0E6n1v6Rv",
        "outputId": "7e7147d5-075a-492a-d6cc-40261066dedd"
      },
      "outputs": [
        {
          "output_type": "stream",
          "name": "stdout",
          "text": [
            "⏩ Folder 'part3_unzipped' already exists — skipping unzip\n"
          ]
        }
      ],
      "source": [
        "import os, zipfile\n",
        "\n",
        "zip_path = 'part3.zip'\n",
        "extract_to = 'part3_unzipped'\n",
        "\n",
        "if not os.path.exists(extract_to):\n",
        "    with zipfile.ZipFile(zip_path, 'r') as zip_ref:\n",
        "        zip_ref.extractall(extract_to)\n",
        "    print(f\"✅ Unzipped '{zip_path}' to '{extract_to}'\")\n",
        "else:\n",
        "    print(f\"⏩ Folder '{extract_to}' already exists — skipping unzip\")"
      ]
    },
    {
      "cell_type": "code",
      "execution_count": null,
      "metadata": {
        "colab": {
          "base_uri": "https://localhost:8080/"
        },
        "id": "8rnEnKsyxZPW",
        "outputId": "9801319a-bb6d-42d4-e4b9-b52f65a384fd"
      },
      "outputs": [
        {
          "output_type": "stream",
          "name": "stdout",
          "text": [
            "⏩ Folder 'labelTxt_unzipped' already exists — skipping unzip\n"
          ]
        }
      ],
      "source": [
        "import os, zipfile\n",
        "\n",
        "zip_path = 'labelTxt.zip'\n",
        "extract_to = 'labelTxt_unzipped'\n",
        "\n",
        "if not os.path.exists(extract_to):\n",
        "    with zipfile.ZipFile(zip_path, 'r') as zip_ref:\n",
        "        zip_ref.extractall(extract_to)\n",
        "    print(f\"✅ Unzipped '{zip_path}' to '{extract_to}'\")\n",
        "else:\n",
        "    print(f\"⏩ Folder '{extract_to}' already exists — skipping unzip\")"
      ]
    },
    {
      "cell_type": "code",
      "execution_count": null,
      "metadata": {
        "colab": {
          "base_uri": "https://localhost:8080/"
        },
        "id": "loMUOI5Kxjzh",
        "outputId": "724e0226-2aa3-4d3a-e6b8-87c607a7cf5e"
      },
      "outputs": [
        {
          "output_type": "stream",
          "name": "stdout",
          "text": [
            "⏩ Folder 'part1_val_unzipped' already exists — skipping unzip\n"
          ]
        }
      ],
      "source": [
        "import os, zipfile\n",
        "\n",
        "zip_path = 'part1_val.zip'\n",
        "extract_to = 'part1_val_unzipped'\n",
        "\n",
        "if not os.path.exists(extract_to):\n",
        "    with zipfile.ZipFile(zip_path, 'r') as zip_ref:\n",
        "        zip_ref.extractall(extract_to)\n",
        "    print(f\"✅ Unzipped '{zip_path}' to '{extract_to}'\")\n",
        "else:\n",
        "    print(f\"⏩ Folder '{extract_to}' already exists — skipping unzip\")"
      ]
    },
    {
      "cell_type": "code",
      "execution_count": null,
      "metadata": {
        "colab": {
          "base_uri": "https://localhost:8080/"
        },
        "id": "lu9KxSGQyC0d",
        "outputId": "339545fc-7dd6-4055-ee6c-2a9f2ae1c90f"
      },
      "outputs": [
        {
          "output_type": "stream",
          "name": "stdout",
          "text": [
            "⏩ Folder 'labelTxt_val_unzipped' already exists — skipping unzip\n"
          ]
        }
      ],
      "source": [
        "import os, zipfile\n",
        "\n",
        "zip_path = 'labelTxt_val.zip'\n",
        "extract_to = 'labelTxt_val_unzipped'\n",
        "\n",
        "if not os.path.exists(extract_to):\n",
        "    with zipfile.ZipFile(zip_path, 'r') as zip_ref:\n",
        "        zip_ref.extractall(extract_to)\n",
        "    print(f\"✅ Unzipped '{zip_path}' to '{extract_to}'\")\n",
        "else:\n",
        "    print(f\"⏩ Folder '{extract_to}' already exists — skipping unzip\")"
      ]
    },
    {
      "cell_type": "code",
      "execution_count": null,
      "metadata": {
        "colab": {
          "base_uri": "https://localhost:8080/"
        },
        "id": "IkIb5CsNyN_j",
        "outputId": "91d88772-a656-4db4-a3d3-6afc522cc52a"
      },
      "outputs": [
        {
          "output_type": "stream",
          "name": "stdout",
          "text": [
            "⏩ Loaded saved classes: ['baseball-diamond', 'basketball-court', 'bridge', 'ground-track-field', 'harbor', 'helicopter', 'large-vehicle', 'plane', 'roundabout', 'ship', 'small-vehicle', 'soccer-ball-field', 'storage-tank', 'swimming-pool', 'tennis-court']\n"
          ]
        }
      ],
      "source": [
        "# Step 3: Parse training annotations and save class list (safely)\n",
        "import os\n",
        "import pickle\n",
        "\n",
        "label_dir = 'labelTxt_unzipped'\n",
        "label_files = [f for f in os.listdir(label_dir) if f.endswith('.txt') and f != 'classes.txt']\n",
        "save_path = 'train_label_classes.pkl'\n",
        "\n",
        "if os.path.exists(save_path):\n",
        "    # ✅ Load from file if already saved\n",
        "    with open(save_path, 'rb') as f:\n",
        "        classes = pickle.load(f)\n",
        "    print(\"⏩ Loaded saved classes:\", classes)\n",
        "else:\n",
        "    # ✅ Parse and save\n",
        "    classes = set()\n",
        "    for file in label_files:\n",
        "        with open(os.path.join(label_dir, file), 'r') as f:\n",
        "            for line in f:\n",
        "                parts = line.strip().split()\n",
        "                if len(parts) >= 9:\n",
        "                    classes.add(parts[8])\n",
        "    classes = sorted(list(classes))\n",
        "    with open(save_path, 'wb') as f:\n",
        "        pickle.dump(classes, f)\n",
        "    print(\"✅ Parsed and saved classes:\", classes)"
      ]
    },
    {
      "cell_type": "code",
      "execution_count": null,
      "metadata": {
        "id": "_7j71XIs8EPI"
      },
      "outputs": [],
      "source": []
    },
    {
      "cell_type": "code",
      "execution_count": null,
      "metadata": {
        "colab": {
          "base_uri": "https://localhost:8080/"
        },
        "id": "SK5Yv_8L5ifo",
        "outputId": "edabc897-d9f6-4afc-c5de-14caeab2470a"
      },
      "outputs": [
        {
          "output_type": "stream",
          "name": "stdout",
          "text": [
            "Loaded saved val classes: ['baseball-diamond', 'basketball-court', 'bridge', 'ground-track-field', 'harbor', 'helicopter', 'large-vehicle', 'plane', 'roundabout', 'ship', 'small-vehicle', 'soccer-ball-field', 'storage-tank', 'swimming-pool', 'tennis-court']\n"
          ]
        }
      ],
      "source": [
        "import os\n",
        "import pickle\n",
        "\n",
        "label_dir = 'labelTxt_val_unzipped'\n",
        "label_files = [f for f in os.listdir(label_dir) if f.endswith('.txt') and f != 'classes.txt']\n",
        "save_path = 'val_label_classes.pkl'\n",
        "\n",
        "if os.path.exists(save_path):\n",
        "    with open(save_path, 'rb') as f:\n",
        "        val_classes = pickle.load(f)\n",
        "    print(\"Loaded saved val classes:\", val_classes)\n",
        "else:\n",
        "    val_classes = set()\n",
        "    for file in label_files:\n",
        "        with open(os.path.join(label_dir, file), 'r') as f:\n",
        "            for line in f:\n",
        "                parts = line.strip().split()\n",
        "                if len(parts) >= 9:\n",
        "                    val_classes.add(parts[8])\n",
        "    val_classes = sorted(list(val_classes))\n",
        "    with open(save_path, 'wb') as f:\n",
        "        pickle.dump(val_classes, f)\n",
        "    print(\"Parsed and saved val classes:\", val_classes)"
      ]
    },
    {
      "cell_type": "code",
      "execution_count": null,
      "metadata": {
        "colab": {
          "base_uri": "https://localhost:8080/"
        },
        "id": "Ih_2qGvY-JaJ",
        "outputId": "d2f330b3-743f-4b2d-b748-a0bf0ff676bb"
      },
      "outputs": [
        {
          "output_type": "stream",
          "name": "stdout",
          "text": [
            "⏩ Training patch folder already exists. Skipping extraction.\n"
          ]
        }
      ],
      "source": [
        "# Step 4: Extract training patches (safe with early skip check)\n",
        "import os, cv2, numpy as np\n",
        "\n",
        "# Define paths\n",
        "image_dirs = ['part1_unzipped/images', 'part2_unzipped/images', 'part3_unzipped/images']\n",
        "label_dir = 'labelTxt_unzipped'\n",
        "patch_dir = 'cropped_patches'\n",
        "\n",
        "# ✅ Create patch folder if missing\n",
        "os.makedirs(patch_dir, exist_ok=True)\n",
        "\n",
        "# ✅ Early skip: if patches already exist, skip to avoid crash\n",
        "if os.listdir(patch_dir):\n",
        "    print(\"⏩ Training patch folder already exists. Skipping extraction.\")\n",
        "else:\n",
        "    def extract_polygon(img, pts):\n",
        "        mask = np.zeros(img.shape[:2], dtype=np.uint8)\n",
        "        pts = np.array([pts], dtype=np.int32)\n",
        "        cv2.fillPoly(mask, [pts], 255)\n",
        "        masked = cv2.bitwise_and(img, img, mask=mask)\n",
        "        x, y, w, h = cv2.boundingRect(pts)\n",
        "        return masked[y:y+h, x:x+w]\n",
        "\n",
        "    count = 0\n",
        "    for label_file in os.listdir(label_dir):\n",
        "        if not label_file.endswith('.txt'):\n",
        "            continue\n",
        "\n",
        "        image_name = label_file.replace('.txt', '.png')\n",
        "        image = None\n",
        "        for d in image_dirs:\n",
        "            path = os.path.join(d, image_name)\n",
        "            if os.path.exists(path):\n",
        "                image = cv2.imread(path)\n",
        "                break\n",
        "\n",
        "        if image is None:\n",
        "            continue\n",
        "\n",
        "        with open(os.path.join(label_dir, label_file)) as f:\n",
        "            for line in f:\n",
        "                parts = line.strip().split()\n",
        "                if len(parts) >= 9:\n",
        "                    coords = list(map(int, parts[:8]))\n",
        "                    class_name = parts[8]\n",
        "                    polygon = [(coords[i], coords[i+1]) for i in range(0, 8, 2)]\n",
        "                    patch = extract_polygon(image, polygon)\n",
        "                    if patch.size == 0:\n",
        "                        continue\n",
        "                    patch_name = f\"{class_name}_{count}.jpg\"\n",
        "                    cv2.imwrite(os.path.join(patch_dir, patch_name), patch)\n",
        "                    count += 1\n",
        "    print(f\"✅ Extracted {count} training patches.\")"
      ]
    },
    {
      "cell_type": "markdown",
      "metadata": {
        "id": "isr2T5S0MMqs"
      },
      "source": [
        "### 5 extracting patches from validation/test images"
      ]
    },
    {
      "cell_type": "code",
      "execution_count": null,
      "metadata": {
        "colab": {
          "base_uri": "https://localhost:8080/"
        },
        "id": "88xJcSEoM5SU",
        "outputId": "a2c3d6cf-d26a-4931-fe1a-49ed60d7978d"
      },
      "outputs": [
        {
          "output_type": "stream",
          "name": "stdout",
          "text": [
            "⏩ Validation patch folder already exists. Skipping extraction.\n"
          ]
        }
      ],
      "source": [
        "# Step 5: Extract validation patches (safe with early skip + memory cleanup)\n",
        "import os, cv2, numpy as np\n",
        "import gc  # for memory safety\n",
        "\n",
        "# Define paths\n",
        "image_dir = 'part1_val_unzipped/images'\n",
        "label_dir = 'labelTxt_val_unzipped'\n",
        "patch_dir = 'cropped_patches_val'\n",
        "os.makedirs(patch_dir, exist_ok=True)\n",
        "\n",
        "# ✅ Early skip check\n",
        "if os.listdir(patch_dir):\n",
        "    print(\"⏩ Validation patch folder already exists. Skipping extraction.\")\n",
        "else:\n",
        "    def extract_polygon(img, pts):\n",
        "        mask = np.zeros(img.shape[:2], dtype=np.uint8)\n",
        "        pts = np.array([pts], dtype=np.int32)\n",
        "        cv2.fillPoly(mask, [pts], 255)\n",
        "        masked = cv2.bitwise_and(img, img, mask=mask)\n",
        "        x, y, w, h = cv2.boundingRect(pts)\n",
        "        return masked[y:y+h, x:x+w]\n",
        "\n",
        "    count = 0\n",
        "    for label_file in os.listdir(label_dir):\n",
        "        if not label_file.endswith('.txt'):\n",
        "            continue\n",
        "\n",
        "        image_name = label_file.replace('.txt', '.png')\n",
        "        image_path = os.path.join(image_dir, image_name)\n",
        "        if not os.path.exists(image_path):\n",
        "            continue\n",
        "\n",
        "        image = cv2.imread(image_path)\n",
        "\n",
        "        with open(os.path.join(label_dir, label_file)) as f:\n",
        "            for line in f:\n",
        "                parts = line.strip().split()\n",
        "                if len(parts) >= 9:\n",
        "                    coords = list(map(int, parts[:8]))\n",
        "                    class_name = parts[8]\n",
        "                    polygon = [(coords[i], coords[i+1]) for i in range(0, 8, 2)]\n",
        "                    patch = extract_polygon(image, polygon)\n",
        "                    if patch.size == 0:\n",
        "                        continue\n",
        "                    patch_name = f\"{class_name}_{count}.jpg\"\n",
        "                    cv2.imwrite(os.path.join(patch_dir, patch_name), patch)\n",
        "                    count += 1\n",
        "\n",
        "        # ✅ Free memory after each image\n",
        "        del image\n",
        "        gc.collect()\n",
        "\n",
        "    print(f\"✅ Extracted {count} validation patches.\")"
      ]
    },
    {
      "cell_type": "markdown",
      "source": [
        "### Verification cells"
      ],
      "metadata": {
        "id": "Mch5cFkBIKfG"
      }
    },
    {
      "cell_type": "code",
      "source": [
        "import os\n",
        "from collections import Counter\n",
        "\n",
        "def get_class_counts(patch_dir):\n",
        "    try:\n",
        "        files = os.listdir(patch_dir)\n",
        "        class_names = [f.split('_')[0] for f in files if f.endswith('.jpg')]\n",
        "        counts = Counter(class_names)\n",
        "        return counts\n",
        "    except Exception as e:\n",
        "        print(f\"❌ Error reading from {patch_dir}: {e}\")\n",
        "        return {}\n",
        "\n",
        "# Run for both sets\n",
        "train_counts = get_class_counts('cropped_patches')\n",
        "test_counts = get_class_counts('cropped_patches_val')\n",
        "\n",
        "# Print results\n",
        "print(\" Training Patch Counts:\")\n",
        "for cls, count in sorted(train_counts.items(), key=lambda x: -x[1]):\n",
        "    print(f\"{cls:20s}: {count}\")\n",
        "\n",
        "print(\"\\n Test Patch Counts:\")\n",
        "for cls, count in sorted(test_counts.items(), key=lambda x: -x[1]):\n",
        "    print(f\"{cls:2}: {count}\")"
      ],
      "metadata": {
        "colab": {
          "base_uri": "https://localhost:8080/"
        },
        "id": "gNrVPMHtPJah",
        "outputId": "ad26fe05-c963-4a52-8f17-f72a64d7e110"
      },
      "execution_count": 3,
      "outputs": [
        {
          "output_type": "stream",
          "name": "stdout",
          "text": [
            " Training Patch Counts:\n",
            "ship                : 28068\n",
            "small-vehicle       : 26126\n",
            "large-vehicle       : 16969\n",
            "plane               : 7971\n",
            "harbor              : 5983\n",
            "storage-tank        : 5029\n",
            "tennis-court        : 2367\n",
            "bridge              : 2047\n",
            "swimming-pool       : 1736\n",
            "helicopter          : 630\n",
            "basketball-court    : 515\n",
            "baseball-diamond    : 415\n",
            "roundabout          : 399\n",
            "soccer-ball-field   : 326\n",
            "ground-track-field  : 325\n",
            "\n",
            " Test Patch Counts:\n",
            "ship: 8960\n",
            "small-vehicle: 5438\n",
            "large-vehicle: 4387\n",
            "storage-tank: 2888\n",
            "plane: 2531\n",
            "harbor: 2090\n",
            "tennis-court: 760\n",
            "bridge: 464\n",
            "swimming-pool: 440\n",
            "baseball-diamond: 214\n",
            "roundabout: 179\n",
            "soccer-ball-field: 153\n",
            "ground-track-field: 144\n",
            "basketball-court: 132\n",
            "helicopter: 73\n"
          ]
        }
      ]
    },
    {
      "cell_type": "markdown",
      "metadata": {
        "id": "Q-aSY2IBWv0_"
      },
      "source": [
        "### 14. 1 class distrinution training"
      ]
    },
    {
      "cell_type": "code",
      "execution_count": null,
      "metadata": {
        "colab": {
          "base_uri": "https://localhost:8080/",
          "height": 607
        },
        "id": "D4I7vB6wO1A4",
        "outputId": "6ce11a97-87d1-4d17-e393-efe5ac16fdef"
      },
      "outputs": [
        {
          "output_type": "display_data",
          "data": {
            "text/plain": [
              "<Figure size 1200x600 with 1 Axes>"
            ],
            "image/png": "[encoded data removed]"
          },
          "metadata": {}
        }
      ],
      "source": [
        "# Step 14 - Cell 1: Plot class distribution for training patches\n",
        "import os\n",
        "import matplotlib.pyplot as plt\n",
        "from collections import Counter\n",
        "\n",
        "# Path to training patch folder\n",
        "patch_dir = 'cropped_patches'\n",
        "\n",
        "# Extract class names from filenames\n",
        "train_filenames = os.listdir(patch_dir)\n",
        "train_classes = [fname.split('_')[0] for fname in train_filenames if fname.endswith('.jpg')]\n",
        "\n",
        "# Count class occurrences\n",
        "class_counts = Counter(train_classes)\n",
        "\n",
        "# Plot\n",
        "plt.figure(figsize=(12, 6))\n",
        "plt.bar(class_counts.keys(), class_counts.values())\n",
        "plt.xticks(rotation=45)\n",
        "plt.title('Class Distribution in Training Patches')\n",
        "plt.xlabel('Class')\n",
        "plt.ylabel('Count')\n",
        "plt.tight_layout()\n",
        "plt.show()"
      ]
    },
    {
      "cell_type": "markdown",
      "metadata": {
        "id": "zij2XH6p7uqV"
      },
      "source": [
        "### 14. 2 class distribution validation"
      ]
    },
    {
      "cell_type": "code",
      "execution_count": null,
      "metadata": {
        "colab": {
          "base_uri": "https://localhost:8080/",
          "height": 607
        },
        "id": "WLxPLoqXiaIQ",
        "outputId": "836b3850-b0b3-4e58-a4a5-603b66935923"
      },
      "outputs": [
        {
          "output_type": "display_data",
          "data": {
            "text/plain": [
              "<Figure size 1200x600 with 1 Axes>"
            ],
            "image/png": "[encoded data removed]"
          },
          "metadata": {}
        }
      ],
      "source": [
        "# Step 14 - Cell 2: Plot class distribution for validation patches\n",
        "import os\n",
        "import matplotlib.pyplot as plt\n",
        "from collections import Counter\n",
        "\n",
        "# Path to validation patch folder\n",
        "val_patch_dir = 'cropped_patches_val'\n",
        "\n",
        "# Extract class names from filenames\n",
        "val_filenames = os.listdir(val_patch_dir)\n",
        "val_classes = [fname.split('_')[0] for fname in val_filenames if fname.endswith('.jpg')]\n",
        "\n",
        "# Count class occurrences\n",
        "val_class_counts = Counter(val_classes)\n",
        "\n",
        "# Plot\n",
        "plt.figure(figsize=(12, 6))\n",
        "plt.bar(val_class_counts.keys(), val_class_counts.values(), color='orange')\n",
        "plt.xticks(rotation=45)\n",
        "plt.title('Class Distribution in Validation Patches')\n",
        "plt.xlabel('Class')\n",
        "plt.ylabel('Count')\n",
        "plt.tight_layout()\n",
        "plt.show()"
      ]
    },
    {
      "cell_type": "markdown",
      "metadata": {
        "id": "BDp6lWIZ9Yof"
      },
      "source": [
        "### 15.1 preprocess training patches to npy"
      ]
    },
    {
      "cell_type": "code",
      "execution_count": null,
      "metadata": {
        "colab": {
          "base_uri": "https://localhost:8080/"
        },
        "id": "Eojlxlqm9V71",
        "outputId": "8c06ed15-b90d-41f7-88e2-96ff4254916e"
      },
      "outputs": [
        {
          "output_type": "stream",
          "name": "stdout",
          "text": [
            "Total training images: 98906\n",
            "⏩ Skipping batch 000 (already exists)\n",
            "⏩ Skipping batch 001 (already exists)\n",
            "⏩ Skipping batch 002 (already exists)\n",
            "⏩ Skipping batch 003 (already exists)\n",
            "⏩ Skipping batch 004 (already exists)\n",
            "⏩ Skipping batch 005 (already exists)\n",
            "⏩ Skipping batch 006 (already exists)\n",
            "⏩ Skipping batch 007 (already exists)\n",
            "⏩ Skipping batch 008 (already exists)\n",
            "⏩ Skipping batch 009 (already exists)\n",
            "⏩ Skipping batch 010 (already exists)\n",
            "⏩ Skipping batch 011 (already exists)\n",
            "⏩ Skipping batch 012 (already exists)\n",
            "⏩ Skipping batch 013 (already exists)\n",
            "⏩ Skipping batch 014 (already exists)\n",
            "⏩ Skipping batch 015 (already exists)\n",
            "⏩ Skipping batch 016 (already exists)\n",
            "⏩ Skipping batch 017 (already exists)\n",
            "⏩ Skipping batch 018 (already exists)\n",
            "⏩ Skipping batch 019 (already exists)\n",
            "⏩ Skipping batch 020 (already exists)\n",
            "⏩ Skipping batch 021 (already exists)\n",
            "⏩ Skipping batch 022 (already exists)\n",
            "⏩ Skipping batch 023 (already exists)\n",
            "⏩ Skipping batch 024 (already exists)\n",
            "⏩ Skipping batch 025 (already exists)\n",
            "⏩ Skipping batch 026 (already exists)\n",
            "⏩ Skipping batch 027 (already exists)\n",
            "⏩ Skipping batch 028 (already exists)\n",
            "⏩ Skipping batch 029 (already exists)\n",
            "⏩ Skipping batch 030 (already exists)\n",
            "⏩ Skipping batch 031 (already exists)\n",
            "⏩ Skipping batch 032 (already exists)\n",
            "⏩ Skipping batch 033 (already exists)\n",
            "⏩ Skipping batch 034 (already exists)\n",
            "⏩ Skipping batch 035 (already exists)\n",
            "⏩ Skipping batch 036 (already exists)\n",
            "⏩ Skipping batch 037 (already exists)\n",
            "⏩ Skipping batch 038 (already exists)\n",
            "⏩ Skipping batch 039 (already exists)\n",
            "⏩ Skipping batch 040 (already exists)\n",
            "⏩ Skipping batch 041 (already exists)\n",
            "⏩ Skipping batch 042 (already exists)\n",
            "⏩ Skipping batch 043 (already exists)\n",
            "⏩ Skipping batch 044 (already exists)\n",
            "⏩ Skipping batch 045 (already exists)\n",
            "⏩ Skipping batch 046 (already exists)\n",
            "⏩ Skipping batch 047 (already exists)\n",
            "⏩ Skipping batch 048 (already exists)\n",
            "⏩ Skipping batch 049 (already exists)\n",
            "⏩ Skipping batch 050 (already exists)\n",
            "⏩ Skipping batch 051 (already exists)\n",
            "⏩ Skipping batch 052 (already exists)\n",
            "⏩ Skipping batch 053 (already exists)\n",
            "⏩ Skipping batch 054 (already exists)\n",
            "⏩ Skipping batch 055 (already exists)\n",
            "⏩ Skipping batch 056 (already exists)\n",
            "⏩ Skipping batch 057 (already exists)\n",
            "⏩ Skipping batch 058 (already exists)\n",
            "⏩ Skipping batch 059 (already exists)\n",
            "⏩ Skipping batch 060 (already exists)\n",
            "⏩ Skipping batch 061 (already exists)\n",
            "⏩ Skipping batch 062 (already exists)\n",
            "⏩ Skipping batch 063 (already exists)\n",
            "⏩ Skipping batch 064 (already exists)\n",
            "⏩ Skipping batch 065 (already exists)\n",
            "⏩ Skipping batch 066 (already exists)\n",
            "⏩ Skipping batch 067 (already exists)\n",
            "⏩ Skipping batch 068 (already exists)\n",
            "⏩ Skipping batch 069 (already exists)\n",
            "⏩ Skipping batch 070 (already exists)\n",
            "⏩ Skipping batch 071 (already exists)\n",
            "⏩ Skipping batch 072 (already exists)\n",
            "⏩ Skipping batch 073 (already exists)\n",
            "⏩ Skipping batch 074 (already exists)\n",
            "⏩ Skipping batch 075 (already exists)\n",
            "⏩ Skipping batch 076 (already exists)\n",
            "⏩ Skipping batch 077 (already exists)\n",
            "⏩ Skipping batch 078 (already exists)\n",
            "⏩ Skipping batch 079 (already exists)\n",
            "⏩ Skipping batch 080 (already exists)\n",
            "⏩ Skipping batch 081 (already exists)\n",
            "⏩ Skipping batch 082 (already exists)\n",
            "⏩ Skipping batch 083 (already exists)\n",
            "⏩ Skipping batch 084 (already exists)\n",
            "⏩ Skipping batch 085 (already exists)\n",
            "⏩ Skipping batch 086 (already exists)\n",
            "⏩ Skipping batch 087 (already exists)\n",
            "⏩ Skipping batch 088 (already exists)\n",
            "⏩ Skipping batch 089 (already exists)\n",
            "⏩ Skipping batch 090 (already exists)\n",
            "⏩ Skipping batch 091 (already exists)\n",
            "⏩ Skipping batch 092 (already exists)\n",
            "⏩ Skipping batch 093 (already exists)\n",
            "⏩ Skipping batch 094 (already exists)\n",
            "⏩ Skipping batch 095 (already exists)\n",
            "⏩ Skipping batch 096 (already exists)\n",
            "⏩ Skipping batch 097 (already exists)\n",
            "⏩ Skipping batch 098 (already exists)\n",
            "⏩ Skipping batch 099 (already exists)\n",
            "⏩ Skipping batch 100 (already exists)\n",
            "⏩ Skipping batch 101 (already exists)\n",
            "⏩ Skipping batch 102 (already exists)\n",
            "⏩ Skipping batch 103 (already exists)\n",
            "⏩ Skipping batch 104 (already exists)\n",
            "⏩ Skipping batch 105 (already exists)\n",
            "⏩ Skipping batch 106 (already exists)\n",
            "⏩ Skipping batch 107 (already exists)\n",
            "⏩ Skipping batch 108 (already exists)\n",
            "⏩ Skipping batch 109 (already exists)\n",
            "⏩ Skipping batch 110 (already exists)\n",
            "⏩ Skipping batch 111 (already exists)\n",
            "⏩ Skipping batch 112 (already exists)\n",
            "⏩ Skipping batch 113 (already exists)\n",
            "⏩ Skipping batch 114 (already exists)\n",
            "⏩ Skipping batch 115 (already exists)\n",
            "⏩ Skipping batch 116 (already exists)\n",
            "⏩ Skipping batch 117 (already exists)\n",
            "⏩ Skipping batch 118 (already exists)\n",
            "⏩ Skipping batch 119 (already exists)\n",
            "⏩ Skipping batch 120 (already exists)\n",
            "⏩ Skipping batch 121 (already exists)\n",
            "⏩ Skipping batch 122 (already exists)\n",
            "⏩ Skipping batch 123 (already exists)\n",
            "⏩ Skipping batch 124 (already exists)\n",
            "⏩ Skipping batch 125 (already exists)\n",
            "⏩ Skipping batch 126 (already exists)\n",
            "⏩ Skipping batch 127 (already exists)\n",
            "⏩ Skipping batch 128 (already exists)\n",
            "⏩ Skipping batch 129 (already exists)\n",
            "⏩ Skipping batch 130 (already exists)\n",
            "⏩ Skipping batch 131 (already exists)\n",
            "⏩ Skipping batch 132 (already exists)\n",
            "⏩ Skipping batch 133 (already exists)\n",
            "⏩ Skipping batch 134 (already exists)\n",
            "⏩ Skipping batch 135 (already exists)\n",
            "⏩ Skipping batch 136 (already exists)\n",
            "⏩ Skipping batch 137 (already exists)\n",
            "⏩ Skipping batch 138 (already exists)\n",
            "⏩ Skipping batch 139 (already exists)\n",
            "⏩ Skipping batch 140 (already exists)\n",
            "⏩ Skipping batch 141 (already exists)\n",
            "⏩ Skipping batch 142 (already exists)\n",
            "⏩ Skipping batch 143 (already exists)\n",
            "⏩ Skipping batch 144 (already exists)\n",
            "⏩ Skipping batch 145 (already exists)\n",
            "⏩ Skipping batch 146 (already exists)\n",
            "⏩ Skipping batch 147 (already exists)\n",
            "⏩ Skipping batch 148 (already exists)\n",
            "⏩ Skipping batch 149 (already exists)\n",
            "⏩ Skipping batch 150 (already exists)\n",
            "⏩ Skipping batch 151 (already exists)\n",
            "⏩ Skipping batch 152 (already exists)\n",
            "⏩ Skipping batch 153 (already exists)\n",
            "⏩ Skipping batch 154 (already exists)\n",
            "⏩ Skipping batch 155 (already exists)\n",
            "⏩ Skipping batch 156 (already exists)\n",
            "⏩ Skipping batch 157 (already exists)\n",
            "⏩ Skipping batch 158 (already exists)\n",
            "⏩ Skipping batch 159 (already exists)\n",
            "⏩ Skipping batch 160 (already exists)\n",
            "⏩ Skipping batch 161 (already exists)\n",
            "⏩ Skipping batch 162 (already exists)\n",
            "⏩ Skipping batch 163 (already exists)\n",
            "⏩ Skipping batch 164 (already exists)\n",
            "⏩ Skipping batch 165 (already exists)\n",
            "⏩ Skipping batch 166 (already exists)\n",
            "⏩ Skipping batch 167 (already exists)\n",
            "⏩ Skipping batch 168 (already exists)\n",
            "⏩ Skipping batch 169 (already exists)\n",
            "⏩ Skipping batch 170 (already exists)\n",
            "⏩ Skipping batch 171 (already exists)\n",
            "⏩ Skipping batch 172 (already exists)\n",
            "⏩ Skipping batch 173 (already exists)\n",
            "⏩ Skipping batch 174 (already exists)\n",
            "⏩ Skipping batch 175 (already exists)\n",
            "⏩ Skipping batch 176 (already exists)\n",
            "⏩ Skipping batch 177 (already exists)\n",
            "⏩ Skipping batch 178 (already exists)\n",
            "⏩ Skipping batch 179 (already exists)\n",
            "⏩ Skipping batch 180 (already exists)\n",
            "⏩ Skipping batch 181 (already exists)\n",
            "⏩ Skipping batch 182 (already exists)\n",
            "⏩ Skipping batch 183 (already exists)\n",
            "⏩ Skipping batch 184 (already exists)\n",
            "⏩ Skipping batch 185 (already exists)\n",
            "⏩ Skipping batch 186 (already exists)\n",
            "⏩ Skipping batch 187 (already exists)\n",
            "⏩ Skipping batch 188 (already exists)\n",
            "⏩ Skipping batch 189 (already exists)\n",
            "⏩ Skipping batch 190 (already exists)\n",
            "⏩ Skipping batch 191 (already exists)\n",
            "⏩ Skipping batch 192 (already exists)\n",
            "⏩ Skipping batch 193 (already exists)\n",
            "⏩ Skipping batch 194 (already exists)\n",
            "⏩ Skipping batch 195 (already exists)\n",
            "⏩ Skipping batch 196 (already exists)\n",
            "⏩ Skipping batch 197 (already exists)\n"
          ]
        }
      ],
      "source": [
        "# Step 15 – Cell 1: Convert training patches to 128x128 RGB .npy batches\n",
        "import os, cv2, numpy as np\n",
        "import gc\n",
        "\n",
        "# Parameters\n",
        "input_dir = 'cropped_patches'\n",
        "output_dir = 'processed/train_npy_128'\n",
        "image_size = (128, 128)\n",
        "batch_size = 500\n",
        "\n",
        "# Create output directory if it doesn't exist\n",
        "os.makedirs(output_dir, exist_ok=True)\n",
        "\n",
        "# Get list of image files\n",
        "image_files = sorted([f for f in os.listdir(input_dir) if f.endswith('.jpg')])\n",
        "total_images = len(image_files)\n",
        "print(f\"Total training images: {total_images}\")\n",
        "\n",
        "# Process in batches\n",
        "for start in range(0, total_images, batch_size):\n",
        "    end = min(start + batch_size, total_images)\n",
        "    batch_files = image_files[start:end]\n",
        "    batch_index = start // batch_size\n",
        "    batch_output_path = os.path.join(output_dir, f'batch_{batch_index:03d}.npy')\n",
        "\n",
        "    # ✅ Skip if already saved\n",
        "    if os.path.exists(batch_output_path):\n",
        "        print(f\"⏩ Skipping batch {batch_index:03d} (already exists)\")\n",
        "        continue\n",
        "\n",
        "    # Load and process batch\n",
        "    print(f\"⚙️ Processing batch {batch_index:03d} ({start}-{end-1})\")\n",
        "    batch_data = []\n",
        "\n",
        "    for fname in batch_files:\n",
        "        path = os.path.join(input_dir, fname)\n",
        "        img = cv2.imread(path)\n",
        "        img = cv2.cvtColor(img, cv2.COLOR_BGR2RGB)  # Convert to RGB\n",
        "        img = cv2.resize(img, image_size)\n",
        "        img = img.astype(np.float32) / 255.0  # Normalize\n",
        "        batch_data.append(img)\n",
        "\n",
        "    # Convert to numpy and save\n",
        "    batch_array = np.stack(batch_data)\n",
        "    np.save(batch_output_path, batch_array)\n",
        "    print(f\"✅ Saved batch to {batch_output_path}\")\n",
        "\n",
        "    # Free memory\n",
        "    del batch_data, batch_array\n",
        "    gc.collect()"
      ]
    },
    {
      "cell_type": "markdown",
      "metadata": {
        "id": "rW_9p_l7xx4K"
      },
      "source": [
        "### verifying total train image patches"
      ]
    },
    {
      "cell_type": "code",
      "execution_count": null,
      "metadata": {
        "colab": {
          "base_uri": "https://localhost:8080/"
        },
        "id": "uhr5uCEFWsXM",
        "outputId": "588d5e9c-1010-49cd-910c-86a2917c1e86"
      },
      "outputs": [
        {
          "output_type": "stream",
          "name": "stdout",
          "text": [
            "Total .jpg patches in cropped_patches: 98906\n"
          ]
        }
      ],
      "source": [
        "import os\n",
        "print(\"Total .jpg patches in cropped_patches:\", len([f for f in os.listdir('cropped_patches') if f.endswith('.jpg')]))"
      ]
    },
    {
      "cell_type": "markdown",
      "metadata": {
        "id": "ioca--4H0w0C"
      },
      "source": [
        "### 15.2 Preprocess Test Patches to .npy"
      ]
    },
    {
      "cell_type": "code",
      "execution_count": null,
      "metadata": {
        "colab": {
          "base_uri": "https://localhost:8080/"
        },
        "id": "vFyMppQgUH7I",
        "outputId": "92f69845-5380-4274-e348-10ca3c5b30e4"
      },
      "outputs": [
        {
          "output_type": "stream",
          "name": "stdout",
          "text": [
            "Total test images: 28853\n",
            "⏩ Skipping batch 000 (already exists)\n",
            "⏩ Skipping batch 001 (already exists)\n",
            "⏩ Skipping batch 002 (already exists)\n",
            "⏩ Skipping batch 003 (already exists)\n",
            "⏩ Skipping batch 004 (already exists)\n",
            "⏩ Skipping batch 005 (already exists)\n",
            "⏩ Skipping batch 006 (already exists)\n",
            "⏩ Skipping batch 007 (already exists)\n",
            "⏩ Skipping batch 008 (already exists)\n",
            "⏩ Skipping batch 009 (already exists)\n",
            "⏩ Skipping batch 010 (already exists)\n",
            "⏩ Skipping batch 011 (already exists)\n",
            "⏩ Skipping batch 012 (already exists)\n",
            "⏩ Skipping batch 013 (already exists)\n",
            "⏩ Skipping batch 014 (already exists)\n",
            "⏩ Skipping batch 015 (already exists)\n",
            "⏩ Skipping batch 016 (already exists)\n",
            "⏩ Skipping batch 017 (already exists)\n",
            "⏩ Skipping batch 018 (already exists)\n",
            "⏩ Skipping batch 019 (already exists)\n",
            "⏩ Skipping batch 020 (already exists)\n",
            "⏩ Skipping batch 021 (already exists)\n",
            "⏩ Skipping batch 022 (already exists)\n",
            "⏩ Skipping batch 023 (already exists)\n",
            "⏩ Skipping batch 024 (already exists)\n",
            "⏩ Skipping batch 025 (already exists)\n",
            "⏩ Skipping batch 026 (already exists)\n",
            "⏩ Skipping batch 027 (already exists)\n",
            "⏩ Skipping batch 028 (already exists)\n",
            "⏩ Skipping batch 029 (already exists)\n",
            "⏩ Skipping batch 030 (already exists)\n",
            "⏩ Skipping batch 031 (already exists)\n",
            "⏩ Skipping batch 032 (already exists)\n",
            "⏩ Skipping batch 033 (already exists)\n",
            "⏩ Skipping batch 034 (already exists)\n",
            "⏩ Skipping batch 035 (already exists)\n",
            "⏩ Skipping batch 036 (already exists)\n",
            "⏩ Skipping batch 037 (already exists)\n",
            "⏩ Skipping batch 038 (already exists)\n",
            "⏩ Skipping batch 039 (already exists)\n",
            "⏩ Skipping batch 040 (already exists)\n",
            "⏩ Skipping batch 041 (already exists)\n",
            "⏩ Skipping batch 042 (already exists)\n",
            "⏩ Skipping batch 043 (already exists)\n",
            "⏩ Skipping batch 044 (already exists)\n",
            "⏩ Skipping batch 045 (already exists)\n",
            "⏩ Skipping batch 046 (already exists)\n",
            "⏩ Skipping batch 047 (already exists)\n",
            "⏩ Skipping batch 048 (already exists)\n",
            "⏩ Skipping batch 049 (already exists)\n",
            "⏩ Skipping batch 050 (already exists)\n",
            "⏩ Skipping batch 051 (already exists)\n",
            "⏩ Skipping batch 052 (already exists)\n",
            "⏩ Skipping batch 053 (already exists)\n",
            "⏩ Skipping batch 054 (already exists)\n",
            "⏩ Skipping batch 055 (already exists)\n",
            "⏩ Skipping batch 056 (already exists)\n",
            "⏩ Skipping batch 057 (already exists)\n"
          ]
        }
      ],
      "source": [
        "# Step 15 – Cell 2: Convert test patches to 128x128 RGB .npy batches\n",
        "import os, cv2, numpy as np\n",
        "import gc\n",
        "\n",
        "# Parameters\n",
        "input_dir = 'cropped_patches_val'\n",
        "output_dir = 'processed/test_npy_128'\n",
        "image_size = (128, 128)\n",
        "batch_size = 500\n",
        "\n",
        "# Create output directory if it doesn't exist\n",
        "os.makedirs(output_dir, exist_ok=True)\n",
        "\n",
        "# Get list of image files\n",
        "image_files = sorted([f for f in os.listdir(input_dir) if f.endswith('.jpg')])\n",
        "total_images = len(image_files)\n",
        "print(f\"Total test images: {total_images}\")\n",
        "\n",
        "# Process in batches\n",
        "for start in range(0, total_images, batch_size):\n",
        "    end = min(start + batch_size, total_images)\n",
        "    batch_files = image_files[start:end]\n",
        "    batch_index = start // batch_size\n",
        "    batch_output_path = os.path.join(output_dir, f'batch_{batch_index:03d}.npy')\n",
        "\n",
        "    # ✅ Skip if already saved\n",
        "    if os.path.exists(batch_output_path):\n",
        "        print(f\"⏩ Skipping batch {batch_index:03d} (already exists)\")\n",
        "        continue\n",
        "\n",
        "    # Load and process batch\n",
        "    print(f\"⚙️ Processing batch {batch_index:03d} ({start}-{end-1})\")\n",
        "    batch_data = []\n",
        "\n",
        "    for fname in batch_files:\n",
        "        path = os.path.join(input_dir, fname)\n",
        "        img = cv2.imread(path)\n",
        "        img = cv2.cvtColor(img, cv2.COLOR_BGR2RGB)  # Convert to RGB\n",
        "        img = cv2.resize(img, image_size)\n",
        "        img = img.astype(np.float32) / 255.0  # Normalize\n",
        "        batch_data.append(img)\n",
        "\n",
        "    # Convert to numpy and save\n",
        "    batch_array = np.stack(batch_data)\n",
        "    np.save(batch_output_path, batch_array)\n",
        "    print(f\"✅ Saved batch to {batch_output_path}\")\n",
        "\n",
        "    # Free memory\n",
        "    del batch_data, batch_array\n",
        "    gc.collect()"
      ]
    },
    {
      "cell_type": "markdown",
      "metadata": {
        "id": "uaJ7igKX2__t"
      },
      "source": [
        "### 16.1 Encoding train labels"
      ]
    },
    {
      "cell_type": "code",
      "execution_count": null,
      "metadata": {
        "colab": {
          "base_uri": "https://localhost:8080/"
        },
        "id": "4PiDetRe3BuG",
        "outputId": "93d49795-5a0c-436a-d3c6-6c9827daea08"
      },
      "outputs": [
        {
          "output_type": "stream",
          "name": "stdout",
          "text": [
            "⏩ Skipping train label encoding — already exists at train_labels.npy\n"
          ]
        }
      ],
      "source": [
        "# Encoding Train Labels\n",
        "import os\n",
        "import numpy as np\n",
        "import pickle\n",
        "import gc\n",
        "\n",
        "# Output file\n",
        "label_path = 'train_labels.npy'\n",
        "if os.path.exists(label_path):\n",
        "    print(f\"⏩ Skipping train label encoding — already exists at {label_path}\")\n",
        "else:\n",
        "    # Load class list\n",
        "    with open('train_label_classes.pkl', 'rb') as f:\n",
        "        class_names = pickle.load(f)\n",
        "    class_to_index = {name: idx for idx, name in enumerate(class_names)}\n",
        "    print(\"✅ Class mapping loaded.\")\n",
        "\n",
        "    # Encode train labels\n",
        "    train_patch_dir = 'cropped_patches'\n",
        "    train_files = sorted([f for f in os.listdir(train_patch_dir) if f.endswith('.jpg')])\n",
        "\n",
        "    train_labels = []\n",
        "    for fname in train_files:\n",
        "        class_name = fname.split('_')[0]\n",
        "        class_index = class_to_index.get(class_name, -1)\n",
        "        if class_index == -1:\n",
        "            print(f\"⚠️ Unknown class in filename: {fname}\")\n",
        "        train_labels.append(class_index)\n",
        "\n",
        "    train_labels = np.array(train_labels)\n",
        "    np.save(label_path, train_labels)\n",
        "    print(f\"✅ Saved {label_path} — Total labels: {len(train_labels)}\")\n",
        "\n",
        "    # Free memory\n",
        "    del train_labels, train_files\n",
        "    gc.collect()"
      ]
    },
    {
      "cell_type": "markdown",
      "metadata": {
        "id": "2C_DKlCe6IXU"
      },
      "source": [
        "### 16.2 Encoding test labels"
      ]
    },
    {
      "cell_type": "code",
      "execution_count": null,
      "metadata": {
        "colab": {
          "base_uri": "https://localhost:8080/"
        },
        "id": "eHftZPId6Maf",
        "outputId": "f3d6f0c5-4e64-4d1e-e6c6-2634ffb17bd9"
      },
      "outputs": [
        {
          "output_type": "stream",
          "name": "stdout",
          "text": [
            "⏩ Skipping test label encoding — already exists at test_labels.npy\n"
          ]
        }
      ],
      "source": [
        "# Step 16 – Cell 2: Encode test labels (standalone version)\n",
        "import os\n",
        "import numpy as np\n",
        "import pickle\n",
        "import gc\n",
        "\n",
        "# Output file\n",
        "label_path = 'test_labels.npy'\n",
        "if os.path.exists(label_path):\n",
        "    print(f\"⏩ Skipping test label encoding — already exists at {label_path}\")\n",
        "else:\n",
        "    # ✅ Load class list\n",
        "    with open('train_label_classes.pkl', 'rb') as f:\n",
        "        class_names = pickle.load(f)\n",
        "    class_to_index = {name: idx for idx, name in enumerate(class_names)}\n",
        "    print(\"✅ Class mapping loaded.\")\n",
        "\n",
        "    # Encode test labels\n",
        "    test_patch_dir = 'cropped_patches_val'\n",
        "    test_files = sorted([f for f in os.listdir(test_patch_dir) if f.endswith('.jpg')])\n",
        "\n",
        "    test_labels = []\n",
        "    for fname in test_files:\n",
        "        class_name = fname.split('_')[0]\n",
        "        class_index = class_to_index.get(class_name, -1)\n",
        "        if class_index == -1:\n",
        "            print(f\"⚠️ Unknown class in filename: {fname}\")\n",
        "        test_labels.append(class_index)\n",
        "\n",
        "    test_labels = np.array(test_labels)\n",
        "    np.save(label_path, test_labels)\n",
        "    print(f\"✅ Saved {label_path} — Total labels: {len(test_labels)}\")\n",
        "\n",
        "    # Free memory\n",
        "    del test_labels, test_files\n",
        "    gc.collect()\n"
      ]
    },
    {
      "cell_type": "markdown",
      "source": [
        "### 17.1 Stratified split 80/20"
      ],
      "metadata": {
        "id": "kd9z79eBxs7N"
      }
    },
    {
      "cell_type": "code",
      "source": [
        "# Stratifies sampling for train set and splitting 80/20 train-test\n",
        "import numpy as np\n",
        "from sklearn.model_selection import StratifiedShuffleSplit\n",
        "import os\n",
        "\n",
        "# Load full label list (length = 98,906)\n",
        "label_path = 'train_labels.npy'\n",
        "labels = np.load(label_path)\n",
        "\n",
        "# Only run if split files don't exist\n",
        "if not os.path.exists('train_indices.npy') or not os.path.exists('val_indices.npy'):\n",
        "    # Stratified 80/20 split\n",
        "    splitter = StratifiedShuffleSplit(n_splits=1, test_size=0.2, random_state=42)\n",
        "    for train_idx, val_idx in splitter.split(np.zeros(len(labels)), labels):\n",
        "        np.save('train_indices.npy', train_idx)\n",
        "        np.save('val_indices.npy', val_idx)\n",
        "        print(f\"✅ Saved {len(train_idx)} train indices and {len(val_idx)} val indices.\")\n",
        "else:\n",
        "    print(\"⏩ Train/val index files already exist — skipping split.\")"
      ],
      "metadata": {
        "colab": {
          "base_uri": "https://localhost:8080/"
        },
        "id": "L6dWdA8vxr-X",
        "outputId": "86491306-a7b1-4b2d-bb3b-fde6fad5dd6a"
      },
      "execution_count": null,
      "outputs": [
        {
          "output_type": "stream",
          "name": "stdout",
          "text": [
            "⏩ Train/val index files already exist — skipping split.\n"
          ]
        }
      ]
    },
    {
      "cell_type": "markdown",
      "source": [
        "### 17.2 sanity check split balance"
      ],
      "metadata": {
        "id": "qgZ7v_aHxaZZ"
      }
    },
    {
      "cell_type": "code",
      "source": [
        "import numpy as np\n",
        "from collections import Counter\n",
        "\n",
        "# Load indices and labels\n",
        "train_idx = np.load('train_indices.npy')\n",
        "val_idx = np.load('val_indices.npy')\n",
        "labels = np.load('train_labels.npy')\n",
        "\n",
        "train_labels = labels[train_idx]\n",
        "val_labels = labels[val_idx]\n",
        "\n",
        "# Count class distribution\n",
        "print(\" Train class counts:\")\n",
        "print(dict(Counter(train_labels)))\n",
        "print(\"\\n Val class counts:\")\n",
        "print(dict(Counter(val_labels)))"
      ],
      "metadata": {
        "colab": {
          "base_uri": "https://localhost:8080/"
        },
        "id": "dI18nYrYyGSU",
        "outputId": "f5692bbd-28aa-4e1a-bbe9-c399843f6322"
      },
      "execution_count": null,
      "outputs": [
        {
          "output_type": "stream",
          "name": "stdout",
          "text": [
            " Train class counts:\n",
            "{np.int64(4): 4786, np.int64(10): 20901, np.int64(6): 13575, np.int64(7): 6377, np.int64(9): 22454, np.int64(12): 4023, np.int64(14): 1893, np.int64(13): 1389, np.int64(2): 1638, np.int64(0): 332, np.int64(11): 261, np.int64(1): 412, np.int64(5): 504, np.int64(8): 319, np.int64(3): 260}\n",
            "\n",
            " Val class counts:\n",
            "{np.int64(9): 5614, np.int64(10): 5225, np.int64(12): 1006, np.int64(6): 3394, np.int64(5): 126, np.int64(14): 474, np.int64(0): 83, np.int64(7): 1594, np.int64(2): 409, np.int64(11): 65, np.int64(13): 347, np.int64(4): 1197, np.int64(1): 103, np.int64(3): 65, np.int64(8): 80}\n"
          ]
        }
      ]
    },
    {
      "cell_type": "markdown",
      "source": [
        "### 17.3 Save labels to reuse"
      ],
      "metadata": {
        "id": "tM6hr2xSyio4"
      }
    },
    {
      "cell_type": "code",
      "source": [
        "# 17.3 save labels to reuse\n",
        "import numpy as np\n",
        "import os\n",
        "\n",
        "train_split_path = 'train_labels_split.npy'\n",
        "val_split_path = 'val_labels_split.npy'\n",
        "\n",
        "if os.path.exists(train_split_path) and os.path.exists(val_split_path):\n",
        "    print(\"⏩ train_labels_split.npy and val_labels_split.npy already exist — skipping save.\")\n",
        "else:\n",
        "    full_labels = np.load('train_labels.npy')\n",
        "    train_idx = np.load('train_indices.npy')\n",
        "    val_idx = np.load('val_indices.npy')\n",
        "\n",
        "    train_labels = full_labels[train_idx]\n",
        "    val_labels = full_labels[val_idx]\n",
        "\n",
        "    np.save(train_split_path, train_labels)\n",
        "    np.save(val_split_path, val_labels)\n",
        "    print(\"✅ Saved train/val label split files.\")"
      ],
      "metadata": {
        "colab": {
          "base_uri": "https://localhost:8080/"
        },
        "id": "WvwhUBAMylZH",
        "outputId": "5596035a-cfe1-4b8c-80ad-2f80aee55524"
      },
      "execution_count": null,
      "outputs": [
        {
          "output_type": "stream",
          "name": "stdout",
          "text": [
            "⏩ train_labels_split.npy and val_labels_split.npy already exist — skipping save.\n"
          ]
        }
      ]
    },
    {
      "cell_type": "markdown",
      "source": [
        "### checking folder existance"
      ],
      "metadata": {
        "id": "Dk9u5Syh-2pm"
      }
    },
    {
      "cell_type": "code",
      "source": [
        "import os\n",
        "print(os.listdir('processed/train_npy_128'))  # Should show your .npy batches"
      ],
      "metadata": {
        "colab": {
          "base_uri": "https://localhost:8080/"
        },
        "id": "onEKM8fj--VU",
        "outputId": "37b12c1b-f8f9-4ad3-c843-bd9270a97f68"
      },
      "execution_count": null,
      "outputs": [
        {
          "output_type": "stream",
          "name": "stdout",
          "text": [
            "['batch_000.npy', 'batch_001.npy', 'batch_002.npy', 'batch_003.npy', 'batch_004.npy', 'batch_005.npy', 'batch_006.npy', 'batch_007.npy', 'batch_008.npy', 'batch_009.npy', 'batch_010.npy', 'batch_011.npy', 'batch_012.npy', 'batch_013.npy', 'batch_014.npy', 'batch_015.npy', 'batch_016.npy', 'batch_017.npy', 'batch_018.npy', 'batch_019.npy', 'batch_020.npy', 'batch_021.npy', 'batch_022.npy', 'batch_023.npy', 'batch_024.npy', 'batch_025.npy', 'batch_026.npy', 'batch_027.npy', 'batch_028.npy', 'batch_029.npy', 'batch_030.npy', 'batch_031.npy', 'batch_032.npy', 'batch_033.npy', 'batch_034.npy', 'batch_035.npy', 'batch_036.npy', 'batch_037.npy', 'batch_038.npy', 'batch_039.npy', 'batch_040.npy', 'batch_041.npy', 'batch_042.npy', 'batch_043.npy', 'batch_044.npy', 'batch_045.npy', 'batch_046.npy', 'batch_047.npy', 'batch_048.npy', 'batch_049.npy', 'batch_050.npy', 'batch_051.npy', 'batch_052.npy', 'batch_053.npy', 'batch_054.npy', 'batch_055.npy', 'batch_056.npy', 'batch_057.npy', 'batch_058.npy', 'batch_059.npy', 'batch_060.npy', 'batch_061.npy', 'batch_062.npy', 'batch_063.npy', 'batch_064.npy', 'batch_065.npy', 'batch_066.npy', 'batch_067.npy', 'batch_068.npy', 'batch_069.npy', 'batch_070.npy', 'batch_071.npy', 'batch_072.npy', 'batch_073.npy', 'batch_074.npy', 'batch_075.npy', 'batch_076.npy', 'batch_077.npy', 'batch_078.npy', 'batch_079.npy', 'batch_080.npy', 'batch_081.npy', 'batch_082.npy', 'batch_083.npy', 'batch_084.npy', 'batch_085.npy', 'batch_086.npy', 'batch_087.npy', 'batch_088.npy', 'batch_089.npy', 'batch_090.npy', 'batch_091.npy', 'batch_092.npy', 'batch_093.npy', 'batch_094.npy', 'batch_095.npy', 'batch_096.npy', 'batch_097.npy', 'batch_098.npy', 'batch_099.npy', 'batch_100.npy', 'batch_101.npy', 'batch_102.npy', 'batch_103.npy', 'batch_104.npy', 'batch_105.npy', 'batch_106.npy', 'batch_107.npy', 'batch_108.npy', 'batch_109.npy', 'batch_110.npy', 'batch_111.npy', 'batch_112.npy', 'batch_113.npy', 'batch_114.npy', 'batch_115.npy', 'batch_116.npy', 'batch_117.npy', 'batch_118.npy', 'batch_119.npy', 'batch_120.npy', 'batch_121.npy', 'batch_122.npy', 'batch_123.npy', 'batch_124.npy', 'batch_125.npy', 'batch_126.npy', 'batch_127.npy', 'batch_128.npy', 'batch_129.npy', 'batch_130.npy', 'batch_131.npy', 'batch_132.npy', 'batch_133.npy', 'batch_134.npy', 'batch_135.npy', 'batch_136.npy', 'batch_137.npy', 'batch_138.npy', 'batch_139.npy', 'batch_140.npy', 'batch_141.npy', 'batch_142.npy', 'batch_143.npy', 'batch_144.npy', 'batch_145.npy', 'batch_146.npy', 'batch_147.npy', 'batch_148.npy', 'batch_149.npy', 'batch_150.npy', 'batch_151.npy', 'batch_152.npy', 'batch_153.npy', 'batch_154.npy', 'batch_155.npy', 'batch_156.npy', 'batch_157.npy', 'batch_158.npy', 'batch_159.npy', 'batch_160.npy', 'batch_161.npy', 'batch_162.npy', 'batch_163.npy', 'batch_164.npy', 'batch_165.npy', 'batch_166.npy', 'batch_167.npy', 'batch_168.npy', 'batch_169.npy', 'batch_170.npy', 'batch_171.npy', 'batch_172.npy', 'batch_173.npy', 'batch_174.npy', 'batch_175.npy', 'batch_176.npy', 'batch_177.npy', 'batch_178.npy', 'batch_179.npy', 'batch_180.npy', 'batch_181.npy', 'batch_182.npy', 'batch_183.npy', 'batch_184.npy', 'batch_185.npy', 'batch_186.npy', 'batch_187.npy', 'batch_188.npy', 'batch_189.npy', 'batch_190.npy', 'batch_191.npy', 'batch_192.npy', 'batch_193.npy', 'batch_194.npy', 'batch_195.npy', 'batch_196.npy', 'batch_197.npy']\n"
          ]
        }
      ]
    },
    {
      "cell_type": "markdown",
      "source": [
        "### 18.1 saving sorted list of .npys batch path files for training"
      ],
      "metadata": {
        "id": "AtLvGEYv2_ot"
      }
    },
    {
      "cell_type": "code",
      "source": [
        "import os\n",
        "import numpy as np\n",
        "import gc\n",
        "\n",
        "# Paths\n",
        "batch_dir = 'processed/train_npy_128'\n",
        "output_path = 'train_batch_files.npy'\n",
        "\n",
        "# ✅ Skip if already exists\n",
        "if os.path.exists(output_path):\n",
        "    print(f\"⏩ Skipping Step 18.1: '{output_path}' already exists.\")\n",
        "else:\n",
        "    print(\"⚙️ Step 18.1: Scanning training .npy batches...\")\n",
        "\n",
        "    # Get sorted list of full paths to batch_###.npy\n",
        "    batch_files = sorted([\n",
        "        os.path.join(batch_dir, f)\n",
        "        for f in os.listdir(batch_dir)\n",
        "        if f.endswith('.npy')\n",
        "    ])\n",
        "\n",
        "    # Save file list\n",
        "    np.save(output_path, np.array(batch_files))\n",
        "    print(f\"✅ Saved {len(batch_files)} batch file paths to '{output_path}'\")\n",
        "\n",
        "    # Cleanup\n",
        "    del batch_files\n",
        "    gc.collect()"
      ],
      "metadata": {
        "id": "7UKz8sWdMuc0",
        "colab": {
          "base_uri": "https://localhost:8080/"
        },
        "outputId": "55556119-9625-4132-b0d3-c8da31b8c957"
      },
      "execution_count": null,
      "outputs": [
        {
          "output_type": "stream",
          "name": "stdout",
          "text": [
            "⚙️ Step 18.1: Scanning training .npy batches...\n",
            "✅ Saved 198 batch file paths to 'train_batch_files.npy'\n"
          ]
        }
      ]
    },
    {
      "cell_type": "markdown",
      "source": [
        "### 18.2.1 loading of indices/ labels"
      ],
      "metadata": {
        "id": "TyI2Mz7xM5OH"
      }
    },
    {
      "cell_type": "code",
      "source": [
        "# Prepares directory, loads indices/labels, checks for skip condition\n",
        "\n",
        "import os\n",
        "import numpy as np\n",
        "import gc\n",
        "\n",
        "# Parameters\n",
        "output_dir = 'train_parts'\n",
        "os.makedirs(output_dir, exist_ok=True)\n",
        "\n",
        "# Skip if files already exist\n",
        "existing_parts = [f for f in os.listdir(output_dir) if f.startswith('X_train_part_')]\n",
        "if existing_parts:\n",
        "    print(f\"⏩ Skipping Step 18.2: Found {len(existing_parts)} existing part files in '{output_dir}/'\")\n",
        "else:\n",
        "    print(\"⚙️ Step 18.2: Setup and loading...\")\n",
        "\n",
        "    # Load required arrays\n",
        "    train_indices = np.load('train_indices.npy')            # int64\n",
        "    train_labels = np.load('train_labels.npy')              # int64\n",
        "    batch_files = np.load('train_batch_files.npy')          # array of strings (batch paths)\n",
        "\n",
        "    print(f\"✅ Loaded: {len(train_indices)} train indices\")\n",
        "    print(f\"✅ Loaded: {len(train_labels)} total labels\")\n",
        "    print(f\"✅ Loaded: {len(batch_files)} batch file paths\")\n",
        "\n",
        "    # Garbage collect immediately after setup\n",
        "    gc.collect()"
      ],
      "metadata": {
        "id": "z85sLwGSNaj6",
        "colab": {
          "base_uri": "https://localhost:8080/"
        },
        "outputId": "8b29de6c-2d08-4313-b8fc-9d77046ede93"
      },
      "execution_count": null,
      "outputs": [
        {
          "output_type": "stream",
          "name": "stdout",
          "text": [
            "⚙️ Step 18.2: Setup and loading...\n",
            "✅ Loaded: 79124 train indices\n",
            "✅ Loaded: 98906 total labels\n",
            "✅ Loaded: 198 batch file paths\n"
          ]
        }
      ]
    },
    {
      "cell_type": "markdown",
      "source": [
        "### 18.2.2 batch of 1000 samples extracted and saved as x and y part files"
      ],
      "metadata": {
        "id": "8sZDkVn2OQFo"
      }
    },
    {
      "cell_type": "code",
      "source": [
        "# This script loads batches from train_npy_128,\n",
        "# selects only the samples indexed by train_indices.npy,\n",
        "# and saves them in separate X/y part files (1,000 samples per file)\n",
        "# with skip logic to avoid overwriting if re-run.\n",
        "\n",
        "import numpy as np\n",
        "import os\n",
        "import gc\n",
        "\n",
        "# === CONFIGURATION ===\n",
        "samples_per_part = 1000                                 # Max samples per saved part file\n",
        "output_dir = 'train_parts'                              # Directory to save part files\n",
        "os.makedirs(output_dir, exist_ok=True)                  # Create if missing\n",
        "\n",
        "# === LOAD REQUIRED ARRAYS (independent cell) ===\n",
        "train_indices = np.load('train_indices.npy')            # Indices for training samples (length ~79,124)\n",
        "train_labels = np.load('train_labels.npy')              # Full label array (length = 98,906)\n",
        "batch_files = np.load('train_batch_files.npy')          # Sorted list of all batch_###.npy files\n",
        "\n",
        "# === PREPARE FOR EXTRACTION ===\n",
        "train_index_set = set(train_indices.tolist())           # Fast lookup of index\n",
        "global_index = 0                                        # Tracks global position across all batches\n",
        "current_X, current_y = [], []                           # Temporary lists to hold one part at a time\n",
        "saved_part = 0                                          # Index for naming part files\n",
        "sample_counter = 0                                      # Total samples processed\n",
        "\n",
        "print(f\"⚙️ Step 18.2: Extracting training samples (target = {len(train_indices)}), saving in chunks of {samples_per_part}...\")\n",
        "\n",
        "# === MAIN BATCH LOOP ===\n",
        "for batch_path in batch_files:\n",
        "    batch_data = np.load(batch_path, mmap_mode='r')     # Load batch using memory mapping\n",
        "    batch_size = batch_data.shape[0]\n",
        "\n",
        "    for local_idx in range(batch_size):\n",
        "        if global_index in train_index_set:\n",
        "            # Accumulate current training sample\n",
        "            current_X.append(batch_data[local_idx])\n",
        "            current_y.append(train_labels[global_index])\n",
        "            sample_counter += 1\n",
        "\n",
        "            # === When part is full, check skip, save, clear memory ===\n",
        "            if len(current_X) == samples_per_part:\n",
        "                x_path = os.path.join(output_dir, f'X_train_part_{saved_part:03d}.npy')\n",
        "                y_path = os.path.join(output_dir, f'y_train_part_{saved_part:03d}.npy')\n",
        "\n",
        "                if os.path.exists(x_path) and os.path.exists(y_path):\n",
        "                    print(f\"⏩ Skipping part {saved_part:03d} — files already exist.\")\n",
        "                else:\n",
        "                    X_arr = np.stack(current_X)                          # Shape: (1000, 128, 128, 3)\n",
        "                    y_arr = np.array(current_y, dtype=np.int64)         # Shape: (1000,)\n",
        "                    np.save(x_path, X_arr)\n",
        "                    np.save(y_path, y_arr)\n",
        "                    print(f\"✅ Saved part {saved_part:03d} with {len(X_arr)} samples\")\n",
        "\n",
        "                    # Cleanup\n",
        "                    del X_arr, y_arr\n",
        "                    gc.collect()\n",
        "\n",
        "                current_X, current_y = [], []\n",
        "                saved_part += 1\n",
        "\n",
        "        global_index += 1  # Always increment\n",
        "\n",
        "    # === GC after every batch file ===\n",
        "    del batch_data\n",
        "    gc.collect()\n",
        "\n",
        "# === SAVE FINAL LEFTOVER (if any) ===\n",
        "if len(current_X) > 0:\n",
        "    x_path = os.path.join(output_dir, f'X_train_part_{saved_part:03d}.npy')\n",
        "    y_path = os.path.join(output_dir, f'y_train_part_{saved_part:03d}.npy')\n",
        "\n",
        "    if os.path.exists(x_path) and os.path.exists(y_path):\n",
        "        print(f\"⏩ Skipping final part {saved_part:03d} — files already exist.\")\n",
        "    else:\n",
        "        X_arr = np.stack(current_X)\n",
        "        y_arr = np.array(current_y, dtype=np.int64)\n",
        "        np.save(x_path, X_arr)\n",
        "        np.save(y_path, y_arr)\n",
        "        print(f\"✅ Saved final part {saved_part:03d} with {len(X_arr)} samples\")\n",
        "\n",
        "        del X_arr, y_arr\n",
        "        gc.collect()\n",
        "\n",
        "    del current_X, current_y\n",
        "    gc.collect()\n",
        "\n",
        "print(f\"🏁 Done — total samples processed: {sample_counter}\")"
      ],
      "metadata": {
        "id": "pziPVZb1Olkg",
        "colab": {
          "base_uri": "https://localhost:8080/"
        },
        "outputId": "62deb060-719d-489f-e393-aa5ab5fbd6de"
      },
      "execution_count": null,
      "outputs": [
        {
          "output_type": "stream",
          "name": "stdout",
          "text": [
            "⚙️ Step 18.2: Extracting training samples (target = 79124), saving in chunks of 1000...\n",
            "⏩ Skipping part 000 — files already exist.\n",
            "⏩ Skipping part 001 — files already exist.\n",
            "⏩ Skipping part 002 — files already exist.\n",
            "⏩ Skipping part 003 — files already exist.\n",
            "⏩ Skipping part 004 — files already exist.\n",
            "⏩ Skipping part 005 — files already exist.\n",
            "⏩ Skipping part 006 — files already exist.\n",
            "⏩ Skipping part 007 — files already exist.\n",
            "⏩ Skipping part 008 — files already exist.\n",
            "⏩ Skipping part 009 — files already exist.\n",
            "⏩ Skipping part 010 — files already exist.\n",
            "⏩ Skipping part 011 — files already exist.\n",
            "⏩ Skipping part 012 — files already exist.\n",
            "✅ Saved part 013 with 1000 samples\n",
            "✅ Saved part 014 with 1000 samples\n",
            "✅ Saved part 015 with 1000 samples\n",
            "✅ Saved part 016 with 1000 samples\n",
            "✅ Saved part 017 with 1000 samples\n",
            "✅ Saved part 018 with 1000 samples\n",
            "✅ Saved part 019 with 1000 samples\n",
            "✅ Saved part 020 with 1000 samples\n",
            "✅ Saved part 021 with 1000 samples\n",
            "✅ Saved part 022 with 1000 samples\n",
            "✅ Saved part 023 with 1000 samples\n",
            "✅ Saved part 024 with 1000 samples\n",
            "✅ Saved part 025 with 1000 samples\n",
            "✅ Saved part 026 with 1000 samples\n",
            "✅ Saved part 027 with 1000 samples\n",
            "✅ Saved part 028 with 1000 samples\n",
            "✅ Saved part 029 with 1000 samples\n",
            "✅ Saved part 030 with 1000 samples\n",
            "✅ Saved part 031 with 1000 samples\n",
            "✅ Saved part 032 with 1000 samples\n",
            "✅ Saved part 033 with 1000 samples\n",
            "✅ Saved part 034 with 1000 samples\n",
            "✅ Saved part 035 with 1000 samples\n",
            "✅ Saved part 036 with 1000 samples\n",
            "✅ Saved part 037 with 1000 samples\n",
            "✅ Saved part 038 with 1000 samples\n",
            "✅ Saved part 039 with 1000 samples\n",
            "✅ Saved part 040 with 1000 samples\n",
            "✅ Saved part 041 with 1000 samples\n",
            "✅ Saved part 042 with 1000 samples\n",
            "✅ Saved part 043 with 1000 samples\n",
            "✅ Saved part 044 with 1000 samples\n",
            "✅ Saved part 045 with 1000 samples\n",
            "✅ Saved part 046 with 1000 samples\n",
            "✅ Saved part 047 with 1000 samples\n",
            "✅ Saved part 048 with 1000 samples\n",
            "✅ Saved part 049 with 1000 samples\n",
            "✅ Saved part 050 with 1000 samples\n",
            "✅ Saved part 051 with 1000 samples\n",
            "✅ Saved part 052 with 1000 samples\n",
            "✅ Saved part 053 with 1000 samples\n",
            "✅ Saved part 054 with 1000 samples\n",
            "✅ Saved part 055 with 1000 samples\n",
            "✅ Saved part 056 with 1000 samples\n",
            "✅ Saved part 057 with 1000 samples\n",
            "✅ Saved part 058 with 1000 samples\n",
            "✅ Saved part 059 with 1000 samples\n",
            "✅ Saved part 060 with 1000 samples\n",
            "✅ Saved part 061 with 1000 samples\n",
            "✅ Saved part 062 with 1000 samples\n",
            "✅ Saved part 063 with 1000 samples\n",
            "✅ Saved part 064 with 1000 samples\n",
            "✅ Saved part 065 with 1000 samples\n",
            "✅ Saved part 066 with 1000 samples\n",
            "✅ Saved part 067 with 1000 samples\n",
            "✅ Saved part 068 with 1000 samples\n",
            "✅ Saved part 069 with 1000 samples\n",
            "✅ Saved part 070 with 1000 samples\n",
            "✅ Saved part 071 with 1000 samples\n",
            "✅ Saved part 072 with 1000 samples\n",
            "✅ Saved part 073 with 1000 samples\n",
            "✅ Saved part 074 with 1000 samples\n",
            "✅ Saved part 075 with 1000 samples\n",
            "✅ Saved part 076 with 1000 samples\n",
            "✅ Saved part 077 with 1000 samples\n",
            "✅ Saved part 078 with 1000 samples\n",
            "✅ Saved final part 079 with 124 samples\n",
            "🏁 Done — total samples processed: 79124\n"
          ]
        }
      ]
    },
    {
      "cell_type": "markdown",
      "source": [
        "### 18.2.3 extract and save batch of 1000 samples for x_val and y_val"
      ],
      "metadata": {
        "id": "2IunRwYLK_V4"
      }
    },
    {
      "cell_type": "code",
      "source": [
        "# Extract & Save Validation Samples ===\n",
        "# From val_indices.npy, extract matching samples from training batches\n",
        "# Save in separate X/y files in val_parts/ in chunks of 1,000\n",
        "# Includes skip logic and full memory protection\n",
        "\n",
        "import numpy as np\n",
        "import os\n",
        "import gc\n",
        "\n",
        "# === CONFIGURATION ===\n",
        "samples_per_part = 1000\n",
        "output_dir = 'val_parts'\n",
        "os.makedirs(output_dir, exist_ok=True)\n",
        "\n",
        "# === LOAD INPUT ARRAYS (standalone-safe) ===\n",
        "val_indices = np.load('val_indices.npy')                # Indices for validation (≈ 19,782)\n",
        "train_labels = np.load('train_labels.npy')              # Full labels array (98,906)\n",
        "batch_files = np.load('train_batch_files.npy')          # List of batch_###.npy files\n",
        "\n",
        "# === PREPARE FOR LOOP ===\n",
        "val_index_set = set(val_indices.tolist())               # Convert to set for fast lookup\n",
        "global_index = 0                                        # Tracks global index across batches\n",
        "current_X, current_y = [], []                           # Part-wise accumulators\n",
        "saved_part = 0                                          # Counter for saved files\n",
        "sample_counter = 0                                      # Total saved samples\n",
        "\n",
        "print(f\"⚙️ Step 18.3: Extracting validation samples (target = {len(val_indices)}), saving in chunks of {samples_per_part}...\")\n",
        "\n",
        "# === MAIN LOOP OVER BATCHES ===\n",
        "for batch_path in batch_files:\n",
        "    batch_data = np.load(batch_path, mmap_mode='r')     # Memory-efficient loading\n",
        "    batch_size = batch_data.shape[0]\n",
        "\n",
        "    for local_idx in range(batch_size):\n",
        "        if global_index in val_index_set:\n",
        "            current_X.append(batch_data[local_idx])\n",
        "            current_y.append(train_labels[global_index])\n",
        "            sample_counter += 1\n",
        "\n",
        "            # === Save when full ===\n",
        "            if len(current_X) == samples_per_part:\n",
        "                x_path = os.path.join(output_dir, f'X_val_part_{saved_part:03d}.npy')\n",
        "                y_path = os.path.join(output_dir, f'y_val_part_{saved_part:03d}.npy')\n",
        "\n",
        "                if os.path.exists(x_path) and os.path.exists(y_path):\n",
        "                    print(f\"⏩ Skipping part {saved_part:03d} — files already exist.\")\n",
        "                else:\n",
        "                    X_arr = np.stack(current_X)\n",
        "                    y_arr = np.array(current_y, dtype=np.int64)\n",
        "                    np.save(x_path, X_arr)\n",
        "                    np.save(y_path, y_arr)\n",
        "                    print(f\"✅ Saved part {saved_part:03d} with {len(X_arr)} samples\")\n",
        "\n",
        "                    del X_arr, y_arr\n",
        "                    gc.collect()\n",
        "\n",
        "                current_X, current_y = [], []\n",
        "                saved_part += 1\n",
        "\n",
        "        global_index += 1  # Always increment\n",
        "\n",
        "    # ✅ GC after each batch\n",
        "    del batch_data\n",
        "    gc.collect()\n",
        "\n",
        "# === SAVE FINAL REMAINING PART ===\n",
        "if len(current_X) > 0:\n",
        "    x_path = os.path.join(output_dir, f'X_val_part_{saved_part:03d}.npy')\n",
        "    y_path = os.path.join(output_dir, f'y_val_part_{saved_part:03d}.npy')\n",
        "\n",
        "    if os.path.exists(x_path) and os.path.exists(y_path):\n",
        "        print(f\"⏩ Skipping final part {saved_part:03d} — files already exist.\")\n",
        "    else:\n",
        "        X_arr = np.stack(current_X)\n",
        "        y_arr = np.array(current_y, dtype=np.int64)\n",
        "        np.save(x_path, X_arr)\n",
        "        np.save(y_path, y_arr)\n",
        "        print(f\"✅ Saved final part {saved_part:03d} with {len(X_arr)} samples\")\n",
        "\n",
        "        del X_arr, y_arr\n",
        "        gc.collect()\n",
        "\n",
        "    del current_X, current_y\n",
        "    gc.collect()\n",
        "\n",
        "print(f\"🏁 Step 18.3 complete — total validation samples saved: {sample_counter}\")"
      ],
      "metadata": {
        "id": "JTWXVBZYO-nN",
        "colab": {
          "base_uri": "https://localhost:8080/"
        },
        "outputId": "8d2b6fc4-3fe1-424f-80ce-9828c0aa6750"
      },
      "execution_count": null,
      "outputs": [
        {
          "output_type": "stream",
          "name": "stdout",
          "text": [
            "⚙️ Step 18.3: Extracting validation samples (target = 19782), saving in chunks of 1000...\n",
            "✅ Saved part 000 with 1000 samples\n",
            "✅ Saved part 001 with 1000 samples\n",
            "✅ Saved part 002 with 1000 samples\n",
            "✅ Saved part 003 with 1000 samples\n",
            "✅ Saved part 004 with 1000 samples\n",
            "✅ Saved part 005 with 1000 samples\n",
            "✅ Saved part 006 with 1000 samples\n",
            "✅ Saved part 007 with 1000 samples\n",
            "✅ Saved part 008 with 1000 samples\n",
            "✅ Saved part 009 with 1000 samples\n",
            "✅ Saved part 010 with 1000 samples\n",
            "✅ Saved part 011 with 1000 samples\n",
            "✅ Saved part 012 with 1000 samples\n",
            "✅ Saved part 013 with 1000 samples\n",
            "✅ Saved part 014 with 1000 samples\n",
            "✅ Saved part 015 with 1000 samples\n",
            "✅ Saved part 016 with 1000 samples\n",
            "✅ Saved part 017 with 1000 samples\n",
            "✅ Saved part 018 with 1000 samples\n",
            "✅ Saved final part 019 with 782 samples\n",
            "🏁 Step 18.3 complete — total validation samples saved: 19782\n"
          ]
        }
      ]
    },
    {
      "cell_type": "markdown",
      "source": [
        "### 18.2.4 verification of saved and train val parts"
      ],
      "metadata": {
        "id": "8o95S-QMNDTz"
      }
    },
    {
      "cell_type": "code",
      "source": [
        "# Verify saved train and val part files ===\n",
        "\n",
        "import os\n",
        "import numpy as np\n",
        "\n",
        "# === Configuration ===\n",
        "train_dir = 'train_parts'\n",
        "val_dir = 'val_parts'\n",
        "\n",
        "# === Helper to check counts and shapes ===\n",
        "def verify_parts(part_dir, prefix):\n",
        "    x_files = sorted([f for f in os.listdir(part_dir) if f.startswith(f'X_{prefix}')])\n",
        "    y_files = sorted([f for f in os.listdir(part_dir) if f.startswith(f'y_{prefix}')])\n",
        "\n",
        "    assert len(x_files) == len(y_files), f\"Mismatch in X and y files in {part_dir}\"\n",
        "\n",
        "    total_samples = 0\n",
        "    for x_file, y_file in zip(x_files, y_files):\n",
        "        x_path = os.path.join(part_dir, x_file)\n",
        "        y_path = os.path.join(part_dir, y_file)\n",
        "\n",
        "        X = np.load(x_path, mmap_mode='r')\n",
        "        y = np.load(y_path, mmap_mode='r')\n",
        "\n",
        "        assert len(X) == len(y), f\"❌ Length mismatch in {x_file} and {y_file}\"\n",
        "        assert X.shape[1:] == (128, 128, 3), f\"❌ Unexpected X shape in {x_file}: {X.shape}\"\n",
        "        assert y.dtype == np.int64, f\"❌ Unexpected Y dtype in {y_file}: {y.dtype}\"\n",
        "\n",
        "        total_samples += len(X)\n",
        "\n",
        "    print(f\"✅ {prefix.upper()} parts verified: {len(x_files)} files, total samples = {total_samples}\")\n",
        "\n",
        "# === Run checks ===\n",
        "verify_parts(train_dir, 'train')\n",
        "verify_parts(val_dir, 'val')"
      ],
      "metadata": {
        "colab": {
          "base_uri": "https://localhost:8080/"
        },
        "id": "OnDI1MSVNPF7",
        "outputId": "fc1b35e6-980b-4f0a-b98a-1de01cc67345"
      },
      "execution_count": null,
      "outputs": [
        {
          "output_type": "stream",
          "name": "stdout",
          "text": [
            "✅ TRAIN parts verified: 80 files, total samples = 79124\n",
            "✅ VAL parts verified: 20 files, total samples = 19782\n"
          ]
        }
      ]
    },
    {
      "cell_type": "markdown",
      "source": [
        "### 19.1 created and Saved sorted test batch path"
      ],
      "metadata": {
        "id": "kHd8Lq6JO-lv"
      }
    },
    {
      "cell_type": "code",
      "source": [
        "# Save sorted test batch file paths\n",
        "# Reads all .npy files from processed/test_npy_128/\n",
        "# Saves list as test_batch_files.npy with skip logic\n",
        "\n",
        "import os\n",
        "import numpy as np\n",
        "import gc\n",
        "\n",
        "# Paths\n",
        "test_batch_dir = 'processed/test_npy_128'\n",
        "output_path = 'test_batch_files.npy'\n",
        "\n",
        "# ✅ Skip if already exists\n",
        "if os.path.exists(output_path):\n",
        "    print(f\"⏩ Skipping Step 19.1: '{output_path}' already exists.\")\n",
        "else:\n",
        "    print(\"⚙️ Step 19.1: Scanning test .npy batches...\")\n",
        "\n",
        "    # Get sorted list of full paths\n",
        "    test_files = sorted([\n",
        "        os.path.join(test_batch_dir, f)\n",
        "        for f in os.listdir(test_batch_dir)\n",
        "        if f.endswith('.npy')\n",
        "    ])\n",
        "\n",
        "    # Save to .npy file\n",
        "    np.save(output_path, np.array(test_files))\n",
        "    print(f\"✅ Saved {len(test_files)} test batch file paths to '{output_path}'\")\n",
        "\n",
        "    # Cleanup\n",
        "    del test_files\n",
        "    gc.collect()\n"
      ],
      "metadata": {
        "colab": {
          "base_uri": "https://localhost:8080/"
        },
        "id": "z_5F8XyaQbcH",
        "outputId": "e4173673-1d77-4430-d943-ad9bb7091be3"
      },
      "execution_count": null,
      "outputs": [
        {
          "output_type": "stream",
          "name": "stdout",
          "text": [
            "⚙️ Step 19.1: Scanning test .npy batches...\n",
            "✅ Saved 58 test batch file paths to 'test_batch_files.npy'\n"
          ]
        }
      ]
    },
    {
      "cell_type": "markdown",
      "source": [
        "### 19.2.1 creating test_indices.npy"
      ],
      "metadata": {
        "id": "yYvOCYctYar4"
      }
    },
    {
      "cell_type": "code",
      "source": [
        "# Create test_indices.npy with full mapping\n",
        "# For each test sample, store its (batch_id, local_index)\n",
        "# This allows us to later locate any test sample without loading all batches into memory\n",
        "\n",
        "import os\n",
        "import numpy as np\n",
        "import gc\n",
        "\n",
        "# === CONFIGURATION ===\n",
        "# Paths for inputs and output\n",
        "batch_file_list = 'test_batch_files.npy'        # Previously saved in Step 19.1\n",
        "output_path = 'test_indices.npy'                # Final mapping to be saved here\n",
        "\n",
        "# === SKIP LOGIC: Prevent re-processing if already saved\n",
        "if os.path.exists(output_path):\n",
        "    print(f\"⏩ Skipping Step 19.2: '{output_path}' already exists.\")\n",
        "else:\n",
        "    print(\"⚙️ Step 19.2: Creating index map for test samples...\")\n",
        "\n",
        "    # === LOAD: Sorted list of batch_###.npy file paths\n",
        "    test_batches = np.load(batch_file_list)\n",
        "\n",
        "    # === PREPARE: Create an index list to hold (batch_id, local_index)\n",
        "    index_list = []\n",
        "\n",
        "    # === MAIN LOOP: Iterate through all batches\n",
        "    for batch_id, path in enumerate(test_batches):\n",
        "        # Load current test batch (memory-mapped to avoid RAM issues)\n",
        "        batch_data = np.load(path, mmap_mode='r')\n",
        "        batch_len = batch_data.shape[0]\n",
        "\n",
        "        # For each image in this batch, store (batch_id, local_index)\n",
        "        for local_idx in range(batch_len):\n",
        "            index_list.append((batch_id, local_idx))\n",
        "\n",
        "        # === GC: Free memory after each batch\n",
        "        del batch_data\n",
        "        gc.collect()\n",
        "\n",
        "    # === SAVE: Convert to NumPy array and store as .npy file\n",
        "    index_array = np.array(index_list, dtype=np.int16)   # Shape: (28853, 2)\n",
        "    np.save(output_path, index_array)\n",
        "    print(f\"✅ Saved '{output_path}' — shape: {index_array.shape}\")\n",
        "\n",
        "    # Final cleanup\n",
        "    del index_list, index_array\n",
        "    gc.collect()"
      ],
      "metadata": {
        "colab": {
          "base_uri": "https://localhost:8080/"
        },
        "id": "vBgeSEMcYpuI",
        "outputId": "e2aefcb1-7bb7-4d89-af9b-59cd0879f491"
      },
      "execution_count": null,
      "outputs": [
        {
          "output_type": "stream",
          "name": "stdout",
          "text": [
            "⚙️ Step 19.2: Creating index map for test samples...\n",
            "✅ Saved 'test_indices.npy' — shape: (28853, 2)\n"
          ]
        }
      ]
    },
    {
      "cell_type": "markdown",
      "source": [
        "### no need to rerun at the moment below teo cells delete later"
      ],
      "metadata": {
        "id": "EeSaZrQnAzFz"
      }
    },
    {
      "cell_type": "markdown",
      "source": [
        "### 19.2.2 test_parts, x_test and y_test"
      ],
      "metadata": {
        "id": "kgObIVaosQ4p"
      }
    },
    {
      "cell_type": "code",
      "source": [
        "# Step 19.2.2 –Extract test samples using test_indices.npy\n",
        "# Saves them to test_parts/ as batches of 1,000 samples (X and y) with skip logic, RAM safety, and GC\n",
        "\n",
        "import os\n",
        "import numpy as np\n",
        "import gc\n",
        "\n",
        "# === CONFIGURATION ===\n",
        "samples_per_part = 1000\n",
        "output_dir = 'test_parts'\n",
        "os.makedirs(output_dir, exist_ok=True)\n",
        "\n",
        "# === LOAD ARRAYS ===\n",
        "test_indices = np.load('test_indices.npy')             # Shape: (28853, 2)\n",
        "test_labels = np.load('test_labels.npy')               # Shape: (28853,)\n",
        "test_batch_files = np.load('test_batch_files.npy')     # Paths to .npy batch files\n",
        "\n",
        "# === PART-WISE ACCUMULATORS ===\n",
        "current_X, current_y = [], []\n",
        "saved_part = 0\n",
        "sample_counter = 0\n",
        "\n",
        "print(f\"⚙️ Step 19.2.2: Saving 29 test parts — total_samples: {len(test_indices)}\")\n",
        "\n",
        "# === MAIN LOOP OVER INDEX MAPPING ===\n",
        "for i, (batch_id, local_idx) in enumerate(test_indices):\n",
        "    batch_path = test_batch_files[batch_id]\n",
        "    batch_data = np.load(batch_path, mmap_mode='r')         # Load only what's needed\n",
        "    sample = batch_data[local_idx]                           # One image\n",
        "\n",
        "    current_X.append(sample)\n",
        "    current_y.append(test_labels[i])\n",
        "    sample_counter += 1\n",
        "\n",
        "    # ✅ Save full part\n",
        "    if len(current_X) == samples_per_part:\n",
        "        x_path = os.path.join(output_dir, f'X_test_part_{saved_part:03d}.npy')\n",
        "        y_path = os.path.join(output_dir, f'y_test_part_{saved_part:03d}.npy')\n",
        "\n",
        "        if os.path.exists(x_path) and os.path.exists(y_path):\n",
        "            print(f\"⏩ Skipping part {saved_part:03d} — already exists\")\n",
        "        else:\n",
        "            X_arr = np.stack(current_X)                          # Shape: (1000, 128, 128, 3)\n",
        "            y_arr = np.array(current_y, dtype=np.int64)          # Shape: (1000,)\n",
        "            np.save(x_path, X_arr)\n",
        "            np.save(y_path, y_arr)\n",
        "            print(f\"✅ Saved part {saved_part:03d} with {len(X_arr)} samples\")\n",
        "\n",
        "            del X_arr, y_arr\n",
        "            gc.collect()\n",
        "\n",
        "        current_X, current_y = [], []\n",
        "        saved_part += 1\n",
        "\n",
        "    del batch_data\n",
        "    gc.collect()\n",
        "\n",
        "# === SAVE REMAINING FINAL PART (if any) ===\n",
        "if len(current_X) > 0:\n",
        "    x_path = os.path.join(output_dir, f'X_test_part_{saved_part:03d}.npy')\n",
        "    y_path = os.path.join(output_dir, f'y_test_part_{saved_part:03d}.npy')\n",
        "\n",
        "    if os.path.exists(x_path) and os.path.exists(y_path):\n",
        "        print(f\"⏩ Skipping final part {saved_part:03d} — already exists\")\n",
        "    else:\n",
        "        X_arr = np.stack(current_X)\n",
        "        y_arr = np.array(current_y, dtype=np.int64)\n",
        "        np.save(x_path, X_arr)\n",
        "        np.save(y_path, y_arr)\n",
        "        print(f\"✅ Saved final part {saved_part:03d} with {len(X_arr)} samples\")\n",
        "\n",
        "        del X_arr, y_arr\n",
        "        gc.collect()\n",
        "\n",
        "    del current_X, current_y\n",
        "    gc.collect()\n",
        "\n",
        "print(f\"🏁 Step 19.2.2 complete — total test samples saved: {sample_counter}\")"
      ],
      "metadata": {
        "colab": {
          "base_uri": "https://localhost:8080/"
        },
        "id": "YLfOg6w0BIN5",
        "outputId": "49bcd765-2e3e-49cf-bc69-62e574a6d0be"
      },
      "execution_count": null,
      "outputs": [
        {
          "output_type": "stream",
          "name": "stdout",
          "text": [
            "⚙️ Step 19.2.2: Saving 29 test parts — total_samples: 28853\n",
            "✅ Saved part 000 with 1000 samples\n",
            "✅ Saved part 001 with 1000 samples\n",
            "✅ Saved part 002 with 1000 samples\n",
            "✅ Saved part 003 with 1000 samples\n",
            "✅ Saved part 004 with 1000 samples\n",
            "✅ Saved part 005 with 1000 samples\n",
            "✅ Saved part 006 with 1000 samples\n",
            "✅ Saved part 007 with 1000 samples\n",
            "✅ Saved part 008 with 1000 samples\n",
            "✅ Saved part 009 with 1000 samples\n",
            "✅ Saved part 010 with 1000 samples\n",
            "✅ Saved part 011 with 1000 samples\n",
            "✅ Saved part 012 with 1000 samples\n",
            "✅ Saved part 013 with 1000 samples\n",
            "✅ Saved part 014 with 1000 samples\n",
            "✅ Saved part 015 with 1000 samples\n",
            "✅ Saved part 016 with 1000 samples\n",
            "✅ Saved part 017 with 1000 samples\n",
            "✅ Saved part 018 with 1000 samples\n",
            "✅ Saved part 019 with 1000 samples\n",
            "✅ Saved part 020 with 1000 samples\n",
            "✅ Saved part 021 with 1000 samples\n",
            "✅ Saved part 022 with 1000 samples\n",
            "✅ Saved part 023 with 1000 samples\n",
            "✅ Saved part 024 with 1000 samples\n",
            "✅ Saved part 025 with 1000 samples\n",
            "✅ Saved part 026 with 1000 samples\n",
            "✅ Saved part 027 with 1000 samples\n",
            "✅ Saved final part 028 with 853 samples\n",
            "🏁 Step 19.2.2 complete — total test samples saved: 28853\n"
          ]
        }
      ]
    },
    {
      "cell_type": "markdown",
      "source": [
        "### 19.2.3 verification of test_parts"
      ],
      "metadata": {
        "id": "9K2cgkf-hxwo"
      }
    },
    {
      "cell_type": "code",
      "source": [
        "# Step 19.2.3 – Verify test part files\n",
        "\n",
        "import os\n",
        "import numpy as np\n",
        "\n",
        "# === Configuration ===\n",
        "test_dir = 'test_parts'\n",
        "\n",
        "# === List part files ===\n",
        "x_files = sorted([f for f in os.listdir(test_dir) if f.startswith('X_test_part_')])\n",
        "y_files = sorted([f for f in os.listdir(test_dir) if f.startswith('y_test_part_')])\n",
        "\n",
        "# === Basic file count check ===\n",
        "assert len(x_files) == len(y_files), \" Mismatch in number of X and y test part files\"\n",
        "print(f\"✅ Found {len(x_files)} test part file pairs.\")\n",
        "\n",
        "# === Detailed shape and type checks ===\n",
        "total_samples = 0\n",
        "\n",
        "for x_file, y_file in zip(x_files, y_files):\n",
        "    x_path = os.path.join(test_dir, x_file)\n",
        "    y_path = os.path.join(test_dir, y_file)\n",
        "\n",
        "    X = np.load(x_path, mmap_mode='r')\n",
        "    y = np.load(y_path, mmap_mode='r')\n",
        "\n",
        "    assert len(X) == len(y), f\" Mismatch in {x_file} and {y_file}: {len(X)} vs {len(y)}\"\n",
        "    assert X.shape[1:] == (128, 128, 3), f\" Wrong X shape in {x_file}: {X.shape}\"\n",
        "    assert y.dtype == np.int64, f\" Wrong y dtype in {y_file}: {y.dtype}\"\n",
        "\n",
        "    total_samples += len(X)\n",
        "\n",
        "print(f\"✅ All test parts verified — total samples = {total_samples}\")"
      ],
      "metadata": {
        "colab": {
          "base_uri": "https://localhost:8080/"
        },
        "id": "bhMcsbzFhv4P",
        "outputId": "3928a093-3bcf-4898-888f-e637218a15c9"
      },
      "execution_count": null,
      "outputs": [
        {
          "output_type": "stream",
          "name": "stdout",
          "text": [
            "✅ Found 29 test part file pairs.\n",
            "✅ All test parts verified — total samples = 28853\n"
          ]
        }
      ]
    },
    {
      "cell_type": "markdown",
      "source": [
        "### check the pixel type and range from train part"
      ],
      "metadata": {
        "id": "b205g7AUPpJX"
      }
    },
    {
      "cell_type": "code",
      "source": [
        "import numpy as np\n",
        "\n",
        "# Load the entire train part as a single array\n",
        "X = np.load('train_parts/X_train_part_000.npy')  # full array: shape (1000, 128, 128, 3)\n",
        "\n",
        "# Check the first 5 images\n",
        "for i in range(5):\n",
        "    img = X[i]\n",
        "    print(f\"Sample {i}: shape = {img.shape}, dtype = {img.dtype}, min = {img.min():.4f}, max = {img.max():.4f}\")"
      ],
      "metadata": {
        "colab": {
          "base_uri": "https://localhost:8080/"
        },
        "id": "o0UFA595YYGL",
        "outputId": "9477184c-e2b1-4076-e905-485f3dc465e4"
      },
      "execution_count": null,
      "outputs": [
        {
          "output_type": "stream",
          "name": "stdout",
          "text": [
            "Sample 0: shape = (128, 128, 3), dtype = float32, min = 0.0000, max = 0.8510\n",
            "Sample 1: shape = (128, 128, 3), dtype = float32, min = 0.0000, max = 0.9608\n",
            "Sample 2: shape = (128, 128, 3), dtype = float32, min = 0.0000, max = 0.8235\n",
            "Sample 3: shape = (128, 128, 3), dtype = float32, min = 0.0000, max = 0.6824\n",
            "Sample 4: shape = (128, 128, 3), dtype = float32, min = 0.0000, max = 0.8549\n"
          ]
        }
      ]
    },
    {
      "cell_type": "code",
      "source": [
        "import os\n",
        "import numpy as np\n",
        "file = 'train_parts/X_train_part_000.npy'\n",
        "arr = np.load(file)\n",
        "print(f\"{file} → shape: {arr.shape}, dtype: {arr.dtype}, size: {arr.size}\")"
      ],
      "metadata": {
        "colab": {
          "base_uri": "https://localhost:8080/"
        },
        "id": "KSWvSWSh9UOk",
        "outputId": "d5704de4-2759-4186-c681-de7ee379cc88"
      },
      "execution_count": null,
      "outputs": [
        {
          "output_type": "stream",
          "name": "stdout",
          "text": [
            "train_parts/X_train_part_000.npy → shape: (1000, 128, 128, 3), dtype: float32, size: 49152000\n"
          ]
        }
      ]
    },
    {
      "cell_type": "markdown",
      "source": [
        "## MODELING"
      ],
      "metadata": {
        "id": "BMGHFCTV6rIJ"
      }
    },
    {
      "cell_type": "markdown",
      "source": [
        "### SGD CLASSIFIER"
      ],
      "metadata": {
        "id": "lMb270vK6z2c"
      }
    },
    {
      "cell_type": "markdown",
      "source": [
        "### 20.1.A-1 Fit IncrementalPCA on Train Parts"
      ],
      "metadata": {
        "id": "gUfHACEA7MeG"
      }
    },
    {
      "cell_type": "code",
      "source": [
        "# Step 20.1.A-1 (RAM-Safe): Fit IncrementalPCA and save\n",
        "\n",
        "import os\n",
        "import numpy as np\n",
        "import gc\n",
        "from sklearn.decomposition import IncrementalPCA\n",
        "import joblib\n",
        "\n",
        "# === A. Configurations ===\n",
        "input_dir = 'train_parts'\n",
        "save_path = 'models/pca_model.pkl'\n",
        "n_components = 300\n",
        "batch_size = 1000    # Matches your part sizes safely\n",
        "\n",
        "# === B. Skip logic ===\n",
        "if os.path.exists(save_path):\n",
        "    print(f\"⏩ Skipping PCA fit — already exists at '{save_path}'\")\n",
        "else:\n",
        "    print(\"⚙️ Step 20.1-A.1: Fitting IncrementalPCA on training data...\")\n",
        "\n",
        "    # === C. Prepare PCA object ===\n",
        "    pca = IncrementalPCA(n_components=n_components, batch_size=batch_size)\n",
        "\n",
        "    # === D. Loop over each X_train_part file ===\n",
        "    part_files = sorted([f for f in os.listdir(input_dir) if f.startswith('X_train_part') and f.endswith('.npy')])\n",
        "\n",
        "    for part_id, fname in enumerate(part_files):\n",
        "        part_path = os.path.join(input_dir, fname)\n",
        "        X_part = np.load(part_path)  # (batch_size, 128, 128, 3)\n",
        "\n",
        "        # Flatten to (batch_size, 49152)\n",
        "        X_flat = X_part.reshape(X_part.shape[0], -1)\n",
        "\n",
        "        print(f\"🔄 Fitting batch {part_id:03d} → {X_flat.shape}\")\n",
        "        pca.partial_fit(X_flat)\n",
        "\n",
        "        # Cleanup\n",
        "        del X_part, X_flat\n",
        "        gc.collect()\n",
        "\n",
        "    # === E. Save fitted PCA model ===\n",
        "    os.makedirs('models', exist_ok=True)\n",
        "    joblib.dump(pca, save_path)\n",
        "    print(f\"✅ Saved IncrementalPCA model to: {save_path}\")\n",
        "\n",
        "    del pca\n",
        "    gc.collect()"
      ],
      "metadata": {
        "colab": {
          "base_uri": "https://localhost:8080/"
        },
        "id": "NoIePk4L6to9",
        "outputId": "02c9f824-3578-4d5b-ee1e-3a2c541fe033"
      },
      "execution_count": null,
      "outputs": [
        {
          "output_type": "stream",
          "name": "stdout",
          "text": [
            "⚙️ Step 20.1-A.1: Fitting IncrementalPCA on training data...\n",
            "🔄 Fitting batch 000 → (1000, 49152)\n",
            "🔄 Fitting batch 001 → (1000, 49152)\n",
            "🔄 Fitting batch 002 → (1000, 49152)\n",
            "🔄 Fitting batch 003 → (1000, 49152)\n",
            "🔄 Fitting batch 004 → (1000, 49152)\n",
            "🔄 Fitting batch 005 → (1000, 49152)\n",
            "🔄 Fitting batch 006 → (1000, 49152)\n",
            "🔄 Fitting batch 007 → (1000, 49152)\n",
            "🔄 Fitting batch 008 → (1000, 49152)\n",
            "🔄 Fitting batch 009 → (1000, 49152)\n",
            "🔄 Fitting batch 010 → (1000, 49152)\n",
            "🔄 Fitting batch 011 → (1000, 49152)\n",
            "🔄 Fitting batch 012 → (1000, 49152)\n",
            "🔄 Fitting batch 013 → (1000, 49152)\n",
            "🔄 Fitting batch 014 → (1000, 49152)\n",
            "🔄 Fitting batch 015 → (1000, 49152)\n",
            "🔄 Fitting batch 016 → (1000, 49152)\n",
            "🔄 Fitting batch 017 → (1000, 49152)\n",
            "🔄 Fitting batch 018 → (1000, 49152)\n",
            "🔄 Fitting batch 019 → (1000, 49152)\n",
            "🔄 Fitting batch 020 → (1000, 49152)\n",
            "🔄 Fitting batch 021 → (1000, 49152)\n",
            "🔄 Fitting batch 022 → (1000, 49152)\n",
            "🔄 Fitting batch 023 → (1000, 49152)\n",
            "🔄 Fitting batch 024 → (1000, 49152)\n",
            "🔄 Fitting batch 025 → (1000, 49152)\n",
            "🔄 Fitting batch 026 → (1000, 49152)\n",
            "🔄 Fitting batch 027 → (1000, 49152)\n",
            "🔄 Fitting batch 028 → (1000, 49152)\n",
            "🔄 Fitting batch 029 → (1000, 49152)\n",
            "🔄 Fitting batch 030 → (1000, 49152)\n",
            "🔄 Fitting batch 031 → (1000, 49152)\n",
            "🔄 Fitting batch 032 → (1000, 49152)\n",
            "🔄 Fitting batch 033 → (1000, 49152)\n",
            "🔄 Fitting batch 034 → (1000, 49152)\n",
            "🔄 Fitting batch 035 → (1000, 49152)\n",
            "🔄 Fitting batch 036 → (1000, 49152)\n",
            "🔄 Fitting batch 037 → (1000, 49152)\n",
            "🔄 Fitting batch 038 → (1000, 49152)\n",
            "🔄 Fitting batch 039 → (1000, 49152)\n",
            "🔄 Fitting batch 040 → (1000, 49152)\n",
            "🔄 Fitting batch 041 → (1000, 49152)\n",
            "🔄 Fitting batch 042 → (1000, 49152)\n",
            "🔄 Fitting batch 043 → (1000, 49152)\n",
            "🔄 Fitting batch 044 → (1000, 49152)\n",
            "🔄 Fitting batch 045 → (1000, 49152)\n",
            "🔄 Fitting batch 046 → (1000, 49152)\n",
            "🔄 Fitting batch 047 → (1000, 49152)\n",
            "🔄 Fitting batch 048 → (1000, 49152)\n",
            "🔄 Fitting batch 049 → (1000, 49152)\n",
            "🔄 Fitting batch 050 → (1000, 49152)\n",
            "🔄 Fitting batch 051 → (1000, 49152)\n",
            "🔄 Fitting batch 052 → (1000, 49152)\n",
            "🔄 Fitting batch 053 → (1000, 49152)\n",
            "🔄 Fitting batch 054 → (1000, 49152)\n",
            "🔄 Fitting batch 055 → (1000, 49152)\n",
            "🔄 Fitting batch 056 → (1000, 49152)\n",
            "🔄 Fitting batch 057 → (1000, 49152)\n",
            "🔄 Fitting batch 058 → (1000, 49152)\n",
            "🔄 Fitting batch 059 → (1000, 49152)\n",
            "🔄 Fitting batch 060 → (1000, 49152)\n",
            "🔄 Fitting batch 061 → (1000, 49152)\n",
            "🔄 Fitting batch 062 → (1000, 49152)\n",
            "🔄 Fitting batch 063 → (1000, 49152)\n",
            "🔄 Fitting batch 064 → (1000, 49152)\n",
            "🔄 Fitting batch 065 → (1000, 49152)\n",
            "🔄 Fitting batch 066 → (1000, 49152)\n",
            "🔄 Fitting batch 067 → (1000, 49152)\n",
            "🔄 Fitting batch 068 → (1000, 49152)\n",
            "🔄 Fitting batch 069 → (1000, 49152)\n",
            "🔄 Fitting batch 070 → (1000, 49152)\n",
            "🔄 Fitting batch 071 → (1000, 49152)\n",
            "🔄 Fitting batch 072 → (1000, 49152)\n",
            "🔄 Fitting batch 073 → (1000, 49152)\n",
            "🔄 Fitting batch 074 → (1000, 49152)\n",
            "🔄 Fitting batch 075 → (1000, 49152)\n",
            "🔄 Fitting batch 076 → (1000, 49152)\n",
            "🔄 Fitting batch 077 → (1000, 49152)\n",
            "🔄 Fitting batch 078 → (1000, 49152)\n",
            "🔄 Fitting batch 079 → (124, 49152)\n",
            "✅ Saved IncrementalPCA model to: models/pca_model.pkl\n"
          ]
        }
      ]
    },
    {
      "cell_type": "markdown",
      "source": [
        "### verification of fitted PCA for train"
      ],
      "metadata": {
        "id": "tPhFX4_LyAqN"
      }
    },
    {
      "cell_type": "code",
      "source": [
        "import joblib\n",
        "pca = joblib.load('models/pca_model.pkl')\n",
        "print(\"PCA components:\", pca.n_components_)\n",
        "print(\"PCA fitted:\", hasattr(pca, 'mean_'))  # Should be True"
      ],
      "metadata": {
        "colab": {
          "base_uri": "https://localhost:8080/"
        },
        "id": "F3ZBFGhXx9nz",
        "outputId": "44cf19b3-848c-4b46-cf93-9321fa0c8ed3"
      },
      "execution_count": null,
      "outputs": [
        {
          "output_type": "stream",
          "name": "stdout",
          "text": [
            "PCA components: 300\n",
            "PCA fitted: True\n"
          ]
        }
      ]
    },
    {
      "cell_type": "markdown",
      "source": [
        "### 20.1.A-2 Reduce and save each x_train part"
      ],
      "metadata": {
        "id": "3EHYqxGxcMQy"
      }
    },
    {
      "cell_type": "code",
      "source": [
        "# Step 20.1-A.2: Apply PCA to each X_train_part_###.npy and save reduced versions\n",
        "\n",
        "import os\n",
        "import numpy as np\n",
        "import gc\n",
        "import joblib\n",
        "\n",
        "# === A. Configuration ===\n",
        "input_dir = 'train_parts'\n",
        "output_dir = 'train_parts_reduced'\n",
        "pca_model_path = 'models/pca_model.pkl'\n",
        "os.makedirs(output_dir, exist_ok=True)\n",
        "\n",
        "# === B. Load trained PCA model ===\n",
        "if not os.path.exists(pca_model_path):\n",
        "    raise FileNotFoundError(f\" PCA model not found at: {pca_model_path}\")\n",
        "else:\n",
        "    pca = joblib.load(pca_model_path)\n",
        "    print(f\" Loaded PCA model from: {pca_model_path}\")\n",
        "\n",
        "# === C. Process each train part ===\n",
        "part_files = sorted([f for f in os.listdir(input_dir) if f.startswith('X_train_part') and f.endswith('.npy')])\n",
        "print(f\" Found {len(part_files)} training parts to transform\")\n",
        "\n",
        "for part_id, fname in enumerate(part_files):\n",
        "    input_path = os.path.join(input_dir, fname)\n",
        "    output_path = os.path.join(output_dir, f'X_train_reduced_part_{part_id:03d}.npy')\n",
        "\n",
        "    #  Skip if already reduced\n",
        "    if os.path.exists(output_path):\n",
        "        print(f\"⏩ Skipping part {part_id:03d} — already exists\")\n",
        "        continue\n",
        "\n",
        "    # === D. Load and flatten this part ===\n",
        "    X_part = np.load(input_path)  # Shape: (batch_size, 128, 128, 3)\n",
        "    X_flat = X_part.reshape(X_part.shape[0], -1)  # Shape: (batch_size, 49152)\n",
        "\n",
        "    # === E. Apply PCA transform ===\n",
        "    X_reduced = pca.transform(X_flat)  # Shape: (batch_size, n_components)\n",
        "    np.save(output_path, X_reduced)\n",
        "    print(f\"✅ Saved reduced part {part_id:03d} → shape: {X_reduced.shape}\")\n",
        "\n",
        "    # === F. Cleanup ===\n",
        "    del X_part, X_flat, X_reduced\n",
        "    gc.collect()"
      ],
      "metadata": {
        "colab": {
          "base_uri": "https://localhost:8080/"
        },
        "id": "qBdsyJD4cLWi",
        "outputId": "299220cc-46f1-4dcf-b804-7a9b7ca0b410"
      },
      "execution_count": null,
      "outputs": [
        {
          "output_type": "stream",
          "name": "stdout",
          "text": [
            " Loaded PCA model from: models/pca_model.pkl\n",
            " Found 80 training parts to transform\n",
            "✅ Saved reduced part 000 → shape: (1000, 300)\n",
            "✅ Saved reduced part 001 → shape: (1000, 300)\n",
            "✅ Saved reduced part 002 → shape: (1000, 300)\n",
            "✅ Saved reduced part 003 → shape: (1000, 300)\n",
            "✅ Saved reduced part 004 → shape: (1000, 300)\n",
            "✅ Saved reduced part 005 → shape: (1000, 300)\n",
            "✅ Saved reduced part 006 → shape: (1000, 300)\n",
            "✅ Saved reduced part 007 → shape: (1000, 300)\n",
            "✅ Saved reduced part 008 → shape: (1000, 300)\n",
            "✅ Saved reduced part 009 → shape: (1000, 300)\n",
            "✅ Saved reduced part 010 → shape: (1000, 300)\n",
            "✅ Saved reduced part 011 → shape: (1000, 300)\n",
            "✅ Saved reduced part 012 → shape: (1000, 300)\n",
            "✅ Saved reduced part 013 → shape: (1000, 300)\n",
            "✅ Saved reduced part 014 → shape: (1000, 300)\n",
            "✅ Saved reduced part 015 → shape: (1000, 300)\n",
            "✅ Saved reduced part 016 → shape: (1000, 300)\n",
            "✅ Saved reduced part 017 → shape: (1000, 300)\n",
            "✅ Saved reduced part 018 → shape: (1000, 300)\n",
            "✅ Saved reduced part 019 → shape: (1000, 300)\n",
            "✅ Saved reduced part 020 → shape: (1000, 300)\n",
            "✅ Saved reduced part 021 → shape: (1000, 300)\n",
            "✅ Saved reduced part 022 → shape: (1000, 300)\n",
            "✅ Saved reduced part 023 → shape: (1000, 300)\n",
            "✅ Saved reduced part 024 → shape: (1000, 300)\n",
            "✅ Saved reduced part 025 → shape: (1000, 300)\n",
            "✅ Saved reduced part 026 → shape: (1000, 300)\n",
            "✅ Saved reduced part 027 → shape: (1000, 300)\n",
            "✅ Saved reduced part 028 → shape: (1000, 300)\n",
            "✅ Saved reduced part 029 → shape: (1000, 300)\n",
            "✅ Saved reduced part 030 → shape: (1000, 300)\n",
            "✅ Saved reduced part 031 → shape: (1000, 300)\n",
            "✅ Saved reduced part 032 → shape: (1000, 300)\n",
            "✅ Saved reduced part 033 → shape: (1000, 300)\n",
            "✅ Saved reduced part 034 → shape: (1000, 300)\n",
            "✅ Saved reduced part 035 → shape: (1000, 300)\n",
            "✅ Saved reduced part 036 → shape: (1000, 300)\n",
            "✅ Saved reduced part 037 → shape: (1000, 300)\n",
            "✅ Saved reduced part 038 → shape: (1000, 300)\n",
            "✅ Saved reduced part 039 → shape: (1000, 300)\n",
            "✅ Saved reduced part 040 → shape: (1000, 300)\n",
            "✅ Saved reduced part 041 → shape: (1000, 300)\n",
            "✅ Saved reduced part 042 → shape: (1000, 300)\n",
            "✅ Saved reduced part 043 → shape: (1000, 300)\n",
            "✅ Saved reduced part 044 → shape: (1000, 300)\n",
            "✅ Saved reduced part 045 → shape: (1000, 300)\n",
            "✅ Saved reduced part 046 → shape: (1000, 300)\n",
            "✅ Saved reduced part 047 → shape: (1000, 300)\n",
            "✅ Saved reduced part 048 → shape: (1000, 300)\n",
            "✅ Saved reduced part 049 → shape: (1000, 300)\n",
            "✅ Saved reduced part 050 → shape: (1000, 300)\n",
            "✅ Saved reduced part 051 → shape: (1000, 300)\n",
            "✅ Saved reduced part 052 → shape: (1000, 300)\n",
            "✅ Saved reduced part 053 → shape: (1000, 300)\n",
            "✅ Saved reduced part 054 → shape: (1000, 300)\n",
            "✅ Saved reduced part 055 → shape: (1000, 300)\n",
            "✅ Saved reduced part 056 → shape: (1000, 300)\n",
            "✅ Saved reduced part 057 → shape: (1000, 300)\n",
            "✅ Saved reduced part 058 → shape: (1000, 300)\n",
            "✅ Saved reduced part 059 → shape: (1000, 300)\n",
            "✅ Saved reduced part 060 → shape: (1000, 300)\n",
            "✅ Saved reduced part 061 → shape: (1000, 300)\n",
            "✅ Saved reduced part 062 → shape: (1000, 300)\n",
            "✅ Saved reduced part 063 → shape: (1000, 300)\n",
            "✅ Saved reduced part 064 → shape: (1000, 300)\n",
            "✅ Saved reduced part 065 → shape: (1000, 300)\n",
            "✅ Saved reduced part 066 → shape: (1000, 300)\n",
            "✅ Saved reduced part 067 → shape: (1000, 300)\n",
            "✅ Saved reduced part 068 → shape: (1000, 300)\n",
            "✅ Saved reduced part 069 → shape: (1000, 300)\n",
            "✅ Saved reduced part 070 → shape: (1000, 300)\n",
            "✅ Saved reduced part 071 → shape: (1000, 300)\n",
            "✅ Saved reduced part 072 → shape: (1000, 300)\n",
            "✅ Saved reduced part 073 → shape: (1000, 300)\n",
            "✅ Saved reduced part 074 → shape: (1000, 300)\n",
            "✅ Saved reduced part 075 → shape: (1000, 300)\n",
            "✅ Saved reduced part 076 → shape: (1000, 300)\n",
            "✅ Saved reduced part 077 → shape: (1000, 300)\n",
            "✅ Saved reduced part 078 → shape: (1000, 300)\n",
            "✅ Saved reduced part 079 → shape: (124, 300)\n"
          ]
        }
      ]
    },
    {
      "cell_type": "markdown",
      "source": [
        "### verification of train parts reduced"
      ],
      "metadata": {
        "id": "LSHEKoVByZdu"
      }
    },
    {
      "cell_type": "code",
      "source": [
        "import os\n",
        "import numpy as np\n",
        "\n",
        "dir_path = 'train_parts_reduced'\n",
        "files = sorted([f for f in os.listdir(dir_path) if f.startswith('X_train_reduced_part_')])\n",
        "print(f\"Found {len(files)} train reduced parts\")\n",
        "\n",
        "# Check first part shape\n",
        "sample = np.load(os.path.join(dir_path, files[0]), mmap_mode='r')\n",
        "print(\"Sample shape:\", sample.shape)"
      ],
      "metadata": {
        "colab": {
          "base_uri": "https://localhost:8080/"
        },
        "id": "suBVwpqBymiw",
        "outputId": "1891b8d9-2a38-4731-ee48-913cf75d3229"
      },
      "execution_count": null,
      "outputs": [
        {
          "output_type": "stream",
          "name": "stdout",
          "text": [
            "Found 80 train reduced parts\n",
            "Sample shape: (1000, 300)\n"
          ]
        }
      ]
    },
    {
      "cell_type": "markdown",
      "source": [
        "### 20.1-B.1 Apply PCA to validation part and save reduced"
      ],
      "metadata": {
        "id": "ym8-L25KlNJ2"
      }
    },
    {
      "cell_type": "code",
      "source": [
        "# step 20.1-B.1 Apply PCA to X_val_part_###.npy files and save reduced versions ===\n",
        "\n",
        "import os\n",
        "import numpy as np\n",
        "import gc\n",
        "import joblib\n",
        "\n",
        "# === A. Configuration ===\n",
        "input_dir = 'val_parts'\n",
        "output_dir = 'val_parts_reduced'\n",
        "pca_model_path = 'models/pca_model.pkl'\n",
        "os.makedirs(output_dir, exist_ok=True)\n",
        "\n",
        "# === B. Load trained PCA model ===\n",
        "if not os.path.exists(pca_model_path):\n",
        "    raise FileNotFoundError(f\" PCA model not found at: {pca_model_path}\")\n",
        "else:\n",
        "    pca = joblib.load(pca_model_path)\n",
        "    print(f\" Loaded PCA model from: {pca_model_path}\")\n",
        "\n",
        "# === C. Process each validation part ===\n",
        "part_files = sorted([f for f in os.listdir(input_dir) if f.startswith('X_val_part') and f.endswith('.npy')])\n",
        "print(f\" Found {len(part_files)} validation parts to transform\")\n",
        "\n",
        "for part_id, fname in enumerate(part_files):\n",
        "    input_path = os.path.join(input_dir, fname)\n",
        "    output_path = os.path.join(output_dir, f'X_val_reduced_part_{part_id:03d}.npy')\n",
        "\n",
        "    #  Skip if already reduced\n",
        "    if os.path.exists(output_path):\n",
        "        print(f\"⏩ Skipping part {part_id:03d} — already exists\")\n",
        "        continue\n",
        "\n",
        "    # === D. Load and flatten this part ===\n",
        "    X_part = np.load(input_path)  # Shape: (batch_size, 128, 128, 3)\n",
        "    X_flat = X_part.reshape(X_part.shape[0], -1)  # Shape: (batch_size, 49152)\n",
        "\n",
        "    # === E. Apply PCA transform ===\n",
        "    X_reduced = pca.transform(X_flat)  # Shape: (batch_size, 300)\n",
        "    np.save(output_path, X_reduced)\n",
        "    print(f\"✅ Saved reduced val part {part_id:03d} → shape: {X_reduced.shape}\")\n",
        "\n",
        "    # === F. Cleanup ===\n",
        "    del X_part, X_flat, X_reduced\n",
        "    gc.collect()"
      ],
      "metadata": {
        "colab": {
          "base_uri": "https://localhost:8080/"
        },
        "id": "eAvBQ7YRnpN3",
        "outputId": "cb8d7761-638b-4b24-a90b-ee75ab54c403"
      },
      "execution_count": null,
      "outputs": [
        {
          "output_type": "stream",
          "name": "stdout",
          "text": [
            " Loaded PCA model from: models/pca_model.pkl\n",
            " Found 20 validation parts to transform\n",
            "✅ Saved reduced val part 000 → shape: (1000, 300)\n",
            "✅ Saved reduced val part 001 → shape: (1000, 300)\n",
            "✅ Saved reduced val part 002 → shape: (1000, 300)\n",
            "✅ Saved reduced val part 003 → shape: (1000, 300)\n",
            "✅ Saved reduced val part 004 → shape: (1000, 300)\n",
            "✅ Saved reduced val part 005 → shape: (1000, 300)\n",
            "✅ Saved reduced val part 006 → shape: (1000, 300)\n",
            "✅ Saved reduced val part 007 → shape: (1000, 300)\n",
            "✅ Saved reduced val part 008 → shape: (1000, 300)\n",
            "✅ Saved reduced val part 009 → shape: (1000, 300)\n",
            "✅ Saved reduced val part 010 → shape: (1000, 300)\n",
            "✅ Saved reduced val part 011 → shape: (1000, 300)\n",
            "✅ Saved reduced val part 012 → shape: (1000, 300)\n",
            "✅ Saved reduced val part 013 → shape: (1000, 300)\n",
            "✅ Saved reduced val part 014 → shape: (1000, 300)\n",
            "✅ Saved reduced val part 015 → shape: (1000, 300)\n",
            "✅ Saved reduced val part 016 → shape: (1000, 300)\n",
            "✅ Saved reduced val part 017 → shape: (1000, 300)\n",
            "✅ Saved reduced val part 018 → shape: (1000, 300)\n",
            "✅ Saved reduced val part 019 → shape: (782, 300)\n"
          ]
        }
      ]
    },
    {
      "cell_type": "markdown",
      "source": [
        "### Verifcation of val parts reduced"
      ],
      "metadata": {
        "id": "Bg_USyGMzNHe"
      }
    },
    {
      "cell_type": "code",
      "source": [
        "dir_path = 'val_parts_reduced'\n",
        "files = sorted([f for f in os.listdir(dir_path) if f.startswith('X_val_reduced_part_')])\n",
        "print(f\"Found {len(files)} val reduced parts\")\n",
        "\n",
        "sample = np.load(os.path.join(dir_path, files[0]), mmap_mode='r')\n",
        "print(\"Sample shape:\", sample.shape)"
      ],
      "metadata": {
        "colab": {
          "base_uri": "https://localhost:8080/"
        },
        "id": "iH2Xk78EzVlN",
        "outputId": "5c6fc8f7-ab1c-4412-cb1c-5df0a403bd3c"
      },
      "execution_count": null,
      "outputs": [
        {
          "output_type": "stream",
          "name": "stdout",
          "text": [
            "Found 20 val reduced parts\n",
            "Sample shape: (1000, 300)\n"
          ]
        }
      ]
    },
    {
      "cell_type": "markdown",
      "source": [
        "### 20.1-c Apply PCA to test part and save reduced  "
      ],
      "metadata": {
        "id": "P00JNCJDp4bT"
      }
    },
    {
      "cell_type": "code",
      "source": [
        "# 20.1-C Apply PCA to X_test_part_###.npy and save reduced versions\n",
        "\n",
        "import os\n",
        "import numpy as np\n",
        "import gc\n",
        "import joblib\n",
        "\n",
        "# === A. Configuration ===\n",
        "input_dir = 'test_parts'\n",
        "output_dir = 'test_parts_reduced'\n",
        "pca_model_path = 'models/pca_model.pkl'\n",
        "os.makedirs(output_dir, exist_ok=True)\n",
        "\n",
        "# === B. Load trained PCA model ===\n",
        "if not os.path.exists(pca_model_path):\n",
        "    raise FileNotFoundError(f\" PCA model not found at: {pca_model_path}\")\n",
        "else:\n",
        "    pca = joblib.load(pca_model_path)\n",
        "    print(f\" Loaded PCA model from: {pca_model_path}\")\n",
        "\n",
        "# === C. Process each test part ===\n",
        "part_files = sorted([f for f in os.listdir(input_dir) if f.startswith('X_test_part') and f.endswith('.npy')])\n",
        "print(f\" Found {len(part_files)} test parts to transform\")\n",
        "\n",
        "for part_id, fname in enumerate(part_files):\n",
        "    input_path = os.path.join(input_dir, fname)\n",
        "    output_path = os.path.join(output_dir, f'X_test_reduced_part_{part_id:03d}.npy')\n",
        "\n",
        "    #  Skip if already reduced\n",
        "    if os.path.exists(output_path):\n",
        "        print(f\"⏩ Skipping part {part_id:03d} — already exists\")\n",
        "        continue\n",
        "\n",
        "    # === D. Load and flatten this part ===\n",
        "    X_part = np.load(input_path)  # Shape: (batch_size, 128, 128, 3)\n",
        "    X_flat = X_part.reshape(X_part.shape[0], -1)  # Shape: (batch_size, 49152)\n",
        "\n",
        "    # === E. Apply PCA transform ===\n",
        "    X_reduced = pca.transform(X_flat)  # Shape: (batch_size, 300)\n",
        "    np.save(output_path, X_reduced)\n",
        "    print(f\"✅ Saved reduced test part {part_id:03d} → shape: {X_reduced.shape}\")\n",
        "\n",
        "    # === F. Cleanup ===\n",
        "    del X_part, X_flat, X_reduced\n",
        "    gc.collect()"
      ],
      "metadata": {
        "colab": {
          "base_uri": "https://localhost:8080/"
        },
        "id": "HS40NmdEsuIP",
        "outputId": "89c6a884-a87a-41a8-8d77-3f1c32bb08ca"
      },
      "execution_count": null,
      "outputs": [
        {
          "output_type": "stream",
          "name": "stdout",
          "text": [
            " Loaded PCA model from: models/pca_model.pkl\n",
            " Found 29 test parts to transform\n",
            "✅ Saved reduced test part 000 → shape: (1000, 300)\n",
            "✅ Saved reduced test part 001 → shape: (1000, 300)\n",
            "✅ Saved reduced test part 002 → shape: (1000, 300)\n",
            "✅ Saved reduced test part 003 → shape: (1000, 300)\n",
            "✅ Saved reduced test part 004 → shape: (1000, 300)\n",
            "✅ Saved reduced test part 005 → shape: (1000, 300)\n",
            "✅ Saved reduced test part 006 → shape: (1000, 300)\n",
            "✅ Saved reduced test part 007 → shape: (1000, 300)\n",
            "✅ Saved reduced test part 008 → shape: (1000, 300)\n",
            "✅ Saved reduced test part 009 → shape: (1000, 300)\n",
            "✅ Saved reduced test part 010 → shape: (1000, 300)\n",
            "✅ Saved reduced test part 011 → shape: (1000, 300)\n",
            "✅ Saved reduced test part 012 → shape: (1000, 300)\n",
            "✅ Saved reduced test part 013 → shape: (1000, 300)\n",
            "✅ Saved reduced test part 014 → shape: (1000, 300)\n",
            "✅ Saved reduced test part 015 → shape: (1000, 300)\n",
            "✅ Saved reduced test part 016 → shape: (1000, 300)\n",
            "✅ Saved reduced test part 017 → shape: (1000, 300)\n",
            "✅ Saved reduced test part 018 → shape: (1000, 300)\n",
            "✅ Saved reduced test part 019 → shape: (1000, 300)\n",
            "✅ Saved reduced test part 020 → shape: (1000, 300)\n",
            "✅ Saved reduced test part 021 → shape: (1000, 300)\n",
            "✅ Saved reduced test part 022 → shape: (1000, 300)\n",
            "✅ Saved reduced test part 023 → shape: (1000, 300)\n",
            "✅ Saved reduced test part 024 → shape: (1000, 300)\n",
            "✅ Saved reduced test part 025 → shape: (1000, 300)\n",
            "✅ Saved reduced test part 026 → shape: (1000, 300)\n",
            "✅ Saved reduced test part 027 → shape: (1000, 300)\n",
            "✅ Saved reduced test part 028 → shape: (853, 300)\n"
          ]
        }
      ]
    },
    {
      "cell_type": "markdown",
      "source": [
        "### verification of test_parts_reduced"
      ],
      "metadata": {
        "id": "uGIF1sBl-J3Y"
      }
    },
    {
      "cell_type": "code",
      "source": [
        "import os\n",
        "import numpy as np\n",
        "\n",
        "dir_path = 'test_parts_reduced'\n",
        "files = sorted([f for f in os.listdir(dir_path) if f.startswith('X_test_reduced_part_')])\n",
        "\n",
        "print(f\"✅ Found {len(files)} test reduced part files\")\n",
        "\n",
        "# Check shape of first and last part\n",
        "first = np.load(os.path.join(dir_path, files[0]), mmap_mode='r')\n",
        "last = np.load(os.path.join(dir_path, files[-1]), mmap_mode='r')\n",
        "\n",
        "print(f\" First part shape: {first.shape}\")\n",
        "print(f\" Last part shape: {last.shape}\")\n",
        "print(f\" Total expected test samples: {sum(np.load(os.path.join(dir_path, f), mmap_mode='r').shape[0] for f in files)}\")"
      ],
      "metadata": {
        "colab": {
          "base_uri": "https://localhost:8080/"
        },
        "id": "2HsihdT3-JW9",
        "outputId": "834564dc-90e0-477f-eab1-32154f498ffb"
      },
      "execution_count": null,
      "outputs": [
        {
          "output_type": "stream",
          "name": "stdout",
          "text": [
            "✅ Found 29 test reduced part files\n",
            " First part shape: (1000, 300)\n",
            " Last part shape: (853, 300)\n",
            " Total expected test samples: 28853\n"
          ]
        }
      ]
    },
    {
      "cell_type": "markdown",
      "source": [
        "### 21.1 training sgd classifier"
      ],
      "metadata": {
        "id": "urqdDbO2dCec"
      }
    },
    {
      "cell_type": "code",
      "source": [
        "# Step 21.1: Train SGDClassifier using PCA-reduced training batches\n",
        "\n",
        "import os\n",
        "import numpy as np\n",
        "import gc\n",
        "from sklearn.linear_model import SGDClassifier\n",
        "import joblib\n",
        "\n",
        "# === A. Configuration ===\n",
        "X_dir = 'train_parts_reduced'\n",
        "y_dir = 'train_parts'\n",
        "model_save_path = 'models/sgd_model.pkl'\n",
        "num_classes = 15  # From your class label range\n",
        "classes_array = np.arange(num_classes)\n",
        "\n",
        "# === B. Skip logic ===\n",
        "if os.path.exists(model_save_path):\n",
        "    print(f\"⏩ Skipping training — model already exists at: {model_save_path}\")\n",
        "else:\n",
        "    print(\"⚙️ Step 21.1: Training SGDClassifier batch-by-batch...\")\n",
        "\n",
        "    # === C. Create the model ===\n",
        "    clf = SGDClassifier(loss='log_loss', random_state=42)\n",
        "\n",
        "    # === D. Get all part numbers to train on ===\n",
        "    part_files = sorted([f for f in os.listdir(X_dir) if f.startswith('X_train_reduced_part_')])\n",
        "\n",
        "    for i, x_file in enumerate(part_files):\n",
        "        # Get matching y file\n",
        "        part_id = x_file.split('_')[-1].replace('.npy', '')  # e.g., '023'\n",
        "        y_file = f'y_train_part_{part_id}.npy'\n",
        "\n",
        "        # Load this batch of data and labels\n",
        "        X = np.load(os.path.join(X_dir, x_file))\n",
        "        y = np.load(os.path.join(y_dir, y_file))\n",
        "\n",
        "        # First call: supply 'classes=' to inform the model of all labels\n",
        "        if i == 0:\n",
        "            clf.partial_fit(X, y, classes=classes_array)\n",
        "        else:\n",
        "            clf.partial_fit(X, y)\n",
        "\n",
        "        print(f\"✅ Trained on part {part_id} — shape: {X.shape}\")\n",
        "\n",
        "        # Cleanup memory\n",
        "        del X, y\n",
        "        gc.collect()\n",
        "\n",
        "    # === E. Save the model ===\n",
        "    os.makedirs('models', exist_ok=True)\n",
        "    joblib.dump(clf, model_save_path)\n",
        "    print(f\"✅ SGDClassifier model saved to: {model_save_path}\")"
      ],
      "metadata": {
        "colab": {
          "base_uri": "https://localhost:8080/"
        },
        "id": "77p-mrR4dKeW",
        "outputId": "96c18431-23b5-4bd1-c7aa-cfd6cc580554"
      },
      "execution_count": null,
      "outputs": [
        {
          "output_type": "stream",
          "name": "stdout",
          "text": [
            "⚙️ Step 21.1: Training SGDClassifier batch-by-batch...\n",
            "✅ Trained on part 000 — shape: (1000, 300)\n",
            "✅ Trained on part 001 — shape: (1000, 300)\n",
            "✅ Trained on part 002 — shape: (1000, 300)\n",
            "✅ Trained on part 003 — shape: (1000, 300)\n",
            "✅ Trained on part 004 — shape: (1000, 300)\n",
            "✅ Trained on part 005 — shape: (1000, 300)\n",
            "✅ Trained on part 006 — shape: (1000, 300)\n",
            "✅ Trained on part 007 — shape: (1000, 300)\n",
            "✅ Trained on part 008 — shape: (1000, 300)\n",
            "✅ Trained on part 009 — shape: (1000, 300)\n",
            "✅ Trained on part 010 — shape: (1000, 300)\n",
            "✅ Trained on part 011 — shape: (1000, 300)\n",
            "✅ Trained on part 012 — shape: (1000, 300)\n",
            "✅ Trained on part 013 — shape: (1000, 300)\n",
            "✅ Trained on part 014 — shape: (1000, 300)\n",
            "✅ Trained on part 015 — shape: (1000, 300)\n",
            "✅ Trained on part 016 — shape: (1000, 300)\n",
            "✅ Trained on part 017 — shape: (1000, 300)\n",
            "✅ Trained on part 018 — shape: (1000, 300)\n",
            "✅ Trained on part 019 — shape: (1000, 300)\n",
            "✅ Trained on part 020 — shape: (1000, 300)\n",
            "✅ Trained on part 021 — shape: (1000, 300)\n",
            "✅ Trained on part 022 — shape: (1000, 300)\n",
            "✅ Trained on part 023 — shape: (1000, 300)\n",
            "✅ Trained on part 024 — shape: (1000, 300)\n",
            "✅ Trained on part 025 — shape: (1000, 300)\n",
            "✅ Trained on part 026 — shape: (1000, 300)\n",
            "✅ Trained on part 027 — shape: (1000, 300)\n",
            "✅ Trained on part 028 — shape: (1000, 300)\n",
            "✅ Trained on part 029 — shape: (1000, 300)\n",
            "✅ Trained on part 030 — shape: (1000, 300)\n",
            "✅ Trained on part 031 — shape: (1000, 300)\n",
            "✅ Trained on part 032 — shape: (1000, 300)\n",
            "✅ Trained on part 033 — shape: (1000, 300)\n",
            "✅ Trained on part 034 — shape: (1000, 300)\n",
            "✅ Trained on part 035 — shape: (1000, 300)\n",
            "✅ Trained on part 036 — shape: (1000, 300)\n",
            "✅ Trained on part 037 — shape: (1000, 300)\n",
            "✅ Trained on part 038 — shape: (1000, 300)\n",
            "✅ Trained on part 039 — shape: (1000, 300)\n",
            "✅ Trained on part 040 — shape: (1000, 300)\n",
            "✅ Trained on part 041 — shape: (1000, 300)\n",
            "✅ Trained on part 042 — shape: (1000, 300)\n",
            "✅ Trained on part 043 — shape: (1000, 300)\n",
            "✅ Trained on part 044 — shape: (1000, 300)\n",
            "✅ Trained on part 045 — shape: (1000, 300)\n",
            "✅ Trained on part 046 — shape: (1000, 300)\n",
            "✅ Trained on part 047 — shape: (1000, 300)\n",
            "✅ Trained on part 048 — shape: (1000, 300)\n",
            "✅ Trained on part 049 — shape: (1000, 300)\n",
            "✅ Trained on part 050 — shape: (1000, 300)\n",
            "✅ Trained on part 051 — shape: (1000, 300)\n",
            "✅ Trained on part 052 — shape: (1000, 300)\n",
            "✅ Trained on part 053 — shape: (1000, 300)\n",
            "✅ Trained on part 054 — shape: (1000, 300)\n",
            "✅ Trained on part 055 — shape: (1000, 300)\n",
            "✅ Trained on part 056 — shape: (1000, 300)\n",
            "✅ Trained on part 057 — shape: (1000, 300)\n",
            "✅ Trained on part 058 — shape: (1000, 300)\n",
            "✅ Trained on part 059 — shape: (1000, 300)\n",
            "✅ Trained on part 060 — shape: (1000, 300)\n",
            "✅ Trained on part 061 — shape: (1000, 300)\n",
            "✅ Trained on part 062 — shape: (1000, 300)\n",
            "✅ Trained on part 063 — shape: (1000, 300)\n",
            "✅ Trained on part 064 — shape: (1000, 300)\n",
            "✅ Trained on part 065 — shape: (1000, 300)\n",
            "✅ Trained on part 066 — shape: (1000, 300)\n",
            "✅ Trained on part 067 — shape: (1000, 300)\n",
            "✅ Trained on part 068 — shape: (1000, 300)\n",
            "✅ Trained on part 069 — shape: (1000, 300)\n",
            "✅ Trained on part 070 — shape: (1000, 300)\n",
            "✅ Trained on part 071 — shape: (1000, 300)\n",
            "✅ Trained on part 072 — shape: (1000, 300)\n",
            "✅ Trained on part 073 — shape: (1000, 300)\n",
            "✅ Trained on part 074 — shape: (1000, 300)\n",
            "✅ Trained on part 075 — shape: (1000, 300)\n",
            "✅ Trained on part 076 — shape: (1000, 300)\n",
            "✅ Trained on part 077 — shape: (1000, 300)\n",
            "✅ Trained on part 078 — shape: (1000, 300)\n",
            "✅ Trained on part 079 — shape: (124, 300)\n",
            "✅ SGDClassifier model saved to: models/sgd_model.pkl\n"
          ]
        }
      ]
    },
    {
      "cell_type": "markdown",
      "source": [
        "### 21.2 Evaluation sgd model on validation set"
      ],
      "metadata": {
        "id": "yUqhhU-3iPGD"
      }
    },
    {
      "cell_type": "code",
      "source": [
        "# Step 21.2 — Evaluate SGDClassifier on validation set (RAM-safe, skip logic, standalone)\n",
        "\n",
        "import os\n",
        "import numpy as np\n",
        "import joblib\n",
        "import gc\n",
        "from sklearn.metrics import accuracy_score, classification_report, confusion_matrix\n",
        "\n",
        "# === A. Config ===\n",
        "model_path = 'models/sgd_model.pkl'\n",
        "X_dir = 'val_parts_reduced'\n",
        "y_dir = 'val_parts'\n",
        "preds_path = 'results/sgd_val_preds.npy'\n",
        "labels_path = 'results/sgd_val_labels.npy'\n",
        "\n",
        "# === B. Create results folder\n",
        "os.makedirs('results', exist_ok=True)\n",
        "\n",
        "# === C. Skip logic ===\n",
        "if os.path.exists(preds_path) and os.path.exists(labels_path):\n",
        "    print(\"⏩ Skipping evaluation — predictions already saved.\")\n",
        "    y_true = np.load(labels_path)\n",
        "    y_pred = np.load(preds_path)\n",
        "else:\n",
        "    print(\"⚙️ Evaluating SGDClassifier on validation set...\")\n",
        "\n",
        "    # === D. Load model ===\n",
        "    if not os.path.exists(model_path):\n",
        "        raise FileNotFoundError(f\"Model not found: {model_path}\")\n",
        "    clf = joblib.load(model_path)\n",
        "    print(\"✅ Loaded model.\")\n",
        "\n",
        "    # === E. Accumulate predictions\n",
        "    y_true = []\n",
        "    y_pred = []\n",
        "\n",
        "    part_files = sorted([f for f in os.listdir(X_dir) if f.startswith('X_val_reduced_part_')])\n",
        "    print(f\" Found {len(part_files)} validation parts.\")\n",
        "\n",
        "    for fname in part_files:\n",
        "        part_id = fname.split('_')[-1].replace('.npy', '')\n",
        "        x_path = os.path.join(X_dir, fname)\n",
        "        y_path = os.path.join(y_dir, f'y_val_part_{part_id}.npy')\n",
        "\n",
        "        X = np.load(x_path)\n",
        "        y = np.load(y_path)\n",
        "        preds = clf.predict(X)\n",
        "\n",
        "        y_true.extend(y)\n",
        "        y_pred.extend(preds)\n",
        "\n",
        "        del X, y, preds\n",
        "        gc.collect()\n",
        "\n",
        "    # === F. Save for reuse\n",
        "    np.save(labels_path, np.array(y_true, dtype=np.int64))\n",
        "    np.save(preds_path, np.array(y_pred, dtype=np.int64))\n",
        "    print(f\"✅ Saved predictions and labels to: {preds_path}, {labels_path}\")\n",
        "\n",
        "# === G. Report metrics\n",
        "print(\"\\n✅ Validation Accuracy:\", accuracy_score(y_true, y_pred))\n",
        "print(\"\\n🧾 Classification Report:\")\n",
        "print(classification_report(y_true, y_pred, digits=4))\n",
        "print(\"\\n📉 Confusion Matrix:\")\n",
        "print(confusion_matrix(y_true, y_pred))\n"
      ],
      "metadata": {
        "colab": {
          "base_uri": "https://localhost:8080/"
        },
        "id": "JioiA1_LiTLZ",
        "outputId": "63aaf015-861b-443e-e649-388cd9916390"
      },
      "execution_count": null,
      "outputs": [
        {
          "output_type": "stream",
          "name": "stdout",
          "text": [
            "⚙️ Evaluating SGDClassifier on validation set...\n",
            "✅ Loaded model.\n",
            " Found 20 validation parts.\n",
            "✅ Saved predictions and labels to: results/sgd_val_preds.npy, results/sgd_val_labels.npy\n",
            "\n",
            "✅ Validation Accuracy: 0.22611464968152867\n",
            "\n",
            "🧾 Classification Report:\n",
            "              precision    recall  f1-score   support\n",
            "\n",
            "           0     0.0000    0.0000    0.0000        83\n",
            "           1     0.0000    0.0000    0.0000       103\n",
            "           2     0.0000    0.0000    0.0000       409\n",
            "           3     0.0000    0.0000    0.0000        65\n",
            "           4     0.0000    0.0000    0.0000      1197\n",
            "           5     0.0000    0.0000    0.0000       126\n",
            "           6     0.2034    0.0907    0.1255      3394\n",
            "           7     0.9286    0.0163    0.0321      1594\n",
            "           8     0.0000    0.0000    0.0000        80\n",
            "           9     0.4477    0.2455    0.3171      5614\n",
            "          10     0.2937    0.3981    0.3380      5225\n",
            "          11     0.0000    0.0000    0.0000        65\n",
            "          12     0.0108    0.0080    0.0092      1006\n",
            "          13     0.3100    0.5879    0.4060       347\n",
            "          14     0.0705    0.9895    0.1316       474\n",
            "\n",
            "    accuracy                         0.2261     19782\n",
            "   macro avg     0.1510    0.1557    0.0906     19782\n",
            "weighted avg     0.3220    0.2261    0.2141     19782\n",
            "\n",
            "\n",
            "📉 Confusion Matrix:\n",
            "[[   0    0    0    0    0    0    0    0    0    1    1    1   12    0\n",
            "    68]\n",
            " [   0    0    0    0    0    0    1    0    0    0    2    0    0    1\n",
            "    99]\n",
            " [   0    0    0    0    0    0   30    0    0   77   23    0   10    3\n",
            "   266]\n",
            " [   0    0    0    0    0    0    0    0    0    3    0    0    1    1\n",
            "    60]\n",
            " [   0    0    0    0    0    0  191    0    0  252   79    0   27   22\n",
            "   626]\n",
            " [   0    0    0    0    1    0   33    2    0    3   11    0    3    0\n",
            "    73]\n",
            " [   0    0    0    0    0    0  308    0    0 1042 1662    2   36   58\n",
            "   286]\n",
            " [   0    0    0    0    6    0  278   26    0   88  310    7  350   17\n",
            "   512]\n",
            " [   0    0    0    0    0    0    2    0    0    0    3    0    2    0\n",
            "    73]\n",
            " [   0    0    0    0    0    0  374    0    0 1378 2480    1  209  180\n",
            "   992]\n",
            " [   0    0    1    0    0    0  238    0    0  200 2080    0   84   90\n",
            "  2532]\n",
            " [   0    0    0    0    0    0    0    0    0    0    0    0    0    0\n",
            "    65]\n",
            " [   0    0    0    0    5    0   54    0    0   33  421    1    8   80\n",
            "   404]\n",
            " [   0    0    0    0    0    0    5    0    0    1    8    0    0  204\n",
            "   129]\n",
            " [   0    0    0    0    0    0    0    0    0    0    3    0    0    2\n",
            "   469]]\n"
          ]
        },
        {
          "output_type": "stream",
          "name": "stderr",
          "text": [
            "/usr/local/lib/python3.11/dist-packages/sklearn/metrics/_classification.py:1565: UndefinedMetricWarning: Precision is ill-defined and being set to 0.0 in labels with no predicted samples. Use `zero_division` parameter to control this behavior.\n",
            "  _warn_prf(average, modifier, f\"{metric.capitalize()} is\", len(result))\n",
            "/usr/local/lib/python3.11/dist-packages/sklearn/metrics/_classification.py:1565: UndefinedMetricWarning: Precision is ill-defined and being set to 0.0 in labels with no predicted samples. Use `zero_division` parameter to control this behavior.\n",
            "  _warn_prf(average, modifier, f\"{metric.capitalize()} is\", len(result))\n",
            "/usr/local/lib/python3.11/dist-packages/sklearn/metrics/_classification.py:1565: UndefinedMetricWarning: Precision is ill-defined and being set to 0.0 in labels with no predicted samples. Use `zero_division` parameter to control this behavior.\n",
            "  _warn_prf(average, modifier, f\"{metric.capitalize()} is\", len(result))\n"
          ]
        }
      ]
    },
    {
      "cell_type": "markdown",
      "source": [
        "### verification train labels list from pkl"
      ],
      "metadata": {
        "id": "Zgb2Wwc7mRky"
      }
    },
    {
      "cell_type": "code",
      "source": [
        "import os\n",
        "import pickle\n",
        "\n",
        "# Path to your saved class names file\n",
        "path = '/content/drive/MyDrive/CSMAI_CW1_DOTAv1/train_label_classes.pkl'\n",
        "\n",
        "# Load and print class names\n",
        "if os.path.exists(path):\n",
        "    with open(path, 'rb') as f:\n",
        "        class_names = pickle.load(f)\n",
        "    print(\"✅ Loaded class names:\")\n",
        "    print(class_names)\n",
        "else:\n",
        "    print(\" File not found at:\", path)"
      ],
      "metadata": {
        "colab": {
          "base_uri": "https://localhost:8080/"
        },
        "id": "OhlqVCI_mSL_",
        "outputId": "24c86f64-9504-408d-cf75-5515564fe145"
      },
      "execution_count": null,
      "outputs": [
        {
          "output_type": "stream",
          "name": "stdout",
          "text": [
            "✅ Loaded class names:\n",
            "['baseball-diamond', 'basketball-court', 'bridge', 'ground-track-field', 'harbor', 'helicopter', 'large-vehicle', 'plane', 'roundabout', 'ship', 'small-vehicle', 'soccer-ball-field', 'storage-tank', 'swimming-pool', 'tennis-court']\n"
          ]
        }
      ]
    },
    {
      "cell_type": "markdown",
      "source": [
        "### 21.3 hypertuning with 6 diiferent parametes settings"
      ],
      "metadata": {
        "id": "IFbZMiE4H6Yb"
      }
    },
    {
      "cell_type": "code",
      "source": [
        "# Step 21.3 – Hyperparameter Tuning: SGDClassifier (RAM-safe, balanced weight excluded)\n",
        "\n",
        "import os\n",
        "import numpy as np\n",
        "import gc\n",
        "import joblib\n",
        "from sklearn.linear_model import SGDClassifier\n",
        "from sklearn.metrics import classification_report, accuracy_score\n",
        "import itertools\n",
        "import pickle\n",
        "\n",
        "# === A. Setup ===\n",
        "X_train_dir = 'train_parts_reduced'\n",
        "y_train_dir = 'train_parts'\n",
        "X_val_dir   = 'val_parts_reduced'\n",
        "y_val_dir   = 'val_parts'\n",
        "result_dir  = 'sgd_tuning_results'\n",
        "os.makedirs(result_dir, exist_ok=True)\n",
        "\n",
        "# === B. Load class names\n",
        "with open('train_label_classes.pkl', 'rb') as f:\n",
        "    class_names = pickle.load(f)\n",
        "\n",
        "# === C. Define tuning combinations (excluding class_weight='balanced')\n",
        "param_grid = {\n",
        "    'loss': ['log_loss', 'hinge'],\n",
        "    'alpha': [0.0001, 0.001],\n",
        "    'penalty': ['l2', 'elasticnet'],\n",
        "    'class_weight': [None]  # Only keeping safe value\n",
        "}\n",
        "combinations = list(itertools.product(*param_grid.values()))\n",
        "\n",
        "# === D. Loop through each configuration\n",
        "for combo in combinations:\n",
        "    loss, alpha, penalty, class_weight = combo\n",
        "    tag = f\"{loss}_a{alpha}_p{penalty}_w{class_weight or 'none'}\"\n",
        "    result_file = os.path.join(result_dir, f\"results_{tag}.txt\")\n",
        "\n",
        "    # === Skip if result already exists\n",
        "    if os.path.exists(result_file):\n",
        "        print(f\"⏩ Skipping {tag} — results already saved.\")\n",
        "        continue\n",
        "\n",
        "    print(f\"\\n⚙️ Tuning: {tag}\")\n",
        "\n",
        "    # === E. Initialize SGDClassifier\n",
        "    clf = SGDClassifier(\n",
        "        loss=loss,\n",
        "        alpha=alpha,\n",
        "        penalty=penalty,\n",
        "        class_weight=class_weight,\n",
        "        max_iter=1,\n",
        "        warm_start=True\n",
        "    )\n",
        "\n",
        "    # === F. Training with partial_fit\n",
        "    for part_file in sorted(os.listdir(X_train_dir)):\n",
        "        if not part_file.startswith('X_train_reduced_part_'):\n",
        "            continue\n",
        "        part_id = part_file.split('_')[-1].replace('.npy', '')\n",
        "        x_path = os.path.join(X_train_dir, part_file)\n",
        "        y_path = os.path.join(y_train_dir, f'y_train_part_{part_id}.npy')\n",
        "\n",
        "        X = np.load(x_path)\n",
        "        y = np.load(y_path)\n",
        "        clf.partial_fit(X, y, classes=np.arange(len(class_names)))\n",
        "\n",
        "        del X, y\n",
        "        gc.collect()\n",
        "\n",
        "    # === G. Validation evaluation\n",
        "    y_true = []\n",
        "    y_pred = []\n",
        "\n",
        "    for part_file in sorted(os.listdir(X_val_dir)):\n",
        "        if not part_file.startswith('X_val_reduced_part_'):\n",
        "            continue\n",
        "        part_id = part_file.split('_')[-1].replace('.npy', '')\n",
        "        x_path = os.path.join(X_val_dir, part_file)\n",
        "        y_path = os.path.join(y_val_dir, f'y_val_part_{part_id}.npy')\n",
        "\n",
        "        X = np.load(x_path)\n",
        "        y = np.load(y_path)\n",
        "        preds = clf.predict(X)\n",
        "\n",
        "        y_true.extend(y)\n",
        "        y_pred.extend(preds)\n",
        "\n",
        "        del X, y, preds\n",
        "        gc.collect()\n",
        "\n",
        "    # === H. Save result report\n",
        "    acc = accuracy_score(y_true, y_pred)\n",
        "    report = classification_report(y_true, y_pred, target_names=class_names, digits=4)\n",
        "\n",
        "    with open(result_file, 'w') as f:\n",
        "        f.write(f\"SGDClassifier hyperparameters: loss={loss}, alpha={alpha}, penalty={penalty}, class_weight={class_weight}\\n\")\n",
        "        f.write(f\"\\nValidation Accuracy: {acc:.4f}\\n\\n\")\n",
        "        f.write(report)\n",
        "\n",
        "    print(f\"✅ Saved report: {result_file}\")\n",
        "\n",
        "# === End\n",
        "print(\"\\n🏁 All tuning combinations (safe set) completed.\")"
      ],
      "metadata": {
        "colab": {
          "base_uri": "https://localhost:8080/"
        },
        "id": "G17tl-KRIGsY",
        "outputId": "89b1202a-5163-4d25-eec9-01f547f85ae6"
      },
      "execution_count": null,
      "outputs": [
        {
          "output_type": "stream",
          "name": "stdout",
          "text": [
            "⏩ Skipping log_loss_a0.0001_pl2_wnone — results already saved.\n",
            "\n",
            "⚙️ Tuning: log_loss_a0.0001_pelasticnet_wnone\n"
          ]
        },
        {
          "output_type": "stream",
          "name": "stderr",
          "text": [
            "/usr/local/lib/python3.11/dist-packages/sklearn/metrics/_classification.py:1565: UndefinedMetricWarning: Precision is ill-defined and being set to 0.0 in labels with no predicted samples. Use `zero_division` parameter to control this behavior.\n",
            "  _warn_prf(average, modifier, f\"{metric.capitalize()} is\", len(result))\n",
            "/usr/local/lib/python3.11/dist-packages/sklearn/metrics/_classification.py:1565: UndefinedMetricWarning: Precision is ill-defined and being set to 0.0 in labels with no predicted samples. Use `zero_division` parameter to control this behavior.\n",
            "  _warn_prf(average, modifier, f\"{metric.capitalize()} is\", len(result))\n",
            "/usr/local/lib/python3.11/dist-packages/sklearn/metrics/_classification.py:1565: UndefinedMetricWarning: Precision is ill-defined and being set to 0.0 in labels with no predicted samples. Use `zero_division` parameter to control this behavior.\n",
            "  _warn_prf(average, modifier, f\"{metric.capitalize()} is\", len(result))\n"
          ]
        },
        {
          "output_type": "stream",
          "name": "stdout",
          "text": [
            "✅ Saved report: sgd_tuning_results/results_log_loss_a0.0001_pelasticnet_wnone.txt\n",
            "\n",
            "⚙️ Tuning: log_loss_a0.001_pl2_wnone\n"
          ]
        },
        {
          "output_type": "stream",
          "name": "stderr",
          "text": [
            "/usr/local/lib/python3.11/dist-packages/sklearn/metrics/_classification.py:1565: UndefinedMetricWarning: Precision is ill-defined and being set to 0.0 in labels with no predicted samples. Use `zero_division` parameter to control this behavior.\n",
            "  _warn_prf(average, modifier, f\"{metric.capitalize()} is\", len(result))\n",
            "/usr/local/lib/python3.11/dist-packages/sklearn/metrics/_classification.py:1565: UndefinedMetricWarning: Precision is ill-defined and being set to 0.0 in labels with no predicted samples. Use `zero_division` parameter to control this behavior.\n",
            "  _warn_prf(average, modifier, f\"{metric.capitalize()} is\", len(result))\n",
            "/usr/local/lib/python3.11/dist-packages/sklearn/metrics/_classification.py:1565: UndefinedMetricWarning: Precision is ill-defined and being set to 0.0 in labels with no predicted samples. Use `zero_division` parameter to control this behavior.\n",
            "  _warn_prf(average, modifier, f\"{metric.capitalize()} is\", len(result))\n"
          ]
        },
        {
          "output_type": "stream",
          "name": "stdout",
          "text": [
            "✅ Saved report: sgd_tuning_results/results_log_loss_a0.001_pl2_wnone.txt\n",
            "\n",
            "⚙️ Tuning: log_loss_a0.001_pelasticnet_wnone\n"
          ]
        },
        {
          "output_type": "stream",
          "name": "stderr",
          "text": [
            "/usr/local/lib/python3.11/dist-packages/sklearn/metrics/_classification.py:1565: UndefinedMetricWarning: Precision is ill-defined and being set to 0.0 in labels with no predicted samples. Use `zero_division` parameter to control this behavior.\n",
            "  _warn_prf(average, modifier, f\"{metric.capitalize()} is\", len(result))\n",
            "/usr/local/lib/python3.11/dist-packages/sklearn/metrics/_classification.py:1565: UndefinedMetricWarning: Precision is ill-defined and being set to 0.0 in labels with no predicted samples. Use `zero_division` parameter to control this behavior.\n",
            "  _warn_prf(average, modifier, f\"{metric.capitalize()} is\", len(result))\n",
            "/usr/local/lib/python3.11/dist-packages/sklearn/metrics/_classification.py:1565: UndefinedMetricWarning: Precision is ill-defined and being set to 0.0 in labels with no predicted samples. Use `zero_division` parameter to control this behavior.\n",
            "  _warn_prf(average, modifier, f\"{metric.capitalize()} is\", len(result))\n"
          ]
        },
        {
          "output_type": "stream",
          "name": "stdout",
          "text": [
            "✅ Saved report: sgd_tuning_results/results_log_loss_a0.001_pelasticnet_wnone.txt\n",
            "\n",
            "⚙️ Tuning: hinge_a0.0001_pl2_wnone\n"
          ]
        },
        {
          "output_type": "stream",
          "name": "stderr",
          "text": [
            "/usr/local/lib/python3.11/dist-packages/sklearn/metrics/_classification.py:1565: UndefinedMetricWarning: Precision is ill-defined and being set to 0.0 in labels with no predicted samples. Use `zero_division` parameter to control this behavior.\n",
            "  _warn_prf(average, modifier, f\"{metric.capitalize()} is\", len(result))\n",
            "/usr/local/lib/python3.11/dist-packages/sklearn/metrics/_classification.py:1565: UndefinedMetricWarning: Precision is ill-defined and being set to 0.0 in labels with no predicted samples. Use `zero_division` parameter to control this behavior.\n",
            "  _warn_prf(average, modifier, f\"{metric.capitalize()} is\", len(result))\n",
            "/usr/local/lib/python3.11/dist-packages/sklearn/metrics/_classification.py:1565: UndefinedMetricWarning: Precision is ill-defined and being set to 0.0 in labels with no predicted samples. Use `zero_division` parameter to control this behavior.\n",
            "  _warn_prf(average, modifier, f\"{metric.capitalize()} is\", len(result))\n"
          ]
        },
        {
          "output_type": "stream",
          "name": "stdout",
          "text": [
            "✅ Saved report: sgd_tuning_results/results_hinge_a0.0001_pl2_wnone.txt\n",
            "\n",
            "⚙️ Tuning: hinge_a0.0001_pelasticnet_wnone\n"
          ]
        },
        {
          "output_type": "stream",
          "name": "stderr",
          "text": [
            "/usr/local/lib/python3.11/dist-packages/sklearn/metrics/_classification.py:1565: UndefinedMetricWarning: Precision is ill-defined and being set to 0.0 in labels with no predicted samples. Use `zero_division` parameter to control this behavior.\n",
            "  _warn_prf(average, modifier, f\"{metric.capitalize()} is\", len(result))\n",
            "/usr/local/lib/python3.11/dist-packages/sklearn/metrics/_classification.py:1565: UndefinedMetricWarning: Precision is ill-defined and being set to 0.0 in labels with no predicted samples. Use `zero_division` parameter to control this behavior.\n",
            "  _warn_prf(average, modifier, f\"{metric.capitalize()} is\", len(result))\n",
            "/usr/local/lib/python3.11/dist-packages/sklearn/metrics/_classification.py:1565: UndefinedMetricWarning: Precision is ill-defined and being set to 0.0 in labels with no predicted samples. Use `zero_division` parameter to control this behavior.\n",
            "  _warn_prf(average, modifier, f\"{metric.capitalize()} is\", len(result))\n"
          ]
        },
        {
          "output_type": "stream",
          "name": "stdout",
          "text": [
            "✅ Saved report: sgd_tuning_results/results_hinge_a0.0001_pelasticnet_wnone.txt\n",
            "\n",
            "⚙️ Tuning: hinge_a0.001_pl2_wnone\n"
          ]
        },
        {
          "output_type": "stream",
          "name": "stderr",
          "text": [
            "/usr/local/lib/python3.11/dist-packages/sklearn/metrics/_classification.py:1565: UndefinedMetricWarning: Precision is ill-defined and being set to 0.0 in labels with no predicted samples. Use `zero_division` parameter to control this behavior.\n",
            "  _warn_prf(average, modifier, f\"{metric.capitalize()} is\", len(result))\n",
            "/usr/local/lib/python3.11/dist-packages/sklearn/metrics/_classification.py:1565: UndefinedMetricWarning: Precision is ill-defined and being set to 0.0 in labels with no predicted samples. Use `zero_division` parameter to control this behavior.\n",
            "  _warn_prf(average, modifier, f\"{metric.capitalize()} is\", len(result))\n",
            "/usr/local/lib/python3.11/dist-packages/sklearn/metrics/_classification.py:1565: UndefinedMetricWarning: Precision is ill-defined and being set to 0.0 in labels with no predicted samples. Use `zero_division` parameter to control this behavior.\n",
            "  _warn_prf(average, modifier, f\"{metric.capitalize()} is\", len(result))\n"
          ]
        },
        {
          "output_type": "stream",
          "name": "stdout",
          "text": [
            "✅ Saved report: sgd_tuning_results/results_hinge_a0.001_pl2_wnone.txt\n",
            "\n",
            "⚙️ Tuning: hinge_a0.001_pelasticnet_wnone\n",
            "✅ Saved report: sgd_tuning_results/results_hinge_a0.001_pelasticnet_wnone.txt\n",
            "\n",
            "🏁 All tuning combinations (safe set) completed.\n"
          ]
        },
        {
          "output_type": "stream",
          "name": "stderr",
          "text": [
            "/usr/local/lib/python3.11/dist-packages/sklearn/metrics/_classification.py:1565: UndefinedMetricWarning: Precision is ill-defined and being set to 0.0 in labels with no predicted samples. Use `zero_division` parameter to control this behavior.\n",
            "  _warn_prf(average, modifier, f\"{metric.capitalize()} is\", len(result))\n",
            "/usr/local/lib/python3.11/dist-packages/sklearn/metrics/_classification.py:1565: UndefinedMetricWarning: Precision is ill-defined and being set to 0.0 in labels with no predicted samples. Use `zero_division` parameter to control this behavior.\n",
            "  _warn_prf(average, modifier, f\"{metric.capitalize()} is\", len(result))\n",
            "/usr/local/lib/python3.11/dist-packages/sklearn/metrics/_classification.py:1565: UndefinedMetricWarning: Precision is ill-defined and being set to 0.0 in labels with no predicted samples. Use `zero_division` parameter to control this behavior.\n",
            "  _warn_prf(average, modifier, f\"{metric.capitalize()} is\", len(result))\n"
          ]
        }
      ]
    },
    {
      "cell_type": "markdown",
      "source": [
        "### 21.3-A summary of all hyperparameter tuning results"
      ],
      "metadata": {
        "id": "a41Q7GZdOfEn"
      }
    },
    {
      "cell_type": "code",
      "source": [
        "import os\n",
        "\n",
        "result_dir = 'sgd_tuning_results'\n",
        "summary = []\n",
        "\n",
        "for fname in sorted(os.listdir(result_dir)):\n",
        "    if not fname.endswith('.txt'):\n",
        "        continue\n",
        "\n",
        "    path = os.path.join(result_dir, fname)\n",
        "    with open(path, 'r') as f:\n",
        "        lines = f.readlines()\n",
        "        acc_line = [line for line in lines if \"Validation Accuracy\" in line]\n",
        "        acc = acc_line[0].strip().split(\":\")[-1] if acc_line else \"N/A\"\n",
        "        summary.append((fname, float(acc)))\n",
        "\n",
        "# Sort by accuracy descending\n",
        "summary.sort(key=lambda x: x[1], reverse=True)\n",
        "\n",
        "# Print summary table\n",
        "print(\"\\n Summary of tuning results:\\n\")\n",
        "for fname, acc in summary:\n",
        "    print(f\"{acc:.4f}  ←  {fname}\")"
      ],
      "metadata": {
        "colab": {
          "base_uri": "https://localhost:8080/"
        },
        "id": "wGqaSZiNThSr",
        "outputId": "cfa2e3b4-731a-4ea5-bf2f-7f4b882cf06d"
      },
      "execution_count": null,
      "outputs": [
        {
          "output_type": "stream",
          "name": "stdout",
          "text": [
            "\n",
            " Summary of tuning results:\n",
            "\n",
            "0.2458  ←  results_log_loss_a0.001_pelasticnet_wnone.txt\n",
            "0.2395  ←  results_hinge_a0.001_pelasticnet_wnone.txt\n",
            "0.2386  ←  results_log_loss_a0.001_pl2_wnone.txt\n",
            "0.2320  ←  results_hinge_a0.001_pl2_wnone.txt\n",
            "0.2286  ←  results_log_loss_a0.0001_pl2_wnone.txt\n",
            "0.2250  ←  results_hinge_a0.0001_pl2_wnone.txt\n",
            "0.2233  ←  results_log_loss_a0.0001_pelasticnet_wnone.txt\n",
            "0.2202  ←  results_hinge_a0.0001_pelasticnet_wnone.txt\n"
          ]
        }
      ]
    },
    {
      "cell_type": "markdown",
      "source": [
        "### 21.3-B Retraining Model"
      ],
      "metadata": {
        "id": "D730iAz5cz0A"
      }
    },
    {
      "cell_type": "code",
      "source": [
        "# Step 21.3-B – Retrain best SGDClassifier model and save it\n",
        "\n",
        "import os\n",
        "import numpy as np\n",
        "import gc\n",
        "import joblib\n",
        "from sklearn.linear_model import SGDClassifier\n",
        "import pickle\n",
        "import warnings\n",
        "warnings.filterwarnings('ignore')\n",
        "\n",
        "# === A. Paths ===\n",
        "X_train_dir = 'train_parts_reduced'\n",
        "y_train_dir = 'train_parts'\n",
        "model_save_path = 'models/sgd_best_model.pkl'\n",
        "\n",
        "# === B. Load class names for consistent class index\n",
        "with open('train_label_classes.pkl', 'rb') as f:\n",
        "    class_names = pickle.load(f)\n",
        "\n",
        "# === C. Skip if already saved\n",
        "if os.path.exists(model_save_path):\n",
        "    print(f\"⏩ Model already saved at: {model_save_path}\")\n",
        "else:\n",
        "    print(\"⚙️ Training best SGDClassifier config: log_loss + alpha=0.001 + elasticnet\")\n",
        "\n",
        "    # === D. Rebuild the best config model\n",
        "    clf = SGDClassifier(\n",
        "        loss='log_loss',\n",
        "        alpha=0.001,\n",
        "        penalty='elasticnet',\n",
        "        class_weight=None,\n",
        "        max_iter=1,\n",
        "        warm_start=True\n",
        "    )\n",
        "\n",
        "    # === E. Fit batch-wise using partial_fit\n",
        "    part_files = sorted([f for f in os.listdir(X_train_dir) if f.startswith('X_train_reduced_part_')])\n",
        "\n",
        "    for part_file in part_files:\n",
        "        part_id = part_file.split('_')[-1].replace('.npy', '')\n",
        "        x_path = os.path.join(X_train_dir, part_file)\n",
        "        y_path = os.path.join(y_train_dir, f'y_train_part_{part_id}.npy')\n",
        "\n",
        "        X = np.load(x_path)\n",
        "        y = np.load(y_path)\n",
        "\n",
        "        clf.partial_fit(X, y, classes=np.arange(len(class_names)))\n",
        "\n",
        "        del X, y\n",
        "        gc.collect()\n",
        "\n",
        "    # === F. Save the trained model\n",
        "    os.makedirs('models', exist_ok=True)\n",
        "    joblib.dump(clf, model_save_path)\n",
        "    print(f\"✅ Saved best SGDClassifier to: {model_save_path}\")\n",
        "\n",
        "    del clf\n",
        "    gc.collect()"
      ],
      "metadata": {
        "colab": {
          "base_uri": "https://localhost:8080/"
        },
        "id": "AGYnAe5Kc-Cx",
        "outputId": "ca72d040-a64f-4e10-fae7-59521074767a"
      },
      "execution_count": null,
      "outputs": [
        {
          "output_type": "stream",
          "name": "stdout",
          "text": [
            "⚙️ Training best SGDClassifier config: log_loss + alpha=0.001 + elasticnet\n",
            "✅ Saved best SGDClassifier to: models/sgd_best_model.pkl\n"
          ]
        }
      ]
    },
    {
      "cell_type": "markdown",
      "source": [
        "### 21.4 Test set evaluation on best fitted patrameter retrained sgd classifier model"
      ],
      "metadata": {
        "id": "NuHkgbXyf63d"
      }
    },
    {
      "cell_type": "code",
      "source": [
        "# Step 21.4 – Evaluate best SGDClassifier on test set (memory-safe with skip logic)\n",
        "\n",
        "import os\n",
        "import numpy as np\n",
        "import gc\n",
        "import joblib\n",
        "import pickle\n",
        "import warnings\n",
        "from sklearn.metrics import accuracy_score, classification_report, confusion_matrix\n",
        "import matplotlib.pyplot as plt\n",
        "import seaborn as sns\n",
        "\n",
        "warnings.filterwarnings('ignore')\n",
        "\n",
        "# === A. Paths ===\n",
        "X_test_dir = 'test_parts_reduced'\n",
        "y_test_dir = 'test_parts'\n",
        "model_path = 'models/sgd_best_model.pkl'\n",
        "results_dir = 'results'\n",
        "os.makedirs(results_dir, exist_ok=True)\n",
        "\n",
        "# === B. Output paths (with skip logic)\n",
        "pred_path = os.path.join(results_dir, 'sgd_test_preds.npy')\n",
        "label_path = os.path.join(results_dir, 'sgd_test_labels.npy')\n",
        "\n",
        "if os.path.exists(pred_path) and os.path.exists(label_path):\n",
        "    print(f\"⏩ Skipping evaluation — predictions already saved at: {results_dir}\")\n",
        "else:\n",
        "    # === C. Load class names\n",
        "    with open('train_label_classes.pkl', 'rb') as f:\n",
        "        class_names = pickle.load(f)\n",
        "\n",
        "    # === D. Load trained model\n",
        "    if not os.path.exists(model_path):\n",
        "        raise FileNotFoundError(f\"❌ Model not found at: {model_path}\")\n",
        "    else:\n",
        "        clf = joblib.load(model_path)\n",
        "        print(\"✅ Loaded best SGDClassifier model\")\n",
        "\n",
        "    # === E. Predict in batches\n",
        "    y_true = []\n",
        "    y_pred = []\n",
        "\n",
        "    print(f\"⚙️ Evaluating on {len(os.listdir(X_test_dir)) // 2} test parts...\")\n",
        "\n",
        "    for part_file in sorted(os.listdir(X_test_dir)):\n",
        "        if not part_file.startswith('X_test_reduced_part_'):\n",
        "            continue\n",
        "\n",
        "        part_id = part_file.split('_')[-1].replace('.npy', '')\n",
        "        x_path = os.path.join(X_test_dir, part_file)\n",
        "        y_path = os.path.join(y_test_dir, f'y_test_part_{part_id}.npy')\n",
        "\n",
        "        X = np.load(x_path)\n",
        "        y = np.load(y_path)\n",
        "\n",
        "        preds = clf.predict(X)\n",
        "\n",
        "        y_true.extend(y)\n",
        "        y_pred.extend(preds)\n",
        "\n",
        "        del X, y, preds\n",
        "        gc.collect()\n",
        "\n",
        "    # === F. Save predictions\n",
        "    np.save(pred_path, y_pred)\n",
        "    np.save(label_path, y_true)\n",
        "    print(f\"✅ Saved predictions and labels to: {pred_path}, {label_path}\")\n",
        "\n",
        "    # === G. Accuracy and report\n",
        "    acc = accuracy_score(y_true, y_pred)\n",
        "    report = classification_report(y_true, y_pred, target_names=class_names, digits=4)\n",
        "\n",
        "    print(f\"\\n✅ Test Accuracy: {acc:.4f}\")\n",
        "    print(\"\\n Test Classification Report:\\n\")\n",
        "    print(report)\n",
        "\n",
        "    # === H. Confusion Matrix\n",
        "    cm = confusion_matrix(y_true, y_pred)\n",
        "    plt.figure(figsize=(10, 8))\n",
        "    sns.heatmap(cm, annot=False, fmt='d', cmap='Blues')\n",
        "    plt.title(\"SGD Classifier – Confusion Matrix (Test Set)\")\n",
        "    plt.xlabel(\"Predicted\")\n",
        "    plt.ylabel(\"True\")\n",
        "    plt.tight_layout()\n",
        "    plt.show()"
      ],
      "metadata": {
        "colab": {
          "base_uri": "https://localhost:8080/",
          "height": 1000
        },
        "id": "sbtzFhT1gB1I",
        "outputId": "556028aa-d13e-4a1d-aee2-92cdcf4ba3b2"
      },
      "execution_count": null,
      "outputs": [
        {
          "output_type": "stream",
          "name": "stdout",
          "text": [
            "✅ Loaded best SGDClassifier model\n",
            "⚙️ Evaluating on 14 test parts...\n",
            "✅ Saved predictions and labels to: results/sgd_test_preds.npy, results/sgd_test_labels.npy\n",
            "\n",
            "✅ Test Accuracy: 0.2275\n",
            "\n",
            " Test Classification Report:\n",
            "\n",
            "                    precision    recall  f1-score   support\n",
            "\n",
            "  baseball-diamond     0.0000    0.0000    0.0000       214\n",
            "  basketball-court     0.0000    0.0000    0.0000       132\n",
            "            bridge     0.0000    0.0000    0.0000       464\n",
            "ground-track-field     0.0000    0.0000    0.0000       144\n",
            "            harbor     0.0000    0.0000    0.0000      2090\n",
            "        helicopter     0.0000    0.0000    0.0000        73\n",
            "     large-vehicle     0.2019    0.1384    0.1642      4387\n",
            "             plane     0.9524    0.0079    0.0157      2531\n",
            "        roundabout     0.0000    0.0000    0.0000       179\n",
            "              ship     0.4710    0.2834    0.3538      8960\n",
            "     small-vehicle     0.2728    0.4393    0.3366      5438\n",
            " soccer-ball-field     0.0000    0.0000    0.0000       153\n",
            "      storage-tank     0.0280    0.0069    0.0111      2888\n",
            "     swimming-pool     0.2345    0.6091    0.3386       440\n",
            "      tennis-court     0.0746    0.9487    0.1382       760\n",
            "\n",
            "          accuracy                         0.2275     28853\n",
            "         macro avg     0.1490    0.1622    0.0906     28853\n",
            "      weighted avg     0.3203    0.2275    0.2096     28853\n",
            "\n"
          ]
        },
        {
          "output_type": "display_data",
          "data": {
            "text/plain": [
              "<Figure size 1000x800 with 2 Axes>"
            ],
            "image/png": "[encoded data removed]"
          },
          "metadata": {}
        }
      ]
    },
    {
      "cell_type": "markdown",
      "source": [
        "##CNN Modeling"
      ],
      "metadata": {
        "id": "EDcZ8dXIlbgI"
      }
    },
    {
      "cell_type": "markdown",
      "source": [
        "### Verification of x and y for all parts"
      ],
      "metadata": {
        "id": "Z_GjrZ4-vKvJ"
      }
    },
    {
      "cell_type": "code",
      "source": [
        "import os\n",
        "import numpy as np\n",
        "\n",
        "# === Configuration ===\n",
        "folders = {\n",
        "    \"train_parts\": \"train\",\n",
        "    \"val_parts\": \"val\",\n",
        "    \"test_parts\": \"test\"\n",
        "}\n",
        "\n",
        "# === Helper function to verify part files ===\n",
        "def verify_parts(part_dir, prefix):\n",
        "    print(f\"\\n Verifying '{part_dir}/' ...\")\n",
        "    x_files = sorted([f for f in os.listdir(part_dir) if f.startswith(f'X_{prefix}')])\n",
        "    y_files = sorted([f for f in os.listdir(part_dir) if f.startswith(f'y_{prefix}')])\n",
        "\n",
        "    assert len(x_files) == len(y_files), f\"❌ Mismatch in X and y files in '{part_dir}'\"\n",
        "\n",
        "    total_samples = 0\n",
        "    for x_file, y_file in zip(x_files, y_files):\n",
        "        x_path = os.path.join(part_dir, x_file)\n",
        "        y_path = os.path.join(part_dir, y_file)\n",
        "\n",
        "        X = np.load(x_path, mmap_mode='r')\n",
        "        y = np.load(y_path, mmap_mode='r')\n",
        "\n",
        "        assert X.shape[1:] == (128, 128, 3), f\"❌ Shape mismatch in {x_file}: {X.shape}\"\n",
        "        assert X.shape[0] == y.shape[0], f\"❌ Length mismatch between {x_file} and {y_file}\"\n",
        "        assert y.dtype == np.int64, f\"❌ Unexpected dtype in {y_file}: {y.dtype}\"\n",
        "\n",
        "        total_samples += len(X)\n",
        "\n",
        "    print(f\"✅ {prefix.upper()} verified: {len(x_files)} parts, {total_samples} total samples\")\n",
        "\n",
        "# === Run all three checks ===\n",
        "for folder, prefix in folders.items():\n",
        "    verify_parts(folder, prefix)"
      ],
      "metadata": {
        "colab": {
          "base_uri": "https://localhost:8080/"
        },
        "id": "Q-kJvX35lhm-",
        "outputId": "5fe0cec5-148a-417e-af56-623aedf867a7"
      },
      "execution_count": null,
      "outputs": [
        {
          "output_type": "stream",
          "name": "stdout",
          "text": [
            "\n",
            " Verifying 'train_parts/' ...\n",
            "✅ TRAIN verified: 80 parts, 79124 total samples\n",
            "\n",
            " Verifying 'val_parts/' ...\n",
            "✅ VAL verified: 20 parts, 19782 total samples\n",
            "\n",
            " Verifying 'test_parts/' ...\n",
            "✅ TEST verified: 29 parts, 28853 total samples\n"
          ]
        }
      ]
    },
    {
      "cell_type": "markdown",
      "source": [
        "### 22.1 From Scratch, Batch wise CNN Training"
      ],
      "metadata": {
        "id": "Yb9-BKTUxlkp"
      }
    },
    {
      "cell_type": "code",
      "source": [
        "# Step 22.1 – Train CNN from scratch using batch-wise loading (RAM-safe, GPU-ready)\n",
        "\n",
        "import os\n",
        "import numpy as np\n",
        "import tensorflow as tf\n",
        "import gc\n",
        "\n",
        "from tensorflow.keras.models import Sequential\n",
        "from tensorflow.keras.layers import Conv2D, MaxPooling2D, Flatten, Dense, Dropout\n",
        "from tensorflow.keras.callbacks import ModelCheckpoint, EarlyStopping\n",
        "from tensorflow.keras.optimizers import Adam\n",
        "\n",
        "# === A. Paths and settings ===\n",
        "train_dir = 'train_parts'\n",
        "val_dir = 'val_parts'\n",
        "model_path = 'models/cnn_model.h5'\n",
        "num_classes = 15\n",
        "batch_size = 64\n",
        "epochs = 10  # You can increase this later if needed\n",
        "input_shape = (128, 128, 3)\n",
        "\n",
        "# === B. Skip if model already trained ===\n",
        "if os.path.exists(model_path):\n",
        "    print(f\"⏩ Skipping training — model already exists at {model_path}\")\n",
        "else:\n",
        "    # === C. Build CNN model ===\n",
        "    model = Sequential([\n",
        "        Conv2D(32, (3, 3), activation='relu', padding='same', input_shape=input_shape),\n",
        "        MaxPooling2D((2, 2)),\n",
        "\n",
        "        Conv2D(64, (3, 3), activation='relu', padding='same'),\n",
        "        MaxPooling2D((2, 2)),\n",
        "\n",
        "        Conv2D(128, (3, 3), activation='relu', padding='same'),\n",
        "        MaxPooling2D((2, 2)),\n",
        "\n",
        "        Flatten(),\n",
        "        Dropout(0.5),\n",
        "        Dense(256, activation='relu'),\n",
        "        Dense(num_classes, activation='softmax')\n",
        "    ])\n",
        "\n",
        "    model.compile(optimizer=Adam(learning_rate=1e-4),\n",
        "                  loss='sparse_categorical_crossentropy',\n",
        "                  metrics=['accuracy'])\n",
        "\n",
        "    print(\"✅ CNN model built and compiled.\")\n",
        "\n",
        "    # === D. Prepare callbacks ===\n",
        "    checkpoint_cb = ModelCheckpoint(model_path, save_best_only=True, monitor='val_accuracy', mode='max', verbose=1)\n",
        "    earlystop_cb = EarlyStopping(patience=3, restore_best_weights=True, monitor='val_accuracy', mode='max', verbose=1)\n",
        "\n",
        "    # === E. Get part file lists ===\n",
        "    train_parts = sorted([f for f in os.listdir(train_dir) if f.startswith('X_train_part')])\n",
        "    val_parts = sorted([f for f in os.listdir(val_dir) if f.startswith('X_val_part')])\n",
        "\n",
        "    print(f\"⚙️ Training on {len(train_parts)} parts | Validating on {len(val_parts)} parts\")\n",
        "\n",
        "    # === F. Training loop (batch-by-batch) ===\n",
        "    for epoch in range(epochs):\n",
        "        print(f\"\\n🔁 Epoch {epoch + 1}/{epochs}\")\n",
        "\n",
        "        # --- Shuffle train parts ---\n",
        "        np.random.shuffle(train_parts)\n",
        "\n",
        "        # --- Training loop ---\n",
        "        for part_file in train_parts:\n",
        "            part_id = part_file.split('_')[-1].replace('.npy', '')\n",
        "            X_path = os.path.join(train_dir, part_file)\n",
        "            y_path = os.path.join(train_dir, f'y_train_part_{part_id}.npy')\n",
        "\n",
        "            X = np.load(X_path)\n",
        "            y = np.load(y_path)\n",
        "\n",
        "            model.fit(X, y, batch_size=batch_size, epochs=1, verbose=1)\n",
        "\n",
        "            del X, y\n",
        "            gc.collect()\n",
        "\n",
        "        # --- Validation loop ---\n",
        "        val_accs = []\n",
        "        for part_file in val_parts:\n",
        "            part_id = part_file.split('_')[-1].replace('.npy', '')\n",
        "            X_val = np.load(os.path.join(val_dir, part_file))\n",
        "            y_val = np.load(os.path.join(val_dir, f'y_val_part_{part_id}.npy'))\n",
        "\n",
        "            val_loss, val_acc = model.evaluate(X_val, y_val, verbose=0)\n",
        "            val_accs.append(val_acc)\n",
        "\n",
        "            del X_val, y_val\n",
        "            gc.collect()\n",
        "\n",
        "        avg_val_acc = np.mean(val_accs)\n",
        "        print(f\" Epoch {epoch + 1} average val accuracy: {avg_val_acc:.4f}\")\n",
        "\n",
        "        # === Manually trigger checkpoint ===\n",
        "        if checkpoint_cb.monitor_op(avg_val_acc, checkpoint_cb.best):\n",
        "            print(\" Saving best model (manual check)...\")\n",
        "            model.save(model_path)\n",
        "            checkpoint_cb.best = avg_val_acc\n",
        "\n",
        "    print(f\"\\n✅ CNN training complete. Best model saved at: {model_path}\")"
      ],
      "metadata": {
        "colab": {
          "base_uri": "https://localhost:8080/"
        },
        "id": "8vZsZj4cxzh_",
        "outputId": "1793d3dc-a95a-49fb-c687-8b9fe53bfca5"
      },
      "execution_count": null,
      "outputs": [
        {
          "output_type": "stream",
          "name": "stderr",
          "text": [
            "/usr/local/lib/python3.11/dist-packages/keras/src/layers/convolutional/base_conv.py:107: UserWarning: Do not pass an `input_shape`/`input_dim` argument to a layer. When using Sequential models, prefer using an `Input(shape)` object as the first layer in the model instead.\n",
            "  super().__init__(activity_regularizer=activity_regularizer, **kwargs)\n"
          ]
        },
        {
          "output_type": "stream",
          "name": "stdout",
          "text": [
            "✅ CNN model built and compiled.\n",
            "⚙️ Training on 80 parts | Validating on 20 parts\n",
            "\n",
            "🔁 Epoch 1/10\n",
            "\u001b[1m16/16\u001b[0m \u001b[32m━━━━━━━━━━━━━━━━━━━━\u001b[0m\u001b[37m\u001b[0m \u001b[1m12s\u001b[0m 320ms/step - accuracy: 0.8321 - loss: 1.2728\n",
            "\u001b[1m16/16\u001b[0m \u001b[32m━━━━━━━━━━━━━━━━━━━━\u001b[0m\u001b[37m\u001b[0m \u001b[1m1s\u001b[0m 38ms/step - accuracy: 0.0520 - loss: 15.0051\n",
            "\u001b[1m16/16\u001b[0m \u001b[32m━━━━━━━━━━━━━━━━━━━━\u001b[0m\u001b[37m\u001b[0m \u001b[1m1s\u001b[0m 38ms/step - accuracy: 0.0000e+00 - loss: 3.5834\n",
            "\u001b[1m16/16\u001b[0m \u001b[32m━━━━━━━━━━━━━━━━━━━━\u001b[0m\u001b[37m\u001b[0m \u001b[1m1s\u001b[0m 39ms/step - accuracy: 0.0000e+00 - loss: 3.6317\n",
            "\u001b[1m16/16\u001b[0m \u001b[32m━━━━━━━━━━━━━━━━━━━━\u001b[0m\u001b[37m\u001b[0m \u001b[1m1s\u001b[0m 38ms/step - accuracy: 0.0000e+00 - loss: 2.5138\n",
            "\u001b[1m16/16\u001b[0m \u001b[32m━━━━━━━━━━━━━━━━━━━━\u001b[0m\u001b[37m\u001b[0m \u001b[1m1s\u001b[0m 37ms/step - accuracy: 1.0000 - loss: 2.0066\n",
            "\u001b[1m16/16\u001b[0m \u001b[32m━━━━━━━━━━━━━━━━━━━━\u001b[0m\u001b[37m\u001b[0m \u001b[1m1s\u001b[0m 40ms/step - accuracy: 0.0000e+00 - loss: 2.8943\n",
            "\u001b[1m16/16\u001b[0m \u001b[32m━━━━━━━━━━━━━━━━━━━━\u001b[0m\u001b[37m\u001b[0m \u001b[1m1s\u001b[0m 38ms/step - accuracy: 0.0000e+00 - loss: 2.2434\n",
            "\u001b[1m16/16\u001b[0m \u001b[32m━━━━━━━━━━━━━━━━━━━━\u001b[0m\u001b[37m\u001b[0m \u001b[1m1s\u001b[0m 38ms/step - accuracy: 1.0000 - loss: 1.0516\n",
            "\u001b[1m16/16\u001b[0m \u001b[32m━━━━━━━━━━━━━━━━━━━━\u001b[0m\u001b[37m\u001b[0m \u001b[1m1s\u001b[0m 37ms/step - accuracy: 0.6461 - loss: 1.0152\n",
            "\u001b[1m16/16\u001b[0m \u001b[32m━━━━━━━━━━━━━━━━━━━━\u001b[0m\u001b[37m\u001b[0m \u001b[1m1s\u001b[0m 39ms/step - accuracy: 1.0000 - loss: 0.0819\n",
            "\u001b[1m16/16\u001b[0m \u001b[32m━━━━━━━━━━━━━━━━━━━━\u001b[0m\u001b[37m\u001b[0m \u001b[1m1s\u001b[0m 39ms/step - accuracy: 1.0000 - loss: 0.0752\n",
            "\u001b[1m16/16\u001b[0m \u001b[32m━━━━━━━━━━━━━━━━━━━━\u001b[0m\u001b[37m\u001b[0m \u001b[1m1s\u001b[0m 38ms/step - accuracy: 0.0000e+00 - loss: 4.1211\n",
            "\u001b[1m16/16\u001b[0m \u001b[32m━━━━━━━━━━━━━━━━━━━━\u001b[0m\u001b[37m\u001b[0m \u001b[1m1s\u001b[0m 39ms/step - accuracy: 1.0000 - loss: 0.8717\n",
            "\u001b[1m16/16\u001b[0m \u001b[32m━━━━━━━━━━━━━━━━━━━━\u001b[0m\u001b[37m\u001b[0m \u001b[1m1s\u001b[0m 37ms/step - accuracy: 0.0000e+00 - loss: 2.6560\n",
            "\u001b[1m16/16\u001b[0m \u001b[32m━━━━━━━━━━━━━━━━━━━━\u001b[0m\u001b[37m\u001b[0m \u001b[1m1s\u001b[0m 39ms/step - accuracy: 0.0000e+00 - loss: 3.6604\n",
            "\u001b[1m16/16\u001b[0m \u001b[32m━━━━━━━━━━━━━━━━━━━━\u001b[0m\u001b[37m\u001b[0m \u001b[1m1s\u001b[0m 38ms/step - accuracy: 0.0000e+00 - loss: 2.8193\n",
            "\u001b[1m16/16\u001b[0m \u001b[32m━━━━━━━━━━━━━━━━━━━━\u001b[0m\u001b[37m\u001b[0m \u001b[1m1s\u001b[0m 36ms/step - accuracy: 0.0000e+00 - loss: 2.3235\n",
            "\u001b[1m16/16\u001b[0m \u001b[32m━━━━━━━━━━━━━━━━━━━━\u001b[0m\u001b[37m\u001b[0m \u001b[1m1s\u001b[0m 40ms/step - accuracy: 0.0000e+00 - loss: 3.2585\n",
            "\u001b[1m16/16\u001b[0m \u001b[32m━━━━━━━━━━━━━━━━━━━━\u001b[0m\u001b[37m\u001b[0m \u001b[1m1s\u001b[0m 38ms/step - accuracy: 0.0000e+00 - loss: 2.2806\n",
            "\u001b[1m16/16\u001b[0m \u001b[32m━━━━━━━━━━━━━━━━━━━━\u001b[0m\u001b[37m\u001b[0m \u001b[1m1s\u001b[0m 40ms/step - accuracy: 0.0000e+00 - loss: 2.6751\n",
            "\u001b[1m16/16\u001b[0m \u001b[32m━━━━━━━━━━━━━━━━━━━━\u001b[0m\u001b[37m\u001b[0m \u001b[1m1s\u001b[0m 42ms/step - accuracy: 1.0000 - loss: 1.5320\n",
            "\u001b[1m16/16\u001b[0m \u001b[32m━━━━━━━━━━━━━━━━━━━━\u001b[0m\u001b[37m\u001b[0m \u001b[1m1s\u001b[0m 37ms/step - accuracy: 0.0000e+00 - loss: 4.6303\n",
            "\u001b[1m2/2\u001b[0m \u001b[32m━━━━━━━━━━━━━━━━━━━━\u001b[0m\u001b[37m\u001b[0m \u001b[1m4s\u001b[0m 4s/step - accuracy: 0.0000e+00 - loss: 2.5356\n",
            "\u001b[1m16/16\u001b[0m \u001b[32m━━━━━━━━━━━━━━━━━━━━\u001b[0m\u001b[37m\u001b[0m \u001b[1m1s\u001b[0m 38ms/step - accuracy: 0.0000e+00 - loss: 2.0994\n",
            "\u001b[1m16/16\u001b[0m \u001b[32m━━━━━━━━━━━━━━━━━━━━\u001b[0m\u001b[37m\u001b[0m \u001b[1m1s\u001b[0m 37ms/step - accuracy: 1.0000 - loss: 1.5405\n",
            "\u001b[1m16/16\u001b[0m \u001b[32m━━━━━━━━━━━━━━━━━━━━\u001b[0m\u001b[37m\u001b[0m \u001b[1m1s\u001b[0m 38ms/step - accuracy: 0.0000e+00 - loss: 3.8335\n",
            "\u001b[1m16/16\u001b[0m \u001b[32m━━━━━━━━━━━━━━━━━━━━\u001b[0m\u001b[37m\u001b[0m \u001b[1m1s\u001b[0m 40ms/step - accuracy: 1.0000 - loss: 0.9958\n",
            "\u001b[1m16/16\u001b[0m \u001b[32m━━━━━━━━━━━━━━━━━━━━\u001b[0m\u001b[37m\u001b[0m \u001b[1m1s\u001b[0m 38ms/step - accuracy: 0.0000e+00 - loss: 3.3248\n",
            "\u001b[1m16/16\u001b[0m \u001b[32m━━━━━━━━━━━━━━━━━━━━\u001b[0m\u001b[37m\u001b[0m \u001b[1m1s\u001b[0m 36ms/step - accuracy: 0.0000e+00 - loss: 1.6393\n",
            "\u001b[1m16/16\u001b[0m \u001b[32m━━━━━━━━━━━━━━━━━━━━\u001b[0m\u001b[37m\u001b[0m \u001b[1m1s\u001b[0m 37ms/step - accuracy: 0.0000e+00 - loss: 3.5038\n",
            "\u001b[1m16/16\u001b[0m \u001b[32m━━━━━━━━━━━━━━━━━━━━\u001b[0m\u001b[37m\u001b[0m \u001b[1m1s\u001b[0m 38ms/step - accuracy: 0.0000e+00 - loss: 2.7221\n",
            "\u001b[1m16/16\u001b[0m \u001b[32m━━━━━━━━━━━━━━━━━━━━\u001b[0m\u001b[37m\u001b[0m \u001b[1m1s\u001b[0m 37ms/step - accuracy: 1.0000 - loss: 1.8715\n",
            "\u001b[1m16/16\u001b[0m \u001b[32m━━━━━━━━━━━━━━━━━━━━\u001b[0m\u001b[37m\u001b[0m \u001b[1m1s\u001b[0m 38ms/step - accuracy: 3.5294e-04 - loss: 1.9255\n",
            "\u001b[1m16/16\u001b[0m \u001b[32m━━━━━━━━━━━━━━━━━━━━\u001b[0m\u001b[37m\u001b[0m \u001b[1m1s\u001b[0m 37ms/step - accuracy: 0.0000e+00 - loss: 1.7679\n",
            "\u001b[1m16/16\u001b[0m \u001b[32m━━━━━━━━━━━━━━━━━━━━\u001b[0m\u001b[37m\u001b[0m \u001b[1m1s\u001b[0m 33ms/step - accuracy: 0.9680 - loss: 0.9047\n",
            "\u001b[1m16/16\u001b[0m \u001b[32m━━━━━━━━━━━━━━━━━━━━\u001b[0m\u001b[37m\u001b[0m \u001b[1m1s\u001b[0m 38ms/step - accuracy: 0.0000e+00 - loss: 4.4731\n",
            "\u001b[1m16/16\u001b[0m \u001b[32m━━━━━━━━━━━━━━━━━━━━\u001b[0m\u001b[37m\u001b[0m \u001b[1m1s\u001b[0m 39ms/step - accuracy: 1.0000 - loss: 1.0530\n",
            "\u001b[1m16/16\u001b[0m \u001b[32m━━━━━━━━━━━━━━━━━━━━\u001b[0m\u001b[37m\u001b[0m \u001b[1m1s\u001b[0m 39ms/step - accuracy: 0.0000e+00 - loss: 1.9397\n",
            "\u001b[1m16/16\u001b[0m \u001b[32m━━━━━━━━━━━━━━━━━━━━\u001b[0m\u001b[37m\u001b[0m \u001b[1m1s\u001b[0m 39ms/step - accuracy: 0.0127 - loss: 1.6052\n",
            "\u001b[1m16/16\u001b[0m \u001b[32m━━━━━━━━━━━━━━━━━━━━\u001b[0m\u001b[37m\u001b[0m \u001b[1m1s\u001b[0m 39ms/step - accuracy: 0.0000e+00 - loss: 3.0901\n",
            "\u001b[1m16/16\u001b[0m \u001b[32m━━━━━━━━━━━━━━━━━━━━\u001b[0m\u001b[37m\u001b[0m \u001b[1m1s\u001b[0m 39ms/step - accuracy: 0.9968 - loss: 0.9602\n",
            "\u001b[1m16/16\u001b[0m \u001b[32m━━━━━━━━━━━━━━━━━━━━\u001b[0m\u001b[37m\u001b[0m \u001b[1m1s\u001b[0m 36ms/step - accuracy: 0.0138 - loss: 1.9520\n",
            "\u001b[1m16/16\u001b[0m \u001b[32m━━━━━━━━━━━━━━━━━━━━\u001b[0m\u001b[37m\u001b[0m \u001b[1m1s\u001b[0m 40ms/step - accuracy: 0.0000e+00 - loss: 3.8675\n",
            "\u001b[1m16/16\u001b[0m \u001b[32m━━━━━━━━━━━━━━━━━━━━\u001b[0m\u001b[37m\u001b[0m \u001b[1m1s\u001b[0m 38ms/step - accuracy: 0.0000e+00 - loss: 2.0848\n",
            "\u001b[1m16/16\u001b[0m \u001b[32m━━━━━━━━━━━━━━━━━━━━\u001b[0m\u001b[37m\u001b[0m \u001b[1m1s\u001b[0m 37ms/step - accuracy: 0.0000e+00 - loss: 3.6690\n",
            "\u001b[1m16/16\u001b[0m \u001b[32m━━━━━━━━━━━━━━━━━━━━\u001b[0m\u001b[37m\u001b[0m \u001b[1m1s\u001b[0m 33ms/step - accuracy: 0.0057 - loss: 2.8352    \n",
            "\u001b[1m16/16\u001b[0m \u001b[32m━━━━━━━━━━━━━━━━━━━━\u001b[0m\u001b[37m\u001b[0m \u001b[1m1s\u001b[0m 40ms/step - accuracy: 0.0899 - loss: 2.5565\n",
            "\u001b[1m16/16\u001b[0m \u001b[32m━━━━━━━━━━━━━━━━━━━━\u001b[0m\u001b[37m\u001b[0m \u001b[1m1s\u001b[0m 37ms/step - accuracy: 0.0000e+00 - loss: 4.5413\n",
            "\u001b[1m16/16\u001b[0m \u001b[32m━━━━━━━━━━━━━━━━━━━━\u001b[0m\u001b[37m\u001b[0m \u001b[1m1s\u001b[0m 36ms/step - accuracy: 0.0354 - loss: 2.7565\n",
            "\u001b[1m16/16\u001b[0m \u001b[32m━━━━━━━━━━━━━━━━━━━━\u001b[0m\u001b[37m\u001b[0m \u001b[1m1s\u001b[0m 40ms/step - accuracy: 0.0225 - loss: 2.3659\n",
            "\u001b[1m16/16\u001b[0m \u001b[32m━━━━━━━━━━━━━━━━━━━━\u001b[0m\u001b[37m\u001b[0m \u001b[1m1s\u001b[0m 38ms/step - accuracy: 0.7741 - loss: 1.3631\n",
            "\u001b[1m16/16\u001b[0m \u001b[32m━━━━━━━━━━━━━━━━━━━━\u001b[0m\u001b[37m\u001b[0m \u001b[1m1s\u001b[0m 37ms/step - accuracy: 1.0000 - loss: 0.0983\n",
            "\u001b[1m16/16\u001b[0m \u001b[32m━━━━━━━━━━━━━━━━━━━━\u001b[0m\u001b[37m\u001b[0m \u001b[1m1s\u001b[0m 39ms/step - accuracy: 0.0011 - loss: 5.4372    \n",
            "\u001b[1m16/16\u001b[0m \u001b[32m━━━━━━━━━━━━━━━━━━━━\u001b[0m\u001b[37m\u001b[0m \u001b[1m1s\u001b[0m 38ms/step - accuracy: 0.3698 - loss: 1.2806\n",
            "\u001b[1m16/16\u001b[0m \u001b[32m━━━━━━━━━━━━━━━━━━━━\u001b[0m\u001b[37m\u001b[0m \u001b[1m1s\u001b[0m 38ms/step - accuracy: 0.0000e+00 - loss: 3.4180\n",
            "\u001b[1m16/16\u001b[0m \u001b[32m━━━━━━━━━━━━━━━━━━━━\u001b[0m\u001b[37m\u001b[0m \u001b[1m1s\u001b[0m 38ms/step - accuracy: 0.0000e+00 - loss: 3.3423\n",
            "\u001b[1m16/16\u001b[0m \u001b[32m━━━━━━━━━━━━━━━━━━━━\u001b[0m\u001b[37m\u001b[0m \u001b[1m1s\u001b[0m 38ms/step - accuracy: 0.1035 - loss: 2.3284\n",
            "\u001b[1m16/16\u001b[0m \u001b[32m━━━━━━━━━━━━━━━━━━━━\u001b[0m\u001b[37m\u001b[0m \u001b[1m1s\u001b[0m 38ms/step - accuracy: 0.0639 - loss: 2.2101\n",
            "\u001b[1m16/16\u001b[0m \u001b[32m━━━━━━━━━━━━━━━━━━━━\u001b[0m\u001b[37m\u001b[0m \u001b[1m1s\u001b[0m 37ms/step - accuracy: 0.0000e+00 - loss: 4.3562\n",
            "\u001b[1m16/16\u001b[0m \u001b[32m━━━━━━━━━━━━━━━━━━━━\u001b[0m\u001b[37m\u001b[0m \u001b[1m1s\u001b[0m 38ms/step - accuracy: 0.6439 - loss: 2.0623\n",
            "\u001b[1m16/16\u001b[0m \u001b[32m━━━━━━━━━━━━━━━━━━━━\u001b[0m\u001b[37m\u001b[0m \u001b[1m1s\u001b[0m 38ms/step - accuracy: 0.0545 - loss: 1.7789\n",
            "\u001b[1m16/16\u001b[0m \u001b[32m━━━━━━━━━━━━━━━━━━━━\u001b[0m\u001b[37m\u001b[0m \u001b[1m1s\u001b[0m 36ms/step - accuracy: 0.9724 - loss: 1.0743\n",
            "\u001b[1m16/16\u001b[0m \u001b[32m━━━━━━━━━━━━━━━━━━━━\u001b[0m\u001b[37m\u001b[0m \u001b[1m1s\u001b[0m 37ms/step - accuracy: 0.3590 - loss: 1.9492\n",
            "\u001b[1m16/16\u001b[0m \u001b[32m━━━━━━━━━━━━━━━━━━━━\u001b[0m\u001b[37m\u001b[0m \u001b[1m1s\u001b[0m 33ms/step - accuracy: 0.0000e+00 - loss: 3.3073\n",
            "\u001b[1m16/16\u001b[0m \u001b[32m━━━━━━━━━━━━━━━━━━━━\u001b[0m\u001b[37m\u001b[0m \u001b[1m1s\u001b[0m 38ms/step - accuracy: 0.8590 - loss: 0.8977\n",
            "\u001b[1m16/16\u001b[0m \u001b[32m━━━━━━━━━━━━━━━━━━━━\u001b[0m\u001b[37m\u001b[0m \u001b[1m1s\u001b[0m 37ms/step - accuracy: 0.0042 - loss: 1.6084\n",
            "\u001b[1m16/16\u001b[0m \u001b[32m━━━━━━━━━━━━━━━━━━━━\u001b[0m\u001b[37m\u001b[0m \u001b[1m1s\u001b[0m 37ms/step - accuracy: 0.6376 - loss: 0.6937\n",
            "\u001b[1m16/16\u001b[0m \u001b[32m━━━━━━━━━━━━━━━━━━━━\u001b[0m\u001b[37m\u001b[0m \u001b[1m1s\u001b[0m 37ms/step - accuracy: 0.0000e+00 - loss: 2.7385\n",
            "\u001b[1m16/16\u001b[0m \u001b[32m━━━━━━━━━━━━━━━━━━━━\u001b[0m\u001b[37m\u001b[0m \u001b[1m1s\u001b[0m 38ms/step - accuracy: 0.0000e+00 - loss: 1.3519\n",
            "\u001b[1m16/16\u001b[0m \u001b[32m━━━━━━━━━━━━━━━━━━━━\u001b[0m\u001b[37m\u001b[0m \u001b[1m1s\u001b[0m 37ms/step - accuracy: 0.9550 - loss: 1.0080\n",
            "\u001b[1m16/16\u001b[0m \u001b[32m━━━━━━━━━━━━━━━━━━━━\u001b[0m\u001b[37m\u001b[0m \u001b[1m1s\u001b[0m 39ms/step - accuracy: 0.0039 - loss: 1.3607    \n",
            "\u001b[1m16/16\u001b[0m \u001b[32m━━━━━━━━━━━━━━━━━━━━\u001b[0m\u001b[37m\u001b[0m \u001b[1m1s\u001b[0m 39ms/step - accuracy: 3.5294e-04 - loss: 1.3534\n",
            "\u001b[1m16/16\u001b[0m \u001b[32m━━━━━━━━━━━━━━━━━━━━\u001b[0m\u001b[37m\u001b[0m \u001b[1m1s\u001b[0m 38ms/step - accuracy: 0.9794 - loss: 0.8685\n",
            "\u001b[1m16/16\u001b[0m \u001b[32m━━━━━━━━━━━━━━━━━━━━\u001b[0m\u001b[37m\u001b[0m \u001b[1m1s\u001b[0m 37ms/step - accuracy: 1.0000 - loss: 0.5462\n",
            "\u001b[1m16/16\u001b[0m \u001b[32m━━━━━━━━━━━━━━━━━━━━\u001b[0m\u001b[37m\u001b[0m \u001b[1m1s\u001b[0m 37ms/step - accuracy: 0.0000e+00 - loss: 7.4246\n",
            "\u001b[1m16/16\u001b[0m \u001b[32m━━━━━━━━━━━━━━━━━━━━\u001b[0m\u001b[37m\u001b[0m \u001b[1m1s\u001b[0m 37ms/step - accuracy: 0.1265 - loss: 2.2944\n",
            "\u001b[1m16/16\u001b[0m \u001b[32m━━━━━━━━━━━━━━━━━━━━\u001b[0m\u001b[37m\u001b[0m \u001b[1m1s\u001b[0m 34ms/step - accuracy: 0.2163 - loss: 2.0388\n",
            "\u001b[1m16/16\u001b[0m \u001b[32m━━━━━━━━━━━━━━━━━━━━\u001b[0m\u001b[37m\u001b[0m \u001b[1m1s\u001b[0m 44ms/step - accuracy: 0.0263 - loss: 1.4314\n",
            "\u001b[1m16/16\u001b[0m \u001b[32m━━━━━━━━━━━━━━━━━━━━\u001b[0m\u001b[37m\u001b[0m \u001b[1m1s\u001b[0m 38ms/step - accuracy: 0.4122 - loss: 0.8665\n"
          ]
        },
        {
          "output_type": "stream",
          "name": "stderr",
          "text": [
            "WARNING:absl:You are saving your model as an HDF5 file via `model.save()` or `keras.saving.save_model(model)`. This file format is considered legacy. We recommend using instead the native Keras format, e.g. `model.save('my_model.keras')` or `keras.saving.save_model(model, 'my_model.keras')`. \n"
          ]
        },
        {
          "output_type": "stream",
          "name": "stdout",
          "text": [
            " Epoch 1 average val accuracy: 0.2612\n",
            " Saving best model (manual check)...\n",
            "\n",
            "🔁 Epoch 2/10\n",
            "\u001b[1m16/16\u001b[0m \u001b[32m━━━━━━━━━━━━━━━━━━━━\u001b[0m\u001b[37m\u001b[0m \u001b[1m1s\u001b[0m 38ms/step - accuracy: 0.0030 - loss: 4.3417    \n",
            "\u001b[1m16/16\u001b[0m \u001b[32m━━━━━━━━━━━━━━━━━━━━\u001b[0m\u001b[37m\u001b[0m \u001b[1m1s\u001b[0m 39ms/step - accuracy: 0.1396 - loss: 2.1244\n",
            "\u001b[1m16/16\u001b[0m \u001b[32m━━━━━━━━━━━━━━━━━━━━\u001b[0m\u001b[37m\u001b[0m \u001b[1m1s\u001b[0m 38ms/step - accuracy: 0.0072 - loss: 1.8231\n",
            "\u001b[1m16/16\u001b[0m \u001b[32m━━━━━━━━━━━━━━━━━━━━\u001b[0m\u001b[37m\u001b[0m \u001b[1m1s\u001b[0m 33ms/step - accuracy: 0.7885 - loss: 0.9161\n",
            "\u001b[1m16/16\u001b[0m \u001b[32m━━━━━━━━━━━━━━━━━━━━\u001b[0m\u001b[37m\u001b[0m \u001b[1m1s\u001b[0m 37ms/step - accuracy: 0.0288 - loss: 2.2954\n",
            "\u001b[1m16/16\u001b[0m \u001b[32m━━━━━━━━━━━━━━━━━━━━\u001b[0m\u001b[37m\u001b[0m \u001b[1m1s\u001b[0m 33ms/step - accuracy: 0.7038 - loss: 0.9088\n",
            "\u001b[1m16/16\u001b[0m \u001b[32m━━━━━━━━━━━━━━━━━━━━\u001b[0m\u001b[37m\u001b[0m \u001b[1m1s\u001b[0m 33ms/step - accuracy: 0.0000e+00 - loss: 5.6376\n",
            "\u001b[1m16/16\u001b[0m \u001b[32m━━━━━━━━━━━━━━━━━━━━\u001b[0m\u001b[37m\u001b[0m \u001b[1m1s\u001b[0m 34ms/step - accuracy: 0.9909 - loss: 1.1119\n",
            "\u001b[1m16/16\u001b[0m \u001b[32m━━━━━━━━━━━━━━━━━━━━\u001b[0m\u001b[37m\u001b[0m \u001b[1m1s\u001b[0m 38ms/step - accuracy: 0.0440 - loss: 1.4551\n",
            "\u001b[1m16/16\u001b[0m \u001b[32m━━━━━━━━━━━━━━━━━━━━\u001b[0m\u001b[37m\u001b[0m \u001b[1m1s\u001b[0m 33ms/step - accuracy: 0.3900 - loss: 0.9505\n",
            "\u001b[1m16/16\u001b[0m \u001b[32m━━━━━━━━━━━━━━━━━━━━\u001b[0m\u001b[37m\u001b[0m \u001b[1m1s\u001b[0m 34ms/step - accuracy: 0.1111 - loss: 1.4809\n",
            "\u001b[1m16/16\u001b[0m \u001b[32m━━━━━━━━━━━━━━━━━━━━\u001b[0m\u001b[37m\u001b[0m \u001b[1m1s\u001b[0m 33ms/step - accuracy: 0.0000e+00 - loss: 6.0015\n",
            "\u001b[1m16/16\u001b[0m \u001b[32m━━━━━━━━━━━━━━━━━━━━\u001b[0m\u001b[37m\u001b[0m \u001b[1m1s\u001b[0m 33ms/step - accuracy: 1.0000 - loss: 0.9915\n",
            "\u001b[1m16/16\u001b[0m \u001b[32m━━━━━━━━━━━━━━━━━━━━\u001b[0m\u001b[37m\u001b[0m \u001b[1m1s\u001b[0m 34ms/step - accuracy: 0.0349 - loss: 2.3803\n",
            "\u001b[1m16/16\u001b[0m \u001b[32m━━━━━━━━━━━━━━━━━━━━\u001b[0m\u001b[37m\u001b[0m \u001b[1m1s\u001b[0m 36ms/step - accuracy: 0.5752 - loss: 1.6025\n",
            "\u001b[1m16/16\u001b[0m \u001b[32m━━━━━━━━━━━━━━━━━━━━\u001b[0m\u001b[37m\u001b[0m \u001b[1m1s\u001b[0m 33ms/step - accuracy: 0.2430 - loss: 1.5550\n",
            "\u001b[1m16/16\u001b[0m \u001b[32m━━━━━━━━━━━━━━━━━━━━\u001b[0m\u001b[37m\u001b[0m \u001b[1m1s\u001b[0m 33ms/step - accuracy: 0.0217 - loss: 2.3067\n",
            "\u001b[1m16/16\u001b[0m \u001b[32m━━━━━━━━━━━━━━━━━━━━\u001b[0m\u001b[37m\u001b[0m \u001b[1m1s\u001b[0m 33ms/step - accuracy: 0.6507 - loss: 1.0498\n",
            "\u001b[1m16/16\u001b[0m \u001b[32m━━━━━━━━━━━━━━━━━━━━\u001b[0m\u001b[37m\u001b[0m \u001b[1m1s\u001b[0m 33ms/step - accuracy: 0.3112 - loss: 0.9304\n",
            "\u001b[1m16/16\u001b[0m \u001b[32m━━━━━━━━━━━━━━━━━━━━\u001b[0m\u001b[37m\u001b[0m \u001b[1m1s\u001b[0m 39ms/step - accuracy: 0.0000e+00 - loss: 8.3148\n",
            "\u001b[1m16/16\u001b[0m \u001b[32m━━━━━━━━━━━━━━━━━━━━\u001b[0m\u001b[37m\u001b[0m \u001b[1m1s\u001b[0m 36ms/step - accuracy: 0.9851 - loss: 1.2675\n",
            "\u001b[1m16/16\u001b[0m \u001b[32m━━━━━━━━━━━━━━━━━━━━\u001b[0m\u001b[37m\u001b[0m \u001b[1m1s\u001b[0m 34ms/step - accuracy: 0.2896 - loss: 1.6517\n",
            "\u001b[1m16/16\u001b[0m \u001b[32m━━━━━━━━━━━━━━━━━━━━\u001b[0m\u001b[37m\u001b[0m \u001b[1m1s\u001b[0m 33ms/step - accuracy: 1.0000 - loss: 0.5930\n",
            "\u001b[1m2/2\u001b[0m \u001b[32m━━━━━━━━━━━━━━━━━━━━\u001b[0m\u001b[37m\u001b[0m \u001b[1m0s\u001b[0m 47ms/step - accuracy: 0.0000e+00 - loss: 3.4413\n",
            "\u001b[1m16/16\u001b[0m \u001b[32m━━━━━━━━━━━━━━━━━━━━\u001b[0m\u001b[37m\u001b[0m \u001b[1m1s\u001b[0m 36ms/step - accuracy: 0.0000e+00 - loss: 1.9497\n",
            "\u001b[1m16/16\u001b[0m \u001b[32m━━━━━━━━━━━━━━━━━━━━\u001b[0m\u001b[37m\u001b[0m \u001b[1m1s\u001b[0m 35ms/step - accuracy: 0.0000e+00 - loss: 2.7113\n",
            "\u001b[1m16/16\u001b[0m \u001b[32m━━━━━━━━━━━━━━━━━━━━\u001b[0m\u001b[37m\u001b[0m \u001b[1m1s\u001b[0m 37ms/step - accuracy: 0.0420 - loss: 1.7363\n",
            "\u001b[1m16/16\u001b[0m \u001b[32m━━━━━━━━━━━━━━━━━━━━\u001b[0m\u001b[37m\u001b[0m \u001b[1m1s\u001b[0m 34ms/step - accuracy: 0.8017 - loss: 1.0051\n",
            "\u001b[1m16/16\u001b[0m \u001b[32m━━━━━━━━━━━━━━━━━━━━\u001b[0m\u001b[37m\u001b[0m \u001b[1m1s\u001b[0m 34ms/step - accuracy: 0.0023 - loss: 1.7317\n",
            "\u001b[1m16/16\u001b[0m \u001b[32m━━━━━━━━━━━━━━━━━━━━\u001b[0m\u001b[37m\u001b[0m \u001b[1m1s\u001b[0m 33ms/step - accuracy: 0.9325 - loss: 0.6440\n",
            "\u001b[1m16/16\u001b[0m \u001b[32m━━━━━━━━━━━━━━━━━━━━\u001b[0m\u001b[37m\u001b[0m \u001b[1m1s\u001b[0m 33ms/step - accuracy: 0.9887 - loss: 0.3420\n",
            "\u001b[1m16/16\u001b[0m \u001b[32m━━━━━━━━━━━━━━━━━━━━\u001b[0m\u001b[37m\u001b[0m \u001b[1m1s\u001b[0m 38ms/step - accuracy: 1.0000 - loss: 0.0408\n",
            "\u001b[1m16/16\u001b[0m \u001b[32m━━━━━━━━━━━━━━━━━━━━\u001b[0m\u001b[37m\u001b[0m \u001b[1m1s\u001b[0m 37ms/step - accuracy: 0.0792 - loss: 5.1567\n",
            "\u001b[1m16/16\u001b[0m \u001b[32m━━━━━━━━━━━━━━━━━━━━\u001b[0m\u001b[37m\u001b[0m \u001b[1m1s\u001b[0m 34ms/step - accuracy: 0.0547 - loss: 1.3786\n",
            "\u001b[1m16/16\u001b[0m \u001b[32m━━━━━━━━━━━━━━━━━━━━\u001b[0m\u001b[37m\u001b[0m \u001b[1m1s\u001b[0m 33ms/step - accuracy: 0.8143 - loss: 0.6750\n",
            "\u001b[1m16/16\u001b[0m \u001b[32m━━━━━━━━━━━━━━━━━━━━\u001b[0m\u001b[37m\u001b[0m \u001b[1m1s\u001b[0m 34ms/step - accuracy: 0.0927 - loss: 2.4332\n",
            "\u001b[1m16/16\u001b[0m \u001b[32m━━━━━━━━━━━━━━━━━━━━\u001b[0m\u001b[37m\u001b[0m \u001b[1m1s\u001b[0m 34ms/step - accuracy: 0.6326 - loss: 0.8938\n",
            "\u001b[1m16/16\u001b[0m \u001b[32m━━━━━━━━━━━━━━━━━━━━\u001b[0m\u001b[37m\u001b[0m \u001b[1m1s\u001b[0m 37ms/step - accuracy: 0.0000e+00 - loss: 4.9089\n",
            "\u001b[1m16/16\u001b[0m \u001b[32m━━━━━━━━━━━━━━━━━━━━\u001b[0m\u001b[37m\u001b[0m \u001b[1m1s\u001b[0m 34ms/step - accuracy: 0.0747 - loss: 2.0910\n",
            "\u001b[1m16/16\u001b[0m \u001b[32m━━━━━━━━━━━━━━━━━━━━\u001b[0m\u001b[37m\u001b[0m \u001b[1m1s\u001b[0m 34ms/step - accuracy: 0.0317 - loss: 1.5084\n",
            "\u001b[1m16/16\u001b[0m \u001b[32m━━━━━━━━━━━━━━━━━━━━\u001b[0m\u001b[37m\u001b[0m \u001b[1m1s\u001b[0m 33ms/step - accuracy: 0.0000e+00 - loss: 3.3329\n",
            "\u001b[1m16/16\u001b[0m \u001b[32m━━━━━━━━━━━━━━━━━━━━\u001b[0m\u001b[37m\u001b[0m \u001b[1m1s\u001b[0m 33ms/step - accuracy: 0.3421 - loss: 2.1011\n",
            "\u001b[1m16/16\u001b[0m \u001b[32m━━━━━━━━━━━━━━━━━━━━\u001b[0m\u001b[37m\u001b[0m \u001b[1m1s\u001b[0m 33ms/step - accuracy: 0.4681 - loss: 2.2552\n",
            "\u001b[1m16/16\u001b[0m \u001b[32m━━━━━━━━━━━━━━━━━━━━\u001b[0m\u001b[37m\u001b[0m \u001b[1m1s\u001b[0m 40ms/step - accuracy: 0.6978 - loss: 1.0231\n",
            "\u001b[1m16/16\u001b[0m \u001b[32m━━━━━━━━━━━━━━━━━━━━\u001b[0m\u001b[37m\u001b[0m \u001b[1m1s\u001b[0m 37ms/step - accuracy: 2.9657e-04 - loss: 1.7729\n",
            "\u001b[1m16/16\u001b[0m \u001b[32m━━━━━━━━━━━━━━━━━━━━\u001b[0m\u001b[37m\u001b[0m \u001b[1m1s\u001b[0m 33ms/step - accuracy: 0.0558 - loss: 2.0620\n",
            "\u001b[1m16/16\u001b[0m \u001b[32m━━━━━━━━━━━━━━━━━━━━\u001b[0m\u001b[37m\u001b[0m \u001b[1m1s\u001b[0m 33ms/step - accuracy: 0.0597 - loss: 4.0605\n",
            "\u001b[1m16/16\u001b[0m \u001b[32m━━━━━━━━━━━━━━━━━━━━\u001b[0m\u001b[37m\u001b[0m \u001b[1m1s\u001b[0m 33ms/step - accuracy: 0.4581 - loss: 1.6320\n",
            "\u001b[1m16/16\u001b[0m \u001b[32m━━━━━━━━━━━━━━━━━━━━\u001b[0m\u001b[37m\u001b[0m \u001b[1m1s\u001b[0m 36ms/step - accuracy: 0.0000e+00 - loss: 3.3525\n",
            "\u001b[1m16/16\u001b[0m \u001b[32m━━━━━━━━━━━━━━━━━━━━\u001b[0m\u001b[37m\u001b[0m \u001b[1m1s\u001b[0m 38ms/step - accuracy: 0.9725 - loss: 1.2085\n",
            "\u001b[1m16/16\u001b[0m \u001b[32m━━━━━━━━━━━━━━━━━━━━\u001b[0m\u001b[37m\u001b[0m \u001b[1m1s\u001b[0m 33ms/step - accuracy: 0.1026 - loss: 1.5161\n",
            "\u001b[1m16/16\u001b[0m \u001b[32m━━━━━━━━━━━━━━━━━━━━\u001b[0m\u001b[37m\u001b[0m \u001b[1m1s\u001b[0m 34ms/step - accuracy: 0.4943 - loss: 1.0717\n",
            "\u001b[1m16/16\u001b[0m \u001b[32m━━━━━━━━━━━━━━━━━━━━\u001b[0m\u001b[37m\u001b[0m \u001b[1m1s\u001b[0m 33ms/step - accuracy: 0.0648 - loss: 1.7948\n",
            "\u001b[1m16/16\u001b[0m \u001b[32m━━━━━━━━━━━━━━━━━━━━\u001b[0m\u001b[37m\u001b[0m \u001b[1m1s\u001b[0m 34ms/step - accuracy: 0.9955 - loss: 0.6736\n",
            "\u001b[1m16/16\u001b[0m \u001b[32m━━━━━━━━━━━━━━━━━━━━\u001b[0m\u001b[37m\u001b[0m \u001b[1m1s\u001b[0m 39ms/step - accuracy: 4.9420e-04 - loss: 1.5135\n",
            "\u001b[1m16/16\u001b[0m \u001b[32m━━━━━━━━━━━━━━━━━━━━\u001b[0m\u001b[37m\u001b[0m \u001b[1m1s\u001b[0m 38ms/step - accuracy: 0.0000e+00 - loss: 3.3096\n",
            "\u001b[1m16/16\u001b[0m \u001b[32m━━━━━━━━━━━━━━━━━━━━\u001b[0m\u001b[37m\u001b[0m \u001b[1m1s\u001b[0m 33ms/step - accuracy: 0.0241 - loss: 2.4031\n",
            "\u001b[1m16/16\u001b[0m \u001b[32m━━━━━━━━━━━━━━━━━━━━\u001b[0m\u001b[37m\u001b[0m \u001b[1m1s\u001b[0m 34ms/step - accuracy: 0.1123 - loss: 2.9365\n",
            "\u001b[1m16/16\u001b[0m \u001b[32m━━━━━━━━━━━━━━━━━━━━\u001b[0m\u001b[37m\u001b[0m \u001b[1m1s\u001b[0m 33ms/step - accuracy: 0.3858 - loss: 1.7003\n",
            "\u001b[1m16/16\u001b[0m \u001b[32m━━━━━━━━━━━━━━━━━━━━\u001b[0m\u001b[37m\u001b[0m \u001b[1m1s\u001b[0m 33ms/step - accuracy: 0.1482 - loss: 1.4910\n",
            "\u001b[1m16/16\u001b[0m \u001b[32m━━━━━━━━━━━━━━━━━━━━\u001b[0m\u001b[37m\u001b[0m \u001b[1m1s\u001b[0m 39ms/step - accuracy: 0.0578 - loss: 2.1731\n",
            "\u001b[1m16/16\u001b[0m \u001b[32m━━━━━━━━━━━━━━━━━━━━\u001b[0m\u001b[37m\u001b[0m \u001b[1m1s\u001b[0m 38ms/step - accuracy: 0.9796 - loss: 0.8080\n",
            "\u001b[1m16/16\u001b[0m \u001b[32m━━━━━━━━━━━━━━━━━━━━\u001b[0m\u001b[37m\u001b[0m \u001b[1m1s\u001b[0m 33ms/step - accuracy: 0.6704 - loss: 0.6060\n",
            "\u001b[1m16/16\u001b[0m \u001b[32m━━━━━━━━━━━━━━━━━━━━\u001b[0m\u001b[37m\u001b[0m \u001b[1m1s\u001b[0m 33ms/step - accuracy: 0.0934 - loss: 2.7820\n",
            "\u001b[1m16/16\u001b[0m \u001b[32m━━━━━━━━━━━━━━━━━━━━\u001b[0m\u001b[37m\u001b[0m \u001b[1m1s\u001b[0m 33ms/step - accuracy: 0.8482 - loss: 0.7626\n",
            "\u001b[1m16/16\u001b[0m \u001b[32m━━━━━━━━━━━━━━━━━━━━\u001b[0m\u001b[37m\u001b[0m \u001b[1m1s\u001b[0m 39ms/step - accuracy: 0.5773 - loss: 1.2004\n",
            "\u001b[1m16/16\u001b[0m \u001b[32m━━━━━━━━━━━━━━━━━━━━\u001b[0m\u001b[37m\u001b[0m \u001b[1m1s\u001b[0m 37ms/step - accuracy: 0.1777 - loss: 1.9232\n",
            "\u001b[1m16/16\u001b[0m \u001b[32m━━━━━━━━━━━━━━━━━━━━\u001b[0m\u001b[37m\u001b[0m \u001b[1m1s\u001b[0m 33ms/step - accuracy: 1.1765e-04 - loss: 2.0230\n",
            "\u001b[1m16/16\u001b[0m \u001b[32m━━━━━━━━━━━━━━━━━━━━\u001b[0m\u001b[37m\u001b[0m \u001b[1m1s\u001b[0m 33ms/step - accuracy: 0.1496 - loss: 1.9802\n",
            "\u001b[1m16/16\u001b[0m \u001b[32m━━━━━━━━━━━━━━━━━━━━\u001b[0m\u001b[37m\u001b[0m \u001b[1m1s\u001b[0m 33ms/step - accuracy: 0.0113 - loss: 3.3304\n",
            "\u001b[1m16/16\u001b[0m \u001b[32m━━━━━━━━━━━━━━━━━━━━\u001b[0m\u001b[37m\u001b[0m \u001b[1m1s\u001b[0m 33ms/step - accuracy: 0.7878 - loss: 1.0948\n",
            "\u001b[1m16/16\u001b[0m \u001b[32m━━━━━━━━━━━━━━━━━━━━\u001b[0m\u001b[37m\u001b[0m \u001b[1m1s\u001b[0m 39ms/step - accuracy: 0.2066 - loss: 1.2688\n",
            "\u001b[1m16/16\u001b[0m \u001b[32m━━━━━━━━━━━━━━━━━━━━\u001b[0m\u001b[37m\u001b[0m \u001b[1m1s\u001b[0m 36ms/step - accuracy: 0.1434 - loss: 1.4066\n",
            "\u001b[1m16/16\u001b[0m \u001b[32m━━━━━━━━━━━━━━━━━━━━\u001b[0m\u001b[37m\u001b[0m \u001b[1m1s\u001b[0m 33ms/step - accuracy: 0.6220 - loss: 1.7476\n",
            "\u001b[1m16/16\u001b[0m \u001b[32m━━━━━━━━━━━━━━━━━━━━\u001b[0m\u001b[37m\u001b[0m \u001b[1m1s\u001b[0m 33ms/step - accuracy: 0.5698 - loss: 1.1374\n",
            "\u001b[1m16/16\u001b[0m \u001b[32m━━━━━━━━━━━━━━━━━━━━\u001b[0m\u001b[37m\u001b[0m \u001b[1m1s\u001b[0m 32ms/step - accuracy: 0.4388 - loss: 1.1598\n",
            "\u001b[1m16/16\u001b[0m \u001b[32m━━━━━━━━━━━━━━━━━━━━\u001b[0m\u001b[37m\u001b[0m \u001b[1m1s\u001b[0m 34ms/step - accuracy: 0.8291 - loss: 0.7614\n",
            "\u001b[1m16/16\u001b[0m \u001b[32m━━━━━━━━━━━━━━━━━━━━\u001b[0m\u001b[37m\u001b[0m \u001b[1m1s\u001b[0m 40ms/step - accuracy: 0.0470 - loss: 3.2184\n",
            "\u001b[1m16/16\u001b[0m \u001b[32m━━━━━━━━━━━━━━━━━━━━\u001b[0m\u001b[37m\u001b[0m \u001b[1m1s\u001b[0m 38ms/step - accuracy: 0.8143 - loss: 0.8609\n",
            "\u001b[1m16/16\u001b[0m \u001b[32m━━━━━━━━━━━━━━━━━━━━\u001b[0m\u001b[37m\u001b[0m \u001b[1m1s\u001b[0m 38ms/step - accuracy: 0.9167 - loss: 0.5463\n"
          ]
        },
        {
          "output_type": "stream",
          "name": "stderr",
          "text": [
            "WARNING:absl:You are saving your model as an HDF5 file via `model.save()` or `keras.saving.save_model(model)`. This file format is considered legacy. We recommend using instead the native Keras format, e.g. `model.save('my_model.keras')` or `keras.saving.save_model(model, 'my_model.keras')`. \n"
          ]
        },
        {
          "output_type": "stream",
          "name": "stdout",
          "text": [
            " Epoch 2 average val accuracy: 0.3469\n",
            " Saving best model (manual check)...\n",
            "\n",
            "🔁 Epoch 3/10\n",
            "\u001b[1m16/16\u001b[0m \u001b[32m━━━━━━━━━━━━━━━━━━━━\u001b[0m\u001b[37m\u001b[0m \u001b[1m1s\u001b[0m 38ms/step - accuracy: 0.1953 - loss: 1.5371\n",
            "\u001b[1m16/16\u001b[0m \u001b[32m━━━━━━━━━━━━━━━━━━━━\u001b[0m\u001b[37m\u001b[0m \u001b[1m1s\u001b[0m 38ms/step - accuracy: 0.8230 - loss: 0.5793\n",
            "\u001b[1m16/16\u001b[0m \u001b[32m━━━━━━━━━━━━━━━━━━━━\u001b[0m\u001b[37m\u001b[0m \u001b[1m1s\u001b[0m 37ms/step - accuracy: 0.3480 - loss: 1.6332\n",
            "\u001b[1m16/16\u001b[0m \u001b[32m━━━━━━━━━━━━━━━━━━━━\u001b[0m\u001b[37m\u001b[0m \u001b[1m1s\u001b[0m 34ms/step - accuracy: 0.0158 - loss: 2.8873\n",
            "\u001b[1m16/16\u001b[0m \u001b[32m━━━━━━━━━━━━━━━━━━━━\u001b[0m\u001b[37m\u001b[0m \u001b[1m1s\u001b[0m 41ms/step - accuracy: 0.7802 - loss: 0.8756\n",
            "\u001b[1m16/16\u001b[0m \u001b[32m━━━━━━━━━━━━━━━━━━━━\u001b[0m\u001b[37m\u001b[0m \u001b[1m1s\u001b[0m 38ms/step - accuracy: 0.0286 - loss: 2.3712\n",
            "\u001b[1m16/16\u001b[0m \u001b[32m━━━━━━━━━━━━━━━━━━━━\u001b[0m\u001b[37m\u001b[0m \u001b[1m1s\u001b[0m 38ms/step - accuracy: 0.9055 - loss: 0.6605\n",
            "\u001b[1m16/16\u001b[0m \u001b[32m━━━━━━━━━━━━━━━━━━━━\u001b[0m\u001b[37m\u001b[0m \u001b[1m1s\u001b[0m 37ms/step - accuracy: 0.6935 - loss: 0.8213\n",
            "\u001b[1m16/16\u001b[0m \u001b[32m━━━━━━━━━━━━━━━━━━━━\u001b[0m\u001b[37m\u001b[0m \u001b[1m1s\u001b[0m 34ms/step - accuracy: 0.1747 - loss: 1.4593\n",
            "\u001b[1m16/16\u001b[0m \u001b[32m━━━━━━━━━━━━━━━━━━━━\u001b[0m\u001b[37m\u001b[0m \u001b[1m1s\u001b[0m 34ms/step - accuracy: 0.7604 - loss: 0.8663\n",
            "\u001b[1m16/16\u001b[0m \u001b[32m━━━━━━━━━━━━━━━━━━━━\u001b[0m\u001b[37m\u001b[0m \u001b[1m1s\u001b[0m 34ms/step - accuracy: 0.5322 - loss: 0.9306\n",
            "\u001b[1m16/16\u001b[0m \u001b[32m━━━━━━━━━━━━━━━━━━━━\u001b[0m\u001b[37m\u001b[0m \u001b[1m1s\u001b[0m 41ms/step - accuracy: 0.0000e+00 - loss: 5.8650\n",
            "\u001b[1m16/16\u001b[0m \u001b[32m━━━━━━━━━━━━━━━━━━━━\u001b[0m\u001b[37m\u001b[0m \u001b[1m1s\u001b[0m 34ms/step - accuracy: 0.2029 - loss: 1.7039\n",
            "\u001b[1m16/16\u001b[0m \u001b[32m━━━━━━━━━━━━━━━━━━━━\u001b[0m\u001b[37m\u001b[0m \u001b[1m1s\u001b[0m 34ms/step - accuracy: 0.7911 - loss: 1.1492\n",
            "\u001b[1m16/16\u001b[0m \u001b[32m━━━━━━━━━━━━━━━━━━━━\u001b[0m\u001b[37m\u001b[0m \u001b[1m1s\u001b[0m 34ms/step - accuracy: 0.3793 - loss: 1.2700\n",
            "\u001b[1m16/16\u001b[0m \u001b[32m━━━━━━━━━━━━━━━━━━━━\u001b[0m\u001b[37m\u001b[0m \u001b[1m1s\u001b[0m 34ms/step - accuracy: 0.0000e+00 - loss: 3.5562\n",
            "\u001b[1m16/16\u001b[0m \u001b[32m━━━━━━━━━━━━━━━━━━━━\u001b[0m\u001b[37m\u001b[0m \u001b[1m1s\u001b[0m 34ms/step - accuracy: 0.8096 - loss: 0.8373\n",
            "\u001b[1m16/16\u001b[0m \u001b[32m━━━━━━━━━━━━━━━━━━━━\u001b[0m\u001b[37m\u001b[0m \u001b[1m1s\u001b[0m 39ms/step - accuracy: 0.2057 - loss: 1.7054\n",
            "\u001b[1m16/16\u001b[0m \u001b[32m━━━━━━━━━━━━━━━━━━━━\u001b[0m\u001b[37m\u001b[0m \u001b[1m1s\u001b[0m 34ms/step - accuracy: 0.5084 - loss: 1.4346\n",
            "\u001b[1m16/16\u001b[0m \u001b[32m━━━━━━━━━━━━━━━━━━━━\u001b[0m\u001b[37m\u001b[0m \u001b[1m1s\u001b[0m 34ms/step - accuracy: 0.8226 - loss: 0.7255\n",
            "\u001b[1m16/16\u001b[0m \u001b[32m━━━━━━━━━━━━━━━━━━━━\u001b[0m\u001b[37m\u001b[0m \u001b[1m1s\u001b[0m 34ms/step - accuracy: 0.4105 - loss: 0.9509\n",
            "\u001b[1m16/16\u001b[0m \u001b[32m━━━━━━━━━━━━━━━━━━━━\u001b[0m\u001b[37m\u001b[0m \u001b[1m1s\u001b[0m 34ms/step - accuracy: 0.9311 - loss: 0.4092\n",
            "\u001b[1m16/16\u001b[0m \u001b[32m━━━━━━━━━━━━━━━━━━━━\u001b[0m\u001b[37m\u001b[0m \u001b[1m1s\u001b[0m 35ms/step - accuracy: 0.4513 - loss: 1.8341\n",
            "\u001b[1m16/16\u001b[0m \u001b[32m━━━━━━━━━━━━━━━━━━━━\u001b[0m\u001b[37m\u001b[0m \u001b[1m1s\u001b[0m 39ms/step - accuracy: 0.1540 - loss: 3.7607\n",
            "\u001b[1m16/16\u001b[0m \u001b[32m━━━━━━━━━━━━━━━━━━━━\u001b[0m\u001b[37m\u001b[0m \u001b[1m1s\u001b[0m 37ms/step - accuracy: 0.9290 - loss: 0.7102\n",
            "\u001b[1m16/16\u001b[0m \u001b[32m━━━━━━━━━━━━━━━━━━━━\u001b[0m\u001b[37m\u001b[0m \u001b[1m1s\u001b[0m 34ms/step - accuracy: 0.9917 - loss: 0.3233\n",
            "\u001b[1m16/16\u001b[0m \u001b[32m━━━━━━━━━━━━━━━━━━━━\u001b[0m\u001b[37m\u001b[0m \u001b[1m1s\u001b[0m 34ms/step - accuracy: 0.0236 - loss: 1.8822\n",
            "\u001b[1m16/16\u001b[0m \u001b[32m━━━━━━━━━━━━━━━━━━━━\u001b[0m\u001b[37m\u001b[0m \u001b[1m1s\u001b[0m 33ms/step - accuracy: 0.8782 - loss: 0.8275\n",
            "\u001b[1m16/16\u001b[0m \u001b[32m━━━━━━━━━━━━━━━━━━━━\u001b[0m\u001b[37m\u001b[0m \u001b[1m1s\u001b[0m 39ms/step - accuracy: 0.1809 - loss: 2.2243\n",
            "\u001b[1m16/16\u001b[0m \u001b[32m━━━━━━━━━━━━━━━━━━━━\u001b[0m\u001b[37m\u001b[0m \u001b[1m1s\u001b[0m 33ms/step - accuracy: 0.8834 - loss: 0.5504\n",
            "\u001b[1m16/16\u001b[0m \u001b[32m━━━━━━━━━━━━━━━━━━━━\u001b[0m\u001b[37m\u001b[0m \u001b[1m1s\u001b[0m 33ms/step - accuracy: 0.4979 - loss: 1.1641\n",
            "\u001b[1m16/16\u001b[0m \u001b[32m━━━━━━━━━━━━━━━━━━━━\u001b[0m\u001b[37m\u001b[0m \u001b[1m1s\u001b[0m 34ms/step - accuracy: 0.3731 - loss: 2.4103\n",
            "\u001b[1m16/16\u001b[0m \u001b[32m━━━━━━━━━━━━━━━━━━━━\u001b[0m\u001b[37m\u001b[0m \u001b[1m1s\u001b[0m 34ms/step - accuracy: 0.1879 - loss: 1.6614\n",
            "\u001b[1m16/16\u001b[0m \u001b[32m━━━━━━━━━━━━━━━━━━━━\u001b[0m\u001b[37m\u001b[0m \u001b[1m1s\u001b[0m 36ms/step - accuracy: 0.1801 - loss: 2.0255\n",
            "\u001b[1m16/16\u001b[0m \u001b[32m━━━━━━━━━━━━━━━━━━━━\u001b[0m\u001b[37m\u001b[0m \u001b[1m1s\u001b[0m 39ms/step - accuracy: 0.1063 - loss: 1.9889\n",
            "\u001b[1m16/16\u001b[0m \u001b[32m━━━━━━━━━━━━━━━━━━━━\u001b[0m\u001b[37m\u001b[0m \u001b[1m1s\u001b[0m 38ms/step - accuracy: 0.3422 - loss: 1.0698\n",
            "\u001b[1m16/16\u001b[0m \u001b[32m━━━━━━━━━━━━━━━━━━━━\u001b[0m\u001b[37m\u001b[0m \u001b[1m1s\u001b[0m 34ms/step - accuracy: 0.9404 - loss: 0.6608\n",
            "\u001b[1m16/16\u001b[0m \u001b[32m━━━━━━━━━━━━━━━━━━━━\u001b[0m\u001b[37m\u001b[0m \u001b[1m1s\u001b[0m 34ms/step - accuracy: 0.3111 - loss: 1.6722\n",
            "\u001b[1m16/16\u001b[0m \u001b[32m━━━━━━━━━━━━━━━━━━━━\u001b[0m\u001b[37m\u001b[0m \u001b[1m1s\u001b[0m 33ms/step - accuracy: 0.5360 - loss: 1.1138\n",
            "\u001b[1m16/16\u001b[0m \u001b[32m━━━━━━━━━━━━━━━━━━━━\u001b[0m\u001b[37m\u001b[0m \u001b[1m1s\u001b[0m 39ms/step - accuracy: 0.8225 - loss: 0.5210\n",
            "\u001b[1m16/16\u001b[0m \u001b[32m━━━━━━━━━━━━━━━━━━━━\u001b[0m\u001b[37m\u001b[0m \u001b[1m1s\u001b[0m 36ms/step - accuracy: 0.2561 - loss: 1.8673\n",
            "\u001b[1m16/16\u001b[0m \u001b[32m━━━━━━━━━━━━━━━━━━━━\u001b[0m\u001b[37m\u001b[0m \u001b[1m1s\u001b[0m 34ms/step - accuracy: 0.5863 - loss: 0.8569\n",
            "\u001b[1m16/16\u001b[0m \u001b[32m━━━━━━━━━━━━━━━━━━━━\u001b[0m\u001b[37m\u001b[0m \u001b[1m1s\u001b[0m 33ms/step - accuracy: 0.1391 - loss: 3.6526\n",
            "\u001b[1m16/16\u001b[0m \u001b[32m━━━━━━━━━━━━━━━━━━━━\u001b[0m\u001b[37m\u001b[0m \u001b[1m1s\u001b[0m 33ms/step - accuracy: 0.1430 - loss: 1.9172\n",
            "\u001b[1m16/16\u001b[0m \u001b[32m━━━━━━━━━━━━━━━━━━━━\u001b[0m\u001b[37m\u001b[0m \u001b[1m1s\u001b[0m 34ms/step - accuracy: 0.5537 - loss: 1.1794\n",
            "\u001b[1m16/16\u001b[0m \u001b[32m━━━━━━━━━━━━━━━━━━━━\u001b[0m\u001b[37m\u001b[0m \u001b[1m1s\u001b[0m 38ms/step - accuracy: 0.9750 - loss: 0.2795\n",
            "\u001b[1m2/2\u001b[0m \u001b[32m━━━━━━━━━━━━━━━━━━━━\u001b[0m\u001b[37m\u001b[0m \u001b[1m0s\u001b[0m 65ms/step - accuracy: 0.0000e+00 - loss: 4.1441\n",
            "\u001b[1m16/16\u001b[0m \u001b[32m━━━━━━━━━━━━━━━━━━━━\u001b[0m\u001b[37m\u001b[0m \u001b[1m1s\u001b[0m 38ms/step - accuracy: 0.2902 - loss: 1.8884\n",
            "\u001b[1m16/16\u001b[0m \u001b[32m━━━━━━━━━━━━━━━━━━━━\u001b[0m\u001b[37m\u001b[0m \u001b[1m1s\u001b[0m 33ms/step - accuracy: 0.1580 - loss: 2.1678\n",
            "\u001b[1m16/16\u001b[0m \u001b[32m━━━━━━━━━━━━━━━━━━━━\u001b[0m\u001b[37m\u001b[0m \u001b[1m1s\u001b[0m 34ms/step - accuracy: 0.6026 - loss: 1.3202\n",
            "\u001b[1m16/16\u001b[0m \u001b[32m━━━━━━━━━━━━━━━━━━━━\u001b[0m\u001b[37m\u001b[0m \u001b[1m1s\u001b[0m 33ms/step - accuracy: 0.5626 - loss: 0.9634\n",
            "\u001b[1m16/16\u001b[0m \u001b[32m━━━━━━━━━━━━━━━━━━━━\u001b[0m\u001b[37m\u001b[0m \u001b[1m1s\u001b[0m 35ms/step - accuracy: 0.0000e+00 - loss: 3.7795\n",
            "\u001b[1m16/16\u001b[0m \u001b[32m━━━━━━━━━━━━━━━━━━━━\u001b[0m\u001b[37m\u001b[0m \u001b[1m1s\u001b[0m 40ms/step - accuracy: 0.1000 - loss: 2.1457\n",
            "\u001b[1m16/16\u001b[0m \u001b[32m━━━━━━━━━━━━━━━━━━━━\u001b[0m\u001b[37m\u001b[0m \u001b[1m1s\u001b[0m 39ms/step - accuracy: 0.5701 - loss: 1.7696\n",
            "\u001b[1m16/16\u001b[0m \u001b[32m━━━━━━━━━━━━━━━━━━━━\u001b[0m\u001b[37m\u001b[0m \u001b[1m1s\u001b[0m 38ms/step - accuracy: 0.7349 - loss: 1.0545\n",
            "\u001b[1m16/16\u001b[0m \u001b[32m━━━━━━━━━━━━━━━━━━━━\u001b[0m\u001b[37m\u001b[0m \u001b[1m1s\u001b[0m 37ms/step - accuracy: 0.0000e+00 - loss: 3.8339\n",
            "\u001b[1m16/16\u001b[0m \u001b[32m━━━━━━━━━━━━━━━━━━━━\u001b[0m\u001b[37m\u001b[0m \u001b[1m1s\u001b[0m 35ms/step - accuracy: 0.6515 - loss: 1.2567\n",
            "\u001b[1m16/16\u001b[0m \u001b[32m━━━━━━━━━━━━━━━━━━━━\u001b[0m\u001b[37m\u001b[0m \u001b[1m1s\u001b[0m 38ms/step - accuracy: 0.8707 - loss: 0.5688\n",
            "\u001b[1m16/16\u001b[0m \u001b[32m━━━━━━━━━━━━━━━━━━━━\u001b[0m\u001b[37m\u001b[0m \u001b[1m1s\u001b[0m 34ms/step - accuracy: 0.0394 - loss: 2.8264\n",
            "\u001b[1m16/16\u001b[0m \u001b[32m━━━━━━━━━━━━━━━━━━━━\u001b[0m\u001b[37m\u001b[0m \u001b[1m1s\u001b[0m 33ms/step - accuracy: 0.1818 - loss: 2.4341\n",
            "\u001b[1m16/16\u001b[0m \u001b[32m━━━━━━━━━━━━━━━━━━━━\u001b[0m\u001b[37m\u001b[0m \u001b[1m1s\u001b[0m 33ms/step - accuracy: 0.9518 - loss: 0.5200\n",
            "\u001b[1m16/16\u001b[0m \u001b[32m━━━━━━━━━━━━━━━━━━━━\u001b[0m\u001b[37m\u001b[0m \u001b[1m1s\u001b[0m 33ms/step - accuracy: 0.6140 - loss: 1.0321\n",
            "\u001b[1m16/16\u001b[0m \u001b[32m━━━━━━━━━━━━━━━━━━━━\u001b[0m\u001b[37m\u001b[0m \u001b[1m1s\u001b[0m 34ms/step - accuracy: 0.0067 - loss: 1.9708\n",
            "\u001b[1m16/16\u001b[0m \u001b[32m━━━━━━━━━━━━━━━━━━━━\u001b[0m\u001b[37m\u001b[0m \u001b[1m1s\u001b[0m 38ms/step - accuracy: 0.8850 - loss: 0.5228\n",
            "\u001b[1m16/16\u001b[0m \u001b[32m━━━━━━━━━━━━━━━━━━━━\u001b[0m\u001b[37m\u001b[0m \u001b[1m1s\u001b[0m 38ms/step - accuracy: 0.3392 - loss: 1.3230\n",
            "\u001b[1m16/16\u001b[0m \u001b[32m━━━━━━━━━━━━━━━━━━━━\u001b[0m\u001b[37m\u001b[0m \u001b[1m1s\u001b[0m 37ms/step - accuracy: 0.9751 - loss: 0.5081\n",
            "\u001b[1m16/16\u001b[0m \u001b[32m━━━━━━━━━━━━━━━━━━━━\u001b[0m\u001b[37m\u001b[0m \u001b[1m1s\u001b[0m 33ms/step - accuracy: 0.9748 - loss: 0.2714\n",
            "\u001b[1m16/16\u001b[0m \u001b[32m━━━━━━━━━━━━━━━━━━━━\u001b[0m\u001b[37m\u001b[0m \u001b[1m1s\u001b[0m 36ms/step - accuracy: 0.2455 - loss: 1.7239\n",
            "\u001b[1m16/16\u001b[0m \u001b[32m━━━━━━━━━━━━━━━━━━━━\u001b[0m\u001b[37m\u001b[0m \u001b[1m1s\u001b[0m 39ms/step - accuracy: 0.1493 - loss: 2.0889\n",
            "\u001b[1m16/16\u001b[0m \u001b[32m━━━━━━━━━━━━━━━━━━━━\u001b[0m\u001b[37m\u001b[0m \u001b[1m1s\u001b[0m 36ms/step - accuracy: 0.8702 - loss: 1.1049\n",
            "\u001b[1m16/16\u001b[0m \u001b[32m━━━━━━━━━━━━━━━━━━━━\u001b[0m\u001b[37m\u001b[0m \u001b[1m1s\u001b[0m 33ms/step - accuracy: 0.7478 - loss: 0.8796\n",
            "\u001b[1m16/16\u001b[0m \u001b[32m━━━━━━━━━━━━━━━━━━━━\u001b[0m\u001b[37m\u001b[0m \u001b[1m1s\u001b[0m 33ms/step - accuracy: 0.9089 - loss: 0.3800\n",
            "\u001b[1m16/16\u001b[0m \u001b[32m━━━━━━━━━━━━━━━━━━━━\u001b[0m\u001b[37m\u001b[0m \u001b[1m1s\u001b[0m 34ms/step - accuracy: 1.0000 - loss: 0.0179\n",
            "\u001b[1m16/16\u001b[0m \u001b[32m━━━━━━━━━━━━━━━━━━━━\u001b[0m\u001b[37m\u001b[0m \u001b[1m1s\u001b[0m 39ms/step - accuracy: 0.3410 - loss: 2.9815\n",
            "\u001b[1m16/16\u001b[0m \u001b[32m━━━━━━━━━━━━━━━━━━━━\u001b[0m\u001b[37m\u001b[0m \u001b[1m1s\u001b[0m 34ms/step - accuracy: 0.1786 - loss: 1.3530\n",
            "\u001b[1m16/16\u001b[0m \u001b[32m━━━━━━━━━━━━━━━━━━━━\u001b[0m\u001b[37m\u001b[0m \u001b[1m1s\u001b[0m 33ms/step - accuracy: 0.7146 - loss: 0.8987\n",
            "\u001b[1m16/16\u001b[0m \u001b[32m━━━━━━━━━━━━━━━━━━━━\u001b[0m\u001b[37m\u001b[0m \u001b[1m1s\u001b[0m 33ms/step - accuracy: 0.9291 - loss: 0.4104\n",
            "\u001b[1m16/16\u001b[0m \u001b[32m━━━━━━━━━━━━━━━━━━━━\u001b[0m\u001b[37m\u001b[0m \u001b[1m1s\u001b[0m 33ms/step - accuracy: 1.0000 - loss: 0.0639\n",
            "\u001b[1m16/16\u001b[0m \u001b[32m━━━━━━━━━━━━━━━━━━━━\u001b[0m\u001b[37m\u001b[0m \u001b[1m1s\u001b[0m 34ms/step - accuracy: 0.3311 - loss: 2.7106\n",
            "\u001b[1m16/16\u001b[0m \u001b[32m━━━━━━━━━━━━━━━━━━━━\u001b[0m\u001b[37m\u001b[0m \u001b[1m1s\u001b[0m 39ms/step - accuracy: 0.5455 - loss: 1.1282\n"
          ]
        },
        {
          "output_type": "stream",
          "name": "stderr",
          "text": [
            "WARNING:absl:You are saving your model as an HDF5 file via `model.save()` or `keras.saving.save_model(model)`. This file format is considered legacy. We recommend using instead the native Keras format, e.g. `model.save('my_model.keras')` or `keras.saving.save_model(model, 'my_model.keras')`. \n"
          ]
        },
        {
          "output_type": "stream",
          "name": "stdout",
          "text": [
            " Epoch 3 average val accuracy: 0.4829\n",
            " Saving best model (manual check)...\n",
            "\n",
            "🔁 Epoch 4/10\n",
            "\u001b[1m16/16\u001b[0m \u001b[32m━━━━━━━━━━━━━━━━━━━━\u001b[0m\u001b[37m\u001b[0m \u001b[1m1s\u001b[0m 38ms/step - accuracy: 0.9508 - loss: 0.2591\n",
            "\u001b[1m16/16\u001b[0m \u001b[32m━━━━━━━━━━━━━━━━━━━━\u001b[0m\u001b[37m\u001b[0m \u001b[1m1s\u001b[0m 38ms/step - accuracy: 0.0119 - loss: 2.2207\n",
            "\u001b[1m16/16\u001b[0m \u001b[32m━━━━━━━━━━━━━━━━━━━━\u001b[0m\u001b[37m\u001b[0m \u001b[1m1s\u001b[0m 34ms/step - accuracy: 0.7742 - loss: 0.8749\n",
            "\u001b[1m16/16\u001b[0m \u001b[32m━━━━━━━━━━━━━━━━━━━━\u001b[0m\u001b[37m\u001b[0m \u001b[1m1s\u001b[0m 34ms/step - accuracy: 0.7487 - loss: 0.8994\n",
            "\u001b[1m16/16\u001b[0m \u001b[32m━━━━━━━━━━━━━━━━━━━━\u001b[0m\u001b[37m\u001b[0m \u001b[1m1s\u001b[0m 44ms/step - accuracy: 0.6621 - loss: 0.6466\n",
            "\u001b[1m16/16\u001b[0m \u001b[32m━━━━━━━━━━━━━━━━━━━━\u001b[0m\u001b[37m\u001b[0m \u001b[1m1s\u001b[0m 38ms/step - accuracy: 0.9543 - loss: 0.3733\n",
            "\u001b[1m16/16\u001b[0m \u001b[32m━━━━━━━━━━━━━━━━━━━━\u001b[0m\u001b[37m\u001b[0m \u001b[1m1s\u001b[0m 37ms/step - accuracy: 0.8272 - loss: 0.7854\n",
            "\u001b[1m16/16\u001b[0m \u001b[32m━━━━━━━━━━━━━━━━━━━━\u001b[0m\u001b[37m\u001b[0m \u001b[1m1s\u001b[0m 33ms/step - accuracy: 0.5999 - loss: 0.8064\n",
            "\u001b[1m16/16\u001b[0m \u001b[32m━━━━━━━━━━━━━━━━━━━━\u001b[0m\u001b[37m\u001b[0m \u001b[1m1s\u001b[0m 33ms/step - accuracy: 0.8765 - loss: 0.3984\n",
            "\u001b[1m16/16\u001b[0m \u001b[32m━━━━━━━━━━━━━━━━━━━━\u001b[0m\u001b[37m\u001b[0m \u001b[1m1s\u001b[0m 40ms/step - accuracy: 0.9002 - loss: 0.2785\n",
            "\u001b[1m16/16\u001b[0m \u001b[32m━━━━━━━━━━━━━━━━━━━━\u001b[0m\u001b[37m\u001b[0m \u001b[1m1s\u001b[0m 33ms/step - accuracy: 0.0000e+00 - loss: 4.7415\n",
            "\u001b[1m16/16\u001b[0m \u001b[32m━━━━━━━━━━━━━━━━━━━━\u001b[0m\u001b[37m\u001b[0m \u001b[1m1s\u001b[0m 33ms/step - accuracy: 0.9908 - loss: 0.4173\n",
            "\u001b[1m16/16\u001b[0m \u001b[32m━━━━━━━━━━━━━━━━━━━━\u001b[0m\u001b[37m\u001b[0m \u001b[1m1s\u001b[0m 33ms/step - accuracy: 0.0630 - loss: 2.1847\n",
            "\u001b[1m16/16\u001b[0m \u001b[32m━━━━━━━━━━━━━━━━━━━━\u001b[0m\u001b[37m\u001b[0m \u001b[1m1s\u001b[0m 34ms/step - accuracy: 0.3687 - loss: 1.5447\n",
            "\u001b[1m16/16\u001b[0m \u001b[32m━━━━━━━━━━━━━━━━━━━━\u001b[0m\u001b[37m\u001b[0m \u001b[1m1s\u001b[0m 35ms/step - accuracy: 0.7760 - loss: 0.6881\n",
            "\u001b[1m16/16\u001b[0m \u001b[32m━━━━━━━━━━━━━━━━━━━━\u001b[0m\u001b[37m\u001b[0m \u001b[1m1s\u001b[0m 39ms/step - accuracy: 0.4272 - loss: 1.0082\n",
            "\u001b[1m16/16\u001b[0m \u001b[32m━━━━━━━━━━━━━━━━━━━━\u001b[0m\u001b[37m\u001b[0m \u001b[1m1s\u001b[0m 37ms/step - accuracy: 0.0336 - loss: 2.5690\n",
            "\u001b[1m16/16\u001b[0m \u001b[32m━━━━━━━━━━━━━━━━━━━━\u001b[0m\u001b[37m\u001b[0m \u001b[1m1s\u001b[0m 33ms/step - accuracy: 0.9090 - loss: 0.5254\n",
            "\u001b[1m16/16\u001b[0m \u001b[32m━━━━━━━━━━━━━━━━━━━━\u001b[0m\u001b[37m\u001b[0m \u001b[1m1s\u001b[0m 33ms/step - accuracy: 0.6117 - loss: 0.8499\n",
            "\u001b[1m16/16\u001b[0m \u001b[32m━━━━━━━━━━━━━━━━━━━━\u001b[0m\u001b[37m\u001b[0m \u001b[1m1s\u001b[0m 34ms/step - accuracy: 0.6057 - loss: 1.1109\n",
            "\u001b[1m16/16\u001b[0m \u001b[32m━━━━━━━━━━━━━━━━━━━━\u001b[0m\u001b[37m\u001b[0m \u001b[1m1s\u001b[0m 37ms/step - accuracy: 0.6571 - loss: 0.7229\n",
            "\u001b[1m16/16\u001b[0m \u001b[32m━━━━━━━━━━━━━━━━━━━━\u001b[0m\u001b[37m\u001b[0m \u001b[1m1s\u001b[0m 36ms/step - accuracy: 0.3050 - loss: 1.2880\n",
            "\u001b[1m16/16\u001b[0m \u001b[32m━━━━━━━━━━━━━━━━━━━━\u001b[0m\u001b[37m\u001b[0m \u001b[1m1s\u001b[0m 34ms/step - accuracy: 0.7537 - loss: 0.7983\n",
            "\u001b[1m16/16\u001b[0m \u001b[32m━━━━━━━━━━━━━━━━━━━━\u001b[0m\u001b[37m\u001b[0m \u001b[1m1s\u001b[0m 34ms/step - accuracy: 0.7914 - loss: 0.8025\n",
            "\u001b[1m16/16\u001b[0m \u001b[32m━━━━━━━━━━━━━━━━━━━━\u001b[0m\u001b[37m\u001b[0m \u001b[1m1s\u001b[0m 34ms/step - accuracy: 0.6001 - loss: 1.0355\n",
            "\u001b[1m16/16\u001b[0m \u001b[32m━━━━━━━━━━━━━━━━━━━━\u001b[0m\u001b[37m\u001b[0m \u001b[1m1s\u001b[0m 33ms/step - accuracy: 0.7373 - loss: 1.3660\n",
            "\u001b[1m16/16\u001b[0m \u001b[32m━━━━━━━━━━━━━━━━━━━━\u001b[0m\u001b[37m\u001b[0m \u001b[1m1s\u001b[0m 38ms/step - accuracy: 0.4543 - loss: 1.5956\n",
            "\u001b[1m2/2\u001b[0m \u001b[32m━━━━━━━━━━━━━━━━━━━━\u001b[0m\u001b[37m\u001b[0m \u001b[1m0s\u001b[0m 68ms/step - accuracy: 0.0000e+00 - loss: 4.0704\n",
            "\u001b[1m16/16\u001b[0m \u001b[32m━━━━━━━━━━━━━━━━━━━━\u001b[0m\u001b[37m\u001b[0m \u001b[1m1s\u001b[0m 39ms/step - accuracy: 0.1296 - loss: 2.4233\n",
            "\u001b[1m16/16\u001b[0m \u001b[32m━━━━━━━━━━━━━━━━━━━━\u001b[0m\u001b[37m\u001b[0m \u001b[1m1s\u001b[0m 37ms/step - accuracy: 0.7099 - loss: 0.7869\n",
            "\u001b[1m16/16\u001b[0m \u001b[32m━━━━━━━━━━━━━━━━━━━━\u001b[0m\u001b[37m\u001b[0m \u001b[1m1s\u001b[0m 33ms/step - accuracy: 0.9419 - loss: 0.5845\n",
            "\u001b[1m16/16\u001b[0m \u001b[32m━━━━━━━━━━━━━━━━━━━━\u001b[0m\u001b[37m\u001b[0m \u001b[1m1s\u001b[0m 33ms/step - accuracy: 0.8459 - loss: 0.4011\n",
            "\u001b[1m16/16\u001b[0m \u001b[32m━━━━━━━━━━━━━━━━━━━━\u001b[0m\u001b[37m\u001b[0m \u001b[1m1s\u001b[0m 37ms/step - accuracy: 0.6537 - loss: 0.9372\n",
            "\u001b[1m16/16\u001b[0m \u001b[32m━━━━━━━━━━━━━━━━━━━━\u001b[0m\u001b[37m\u001b[0m \u001b[1m1s\u001b[0m 38ms/step - accuracy: 0.9946 - loss: 0.0721\n",
            "\u001b[1m16/16\u001b[0m \u001b[32m━━━━━━━━━━━━━━━━━━━━\u001b[0m\u001b[37m\u001b[0m \u001b[1m1s\u001b[0m 33ms/step - accuracy: 0.4986 - loss: 1.8140\n",
            "\u001b[1m16/16\u001b[0m \u001b[32m━━━━━━━━━━━━━━━━━━━━\u001b[0m\u001b[37m\u001b[0m \u001b[1m1s\u001b[0m 34ms/step - accuracy: 0.0943 - loss: 4.5399\n",
            "\u001b[1m16/16\u001b[0m \u001b[32m━━━━━━━━━━━━━━━━━━━━\u001b[0m\u001b[37m\u001b[0m \u001b[1m1s\u001b[0m 33ms/step - accuracy: 0.5120 - loss: 1.2255\n",
            "\u001b[1m16/16\u001b[0m \u001b[32m━━━━━━━━━━━━━━━━━━━━\u001b[0m\u001b[37m\u001b[0m \u001b[1m1s\u001b[0m 33ms/step - accuracy: 0.8102 - loss: 1.0672\n",
            "\u001b[1m16/16\u001b[0m \u001b[32m━━━━━━━━━━━━━━━━━━━━\u001b[0m\u001b[37m\u001b[0m \u001b[1m1s\u001b[0m 37ms/step - accuracy: 0.3386 - loss: 1.4772\n",
            "\u001b[1m16/16\u001b[0m \u001b[32m━━━━━━━━━━━━━━━━━━━━\u001b[0m\u001b[37m\u001b[0m \u001b[1m1s\u001b[0m 35ms/step - accuracy: 0.8357 - loss: 0.5833\n",
            "\u001b[1m16/16\u001b[0m \u001b[32m━━━━━━━━━━━━━━━━━━━━\u001b[0m\u001b[37m\u001b[0m \u001b[1m1s\u001b[0m 34ms/step - accuracy: 0.9834 - loss: 0.1901\n",
            "\u001b[1m16/16\u001b[0m \u001b[32m━━━━━━━━━━━━━━━━━━━━\u001b[0m\u001b[37m\u001b[0m \u001b[1m1s\u001b[0m 34ms/step - accuracy: 0.1164 - loss: 4.0693\n",
            "\u001b[1m16/16\u001b[0m \u001b[32m━━━━━━━━━━━━━━━━━━━━\u001b[0m\u001b[37m\u001b[0m \u001b[1m1s\u001b[0m 33ms/step - accuracy: 0.9223 - loss: 0.4672\n",
            "\u001b[1m16/16\u001b[0m \u001b[32m━━━━━━━━━━━━━━━━━━━━\u001b[0m\u001b[37m\u001b[0m \u001b[1m1s\u001b[0m 33ms/step - accuracy: 0.5906 - loss: 1.0709\n",
            "\u001b[1m16/16\u001b[0m \u001b[32m━━━━━━━━━━━━━━━━━━━━\u001b[0m\u001b[37m\u001b[0m \u001b[1m1s\u001b[0m 38ms/step - accuracy: 0.5624 - loss: 1.1178\n",
            "\u001b[1m16/16\u001b[0m \u001b[32m━━━━━━━━━━━━━━━━━━━━\u001b[0m\u001b[37m\u001b[0m \u001b[1m1s\u001b[0m 38ms/step - accuracy: 0.9963 - loss: 0.0826\n",
            "\u001b[1m16/16\u001b[0m \u001b[32m━━━━━━━━━━━━━━━━━━━━\u001b[0m\u001b[37m\u001b[0m \u001b[1m1s\u001b[0m 34ms/step - accuracy: 0.2992 - loss: 2.0685\n",
            "\u001b[1m16/16\u001b[0m \u001b[32m━━━━━━━━━━━━━━━━━━━━\u001b[0m\u001b[37m\u001b[0m \u001b[1m1s\u001b[0m 34ms/step - accuracy: 0.6809 - loss: 1.5300\n",
            "\u001b[1m16/16\u001b[0m \u001b[32m━━━━━━━━━━━━━━━━━━━━\u001b[0m\u001b[37m\u001b[0m \u001b[1m1s\u001b[0m 34ms/step - accuracy: 0.2067 - loss: 1.3506\n",
            "\u001b[1m16/16\u001b[0m \u001b[32m━━━━━━━━━━━━━━━━━━━━\u001b[0m\u001b[37m\u001b[0m \u001b[1m1s\u001b[0m 35ms/step - accuracy: 0.8136 - loss: 0.6264\n",
            "\u001b[1m16/16\u001b[0m \u001b[32m━━━━━━━━━━━━━━━━━━━━\u001b[0m\u001b[37m\u001b[0m \u001b[1m1s\u001b[0m 40ms/step - accuracy: 0.7686 - loss: 0.5710\n",
            "\u001b[1m16/16\u001b[0m \u001b[32m━━━━━━━━━━━━━━━━━━━━\u001b[0m\u001b[37m\u001b[0m \u001b[1m1s\u001b[0m 39ms/step - accuracy: 0.3252 - loss: 2.0484\n",
            "\u001b[1m16/16\u001b[0m \u001b[32m━━━━━━━━━━━━━━━━━━━━\u001b[0m\u001b[37m\u001b[0m \u001b[1m1s\u001b[0m 37ms/step - accuracy: 0.7542 - loss: 0.7264\n",
            "\u001b[1m16/16\u001b[0m \u001b[32m━━━━━━━━━━━━━━━━━━━━\u001b[0m\u001b[37m\u001b[0m \u001b[1m1s\u001b[0m 33ms/step - accuracy: 0.7653 - loss: 0.8120\n",
            "\u001b[1m16/16\u001b[0m \u001b[32m━━━━━━━━━━━━━━━━━━━━\u001b[0m\u001b[37m\u001b[0m \u001b[1m1s\u001b[0m 34ms/step - accuracy: 0.3715 - loss: 2.2973\n",
            "\u001b[1m16/16\u001b[0m \u001b[32m━━━━━━━━━━━━━━━━━━━━\u001b[0m\u001b[37m\u001b[0m \u001b[1m1s\u001b[0m 39ms/step - accuracy: 0.4910 - loss: 1.1995\n",
            "\u001b[1m16/16\u001b[0m \u001b[32m━━━━━━━━━━━━━━━━━━━━\u001b[0m\u001b[37m\u001b[0m \u001b[1m1s\u001b[0m 33ms/step - accuracy: 0.4869 - loss: 1.9522\n",
            "\u001b[1m16/16\u001b[0m \u001b[32m━━━━━━━━━━━━━━━━━━━━\u001b[0m\u001b[37m\u001b[0m \u001b[1m1s\u001b[0m 34ms/step - accuracy: 0.5502 - loss: 0.9778\n",
            "\u001b[1m16/16\u001b[0m \u001b[32m━━━━━━━━━━━━━━━━━━━━\u001b[0m\u001b[37m\u001b[0m \u001b[1m1s\u001b[0m 34ms/step - accuracy: 0.7109 - loss: 0.7494\n",
            "\u001b[1m16/16\u001b[0m \u001b[32m━━━━━━━━━━━━━━━━━━━━\u001b[0m\u001b[37m\u001b[0m \u001b[1m1s\u001b[0m 33ms/step - accuracy: 0.0000e+00 - loss: 4.3649\n",
            "\u001b[1m16/16\u001b[0m \u001b[32m━━━━━━━━━━━━━━━━━━━━\u001b[0m\u001b[37m\u001b[0m \u001b[1m1s\u001b[0m 35ms/step - accuracy: 0.9521 - loss: 0.4509\n",
            "\u001b[1m16/16\u001b[0m \u001b[32m━━━━━━━━━━━━━━━━━━━━\u001b[0m\u001b[37m\u001b[0m \u001b[1m1s\u001b[0m 40ms/step - accuracy: 0.7339 - loss: 0.8647\n",
            "\u001b[1m16/16\u001b[0m \u001b[32m━━━━━━━━━━━━━━━━━━━━\u001b[0m\u001b[37m\u001b[0m \u001b[1m1s\u001b[0m 33ms/step - accuracy: 0.8187 - loss: 0.6186\n",
            "\u001b[1m16/16\u001b[0m \u001b[32m━━━━━━━━━━━━━━━━━━━━\u001b[0m\u001b[37m\u001b[0m \u001b[1m1s\u001b[0m 33ms/step - accuracy: 0.8558 - loss: 0.4751\n",
            "\u001b[1m16/16\u001b[0m \u001b[32m━━━━━━━━━━━━━━━━━━━━\u001b[0m\u001b[37m\u001b[0m \u001b[1m1s\u001b[0m 33ms/step - accuracy: 0.0625 - loss: 1.9402\n",
            "\u001b[1m16/16\u001b[0m \u001b[32m━━━━━━━━━━━━━━━━━━━━\u001b[0m\u001b[37m\u001b[0m \u001b[1m1s\u001b[0m 34ms/step - accuracy: 0.7867 - loss: 0.8172\n",
            "\u001b[1m16/16\u001b[0m \u001b[32m━━━━━━━━━━━━━━━━━━━━\u001b[0m\u001b[37m\u001b[0m \u001b[1m1s\u001b[0m 36ms/step - accuracy: 0.8700 - loss: 0.7033\n",
            "\u001b[1m16/16\u001b[0m \u001b[32m━━━━━━━━━━━━━━━━━━━━\u001b[0m\u001b[37m\u001b[0m \u001b[1m1s\u001b[0m 37ms/step - accuracy: 0.5591 - loss: 1.0706\n",
            "\u001b[1m16/16\u001b[0m \u001b[32m━━━━━━━━━━━━━━━━━━━━\u001b[0m\u001b[37m\u001b[0m \u001b[1m1s\u001b[0m 34ms/step - accuracy: 0.7047 - loss: 0.7107\n",
            "\u001b[1m16/16\u001b[0m \u001b[32m━━━━━━━━━━━━━━━━━━━━\u001b[0m\u001b[37m\u001b[0m \u001b[1m1s\u001b[0m 33ms/step - accuracy: 0.6669 - loss: 1.0451\n",
            "\u001b[1m16/16\u001b[0m \u001b[32m━━━━━━━━━━━━━━━━━━━━\u001b[0m\u001b[37m\u001b[0m \u001b[1m1s\u001b[0m 34ms/step - accuracy: 0.8719 - loss: 0.3700\n",
            "\u001b[1m16/16\u001b[0m \u001b[32m━━━━━━━━━━━━━━━━━━━━\u001b[0m\u001b[37m\u001b[0m \u001b[1m1s\u001b[0m 34ms/step - accuracy: 0.0768 - loss: 3.7452\n",
            "\u001b[1m16/16\u001b[0m \u001b[32m━━━━━━━━━━━━━━━━━━━━\u001b[0m\u001b[37m\u001b[0m \u001b[1m1s\u001b[0m 39ms/step - accuracy: 0.9795 - loss: 0.2518\n",
            "\u001b[1m16/16\u001b[0m \u001b[32m━━━━━━━━━━━━━━━━━━━━\u001b[0m\u001b[37m\u001b[0m \u001b[1m1s\u001b[0m 38ms/step - accuracy: 0.9955 - loss: 0.2029\n",
            "\u001b[1m16/16\u001b[0m \u001b[32m━━━━━━━━━━━━━━━━━━━━\u001b[0m\u001b[37m\u001b[0m \u001b[1m1s\u001b[0m 33ms/step - accuracy: 0.1665 - loss: 2.1282\n",
            "\u001b[1m16/16\u001b[0m \u001b[32m━━━━━━━━━━━━━━━━━━━━\u001b[0m\u001b[37m\u001b[0m \u001b[1m1s\u001b[0m 34ms/step - accuracy: 0.6802 - loss: 1.0910\n",
            "\u001b[1m16/16\u001b[0m \u001b[32m━━━━━━━━━━━━━━━━━━━━\u001b[0m\u001b[37m\u001b[0m \u001b[1m1s\u001b[0m 34ms/step - accuracy: 0.6437 - loss: 0.9155\n",
            "\u001b[1m16/16\u001b[0m \u001b[32m━━━━━━━━━━━━━━━━━━━━\u001b[0m\u001b[37m\u001b[0m \u001b[1m1s\u001b[0m 35ms/step - accuracy: 0.2554 - loss: 2.6597\n",
            "\u001b[1m16/16\u001b[0m \u001b[32m━━━━━━━━━━━━━━━━━━━━\u001b[0m\u001b[37m\u001b[0m \u001b[1m1s\u001b[0m 38ms/step - accuracy: 0.5023 - loss: 1.2779\n",
            "\u001b[1m16/16\u001b[0m \u001b[32m━━━━━━━━━━━━━━━━━━━━\u001b[0m\u001b[37m\u001b[0m \u001b[1m1s\u001b[0m 34ms/step - accuracy: 0.7369 - loss: 0.8126\n",
            " Epoch 4 average val accuracy: 0.4763\n",
            "\n",
            "🔁 Epoch 5/10\n",
            "\u001b[1m16/16\u001b[0m \u001b[32m━━━━━━━━━━━━━━━━━━━━\u001b[0m\u001b[37m\u001b[0m \u001b[1m1s\u001b[0m 35ms/step - accuracy: 0.1055 - loss: 1.8599\n",
            "\u001b[1m16/16\u001b[0m \u001b[32m━━━━━━━━━━━━━━━━━━━━\u001b[0m\u001b[37m\u001b[0m \u001b[1m1s\u001b[0m 33ms/step - accuracy: 0.7616 - loss: 0.7650\n",
            "\u001b[1m16/16\u001b[0m \u001b[32m━━━━━━━━━━━━━━━━━━━━\u001b[0m\u001b[37m\u001b[0m \u001b[1m1s\u001b[0m 33ms/step - accuracy: 0.7977 - loss: 0.6235\n",
            "\u001b[1m16/16\u001b[0m \u001b[32m━━━━━━━━━━━━━━━━━━━━\u001b[0m\u001b[37m\u001b[0m \u001b[1m1s\u001b[0m 42ms/step - accuracy: 0.8683 - loss: 0.4479\n",
            "\u001b[1m16/16\u001b[0m \u001b[32m━━━━━━━━━━━━━━━━━━━━\u001b[0m\u001b[37m\u001b[0m \u001b[1m1s\u001b[0m 38ms/step - accuracy: 0.9108 - loss: 0.2828\n",
            "\u001b[1m16/16\u001b[0m \u001b[32m━━━━━━━━━━━━━━━━━━━━\u001b[0m\u001b[37m\u001b[0m \u001b[1m1s\u001b[0m 37ms/step - accuracy: 0.0040 - loss: 3.6279\n",
            "\u001b[1m16/16\u001b[0m \u001b[32m━━━━━━━━━━━━━━━━━━━━\u001b[0m\u001b[37m\u001b[0m \u001b[1m1s\u001b[0m 34ms/step - accuracy: 0.4477 - loss: 1.0151\n",
            "\u001b[1m16/16\u001b[0m \u001b[32m━━━━━━━━━━━━━━━━━━━━\u001b[0m\u001b[37m\u001b[0m \u001b[1m1s\u001b[0m 34ms/step - accuracy: 0.9365 - loss: 0.3856\n",
            "\u001b[1m16/16\u001b[0m \u001b[32m━━━━━━━━━━━━━━━━━━━━\u001b[0m\u001b[37m\u001b[0m \u001b[1m1s\u001b[0m 41ms/step - accuracy: 0.3906 - loss: 1.3571\n",
            "\u001b[1m16/16\u001b[0m \u001b[32m━━━━━━━━━━━━━━━━━━━━\u001b[0m\u001b[37m\u001b[0m \u001b[1m1s\u001b[0m 38ms/step - accuracy: 0.4640 - loss: 1.4329\n",
            "\u001b[1m16/16\u001b[0m \u001b[32m━━━━━━━━━━━━━━━━━━━━\u001b[0m\u001b[37m\u001b[0m \u001b[1m1s\u001b[0m 34ms/step - accuracy: 0.6797 - loss: 1.1885\n",
            "\u001b[1m16/16\u001b[0m \u001b[32m━━━━━━━━━━━━━━━━━━━━\u001b[0m\u001b[37m\u001b[0m \u001b[1m1s\u001b[0m 33ms/step - accuracy: 0.6270 - loss: 0.7446\n",
            "\u001b[1m16/16\u001b[0m \u001b[32m━━━━━━━━━━━━━━━━━━━━\u001b[0m\u001b[37m\u001b[0m \u001b[1m1s\u001b[0m 34ms/step - accuracy: 6.6807e-04 - loss: 2.7389\n",
            "\u001b[1m16/16\u001b[0m \u001b[32m━━━━━━━━━━━━━━━━━━━━\u001b[0m\u001b[37m\u001b[0m \u001b[1m1s\u001b[0m 35ms/step - accuracy: 0.8933 - loss: 0.6026\n",
            "\u001b[1m16/16\u001b[0m \u001b[32m━━━━━━━━━━━━━━━━━━━━\u001b[0m\u001b[37m\u001b[0m \u001b[1m1s\u001b[0m 38ms/step - accuracy: 0.9144 - loss: 0.4033\n",
            "\u001b[1m16/16\u001b[0m \u001b[32m━━━━━━━━━━━━━━━━━━━━\u001b[0m\u001b[37m\u001b[0m \u001b[1m1s\u001b[0m 33ms/step - accuracy: 0.9987 - loss: 0.0295\n",
            "\u001b[1m16/16\u001b[0m \u001b[32m━━━━━━━━━━━━━━━━━━━━\u001b[0m\u001b[37m\u001b[0m \u001b[1m1s\u001b[0m 34ms/step - accuracy: 0.3579 - loss: 1.9685\n",
            "\u001b[1m16/16\u001b[0m \u001b[32m━━━━━━━━━━━━━━━━━━━━\u001b[0m\u001b[37m\u001b[0m \u001b[1m1s\u001b[0m 34ms/step - accuracy: 0.2447 - loss: 1.9871\n",
            "\u001b[1m16/16\u001b[0m \u001b[32m━━━━━━━━━━━━━━━━━━━━\u001b[0m\u001b[37m\u001b[0m \u001b[1m1s\u001b[0m 34ms/step - accuracy: 0.6452 - loss: 1.0779\n",
            "\u001b[1m16/16\u001b[0m \u001b[32m━━━━━━━━━━━━━━━━━━━━\u001b[0m\u001b[37m\u001b[0m \u001b[1m1s\u001b[0m 38ms/step - accuracy: 0.9143 - loss: 0.3442\n",
            "\u001b[1m16/16\u001b[0m \u001b[32m━━━━━━━━━━━━━━━━━━━━\u001b[0m\u001b[37m\u001b[0m \u001b[1m1s\u001b[0m 37ms/step - accuracy: 0.9042 - loss: 0.5291\n",
            "\u001b[1m16/16\u001b[0m \u001b[32m━━━━━━━━━━━━━━━━━━━━\u001b[0m\u001b[37m\u001b[0m \u001b[1m1s\u001b[0m 34ms/step - accuracy: 0.9826 - loss: 0.1187\n",
            "\u001b[1m16/16\u001b[0m \u001b[32m━━━━━━━━━━━━━━━━━━━━\u001b[0m\u001b[37m\u001b[0m \u001b[1m1s\u001b[0m 34ms/step - accuracy: 0.2368 - loss: 1.7461\n",
            "\u001b[1m16/16\u001b[0m \u001b[32m━━━━━━━━━━━━━━━━━━━━\u001b[0m\u001b[37m\u001b[0m \u001b[1m1s\u001b[0m 35ms/step - accuracy: 0.9380 - loss: 0.2117\n",
            "\u001b[1m16/16\u001b[0m \u001b[32m━━━━━━━━━━━━━━━━━━━━\u001b[0m\u001b[37m\u001b[0m \u001b[1m1s\u001b[0m 34ms/step - accuracy: 0.8382 - loss: 0.5416\n",
            "\u001b[1m16/16\u001b[0m \u001b[32m━━━━━━━━━━━━━━━━━━━━\u001b[0m\u001b[37m\u001b[0m \u001b[1m1s\u001b[0m 41ms/step - accuracy: 0.8585 - loss: 0.4168\n",
            "\u001b[1m16/16\u001b[0m \u001b[32m━━━━━━━━━━━━━━━━━━━━\u001b[0m\u001b[37m\u001b[0m \u001b[1m1s\u001b[0m 34ms/step - accuracy: 0.0846 - loss: 3.1851\n",
            "\u001b[1m16/16\u001b[0m \u001b[32m━━━━━━━━━━━━━━━━━━━━\u001b[0m\u001b[37m\u001b[0m \u001b[1m1s\u001b[0m 34ms/step - accuracy: 0.7618 - loss: 0.6606\n",
            "\u001b[1m16/16\u001b[0m \u001b[32m━━━━━━━━━━━━━━━━━━━━\u001b[0m\u001b[37m\u001b[0m \u001b[1m1s\u001b[0m 34ms/step - accuracy: 0.5041 - loss: 1.1696\n",
            "\u001b[1m16/16\u001b[0m \u001b[32m━━━━━━━━━━━━━━━━━━━━\u001b[0m\u001b[37m\u001b[0m \u001b[1m1s\u001b[0m 34ms/step - accuracy: 0.7888 - loss: 0.5383\n",
            "\u001b[1m16/16\u001b[0m \u001b[32m━━━━━━━━━━━━━━━━━━━━\u001b[0m\u001b[37m\u001b[0m \u001b[1m1s\u001b[0m 37ms/step - accuracy: 0.9620 - loss: 0.1785\n",
            "\u001b[1m16/16\u001b[0m \u001b[32m━━━━━━━━━━━━━━━━━━━━\u001b[0m\u001b[37m\u001b[0m \u001b[1m1s\u001b[0m 40ms/step - accuracy: 0.7455 - loss: 0.5835\n",
            "\u001b[1m16/16\u001b[0m \u001b[32m━━━━━━━━━━━━━━━━━━━━\u001b[0m\u001b[37m\u001b[0m \u001b[1m1s\u001b[0m 38ms/step - accuracy: 0.2358 - loss: 2.7694\n",
            "\u001b[1m16/16\u001b[0m \u001b[32m━━━━━━━━━━━━━━━━━━━━\u001b[0m\u001b[37m\u001b[0m \u001b[1m1s\u001b[0m 39ms/step - accuracy: 0.6477 - loss: 0.9899\n",
            "\u001b[1m16/16\u001b[0m \u001b[32m━━━━━━━━━━━━━━━━━━━━\u001b[0m\u001b[37m\u001b[0m \u001b[1m1s\u001b[0m 39ms/step - accuracy: 0.6688 - loss: 1.0461\n",
            "\u001b[1m16/16\u001b[0m \u001b[32m━━━━━━━━━━━━━━━━━━━━\u001b[0m\u001b[37m\u001b[0m \u001b[1m1s\u001b[0m 41ms/step - accuracy: 0.8998 - loss: 0.4517\n",
            "\u001b[1m16/16\u001b[0m \u001b[32m━━━━━━━━━━━━━━━━━━━━\u001b[0m\u001b[37m\u001b[0m \u001b[1m1s\u001b[0m 34ms/step - accuracy: 0.9777 - loss: 0.1291\n",
            "\u001b[1m16/16\u001b[0m \u001b[32m━━━━━━━━━━━━━━━━━━━━\u001b[0m\u001b[37m\u001b[0m \u001b[1m1s\u001b[0m 33ms/step - accuracy: 0.7212 - loss: 1.1843\n",
            "\u001b[1m16/16\u001b[0m \u001b[32m━━━━━━━━━━━━━━━━━━━━\u001b[0m\u001b[37m\u001b[0m \u001b[1m1s\u001b[0m 34ms/step - accuracy: 0.8398 - loss: 0.4769\n",
            "\u001b[1m16/16\u001b[0m \u001b[32m━━━━━━━━━━━━━━━━━━━━\u001b[0m\u001b[37m\u001b[0m \u001b[1m1s\u001b[0m 34ms/step - accuracy: 0.2156 - loss: 2.0672\n",
            "\u001b[1m16/16\u001b[0m \u001b[32m━━━━━━━━━━━━━━━━━━━━\u001b[0m\u001b[37m\u001b[0m \u001b[1m1s\u001b[0m 35ms/step - accuracy: 0.8894 - loss: 0.3571\n",
            "\u001b[1m16/16\u001b[0m \u001b[32m━━━━━━━━━━━━━━━━━━━━\u001b[0m\u001b[37m\u001b[0m \u001b[1m1s\u001b[0m 40ms/step - accuracy: 0.4565 - loss: 1.6947\n",
            "\u001b[1m16/16\u001b[0m \u001b[32m━━━━━━━━━━━━━━━━━━━━\u001b[0m\u001b[37m\u001b[0m \u001b[1m1s\u001b[0m 37ms/step - accuracy: 0.1884 - loss: 2.5372\n",
            "\u001b[1m16/16\u001b[0m \u001b[32m━━━━━━━━━━━━━━━━━━━━\u001b[0m\u001b[37m\u001b[0m \u001b[1m1s\u001b[0m 34ms/step - accuracy: 0.8407 - loss: 0.7334\n",
            "\u001b[1m16/16\u001b[0m \u001b[32m━━━━━━━━━━━━━━━━━━━━\u001b[0m\u001b[37m\u001b[0m \u001b[1m1s\u001b[0m 34ms/step - accuracy: 0.9989 - loss: 0.0645\n",
            "\u001b[1m16/16\u001b[0m \u001b[32m━━━━━━━━━━━━━━━━━━━━\u001b[0m\u001b[37m\u001b[0m \u001b[1m1s\u001b[0m 35ms/step - accuracy: 0.7068 - loss: 0.6706\n",
            "\u001b[1m16/16\u001b[0m \u001b[32m━━━━━━━━━━━━━━━━━━━━\u001b[0m\u001b[37m\u001b[0m \u001b[1m1s\u001b[0m 35ms/step - accuracy: 0.7592 - loss: 0.6606\n",
            "\u001b[1m16/16\u001b[0m \u001b[32m━━━━━━━━━━━━━━━━━━━━\u001b[0m\u001b[37m\u001b[0m \u001b[1m1s\u001b[0m 39ms/step - accuracy: 0.7356 - loss: 0.7525\n",
            "\u001b[1m16/16\u001b[0m \u001b[32m━━━━━━━━━━━━━━━━━━━━\u001b[0m\u001b[37m\u001b[0m \u001b[1m1s\u001b[0m 37ms/step - accuracy: 0.2982 - loss: 1.9974\n",
            "\u001b[1m16/16\u001b[0m \u001b[32m━━━━━━━━━━━━━━━━━━━━\u001b[0m\u001b[37m\u001b[0m \u001b[1m1s\u001b[0m 33ms/step - accuracy: 0.7815 - loss: 0.8142\n",
            "\u001b[1m16/16\u001b[0m \u001b[32m━━━━━━━━━━━━━━━━━━━━\u001b[0m\u001b[37m\u001b[0m \u001b[1m1s\u001b[0m 34ms/step - accuracy: 0.5108 - loss: 0.9377\n",
            "\u001b[1m16/16\u001b[0m \u001b[32m━━━━━━━━━━━━━━━━━━━━\u001b[0m\u001b[37m\u001b[0m \u001b[1m1s\u001b[0m 34ms/step - accuracy: 0.7173 - loss: 1.0670\n",
            "\u001b[1m16/16\u001b[0m \u001b[32m━━━━━━━━━━━━━━━━━━━━\u001b[0m\u001b[37m\u001b[0m \u001b[1m1s\u001b[0m 40ms/step - accuracy: 0.6629 - loss: 0.8724\n",
            "\u001b[1m16/16\u001b[0m \u001b[32m━━━━━━━━━━━━━━━━━━━━\u001b[0m\u001b[37m\u001b[0m \u001b[1m1s\u001b[0m 39ms/step - accuracy: 0.9469 - loss: 0.1897\n",
            "\u001b[1m16/16\u001b[0m \u001b[32m━━━━━━━━━━━━━━━━━━━━\u001b[0m\u001b[37m\u001b[0m \u001b[1m1s\u001b[0m 37ms/step - accuracy: 0.3645 - loss: 2.4558\n",
            "\u001b[1m16/16\u001b[0m \u001b[32m━━━━━━━━━━━━━━━━━━━━\u001b[0m\u001b[37m\u001b[0m \u001b[1m1s\u001b[0m 34ms/step - accuracy: 0.7634 - loss: 0.7093\n",
            "\u001b[1m2/2\u001b[0m \u001b[32m━━━━━━━━━━━━━━━━━━━━\u001b[0m\u001b[37m\u001b[0m \u001b[1m0s\u001b[0m 49ms/step - accuracy: 0.8777 - loss: 0.3317\n",
            "\u001b[1m16/16\u001b[0m \u001b[32m━━━━━━━━━━━━━━━━━━━━\u001b[0m\u001b[37m\u001b[0m \u001b[1m1s\u001b[0m 38ms/step - accuracy: 0.9981 - loss: 0.0248\n",
            "\u001b[1m16/16\u001b[0m \u001b[32m━━━━━━━━━━━━━━━━━━━━\u001b[0m\u001b[37m\u001b[0m \u001b[1m1s\u001b[0m 43ms/step - accuracy: 0.6151 - loss: 1.3384\n",
            "\u001b[1m16/16\u001b[0m \u001b[32m━━━━━━━━━━━━━━━━━━━━\u001b[0m\u001b[37m\u001b[0m \u001b[1m1s\u001b[0m 39ms/step - accuracy: 0.0467 - loss: 5.0085\n",
            "\u001b[1m16/16\u001b[0m \u001b[32m━━━━━━━━━━━━━━━━━━━━\u001b[0m\u001b[37m\u001b[0m \u001b[1m1s\u001b[0m 34ms/step - accuracy: 0.7087 - loss: 1.1665\n",
            "\u001b[1m16/16\u001b[0m \u001b[32m━━━━━━━━━━━━━━━━━━━━\u001b[0m\u001b[37m\u001b[0m \u001b[1m1s\u001b[0m 34ms/step - accuracy: 0.4134 - loss: 1.0423\n",
            "\u001b[1m16/16\u001b[0m \u001b[32m━━━━━━━━━━━━━━━━━━━━\u001b[0m\u001b[37m\u001b[0m \u001b[1m1s\u001b[0m 33ms/step - accuracy: 0.6907 - loss: 0.7710\n",
            "\u001b[1m16/16\u001b[0m \u001b[32m━━━━━━━━━━━━━━━━━━━━\u001b[0m\u001b[37m\u001b[0m \u001b[1m1s\u001b[0m 35ms/step - accuracy: 0.4314 - loss: 1.2341\n",
            "\u001b[1m16/16\u001b[0m \u001b[32m━━━━━━━━━━━━━━━━━━━━\u001b[0m\u001b[37m\u001b[0m \u001b[1m1s\u001b[0m 38ms/step - accuracy: 0.7234 - loss: 0.6680\n",
            "\u001b[1m16/16\u001b[0m \u001b[32m━━━━━━━━━━━━━━━━━━━━\u001b[0m\u001b[37m\u001b[0m \u001b[1m1s\u001b[0m 33ms/step - accuracy: 0.9676 - loss: 0.2459\n",
            "\u001b[1m16/16\u001b[0m \u001b[32m━━━━━━━━━━━━━━━━━━━━\u001b[0m\u001b[37m\u001b[0m \u001b[1m1s\u001b[0m 35ms/step - accuracy: 0.2891 - loss: 2.2534\n",
            "\u001b[1m16/16\u001b[0m \u001b[32m━━━━━━━━━━━━━━━━━━━━\u001b[0m\u001b[37m\u001b[0m \u001b[1m1s\u001b[0m 33ms/step - accuracy: 0.0736 - loss: 3.1970\n",
            "\u001b[1m16/16\u001b[0m \u001b[32m━━━━━━━━━━━━━━━━━━━━\u001b[0m\u001b[37m\u001b[0m \u001b[1m1s\u001b[0m 33ms/step - accuracy: 0.9677 - loss: 0.3873\n",
            "\u001b[1m16/16\u001b[0m \u001b[32m━━━━━━━━━━━━━━━━━━━━\u001b[0m\u001b[37m\u001b[0m \u001b[1m1s\u001b[0m 39ms/step - accuracy: 0.7119 - loss: 0.8819\n",
            "\u001b[1m16/16\u001b[0m \u001b[32m━━━━━━━━━━━━━━━━━━━━\u001b[0m\u001b[37m\u001b[0m \u001b[1m1s\u001b[0m 40ms/step - accuracy: 0.9866 - loss: 0.1084\n",
            "\u001b[1m16/16\u001b[0m \u001b[32m━━━━━━━━━━━━━━━━━━━━\u001b[0m\u001b[37m\u001b[0m \u001b[1m1s\u001b[0m 40ms/step - accuracy: 0.9688 - loss: 0.1322\n",
            "\u001b[1m16/16\u001b[0m \u001b[32m━━━━━━━━━━━━━━━━━━━━\u001b[0m\u001b[37m\u001b[0m \u001b[1m1s\u001b[0m 33ms/step - accuracy: 0.9880 - loss: 0.0333\n",
            "\u001b[1m16/16\u001b[0m \u001b[32m━━━━━━━━━━━━━━━━━━━━\u001b[0m\u001b[37m\u001b[0m \u001b[1m1s\u001b[0m 35ms/step - accuracy: 1.0000 - loss: 0.0033\n",
            "\u001b[1m16/16\u001b[0m \u001b[32m━━━━━━━━━━━━━━━━━━━━\u001b[0m\u001b[37m\u001b[0m \u001b[1m1s\u001b[0m 41ms/step - accuracy: 0.1976 - loss: 4.5315\n",
            "\u001b[1m16/16\u001b[0m \u001b[32m━━━━━━━━━━━━━━━━━━━━\u001b[0m\u001b[37m\u001b[0m \u001b[1m1s\u001b[0m 37ms/step - accuracy: 0.6625 - loss: 1.4800\n",
            "\u001b[1m16/16\u001b[0m \u001b[32m━━━━━━━━━━━━━━━━━━━━\u001b[0m\u001b[37m\u001b[0m \u001b[1m1s\u001b[0m 34ms/step - accuracy: 0.6292 - loss: 1.0142\n",
            "\u001b[1m16/16\u001b[0m \u001b[32m━━━━━━━━━━━━━━━━━━━━\u001b[0m\u001b[37m\u001b[0m \u001b[1m1s\u001b[0m 34ms/step - accuracy: 0.9887 - loss: 0.2144\n",
            "\u001b[1m16/16\u001b[0m \u001b[32m━━━━━━━━━━━━━━━━━━━━\u001b[0m\u001b[37m\u001b[0m \u001b[1m1s\u001b[0m 33ms/step - accuracy: 1.0000 - loss: 0.0077\n",
            "\u001b[1m16/16\u001b[0m \u001b[32m━━━━━━━━━━━━━━━━━━━━\u001b[0m\u001b[37m\u001b[0m \u001b[1m1s\u001b[0m 34ms/step - accuracy: 0.0551 - loss: 3.1743\n"
          ]
        },
        {
          "output_type": "stream",
          "name": "stderr",
          "text": [
            "WARNING:absl:You are saving your model as an HDF5 file via `model.save()` or `keras.saving.save_model(model)`. This file format is considered legacy. We recommend using instead the native Keras format, e.g. `model.save('my_model.keras')` or `keras.saving.save_model(model, 'my_model.keras')`. \n"
          ]
        },
        {
          "output_type": "stream",
          "name": "stdout",
          "text": [
            " Epoch 5 average val accuracy: 0.6629\n",
            " Saving best model (manual check)...\n",
            "\n",
            "🔁 Epoch 6/10\n",
            "\u001b[1m16/16\u001b[0m \u001b[32m━━━━━━━━━━━━━━━━━━━━\u001b[0m\u001b[37m\u001b[0m \u001b[1m1s\u001b[0m 38ms/step - accuracy: 0.9354 - loss: 0.3421\n",
            "\u001b[1m16/16\u001b[0m \u001b[32m━━━━━━━━━━━━━━━━━━━━\u001b[0m\u001b[37m\u001b[0m \u001b[1m1s\u001b[0m 33ms/step - accuracy: 0.9296 - loss: 0.2925\n",
            "\u001b[1m16/16\u001b[0m \u001b[32m━━━━━━━━━━━━━━━━━━━━\u001b[0m\u001b[37m\u001b[0m \u001b[1m1s\u001b[0m 33ms/step - accuracy: 0.5615 - loss: 1.0970\n",
            "\u001b[1m16/16\u001b[0m \u001b[32m━━━━━━━━━━━━━━━━━━━━\u001b[0m\u001b[37m\u001b[0m \u001b[1m1s\u001b[0m 33ms/step - accuracy: 0.5276 - loss: 1.0561\n",
            "\u001b[1m16/16\u001b[0m \u001b[32m━━━━━━━━━━━━━━━━━━━━\u001b[0m\u001b[37m\u001b[0m \u001b[1m1s\u001b[0m 37ms/step - accuracy: 0.6757 - loss: 0.7749\n",
            "\u001b[1m16/16\u001b[0m \u001b[32m━━━━━━━━━━━━━━━━━━━━\u001b[0m\u001b[37m\u001b[0m \u001b[1m1s\u001b[0m 40ms/step - accuracy: 0.0136 - loss: 2.6425\n",
            "\u001b[1m16/16\u001b[0m \u001b[32m━━━━━━━━━━━━━━━━━━━━\u001b[0m\u001b[37m\u001b[0m \u001b[1m1s\u001b[0m 37ms/step - accuracy: 0.3951 - loss: 1.2504\n",
            "\u001b[1m16/16\u001b[0m \u001b[32m━━━━━━━━━━━━━━━━━━━━\u001b[0m\u001b[37m\u001b[0m \u001b[1m1s\u001b[0m 34ms/step - accuracy: 0.5049 - loss: 1.1719\n",
            "\u001b[1m16/16\u001b[0m \u001b[32m━━━━━━━━━━━━━━━━━━━━\u001b[0m\u001b[37m\u001b[0m \u001b[1m1s\u001b[0m 34ms/step - accuracy: 0.6075 - loss: 1.1360\n",
            "\u001b[1m16/16\u001b[0m \u001b[32m━━━━━━━━━━━━━━━━━━━━\u001b[0m\u001b[37m\u001b[0m \u001b[1m1s\u001b[0m 36ms/step - accuracy: 0.5570 - loss: 1.0362\n",
            "\u001b[1m16/16\u001b[0m \u001b[32m━━━━━━━━━━━━━━━━━━━━\u001b[0m\u001b[37m\u001b[0m \u001b[1m1s\u001b[0m 38ms/step - accuracy: 0.7475 - loss: 0.6279\n",
            "\u001b[1m16/16\u001b[0m \u001b[32m━━━━━━━━━━━━━━━━━━━━\u001b[0m\u001b[37m\u001b[0m \u001b[1m1s\u001b[0m 38ms/step - accuracy: 0.8153 - loss: 0.6364\n",
            "\u001b[1m16/16\u001b[0m \u001b[32m━━━━━━━━━━━━━━━━━━━━\u001b[0m\u001b[37m\u001b[0m \u001b[1m1s\u001b[0m 38ms/step - accuracy: 0.6965 - loss: 0.9186\n",
            "\u001b[1m16/16\u001b[0m \u001b[32m━━━━━━━━━━━━━━━━━━━━\u001b[0m\u001b[37m\u001b[0m \u001b[1m1s\u001b[0m 39ms/step - accuracy: 0.0384 - loss: 3.4226\n",
            "\u001b[1m16/16\u001b[0m \u001b[32m━━━━━━━━━━━━━━━━━━━━\u001b[0m\u001b[37m\u001b[0m \u001b[1m1s\u001b[0m 40ms/step - accuracy: 0.9276 - loss: 0.3689\n",
            "\u001b[1m16/16\u001b[0m \u001b[32m━━━━━━━━━━━━━━━━━━━━\u001b[0m\u001b[37m\u001b[0m \u001b[1m1s\u001b[0m 39ms/step - accuracy: 0.4456 - loss: 1.5391\n",
            "\u001b[1m16/16\u001b[0m \u001b[32m━━━━━━━━━━━━━━━━━━━━\u001b[0m\u001b[37m\u001b[0m \u001b[1m1s\u001b[0m 38ms/step - accuracy: 0.8727 - loss: 0.6856\n",
            "\u001b[1m16/16\u001b[0m \u001b[32m━━━━━━━━━━━━━━━━━━━━\u001b[0m\u001b[37m\u001b[0m \u001b[1m1s\u001b[0m 33ms/step - accuracy: 0.9472 - loss: 0.2892\n",
            "\u001b[1m16/16\u001b[0m \u001b[32m━━━━━━━━━━━━━━━━━━━━\u001b[0m\u001b[37m\u001b[0m \u001b[1m1s\u001b[0m 33ms/step - accuracy: 0.5288 - loss: 0.8900\n",
            "\u001b[1m16/16\u001b[0m \u001b[32m━━━━━━━━━━━━━━━━━━━━\u001b[0m\u001b[37m\u001b[0m \u001b[1m1s\u001b[0m 35ms/step - accuracy: 0.9050 - loss: 0.3836\n",
            "\u001b[1m16/16\u001b[0m \u001b[32m━━━━━━━━━━━━━━━━━━━━\u001b[0m\u001b[37m\u001b[0m \u001b[1m1s\u001b[0m 40ms/step - accuracy: 0.7603 - loss: 0.4830\n",
            "\u001b[1m16/16\u001b[0m \u001b[32m━━━━━━━━━━━━━━━━━━━━\u001b[0m\u001b[37m\u001b[0m \u001b[1m1s\u001b[0m 37ms/step - accuracy: 0.6387 - loss: 0.9460\n",
            "\u001b[1m16/16\u001b[0m \u001b[32m━━━━━━━━━━━━━━━━━━━━\u001b[0m\u001b[37m\u001b[0m \u001b[1m1s\u001b[0m 34ms/step - accuracy: 0.9700 - loss: 0.2005\n",
            "\u001b[1m16/16\u001b[0m \u001b[32m━━━━━━━━━━━━━━━━━━━━\u001b[0m\u001b[37m\u001b[0m \u001b[1m1s\u001b[0m 34ms/step - accuracy: 0.9806 - loss: 0.1010\n",
            "\u001b[1m16/16\u001b[0m \u001b[32m━━━━━━━━━━━━━━━━━━━━\u001b[0m\u001b[37m\u001b[0m \u001b[1m1s\u001b[0m 34ms/step - accuracy: 0.6772 - loss: 0.7349\n",
            "\u001b[1m16/16\u001b[0m \u001b[32m━━━━━━━━━━━━━━━━━━━━\u001b[0m\u001b[37m\u001b[0m \u001b[1m1s\u001b[0m 38ms/step - accuracy: 0.3127 - loss: 2.1150\n",
            "\u001b[1m16/16\u001b[0m \u001b[32m━━━━━━━━━━━━━━━━━━━━\u001b[0m\u001b[37m\u001b[0m \u001b[1m1s\u001b[0m 36ms/step - accuracy: 0.8199 - loss: 0.6307\n",
            "\u001b[1m16/16\u001b[0m \u001b[32m━━━━━━━━━━━━━━━━━━━━\u001b[0m\u001b[37m\u001b[0m \u001b[1m1s\u001b[0m 35ms/step - accuracy: 0.9655 - loss: 0.1003\n",
            "\u001b[1m16/16\u001b[0m \u001b[32m━━━━━━━━━━━━━━━━━━━━\u001b[0m\u001b[37m\u001b[0m \u001b[1m1s\u001b[0m 34ms/step - accuracy: 0.3723 - loss: 1.8072\n",
            "\u001b[1m16/16\u001b[0m \u001b[32m━━━━━━━━━━━━━━━━━━━━\u001b[0m\u001b[37m\u001b[0m \u001b[1m1s\u001b[0m 34ms/step - accuracy: 0.6333 - loss: 1.2287\n",
            "\u001b[1m16/16\u001b[0m \u001b[32m━━━━━━━━━━━━━━━━━━━━\u001b[0m\u001b[37m\u001b[0m \u001b[1m1s\u001b[0m 34ms/step - accuracy: 0.4985 - loss: 1.0288\n",
            "\u001b[1m16/16\u001b[0m \u001b[32m━━━━━━━━━━━━━━━━━━━━\u001b[0m\u001b[37m\u001b[0m \u001b[1m1s\u001b[0m 41ms/step - accuracy: 0.9467 - loss: 0.1946\n",
            "\u001b[1m16/16\u001b[0m \u001b[32m━━━━━━━━━━━━━━━━━━━━\u001b[0m\u001b[37m\u001b[0m \u001b[1m1s\u001b[0m 38ms/step - accuracy: 0.2566 - loss: 2.1346\n",
            "\u001b[1m2/2\u001b[0m \u001b[32m━━━━━━━━━━━━━━━━━━━━\u001b[0m\u001b[37m\u001b[0m \u001b[1m0s\u001b[0m 52ms/step - accuracy: 0.7498 - loss: 0.8363\n",
            "\u001b[1m16/16\u001b[0m \u001b[32m━━━━━━━━━━━━━━━━━━━━\u001b[0m\u001b[37m\u001b[0m \u001b[1m1s\u001b[0m 38ms/step - accuracy: 0.1734 - loss: 2.8171\n",
            "\u001b[1m16/16\u001b[0m \u001b[32m━━━━━━━━━━━━━━━━━━━━\u001b[0m\u001b[37m\u001b[0m \u001b[1m1s\u001b[0m 33ms/step - accuracy: 0.5802 - loss: 1.0590\n",
            "\u001b[1m16/16\u001b[0m \u001b[32m━━━━━━━━━━━━━━━━━━━━\u001b[0m\u001b[37m\u001b[0m \u001b[1m1s\u001b[0m 35ms/step - accuracy: 0.9941 - loss: 0.0814\n",
            "\u001b[1m16/16\u001b[0m \u001b[32m━━━━━━━━━━━━━━━━━━━━\u001b[0m\u001b[37m\u001b[0m \u001b[1m1s\u001b[0m 41ms/step - accuracy: 0.5633 - loss: 1.1971\n",
            "\u001b[1m16/16\u001b[0m \u001b[32m━━━━━━━━━━━━━━━━━━━━\u001b[0m\u001b[37m\u001b[0m \u001b[1m1s\u001b[0m 38ms/step - accuracy: 0.0935 - loss: 2.3200\n",
            "\u001b[1m16/16\u001b[0m \u001b[32m━━━━━━━━━━━━━━━━━━━━\u001b[0m\u001b[37m\u001b[0m \u001b[1m1s\u001b[0m 38ms/step - accuracy: 0.3848 - loss: 1.9222\n",
            "\u001b[1m16/16\u001b[0m \u001b[32m━━━━━━━━━━━━━━━━━━━━\u001b[0m\u001b[37m\u001b[0m \u001b[1m1s\u001b[0m 34ms/step - accuracy: 0.4935 - loss: 1.0391\n",
            "\u001b[1m16/16\u001b[0m \u001b[32m━━━━━━━━━━━━━━━━━━━━\u001b[0m\u001b[37m\u001b[0m \u001b[1m1s\u001b[0m 34ms/step - accuracy: 0.8120 - loss: 0.5898\n",
            "\u001b[1m16/16\u001b[0m \u001b[32m━━━━━━━━━━━━━━━━━━━━\u001b[0m\u001b[37m\u001b[0m \u001b[1m1s\u001b[0m 41ms/step - accuracy: 0.5216 - loss: 1.0647\n",
            "\u001b[1m16/16\u001b[0m \u001b[32m━━━━━━━━━━━━━━━━━━━━\u001b[0m\u001b[37m\u001b[0m \u001b[1m1s\u001b[0m 34ms/step - accuracy: 0.8495 - loss: 0.4351\n",
            "\u001b[1m16/16\u001b[0m \u001b[32m━━━━━━━━━━━━━━━━━━━━\u001b[0m\u001b[37m\u001b[0m \u001b[1m1s\u001b[0m 34ms/step - accuracy: 0.4407 - loss: 1.8266\n",
            "\u001b[1m16/16\u001b[0m \u001b[32m━━━━━━━━━━━━━━━━━━━━\u001b[0m\u001b[37m\u001b[0m \u001b[1m1s\u001b[0m 34ms/step - accuracy: 0.0888 - loss: 3.3971\n",
            "\u001b[1m16/16\u001b[0m \u001b[32m━━━━━━━━━━━━━━━━━━━━\u001b[0m\u001b[37m\u001b[0m \u001b[1m1s\u001b[0m 34ms/step - accuracy: 0.5907 - loss: 1.1109\n",
            "\u001b[1m16/16\u001b[0m \u001b[32m━━━━━━━━━━━━━━━━━━━━\u001b[0m\u001b[37m\u001b[0m \u001b[1m1s\u001b[0m 35ms/step - accuracy: 0.8758 - loss: 0.6056\n",
            "\u001b[1m16/16\u001b[0m \u001b[32m━━━━━━━━━━━━━━━━━━━━\u001b[0m\u001b[37m\u001b[0m \u001b[1m1s\u001b[0m 39ms/step - accuracy: 0.2820 - loss: 2.8369\n",
            "\u001b[1m16/16\u001b[0m \u001b[32m━━━━━━━━━━━━━━━━━━━━\u001b[0m\u001b[37m\u001b[0m \u001b[1m1s\u001b[0m 37ms/step - accuracy: 0.6160 - loss: 1.4447\n",
            "\u001b[1m16/16\u001b[0m \u001b[32m━━━━━━━━━━━━━━━━━━━━\u001b[0m\u001b[37m\u001b[0m \u001b[1m1s\u001b[0m 34ms/step - accuracy: 0.8604 - loss: 0.4634\n",
            "\u001b[1m16/16\u001b[0m \u001b[32m━━━━━━━━━━━━━━━━━━━━\u001b[0m\u001b[37m\u001b[0m \u001b[1m1s\u001b[0m 34ms/step - accuracy: 0.3884 - loss: 1.6337\n",
            "\u001b[1m16/16\u001b[0m \u001b[32m━━━━━━━━━━━━━━━━━━━━\u001b[0m\u001b[37m\u001b[0m \u001b[1m1s\u001b[0m 33ms/step - accuracy: 0.4093 - loss: 1.9522\n",
            "\u001b[1m16/16\u001b[0m \u001b[32m━━━━━━━━━━━━━━━━━━━━\u001b[0m\u001b[37m\u001b[0m \u001b[1m1s\u001b[0m 36ms/step - accuracy: 0.9513 - loss: 0.2709\n",
            "\u001b[1m16/16\u001b[0m \u001b[32m━━━━━━━━━━━━━━━━━━━━\u001b[0m\u001b[37m\u001b[0m \u001b[1m1s\u001b[0m 36ms/step - accuracy: 0.9098 - loss: 0.3849\n",
            "\u001b[1m16/16\u001b[0m \u001b[32m━━━━━━━━━━━━━━━━━━━━\u001b[0m\u001b[37m\u001b[0m \u001b[1m1s\u001b[0m 34ms/step - accuracy: 1.0000 - loss: 0.0019\n",
            "\u001b[1m16/16\u001b[0m \u001b[32m━━━━━━━━━━━━━━━━━━━━\u001b[0m\u001b[37m\u001b[0m \u001b[1m1s\u001b[0m 33ms/step - accuracy: 0.1818 - loss: 6.8743\n",
            "\u001b[1m16/16\u001b[0m \u001b[32m━━━━━━━━━━━━━━━━━━━━\u001b[0m\u001b[37m\u001b[0m \u001b[1m1s\u001b[0m 33ms/step - accuracy: 0.7897 - loss: 0.6597\n",
            "\u001b[1m16/16\u001b[0m \u001b[32m━━━━━━━━━━━━━━━━━━━━\u001b[0m\u001b[37m\u001b[0m \u001b[1m1s\u001b[0m 33ms/step - accuracy: 0.7078 - loss: 0.8791\n",
            "\u001b[1m16/16\u001b[0m \u001b[32m━━━━━━━━━━━━━━━━━━━━\u001b[0m\u001b[37m\u001b[0m \u001b[1m1s\u001b[0m 40ms/step - accuracy: 0.6297 - loss: 1.3631\n",
            "\u001b[1m16/16\u001b[0m \u001b[32m━━━━━━━━━━━━━━━━━━━━\u001b[0m\u001b[37m\u001b[0m \u001b[1m1s\u001b[0m 37ms/step - accuracy: 0.6528 - loss: 0.7579\n",
            "\u001b[1m16/16\u001b[0m \u001b[32m━━━━━━━━━━━━━━━━━━━━\u001b[0m\u001b[37m\u001b[0m \u001b[1m1s\u001b[0m 33ms/step - accuracy: 0.8195 - loss: 0.6578\n",
            "\u001b[1m16/16\u001b[0m \u001b[32m━━━━━━━━━━━━━━━━━━━━\u001b[0m\u001b[37m\u001b[0m \u001b[1m1s\u001b[0m 33ms/step - accuracy: 0.6979 - loss: 0.8157\n",
            "\u001b[1m16/16\u001b[0m \u001b[32m━━━━━━━━━━━━━━━━━━━━\u001b[0m\u001b[37m\u001b[0m \u001b[1m1s\u001b[0m 33ms/step - accuracy: 0.9608 - loss: 0.1818\n",
            "\u001b[1m16/16\u001b[0m \u001b[32m━━━━━━━━━━━━━━━━━━━━\u001b[0m\u001b[37m\u001b[0m \u001b[1m1s\u001b[0m 35ms/step - accuracy: 0.7180 - loss: 0.5770\n",
            "\u001b[1m16/16\u001b[0m \u001b[32m━━━━━━━━━━━━━━━━━━━━\u001b[0m\u001b[37m\u001b[0m \u001b[1m1s\u001b[0m 40ms/step - accuracy: 0.7548 - loss: 0.8008\n",
            "\u001b[1m16/16\u001b[0m \u001b[32m━━━━━━━━━━━━━━━━━━━━\u001b[0m\u001b[37m\u001b[0m \u001b[1m1s\u001b[0m 37ms/step - accuracy: 0.8875 - loss: 0.4029\n",
            "\u001b[1m16/16\u001b[0m \u001b[32m━━━━━━━━━━━━━━━━━━━━\u001b[0m\u001b[37m\u001b[0m \u001b[1m1s\u001b[0m 33ms/step - accuracy: 0.7625 - loss: 0.6666\n",
            "\u001b[1m16/16\u001b[0m \u001b[32m━━━━━━━━━━━━━━━━━━━━\u001b[0m\u001b[37m\u001b[0m \u001b[1m1s\u001b[0m 34ms/step - accuracy: 0.9622 - loss: 0.1748\n",
            "\u001b[1m16/16\u001b[0m \u001b[32m━━━━━━━━━━━━━━━━━━━━\u001b[0m\u001b[37m\u001b[0m \u001b[1m1s\u001b[0m 34ms/step - accuracy: 0.0703 - loss: 3.2343\n",
            "\u001b[1m16/16\u001b[0m \u001b[32m━━━━━━━━━━━━━━━━━━━━\u001b[0m\u001b[37m\u001b[0m \u001b[1m1s\u001b[0m 36ms/step - accuracy: 0.5916 - loss: 0.9700\n",
            "\u001b[1m16/16\u001b[0m \u001b[32m━━━━━━━━━━━━━━━━━━━━\u001b[0m\u001b[37m\u001b[0m \u001b[1m1s\u001b[0m 37ms/step - accuracy: 0.8566 - loss: 0.5282\n",
            "\u001b[1m16/16\u001b[0m \u001b[32m━━━━━━━━━━━━━━━━━━━━\u001b[0m\u001b[37m\u001b[0m \u001b[1m1s\u001b[0m 33ms/step - accuracy: 0.9333 - loss: 0.1799\n",
            "\u001b[1m16/16\u001b[0m \u001b[32m━━━━━━━━━━━━━━━━━━━━\u001b[0m\u001b[37m\u001b[0m \u001b[1m1s\u001b[0m 33ms/step - accuracy: 0.5080 - loss: 2.2439\n",
            "\u001b[1m16/16\u001b[0m \u001b[32m━━━━━━━━━━━━━━━━━━━━\u001b[0m\u001b[37m\u001b[0m \u001b[1m1s\u001b[0m 33ms/step - accuracy: 0.7811 - loss: 0.7730\n",
            "\u001b[1m16/16\u001b[0m \u001b[32m━━━━━━━━━━━━━━━━━━━━\u001b[0m\u001b[37m\u001b[0m \u001b[1m1s\u001b[0m 34ms/step - accuracy: 0.8509 - loss: 0.4675\n",
            "\u001b[1m16/16\u001b[0m \u001b[32m━━━━━━━━━━━━━━━━━━━━\u001b[0m\u001b[37m\u001b[0m \u001b[1m1s\u001b[0m 42ms/step - accuracy: 0.6110 - loss: 1.8323\n",
            "\u001b[1m16/16\u001b[0m \u001b[32m━━━━━━━━━━━━━━━━━━━━\u001b[0m\u001b[37m\u001b[0m \u001b[1m1s\u001b[0m 34ms/step - accuracy: 0.4531 - loss: 1.2607\n",
            "\u001b[1m16/16\u001b[0m \u001b[32m━━━━━━━━━━━━━━━━━━━━\u001b[0m\u001b[37m\u001b[0m \u001b[1m1s\u001b[0m 33ms/step - accuracy: 0.7131 - loss: 0.7504\n",
            "\u001b[1m16/16\u001b[0m \u001b[32m━━━━━━━━━━━━━━━━━━━━\u001b[0m\u001b[37m\u001b[0m \u001b[1m1s\u001b[0m 34ms/step - accuracy: 0.7941 - loss: 0.5108\n"
          ]
        },
        {
          "output_type": "stream",
          "name": "stderr",
          "text": [
            "WARNING:absl:You are saving your model as an HDF5 file via `model.save()` or `keras.saving.save_model(model)`. This file format is considered legacy. We recommend using instead the native Keras format, e.g. `model.save('my_model.keras')` or `keras.saving.save_model(model, 'my_model.keras')`. \n"
          ]
        },
        {
          "output_type": "stream",
          "name": "stdout",
          "text": [
            " Epoch 6 average val accuracy: 0.7287\n",
            " Saving best model (manual check)...\n",
            "\n",
            "🔁 Epoch 7/10\n",
            "\u001b[1m16/16\u001b[0m \u001b[32m━━━━━━━━━━━━━━━━━━━━\u001b[0m\u001b[37m\u001b[0m \u001b[1m1s\u001b[0m 37ms/step - accuracy: 0.7656 - loss: 0.6631\n",
            "\u001b[1m16/16\u001b[0m \u001b[32m━━━━━━━━━━━━━━━━━━━━\u001b[0m\u001b[37m\u001b[0m \u001b[1m1s\u001b[0m 40ms/step - accuracy: 0.3237 - loss: 2.9069\n",
            "\u001b[1m16/16\u001b[0m \u001b[32m━━━━━━━━━━━━━━━━━━━━\u001b[0m\u001b[37m\u001b[0m \u001b[1m1s\u001b[0m 36ms/step - accuracy: 0.7950 - loss: 0.6590\n",
            "\u001b[1m16/16\u001b[0m \u001b[32m━━━━━━━━━━━━━━━━━━━━\u001b[0m\u001b[37m\u001b[0m \u001b[1m1s\u001b[0m 35ms/step - accuracy: 0.4332 - loss: 1.7953\n",
            "\u001b[1m16/16\u001b[0m \u001b[32m━━━━━━━━━━━━━━━━━━━━\u001b[0m\u001b[37m\u001b[0m \u001b[1m1s\u001b[0m 41ms/step - accuracy: 0.3088 - loss: 1.7643\n",
            "\u001b[1m16/16\u001b[0m \u001b[32m━━━━━━━━━━━━━━━━━━━━\u001b[0m\u001b[37m\u001b[0m \u001b[1m1s\u001b[0m 41ms/step - accuracy: 0.8403 - loss: 0.5819\n",
            "\u001b[1m16/16\u001b[0m \u001b[32m━━━━━━━━━━━━━━━━━━━━\u001b[0m\u001b[37m\u001b[0m \u001b[1m1s\u001b[0m 40ms/step - accuracy: 0.9790 - loss: 0.1864\n",
            "\u001b[1m16/16\u001b[0m \u001b[32m━━━━━━━━━━━━━━━━━━━━\u001b[0m\u001b[37m\u001b[0m \u001b[1m1s\u001b[0m 38ms/step - accuracy: 0.7829 - loss: 0.5338\n",
            "\u001b[1m16/16\u001b[0m \u001b[32m━━━━━━━━━━━━━━━━━━━━\u001b[0m\u001b[37m\u001b[0m \u001b[1m1s\u001b[0m 36ms/step - accuracy: 0.7852 - loss: 1.0997\n",
            "\u001b[1m16/16\u001b[0m \u001b[32m━━━━━━━━━━━━━━━━━━━━\u001b[0m\u001b[37m\u001b[0m \u001b[1m1s\u001b[0m 34ms/step - accuracy: 0.8014 - loss: 0.5157\n",
            "\u001b[1m16/16\u001b[0m \u001b[32m━━━━━━━━━━━━━━━━━━━━\u001b[0m\u001b[37m\u001b[0m \u001b[1m1s\u001b[0m 34ms/step - accuracy: 0.7476 - loss: 0.6895\n",
            "\u001b[1m16/16\u001b[0m \u001b[32m━━━━━━━━━━━━━━━━━━━━\u001b[0m\u001b[37m\u001b[0m \u001b[1m1s\u001b[0m 36ms/step - accuracy: 0.6972 - loss: 1.0175\n",
            "\u001b[1m16/16\u001b[0m \u001b[32m━━━━━━━━━━━━━━━━━━━━\u001b[0m\u001b[37m\u001b[0m \u001b[1m1s\u001b[0m 40ms/step - accuracy: 0.9755 - loss: 0.0905\n",
            "\u001b[1m16/16\u001b[0m \u001b[32m━━━━━━━━━━━━━━━━━━━━\u001b[0m\u001b[37m\u001b[0m \u001b[1m1s\u001b[0m 37ms/step - accuracy: 0.6787 - loss: 1.0571\n",
            "\u001b[1m16/16\u001b[0m \u001b[32m━━━━━━━━━━━━━━━━━━━━\u001b[0m\u001b[37m\u001b[0m \u001b[1m1s\u001b[0m 34ms/step - accuracy: 0.9498 - loss: 0.1955\n",
            "\u001b[1m16/16\u001b[0m \u001b[32m━━━━━━━━━━━━━━━━━━━━\u001b[0m\u001b[37m\u001b[0m \u001b[1m1s\u001b[0m 34ms/step - accuracy: 0.9924 - loss: 0.0302\n",
            "\u001b[1m16/16\u001b[0m \u001b[32m━━━━━━━━━━━━━━━━━━━━\u001b[0m\u001b[37m\u001b[0m \u001b[1m1s\u001b[0m 35ms/step - accuracy: 0.1912 - loss: 2.3237\n",
            "\u001b[1m16/16\u001b[0m \u001b[32m━━━━━━━━━━━━━━━━━━━━\u001b[0m\u001b[37m\u001b[0m \u001b[1m1s\u001b[0m 36ms/step - accuracy: 0.9557 - loss: 0.2180\n",
            "\u001b[1m16/16\u001b[0m \u001b[32m━━━━━━━━━━━━━━━━━━━━\u001b[0m\u001b[37m\u001b[0m \u001b[1m1s\u001b[0m 37ms/step - accuracy: 0.9110 - loss: 0.3347\n",
            "\u001b[1m16/16\u001b[0m \u001b[32m━━━━━━━━━━━━━━━━━━━━\u001b[0m\u001b[37m\u001b[0m \u001b[1m1s\u001b[0m 34ms/step - accuracy: 0.9276 - loss: 0.2014\n",
            "\u001b[1m16/16\u001b[0m \u001b[32m━━━━━━━━━━━━━━━━━━━━\u001b[0m\u001b[37m\u001b[0m \u001b[1m1s\u001b[0m 34ms/step - accuracy: 0.6597 - loss: 0.8240\n",
            "\u001b[1m16/16\u001b[0m \u001b[32m━━━━━━━━━━━━━━━━━━━━\u001b[0m\u001b[37m\u001b[0m \u001b[1m1s\u001b[0m 35ms/step - accuracy: 0.9965 - loss: 0.0631\n",
            "\u001b[1m16/16\u001b[0m \u001b[32m━━━━━━━━━━━━━━━━━━━━\u001b[0m\u001b[37m\u001b[0m \u001b[1m1s\u001b[0m 35ms/step - accuracy: 0.9723 - loss: 0.1327\n",
            "\u001b[1m16/16\u001b[0m \u001b[32m━━━━━━━━━━━━━━━━━━━━\u001b[0m\u001b[37m\u001b[0m \u001b[1m1s\u001b[0m 40ms/step - accuracy: 0.1251 - loss: 3.1235\n",
            "\u001b[1m16/16\u001b[0m \u001b[32m━━━━━━━━━━━━━━━━━━━━\u001b[0m\u001b[37m\u001b[0m \u001b[1m1s\u001b[0m 37ms/step - accuracy: 0.8643 - loss: 0.4482\n",
            "\u001b[1m16/16\u001b[0m \u001b[32m━━━━━━━━━━━━━━━━━━━━\u001b[0m\u001b[37m\u001b[0m \u001b[1m1s\u001b[0m 34ms/step - accuracy: 0.9207 - loss: 0.2837\n",
            "\u001b[1m16/16\u001b[0m \u001b[32m━━━━━━━━━━━━━━━━━━━━\u001b[0m\u001b[37m\u001b[0m \u001b[1m1s\u001b[0m 34ms/step - accuracy: 0.7659 - loss: 0.6631\n",
            "\u001b[1m16/16\u001b[0m \u001b[32m━━━━━━━━━━━━━━━━━━━━\u001b[0m\u001b[37m\u001b[0m \u001b[1m1s\u001b[0m 34ms/step - accuracy: 0.8264 - loss: 0.5830\n",
            "\u001b[1m16/16\u001b[0m \u001b[32m━━━━━━━━━━━━━━━━━━━━\u001b[0m\u001b[37m\u001b[0m \u001b[1m1s\u001b[0m 35ms/step - accuracy: 0.9641 - loss: 0.1118\n",
            "\u001b[1m16/16\u001b[0m \u001b[32m━━━━━━━━━━━━━━━━━━━━\u001b[0m\u001b[37m\u001b[0m \u001b[1m1s\u001b[0m 40ms/step - accuracy: 0.8130 - loss: 0.5210\n",
            "\u001b[1m16/16\u001b[0m \u001b[32m━━━━━━━━━━━━━━━━━━━━\u001b[0m\u001b[37m\u001b[0m \u001b[1m1s\u001b[0m 34ms/step - accuracy: 0.6596 - loss: 0.8925\n",
            "\u001b[1m16/16\u001b[0m \u001b[32m━━━━━━━━━━━━━━━━━━━━\u001b[0m\u001b[37m\u001b[0m \u001b[1m1s\u001b[0m 34ms/step - accuracy: 0.7174 - loss: 0.7162\n",
            "\u001b[1m16/16\u001b[0m \u001b[32m━━━━━━━━━━━━━━━━━━━━\u001b[0m\u001b[37m\u001b[0m \u001b[1m1s\u001b[0m 34ms/step - accuracy: 0.7006 - loss: 0.9959\n",
            "\u001b[1m16/16\u001b[0m \u001b[32m━━━━━━━━━━━━━━━━━━━━\u001b[0m\u001b[37m\u001b[0m \u001b[1m1s\u001b[0m 35ms/step - accuracy: 0.9412 - loss: 0.2853\n",
            "\u001b[1m16/16\u001b[0m \u001b[32m━━━━━━━━━━━━━━━━━━━━\u001b[0m\u001b[37m\u001b[0m \u001b[1m1s\u001b[0m 36ms/step - accuracy: 0.6246 - loss: 0.8180\n",
            "\u001b[1m16/16\u001b[0m \u001b[32m━━━━━━━━━━━━━━━━━━━━\u001b[0m\u001b[37m\u001b[0m \u001b[1m1s\u001b[0m 38ms/step - accuracy: 0.8853 - loss: 0.3407\n",
            "\u001b[1m16/16\u001b[0m \u001b[32m━━━━━━━━━━━━━━━━━━━━\u001b[0m\u001b[37m\u001b[0m \u001b[1m1s\u001b[0m 33ms/step - accuracy: 0.1545 - loss: 2.0600\n",
            "\u001b[1m16/16\u001b[0m \u001b[32m━━━━━━━━━━━━━━━━━━━━\u001b[0m\u001b[37m\u001b[0m \u001b[1m1s\u001b[0m 34ms/step - accuracy: 0.8450 - loss: 0.5889\n",
            "\u001b[1m16/16\u001b[0m \u001b[32m━━━━━━━━━━━━━━━━━━━━\u001b[0m\u001b[37m\u001b[0m \u001b[1m1s\u001b[0m 35ms/step - accuracy: 0.8408 - loss: 0.4784\n",
            "\u001b[1m16/16\u001b[0m \u001b[32m━━━━━━━━━━━━━━━━━━━━\u001b[0m\u001b[37m\u001b[0m \u001b[1m1s\u001b[0m 33ms/step - accuracy: 0.9886 - loss: 0.0812\n",
            "\u001b[1m2/2\u001b[0m \u001b[32m━━━━━━━━━━━━━━━━━━━━\u001b[0m\u001b[37m\u001b[0m \u001b[1m0s\u001b[0m 50ms/step - accuracy: 0.6169 - loss: 1.3368\n",
            "\u001b[1m16/16\u001b[0m \u001b[32m━━━━━━━━━━━━━━━━━━━━\u001b[0m\u001b[37m\u001b[0m \u001b[1m1s\u001b[0m 39ms/step - accuracy: 0.6989 - loss: 0.7766\n",
            "\u001b[1m16/16\u001b[0m \u001b[32m━━━━━━━━━━━━━━━━━━━━\u001b[0m\u001b[37m\u001b[0m \u001b[1m1s\u001b[0m 39ms/step - accuracy: 0.9324 - loss: 0.2608\n",
            "\u001b[1m16/16\u001b[0m \u001b[32m━━━━━━━━━━━━━━━━━━━━\u001b[0m\u001b[37m\u001b[0m \u001b[1m1s\u001b[0m 38ms/step - accuracy: 0.9720 - loss: 0.1114\n",
            "\u001b[1m16/16\u001b[0m \u001b[32m━━━━━━━━━━━━━━━━━━━━\u001b[0m\u001b[37m\u001b[0m \u001b[1m1s\u001b[0m 35ms/step - accuracy: 0.9374 - loss: 0.1913\n",
            "\u001b[1m16/16\u001b[0m \u001b[32m━━━━━━━━━━━━━━━━━━━━\u001b[0m\u001b[37m\u001b[0m \u001b[1m1s\u001b[0m 34ms/step - accuracy: 0.7008 - loss: 0.7557\n",
            "\u001b[1m16/16\u001b[0m \u001b[32m━━━━━━━━━━━━━━━━━━━━\u001b[0m\u001b[37m\u001b[0m \u001b[1m1s\u001b[0m 35ms/step - accuracy: 0.3342 - loss: 1.7360\n",
            "\u001b[1m16/16\u001b[0m \u001b[32m━━━━━━━━━━━━━━━━━━━━\u001b[0m\u001b[37m\u001b[0m \u001b[1m1s\u001b[0m 39ms/step - accuracy: 0.7350 - loss: 0.6068\n",
            "\u001b[1m16/16\u001b[0m \u001b[32m━━━━━━━━━━━━━━━━━━━━\u001b[0m\u001b[37m\u001b[0m \u001b[1m1s\u001b[0m 37ms/step - accuracy: 0.9355 - loss: 0.2166\n",
            "\u001b[1m16/16\u001b[0m \u001b[32m━━━━━━━━━━━━━━━━━━━━\u001b[0m\u001b[37m\u001b[0m \u001b[1m1s\u001b[0m 34ms/step - accuracy: 0.9958 - loss: 0.0178\n",
            "\u001b[1m16/16\u001b[0m \u001b[32m━━━━━━━━━━━━━━━━━━━━\u001b[0m\u001b[37m\u001b[0m \u001b[1m1s\u001b[0m 34ms/step - accuracy: 1.0000 - loss: 0.0081\n",
            "\u001b[1m16/16\u001b[0m \u001b[32m━━━━━━━━━━━━━━━━━━━━\u001b[0m\u001b[37m\u001b[0m \u001b[1m1s\u001b[0m 34ms/step - accuracy: 0.7149 - loss: 1.7104\n",
            "\u001b[1m16/16\u001b[0m \u001b[32m━━━━━━━━━━━━━━━━━━━━\u001b[0m\u001b[37m\u001b[0m \u001b[1m1s\u001b[0m 41ms/step - accuracy: 0.9063 - loss: 0.2872\n",
            "\u001b[1m16/16\u001b[0m \u001b[32m━━━━━━━━━━━━━━━━━━━━\u001b[0m\u001b[37m\u001b[0m \u001b[1m1s\u001b[0m 37ms/step - accuracy: 0.9903 - loss: 0.1064\n",
            "\u001b[1m16/16\u001b[0m \u001b[32m━━━━━━━━━━━━━━━━━━━━\u001b[0m\u001b[37m\u001b[0m \u001b[1m1s\u001b[0m 34ms/step - accuracy: 0.5451 - loss: 1.1590\n",
            "\u001b[1m16/16\u001b[0m \u001b[32m━━━━━━━━━━━━━━━━━━━━\u001b[0m\u001b[37m\u001b[0m \u001b[1m1s\u001b[0m 34ms/step - accuracy: 0.0020 - loss: 3.5196\n",
            "\u001b[1m16/16\u001b[0m \u001b[32m━━━━━━━━━━━━━━━━━━━━\u001b[0m\u001b[37m\u001b[0m \u001b[1m1s\u001b[0m 34ms/step - accuracy: 0.2896 - loss: 2.0697\n",
            "\u001b[1m16/16\u001b[0m \u001b[32m━━━━━━━━━━━━━━━━━━━━\u001b[0m\u001b[37m\u001b[0m \u001b[1m1s\u001b[0m 35ms/step - accuracy: 0.5556 - loss: 1.5525\n",
            "\u001b[1m16/16\u001b[0m \u001b[32m━━━━━━━━━━━━━━━━━━━━\u001b[0m\u001b[37m\u001b[0m \u001b[1m1s\u001b[0m 37ms/step - accuracy: 0.9457 - loss: 0.2739\n",
            "\u001b[1m16/16\u001b[0m \u001b[32m━━━━━━━━━━━━━━━━━━━━\u001b[0m\u001b[37m\u001b[0m \u001b[1m1s\u001b[0m 34ms/step - accuracy: 0.8404 - loss: 1.2016\n",
            "\u001b[1m16/16\u001b[0m \u001b[32m━━━━━━━━━━━━━━━━━━━━\u001b[0m\u001b[37m\u001b[0m \u001b[1m1s\u001b[0m 35ms/step - accuracy: 0.5306 - loss: 1.1211\n",
            "\u001b[1m16/16\u001b[0m \u001b[32m━━━━━━━━━━━━━━━━━━━━\u001b[0m\u001b[37m\u001b[0m \u001b[1m1s\u001b[0m 34ms/step - accuracy: 0.6331 - loss: 0.7813\n",
            "\u001b[1m16/16\u001b[0m \u001b[32m━━━━━━━━━━━━━━━━━━━━\u001b[0m\u001b[37m\u001b[0m \u001b[1m1s\u001b[0m 34ms/step - accuracy: 0.7643 - loss: 1.0734\n",
            "\u001b[1m16/16\u001b[0m \u001b[32m━━━━━━━━━━━━━━━━━━━━\u001b[0m\u001b[37m\u001b[0m \u001b[1m1s\u001b[0m 35ms/step - accuracy: 0.9406 - loss: 0.3234\n",
            "\u001b[1m16/16\u001b[0m \u001b[32m━━━━━━━━━━━━━━━━━━━━\u001b[0m\u001b[37m\u001b[0m \u001b[1m1s\u001b[0m 38ms/step - accuracy: 0.2799 - loss: 2.9360\n",
            "\u001b[1m16/16\u001b[0m \u001b[32m━━━━━━━━━━━━━━━━━━━━\u001b[0m\u001b[37m\u001b[0m \u001b[1m1s\u001b[0m 34ms/step - accuracy: 0.4927 - loss: 1.3764\n",
            "\u001b[1m16/16\u001b[0m \u001b[32m━━━━━━━━━━━━━━━━━━━━\u001b[0m\u001b[37m\u001b[0m \u001b[1m1s\u001b[0m 33ms/step - accuracy: 0.9732 - loss: 0.1098\n",
            "\u001b[1m16/16\u001b[0m \u001b[32m━━━━━━━━━━━━━━━━━━━━\u001b[0m\u001b[37m\u001b[0m \u001b[1m1s\u001b[0m 33ms/step - accuracy: 0.1697 - loss: 3.6628\n",
            "\u001b[1m16/16\u001b[0m \u001b[32m━━━━━━━━━━━━━━━━━━━━\u001b[0m\u001b[37m\u001b[0m \u001b[1m1s\u001b[0m 34ms/step - accuracy: 0.9166 - loss: 0.2960\n",
            "\u001b[1m16/16\u001b[0m \u001b[32m━━━━━━━━━━━━━━━━━━━━\u001b[0m\u001b[37m\u001b[0m \u001b[1m1s\u001b[0m 39ms/step - accuracy: 0.9827 - loss: 0.0615\n",
            "\u001b[1m16/16\u001b[0m \u001b[32m━━━━━━━━━━━━━━━━━━━━\u001b[0m\u001b[37m\u001b[0m \u001b[1m1s\u001b[0m 37ms/step - accuracy: 0.4008 - loss: 1.7183\n",
            "\u001b[1m16/16\u001b[0m \u001b[32m━━━━━━━━━━━━━━━━━━━━\u001b[0m\u001b[37m\u001b[0m \u001b[1m1s\u001b[0m 34ms/step - accuracy: 0.8037 - loss: 0.4382\n",
            "\u001b[1m16/16\u001b[0m \u001b[32m━━━━━━━━━━━━━━━━━━━━\u001b[0m\u001b[37m\u001b[0m \u001b[1m1s\u001b[0m 34ms/step - accuracy: 0.5822 - loss: 1.0361\n",
            "\u001b[1m16/16\u001b[0m \u001b[32m━━━━━━━━━━━━━━━━━━━━\u001b[0m\u001b[37m\u001b[0m \u001b[1m1s\u001b[0m 34ms/step - accuracy: 0.4563 - loss: 1.7261\n",
            "\u001b[1m16/16\u001b[0m \u001b[32m━━━━━━━━━━━━━━━━━━━━\u001b[0m\u001b[37m\u001b[0m \u001b[1m1s\u001b[0m 34ms/step - accuracy: 0.5711 - loss: 1.3991\n",
            "\u001b[1m16/16\u001b[0m \u001b[32m━━━━━━━━━━━━━━━━━━━━\u001b[0m\u001b[37m\u001b[0m \u001b[1m1s\u001b[0m 39ms/step - accuracy: 0.7526 - loss: 0.6552\n",
            "\u001b[1m16/16\u001b[0m \u001b[32m━━━━━━━━━━━━━━━━━━━━\u001b[0m\u001b[37m\u001b[0m \u001b[1m1s\u001b[0m 35ms/step - accuracy: 0.7594 - loss: 0.6780\n",
            "\u001b[1m16/16\u001b[0m \u001b[32m━━━━━━━━━━━━━━━━━━━━\u001b[0m\u001b[37m\u001b[0m \u001b[1m1s\u001b[0m 33ms/step - accuracy: 0.6086 - loss: 1.3825\n",
            "\u001b[1m16/16\u001b[0m \u001b[32m━━━━━━━━━━━━━━━━━━━━\u001b[0m\u001b[37m\u001b[0m \u001b[1m1s\u001b[0m 34ms/step - accuracy: 0.8335 - loss: 0.5397\n",
            "\u001b[1m16/16\u001b[0m \u001b[32m━━━━━━━━━━━━━━━━━━━━\u001b[0m\u001b[37m\u001b[0m \u001b[1m1s\u001b[0m 34ms/step - accuracy: 0.9631 - loss: 0.1638\n",
            " Epoch 7 average val accuracy: 0.6133\n",
            "\n",
            "🔁 Epoch 8/10\n",
            "\u001b[1m16/16\u001b[0m \u001b[32m━━━━━━━━━━━━━━━━━━━━\u001b[0m\u001b[37m\u001b[0m \u001b[1m1s\u001b[0m 36ms/step - accuracy: 0.9386 - loss: 0.2051\n",
            "\u001b[1m16/16\u001b[0m \u001b[32m━━━━━━━━━━━━━━━━━━━━\u001b[0m\u001b[37m\u001b[0m \u001b[1m1s\u001b[0m 37ms/step - accuracy: 0.3292 - loss: 1.6611\n",
            "\u001b[1m16/16\u001b[0m \u001b[32m━━━━━━━━━━━━━━━━━━━━\u001b[0m\u001b[37m\u001b[0m \u001b[1m1s\u001b[0m 37ms/step - accuracy: 0.8884 - loss: 0.2786\n",
            "\u001b[1m16/16\u001b[0m \u001b[32m━━━━━━━━━━━━━━━━━━━━\u001b[0m\u001b[37m\u001b[0m \u001b[1m1s\u001b[0m 33ms/step - accuracy: 0.8411 - loss: 0.6388\n",
            "\u001b[1m16/16\u001b[0m \u001b[32m━━━━━━━━━━━━━━━━━━━━\u001b[0m\u001b[37m\u001b[0m \u001b[1m1s\u001b[0m 34ms/step - accuracy: 0.8451 - loss: 0.4050\n",
            "\u001b[1m16/16\u001b[0m \u001b[32m━━━━━━━━━━━━━━━━━━━━\u001b[0m\u001b[37m\u001b[0m \u001b[1m1s\u001b[0m 34ms/step - accuracy: 0.0265 - loss: 2.8214\n",
            "\u001b[1m16/16\u001b[0m \u001b[32m━━━━━━━━━━━━━━━━━━━━\u001b[0m\u001b[37m\u001b[0m \u001b[1m1s\u001b[0m 33ms/step - accuracy: 0.7311 - loss: 0.9236\n",
            "\u001b[1m16/16\u001b[0m \u001b[32m━━━━━━━━━━━━━━━━━━━━\u001b[0m\u001b[37m\u001b[0m \u001b[1m1s\u001b[0m 40ms/step - accuracy: 0.5894 - loss: 1.0834\n",
            "\u001b[1m16/16\u001b[0m \u001b[32m━━━━━━━━━━━━━━━━━━━━\u001b[0m\u001b[37m\u001b[0m \u001b[1m1s\u001b[0m 34ms/step - accuracy: 0.7928 - loss: 0.5323\n",
            "\u001b[1m16/16\u001b[0m \u001b[32m━━━━━━━━━━━━━━━━━━━━\u001b[0m\u001b[37m\u001b[0m \u001b[1m1s\u001b[0m 33ms/step - accuracy: 0.4729 - loss: 1.2131\n",
            "\u001b[1m16/16\u001b[0m \u001b[32m━━━━━━━━━━━━━━━━━━━━\u001b[0m\u001b[37m\u001b[0m \u001b[1m1s\u001b[0m 35ms/step - accuracy: 0.9989 - loss: 0.0191\n",
            "\u001b[1m16/16\u001b[0m \u001b[32m━━━━━━━━━━━━━━━━━━━━\u001b[0m\u001b[37m\u001b[0m \u001b[1m1s\u001b[0m 34ms/step - accuracy: 0.6616 - loss: 0.9712\n",
            "\u001b[1m16/16\u001b[0m \u001b[32m━━━━━━━━━━━━━━━━━━━━\u001b[0m\u001b[37m\u001b[0m \u001b[1m1s\u001b[0m 34ms/step - accuracy: 0.9888 - loss: 0.3469\n",
            "\u001b[1m16/16\u001b[0m \u001b[32m━━━━━━━━━━━━━━━━━━━━\u001b[0m\u001b[37m\u001b[0m \u001b[1m1s\u001b[0m 40ms/step - accuracy: 0.7955 - loss: 0.5108\n",
            "\u001b[1m16/16\u001b[0m \u001b[32m━━━━━━━━━━━━━━━━━━━━\u001b[0m\u001b[37m\u001b[0m \u001b[1m1s\u001b[0m 34ms/step - accuracy: 0.9813 - loss: 0.1186\n",
            "\u001b[1m16/16\u001b[0m \u001b[32m━━━━━━━━━━━━━━━━━━━━\u001b[0m\u001b[37m\u001b[0m \u001b[1m1s\u001b[0m 34ms/step - accuracy: 0.3695 - loss: 2.0648\n",
            "\u001b[1m16/16\u001b[0m \u001b[32m━━━━━━━━━━━━━━━━━━━━\u001b[0m\u001b[37m\u001b[0m \u001b[1m1s\u001b[0m 34ms/step - accuracy: 0.9725 - loss: 0.2130\n",
            "\u001b[1m16/16\u001b[0m \u001b[32m━━━━━━━━━━━━━━━━━━━━\u001b[0m\u001b[37m\u001b[0m \u001b[1m1s\u001b[0m 34ms/step - accuracy: 0.7985 - loss: 0.4939\n",
            "\u001b[1m16/16\u001b[0m \u001b[32m━━━━━━━━━━━━━━━━━━━━\u001b[0m\u001b[37m\u001b[0m \u001b[1m1s\u001b[0m 36ms/step - accuracy: 0.5699 - loss: 0.9549\n",
            "\u001b[1m16/16\u001b[0m \u001b[32m━━━━━━━━━━━━━━━━━━━━\u001b[0m\u001b[37m\u001b[0m \u001b[1m1s\u001b[0m 38ms/step - accuracy: 0.9395 - loss: 0.3295\n",
            "\u001b[1m16/16\u001b[0m \u001b[32m━━━━━━━━━━━━━━━━━━━━\u001b[0m\u001b[37m\u001b[0m \u001b[1m1s\u001b[0m 37ms/step - accuracy: 0.8445 - loss: 0.4900\n",
            "\u001b[1m16/16\u001b[0m \u001b[32m━━━━━━━━━━━━━━━━━━━━\u001b[0m\u001b[37m\u001b[0m \u001b[1m1s\u001b[0m 34ms/step - accuracy: 0.9476 - loss: 0.1598\n",
            "\u001b[1m16/16\u001b[0m \u001b[32m━━━━━━━━━━━━━━━━━━━━\u001b[0m\u001b[37m\u001b[0m \u001b[1m1s\u001b[0m 33ms/step - accuracy: 0.3310 - loss: 2.6682\n",
            "\u001b[1m16/16\u001b[0m \u001b[32m━━━━━━━━━━━━━━━━━━━━\u001b[0m\u001b[37m\u001b[0m \u001b[1m1s\u001b[0m 34ms/step - accuracy: 0.8492 - loss: 0.4805\n",
            "\u001b[1m16/16\u001b[0m \u001b[32m━━━━━━━━━━━━━━━━━━━━\u001b[0m\u001b[37m\u001b[0m \u001b[1m1s\u001b[0m 35ms/step - accuracy: 0.4172 - loss: 1.7828\n",
            "\u001b[1m16/16\u001b[0m \u001b[32m━━━━━━━━━━━━━━━━━━━━\u001b[0m\u001b[37m\u001b[0m \u001b[1m1s\u001b[0m 36ms/step - accuracy: 0.8172 - loss: 0.6861\n",
            "\u001b[1m16/16\u001b[0m \u001b[32m━━━━━━━━━━━━━━━━━━━━\u001b[0m\u001b[37m\u001b[0m \u001b[1m1s\u001b[0m 33ms/step - accuracy: 0.5085 - loss: 1.2083\n",
            "\u001b[1m16/16\u001b[0m \u001b[32m━━━━━━━━━━━━━━━━━━━━\u001b[0m\u001b[37m\u001b[0m \u001b[1m1s\u001b[0m 34ms/step - accuracy: 0.7549 - loss: 0.8071\n",
            "\u001b[1m16/16\u001b[0m \u001b[32m━━━━━━━━━━━━━━━━━━━━\u001b[0m\u001b[37m\u001b[0m \u001b[1m1s\u001b[0m 34ms/step - accuracy: 0.8613 - loss: 0.4460\n",
            "\u001b[1m16/16\u001b[0m \u001b[32m━━━━━━━━━━━━━━━━━━━━\u001b[0m\u001b[37m\u001b[0m \u001b[1m1s\u001b[0m 33ms/step - accuracy: 0.8790 - loss: 0.4094\n",
            "\u001b[1m16/16\u001b[0m \u001b[32m━━━━━━━━━━━━━━━━━━━━\u001b[0m\u001b[37m\u001b[0m \u001b[1m1s\u001b[0m 39ms/step - accuracy: 0.9063 - loss: 0.2975\n",
            "\u001b[1m16/16\u001b[0m \u001b[32m━━━━━━━━━━━━━━━━━━━━\u001b[0m\u001b[37m\u001b[0m \u001b[1m1s\u001b[0m 35ms/step - accuracy: 0.6886 - loss: 0.9358\n",
            "\u001b[1m2/2\u001b[0m \u001b[32m━━━━━━━━━━━━━━━━━━━━\u001b[0m\u001b[37m\u001b[0m \u001b[1m0s\u001b[0m 50ms/step - accuracy: 0.3298 - loss: 2.0704\n",
            "\u001b[1m16/16\u001b[0m \u001b[32m━━━━━━━━━━━━━━━━━━━━\u001b[0m\u001b[37m\u001b[0m \u001b[1m1s\u001b[0m 37ms/step - accuracy: 0.7172 - loss: 0.8692\n",
            "\u001b[1m16/16\u001b[0m \u001b[32m━━━━━━━━━━━━━━━━━━━━\u001b[0m\u001b[37m\u001b[0m \u001b[1m1s\u001b[0m 34ms/step - accuracy: 0.9016 - loss: 0.3076\n",
            "\u001b[1m16/16\u001b[0m \u001b[32m━━━━━━━━━━━━━━━━━━━━\u001b[0m\u001b[37m\u001b[0m \u001b[1m1s\u001b[0m 34ms/step - accuracy: 0.9492 - loss: 0.1376\n",
            "\u001b[1m16/16\u001b[0m \u001b[32m━━━━━━━━━━━━━━━━━━━━\u001b[0m\u001b[37m\u001b[0m \u001b[1m1s\u001b[0m 35ms/step - accuracy: 0.8858 - loss: 0.3103\n",
            "\u001b[1m16/16\u001b[0m \u001b[32m━━━━━━━━━━━━━━━━━━━━\u001b[0m\u001b[37m\u001b[0m \u001b[1m1s\u001b[0m 38ms/step - accuracy: 0.8177 - loss: 0.4925\n",
            "\u001b[1m16/16\u001b[0m \u001b[32m━━━━━━━━━━━━━━━━━━━━\u001b[0m\u001b[37m\u001b[0m \u001b[1m1s\u001b[0m 38ms/step - accuracy: 0.7965 - loss: 1.0389\n",
            "\u001b[1m16/16\u001b[0m \u001b[32m━━━━━━━━━━━━━━━━━━━━\u001b[0m\u001b[37m\u001b[0m \u001b[1m1s\u001b[0m 34ms/step - accuracy: 0.7470 - loss: 0.7123\n",
            "\u001b[1m16/16\u001b[0m \u001b[32m━━━━━━━━━━━━━━━━━━━━\u001b[0m\u001b[37m\u001b[0m \u001b[1m1s\u001b[0m 36ms/step - accuracy: 0.9988 - loss: 0.0311\n",
            "\u001b[1m16/16\u001b[0m \u001b[32m━━━━━━━━━━━━━━━━━━━━\u001b[0m\u001b[37m\u001b[0m \u001b[1m1s\u001b[0m 34ms/step - accuracy: 0.7259 - loss: 0.6555\n",
            "\u001b[1m16/16\u001b[0m \u001b[32m━━━━━━━━━━━━━━━━━━━━\u001b[0m\u001b[37m\u001b[0m \u001b[1m1s\u001b[0m 40ms/step - accuracy: 0.7588 - loss: 0.8621\n",
            "\u001b[1m16/16\u001b[0m \u001b[32m━━━━━━━━━━━━━━━━━━━━\u001b[0m\u001b[37m\u001b[0m \u001b[1m1s\u001b[0m 34ms/step - accuracy: 0.1789 - loss: 2.3455\n",
            "\u001b[1m16/16\u001b[0m \u001b[32m━━━━━━━━━━━━━━━━━━━━\u001b[0m\u001b[37m\u001b[0m \u001b[1m1s\u001b[0m 33ms/step - accuracy: 0.9221 - loss: 0.6859\n",
            "\u001b[1m16/16\u001b[0m \u001b[32m━━━━━━━━━━━━━━━━━━━━\u001b[0m\u001b[37m\u001b[0m \u001b[1m1s\u001b[0m 36ms/step - accuracy: 0.9181 - loss: 0.2885\n",
            "\u001b[1m16/16\u001b[0m \u001b[32m━━━━━━━━━━━━━━━━━━━━\u001b[0m\u001b[37m\u001b[0m \u001b[1m1s\u001b[0m 37ms/step - accuracy: 0.5549 - loss: 1.1978\n",
            "\u001b[1m16/16\u001b[0m \u001b[32m━━━━━━━━━━━━━━━━━━━━\u001b[0m\u001b[37m\u001b[0m \u001b[1m1s\u001b[0m 42ms/step - accuracy: 0.8301 - loss: 0.4506\n",
            "\u001b[1m16/16\u001b[0m \u001b[32m━━━━━━━━━━━━━━━━━━━━\u001b[0m\u001b[37m\u001b[0m \u001b[1m1s\u001b[0m 39ms/step - accuracy: 0.8050 - loss: 0.7109\n",
            "\u001b[1m16/16\u001b[0m \u001b[32m━━━━━━━━━━━━━━━━━━━━\u001b[0m\u001b[37m\u001b[0m \u001b[1m1s\u001b[0m 38ms/step - accuracy: 0.7564 - loss: 0.6767\n",
            "\u001b[1m16/16\u001b[0m \u001b[32m━━━━━━━━━━━━━━━━━━━━\u001b[0m\u001b[37m\u001b[0m \u001b[1m1s\u001b[0m 34ms/step - accuracy: 0.6616 - loss: 0.7877\n",
            "\u001b[1m16/16\u001b[0m \u001b[32m━━━━━━━━━━━━━━━━━━━━\u001b[0m\u001b[37m\u001b[0m \u001b[1m1s\u001b[0m 37ms/step - accuracy: 0.4741 - loss: 1.5872\n",
            "\u001b[1m16/16\u001b[0m \u001b[32m━━━━━━━━━━━━━━━━━━━━\u001b[0m\u001b[37m\u001b[0m \u001b[1m1s\u001b[0m 40ms/step - accuracy: 0.6269 - loss: 1.0537\n",
            "\u001b[1m16/16\u001b[0m \u001b[32m━━━━━━━━━━━━━━━━━━━━\u001b[0m\u001b[37m\u001b[0m \u001b[1m1s\u001b[0m 38ms/step - accuracy: 0.7198 - loss: 0.9360\n",
            "\u001b[1m16/16\u001b[0m \u001b[32m━━━━━━━━━━━━━━━━━━━━\u001b[0m\u001b[37m\u001b[0m \u001b[1m1s\u001b[0m 34ms/step - accuracy: 0.6028 - loss: 1.5722\n",
            "\u001b[1m16/16\u001b[0m \u001b[32m━━━━━━━━━━━━━━━━━━━━\u001b[0m\u001b[37m\u001b[0m \u001b[1m1s\u001b[0m 36ms/step - accuracy: 0.9154 - loss: 0.2656\n",
            "\u001b[1m16/16\u001b[0m \u001b[32m━━━━━━━━━━━━━━━━━━━━\u001b[0m\u001b[37m\u001b[0m \u001b[1m1s\u001b[0m 38ms/step - accuracy: 0.9625 - loss: 0.1545\n",
            "\u001b[1m16/16\u001b[0m \u001b[32m━━━━━━━━━━━━━━━━━━━━\u001b[0m\u001b[37m\u001b[0m \u001b[1m1s\u001b[0m 39ms/step - accuracy: 0.4954 - loss: 1.3440\n",
            "\u001b[1m16/16\u001b[0m \u001b[32m━━━━━━━━━━━━━━━━━━━━\u001b[0m\u001b[37m\u001b[0m \u001b[1m1s\u001b[0m 33ms/step - accuracy: 0.9128 - loss: 0.2980\n",
            "\u001b[1m16/16\u001b[0m \u001b[32m━━━━━━━━━━━━━━━━━━━━\u001b[0m\u001b[37m\u001b[0m \u001b[1m1s\u001b[0m 34ms/step - accuracy: 0.7543 - loss: 0.8643\n",
            "\u001b[1m16/16\u001b[0m \u001b[32m━━━━━━━━━━━━━━━━━━━━\u001b[0m\u001b[37m\u001b[0m \u001b[1m1s\u001b[0m 37ms/step - accuracy: 0.9720 - loss: 0.0763\n",
            "\u001b[1m16/16\u001b[0m \u001b[32m━━━━━━━━━━━━━━━━━━━━\u001b[0m\u001b[37m\u001b[0m \u001b[1m1s\u001b[0m 38ms/step - accuracy: 0.9839 - loss: 0.0342\n",
            "\u001b[1m16/16\u001b[0m \u001b[32m━━━━━━━━━━━━━━━━━━━━\u001b[0m\u001b[37m\u001b[0m \u001b[1m1s\u001b[0m 39ms/step - accuracy: 0.2608 - loss: 2.2133\n",
            "\u001b[1m16/16\u001b[0m \u001b[32m━━━━━━━━━━━━━━━━━━━━\u001b[0m\u001b[37m\u001b[0m \u001b[1m1s\u001b[0m 34ms/step - accuracy: 0.5450 - loss: 1.5278\n",
            "\u001b[1m16/16\u001b[0m \u001b[32m━━━━━━━━━━━━━━━━━━━━\u001b[0m\u001b[37m\u001b[0m \u001b[1m1s\u001b[0m 35ms/step - accuracy: 0.6243 - loss: 1.0140\n",
            "\u001b[1m16/16\u001b[0m \u001b[32m━━━━━━━━━━━━━━━━━━━━\u001b[0m\u001b[37m\u001b[0m \u001b[1m1s\u001b[0m 38ms/step - accuracy: 0.8998 - loss: 0.3656\n",
            "\u001b[1m16/16\u001b[0m \u001b[32m━━━━━━━━━━━━━━━━━━━━\u001b[0m\u001b[37m\u001b[0m \u001b[1m1s\u001b[0m 35ms/step - accuracy: 0.7319 - loss: 0.8593\n",
            "\u001b[1m16/16\u001b[0m \u001b[32m━━━━━━━━━━━━━━━━━━━━\u001b[0m\u001b[37m\u001b[0m \u001b[1m1s\u001b[0m 40ms/step - accuracy: 0.6064 - loss: 1.1247\n",
            "\u001b[1m16/16\u001b[0m \u001b[32m━━━━━━━━━━━━━━━━━━━━\u001b[0m\u001b[37m\u001b[0m \u001b[1m1s\u001b[0m 37ms/step - accuracy: 0.5565 - loss: 1.1179\n",
            "\u001b[1m16/16\u001b[0m \u001b[32m━━━━━━━━━━━━━━━━━━━━\u001b[0m\u001b[37m\u001b[0m \u001b[1m1s\u001b[0m 37ms/step - accuracy: 0.8934 - loss: 0.3981\n",
            "\u001b[1m16/16\u001b[0m \u001b[32m━━━━━━━━━━━━━━━━━━━━\u001b[0m\u001b[37m\u001b[0m \u001b[1m1s\u001b[0m 36ms/step - accuracy: 0.8459 - loss: 0.3620\n",
            "\u001b[1m16/16\u001b[0m \u001b[32m━━━━━━━━━━━━━━━━━━━━\u001b[0m\u001b[37m\u001b[0m \u001b[1m1s\u001b[0m 34ms/step - accuracy: 0.8983 - loss: 0.3205\n",
            "\u001b[1m16/16\u001b[0m \u001b[32m━━━━━━━━━━━━━━━━━━━━\u001b[0m\u001b[37m\u001b[0m \u001b[1m1s\u001b[0m 39ms/step - accuracy: 0.4578 - loss: 1.5351\n",
            "\u001b[1m16/16\u001b[0m \u001b[32m━━━━━━━━━━━━━━━━━━━━\u001b[0m\u001b[37m\u001b[0m \u001b[1m1s\u001b[0m 39ms/step - accuracy: 0.5430 - loss: 1.2353\n",
            "\u001b[1m16/16\u001b[0m \u001b[32m━━━━━━━━━━━━━━━━━━━━\u001b[0m\u001b[37m\u001b[0m \u001b[1m1s\u001b[0m 36ms/step - accuracy: 0.5262 - loss: 1.1143\n",
            "\u001b[1m16/16\u001b[0m \u001b[32m━━━━━━━━━━━━━━━━━━━━\u001b[0m\u001b[37m\u001b[0m \u001b[1m1s\u001b[0m 33ms/step - accuracy: 0.9663 - loss: 0.1653\n",
            "\u001b[1m16/16\u001b[0m \u001b[32m━━━━━━━━━━━━━━━━━━━━\u001b[0m\u001b[37m\u001b[0m \u001b[1m1s\u001b[0m 37ms/step - accuracy: 0.2472 - loss: 1.7296\n",
            "\u001b[1m16/16\u001b[0m \u001b[32m━━━━━━━━━━━━━━━━━━━━\u001b[0m\u001b[37m\u001b[0m \u001b[1m1s\u001b[0m 37ms/step - accuracy: 0.5887 - loss: 0.9242\n",
            "\u001b[1m16/16\u001b[0m \u001b[32m━━━━━━━━━━━━━━━━━━━━\u001b[0m\u001b[37m\u001b[0m \u001b[1m1s\u001b[0m 39ms/step - accuracy: 0.8793 - loss: 0.3483\n",
            "\u001b[1m16/16\u001b[0m \u001b[32m━━━━━━━━━━━━━━━━━━━━\u001b[0m\u001b[37m\u001b[0m \u001b[1m1s\u001b[0m 38ms/step - accuracy: 0.2455 - loss: 2.5750\n"
          ]
        },
        {
          "output_type": "stream",
          "name": "stderr",
          "text": [
            "WARNING:absl:You are saving your model as an HDF5 file via `model.save()` or `keras.saving.save_model(model)`. This file format is considered legacy. We recommend using instead the native Keras format, e.g. `model.save('my_model.keras')` or `keras.saving.save_model(model, 'my_model.keras')`. \n"
          ]
        },
        {
          "output_type": "stream",
          "name": "stdout",
          "text": [
            " Epoch 8 average val accuracy: 0.7571\n",
            " Saving best model (manual check)...\n",
            "\n",
            "🔁 Epoch 9/10\n",
            "\u001b[1m16/16\u001b[0m \u001b[32m━━━━━━━━━━━━━━━━━━━━\u001b[0m\u001b[37m\u001b[0m \u001b[1m1s\u001b[0m 41ms/step - accuracy: 0.7957 - loss: 0.9416\n",
            "\u001b[1m16/16\u001b[0m \u001b[32m━━━━━━━━━━━━━━━━━━━━\u001b[0m\u001b[37m\u001b[0m \u001b[1m1s\u001b[0m 37ms/step - accuracy: 0.7777 - loss: 0.6877\n",
            "\u001b[1m16/16\u001b[0m \u001b[32m━━━━━━━━━━━━━━━━━━━━\u001b[0m\u001b[37m\u001b[0m \u001b[1m1s\u001b[0m 34ms/step - accuracy: 0.6157 - loss: 0.9202\n",
            "\u001b[1m16/16\u001b[0m \u001b[32m━━━━━━━━━━━━━━━━━━━━\u001b[0m\u001b[37m\u001b[0m \u001b[1m1s\u001b[0m 38ms/step - accuracy: 0.4041 - loss: 1.7270\n",
            "\u001b[1m16/16\u001b[0m \u001b[32m━━━━━━━━━━━━━━━━━━━━\u001b[0m\u001b[37m\u001b[0m \u001b[1m1s\u001b[0m 41ms/step - accuracy: 0.5626 - loss: 1.4519\n",
            "\u001b[1m16/16\u001b[0m \u001b[32m━━━━━━━━━━━━━━━━━━━━\u001b[0m\u001b[37m\u001b[0m \u001b[1m1s\u001b[0m 37ms/step - accuracy: 0.9145 - loss: 0.3222\n",
            "\u001b[1m16/16\u001b[0m \u001b[32m━━━━━━━━━━━━━━━━━━━━\u001b[0m\u001b[37m\u001b[0m \u001b[1m1s\u001b[0m 35ms/step - accuracy: 0.5954 - loss: 0.9670\n",
            "\u001b[1m16/16\u001b[0m \u001b[32m━━━━━━━━━━━━━━━━━━━━\u001b[0m\u001b[37m\u001b[0m \u001b[1m1s\u001b[0m 36ms/step - accuracy: 0.8554 - loss: 0.4898\n",
            "\u001b[1m16/16\u001b[0m \u001b[32m━━━━━━━━━━━━━━━━━━━━\u001b[0m\u001b[37m\u001b[0m \u001b[1m1s\u001b[0m 36ms/step - accuracy: 0.7107 - loss: 0.8194\n",
            "\u001b[1m16/16\u001b[0m \u001b[32m━━━━━━━━━━━━━━━━━━━━\u001b[0m\u001b[37m\u001b[0m \u001b[1m1s\u001b[0m 39ms/step - accuracy: 0.9705 - loss: 0.0806\n",
            "\u001b[1m2/2\u001b[0m \u001b[32m━━━━━━━━━━━━━━━━━━━━\u001b[0m\u001b[37m\u001b[0m \u001b[1m0s\u001b[0m 59ms/step - accuracy: 0.1754 - loss: 8.6296\n",
            "\u001b[1m16/16\u001b[0m \u001b[32m━━━━━━━━━━━━━━━━━━━━\u001b[0m\u001b[37m\u001b[0m \u001b[1m1s\u001b[0m 37ms/step - accuracy: 0.3792 - loss: 1.5323\n",
            "\u001b[1m16/16\u001b[0m \u001b[32m━━━━━━━━━━━━━━━━━━━━\u001b[0m\u001b[37m\u001b[0m \u001b[1m1s\u001b[0m 35ms/step - accuracy: 0.8301 - loss: 0.5458\n",
            "\u001b[1m16/16\u001b[0m \u001b[32m━━━━━━━━━━━━━━━━━━━━\u001b[0m\u001b[37m\u001b[0m \u001b[1m1s\u001b[0m 36ms/step - accuracy: 0.8728 - loss: 0.3989\n",
            "\u001b[1m16/16\u001b[0m \u001b[32m━━━━━━━━━━━━━━━━━━━━\u001b[0m\u001b[37m\u001b[0m \u001b[1m1s\u001b[0m 34ms/step - accuracy: 0.9670 - loss: 0.1073\n",
            "\u001b[1m16/16\u001b[0m \u001b[32m━━━━━━━━━━━━━━━━━━━━\u001b[0m\u001b[37m\u001b[0m \u001b[1m1s\u001b[0m 41ms/step - accuracy: 0.5531 - loss: 1.5518\n",
            "\u001b[1m16/16\u001b[0m \u001b[32m━━━━━━━━━━━━━━━━━━━━\u001b[0m\u001b[37m\u001b[0m \u001b[1m1s\u001b[0m 37ms/step - accuracy: 0.7476 - loss: 0.7956\n",
            "\u001b[1m16/16\u001b[0m \u001b[32m━━━━━━━━━━━━━━━━━━━━\u001b[0m\u001b[37m\u001b[0m \u001b[1m1s\u001b[0m 35ms/step - accuracy: 0.7419 - loss: 0.6096\n",
            "\u001b[1m16/16\u001b[0m \u001b[32m━━━━━━━━━━━━━━━━━━━━\u001b[0m\u001b[37m\u001b[0m \u001b[1m1s\u001b[0m 38ms/step - accuracy: 0.9178 - loss: 0.3168\n",
            "\u001b[1m16/16\u001b[0m \u001b[32m━━━━━━━━━━━━━━━━━━━━\u001b[0m\u001b[37m\u001b[0m \u001b[1m1s\u001b[0m 33ms/step - accuracy: 0.8741 - loss: 0.5034\n",
            "\u001b[1m16/16\u001b[0m \u001b[32m━━━━━━━━━━━━━━━━━━━━\u001b[0m\u001b[37m\u001b[0m \u001b[1m1s\u001b[0m 41ms/step - accuracy: 0.8428 - loss: 0.5104\n",
            "\u001b[1m16/16\u001b[0m \u001b[32m━━━━━━━━━━━━━━━━━━━━\u001b[0m\u001b[37m\u001b[0m \u001b[1m1s\u001b[0m 36ms/step - accuracy: 0.8816 - loss: 0.3500\n",
            "\u001b[1m16/16\u001b[0m \u001b[32m━━━━━━━━━━━━━━━━━━━━\u001b[0m\u001b[37m\u001b[0m \u001b[1m1s\u001b[0m 35ms/step - accuracy: 0.8212 - loss: 0.5360\n",
            "\u001b[1m16/16\u001b[0m \u001b[32m━━━━━━━━━━━━━━━━━━━━\u001b[0m\u001b[37m\u001b[0m \u001b[1m1s\u001b[0m 36ms/step - accuracy: 0.4475 - loss: 1.3511\n",
            "\u001b[1m16/16\u001b[0m \u001b[32m━━━━━━━━━━━━━━━━━━━━\u001b[0m\u001b[37m\u001b[0m \u001b[1m1s\u001b[0m 36ms/step - accuracy: 0.4497 - loss: 1.9565\n",
            "\u001b[1m16/16\u001b[0m \u001b[32m━━━━━━━━━━━━━━━━━━━━\u001b[0m\u001b[37m\u001b[0m \u001b[1m1s\u001b[0m 38ms/step - accuracy: 0.8579 - loss: 0.5804\n",
            "\u001b[1m16/16\u001b[0m \u001b[32m━━━━━━━━━━━━━━━━━━━━\u001b[0m\u001b[37m\u001b[0m \u001b[1m1s\u001b[0m 37ms/step - accuracy: 0.5888 - loss: 1.0514\n",
            "\u001b[1m16/16\u001b[0m \u001b[32m━━━━━━━━━━━━━━━━━━━━\u001b[0m\u001b[37m\u001b[0m \u001b[1m1s\u001b[0m 35ms/step - accuracy: 0.9721 - loss: 0.0938\n",
            "\u001b[1m16/16\u001b[0m \u001b[32m━━━━━━━━━━━━━━━━━━━━\u001b[0m\u001b[37m\u001b[0m \u001b[1m1s\u001b[0m 35ms/step - accuracy: 0.5341 - loss: 1.3413\n",
            "\u001b[1m16/16\u001b[0m \u001b[32m━━━━━━━━━━━━━━━━━━━━\u001b[0m\u001b[37m\u001b[0m \u001b[1m1s\u001b[0m 35ms/step - accuracy: 0.8920 - loss: 0.3590\n",
            "\u001b[1m16/16\u001b[0m \u001b[32m━━━━━━━━━━━━━━━━━━━━\u001b[0m\u001b[37m\u001b[0m \u001b[1m1s\u001b[0m 36ms/step - accuracy: 0.8272 - loss: 0.4389\n",
            "\u001b[1m16/16\u001b[0m \u001b[32m━━━━━━━━━━━━━━━━━━━━\u001b[0m\u001b[37m\u001b[0m \u001b[1m1s\u001b[0m 38ms/step - accuracy: 0.9108 - loss: 0.2728\n",
            "\u001b[1m16/16\u001b[0m \u001b[32m━━━━━━━━━━━━━━━━━━━━\u001b[0m\u001b[37m\u001b[0m \u001b[1m1s\u001b[0m 36ms/step - accuracy: 0.5481 - loss: 1.0321\n",
            "\u001b[1m16/16\u001b[0m \u001b[32m━━━━━━━━━━━━━━━━━━━━\u001b[0m\u001b[37m\u001b[0m \u001b[1m1s\u001b[0m 36ms/step - accuracy: 0.9064 - loss: 0.5271\n",
            "\u001b[1m16/16\u001b[0m \u001b[32m━━━━━━━━━━━━━━━━━━━━\u001b[0m\u001b[37m\u001b[0m \u001b[1m1s\u001b[0m 35ms/step - accuracy: 0.9934 - loss: 0.1914\n",
            "\u001b[1m16/16\u001b[0m \u001b[32m━━━━━━━━━━━━━━━━━━━━\u001b[0m\u001b[37m\u001b[0m \u001b[1m1s\u001b[0m 37ms/step - accuracy: 0.8365 - loss: 0.3860\n",
            "\u001b[1m16/16\u001b[0m \u001b[32m━━━━━━━━━━━━━━━━━━━━\u001b[0m\u001b[37m\u001b[0m \u001b[1m1s\u001b[0m 36ms/step - accuracy: 0.8421 - loss: 0.5236\n",
            "\u001b[1m16/16\u001b[0m \u001b[32m━━━━━━━━━━━━━━━━━━━━\u001b[0m\u001b[37m\u001b[0m \u001b[1m1s\u001b[0m 36ms/step - accuracy: 0.9244 - loss: 0.2103\n",
            "\u001b[1m16/16\u001b[0m \u001b[32m━━━━━━━━━━━━━━━━━━━━\u001b[0m\u001b[37m\u001b[0m \u001b[1m1s\u001b[0m 36ms/step - accuracy: 0.8465 - loss: 0.4525\n",
            "\u001b[1m16/16\u001b[0m \u001b[32m━━━━━━━━━━━━━━━━━━━━\u001b[0m\u001b[37m\u001b[0m \u001b[1m1s\u001b[0m 35ms/step - accuracy: 0.6454 - loss: 1.1819\n",
            "\u001b[1m16/16\u001b[0m \u001b[32m━━━━━━━━━━━━━━━━━━━━\u001b[0m\u001b[37m\u001b[0m \u001b[1m1s\u001b[0m 40ms/step - accuracy: 0.8766 - loss: 0.4305\n",
            "\u001b[1m16/16\u001b[0m \u001b[32m━━━━━━━━━━━━━━━━━━━━\u001b[0m\u001b[37m\u001b[0m \u001b[1m1s\u001b[0m 38ms/step - accuracy: 0.7522 - loss: 0.6437\n",
            "\u001b[1m16/16\u001b[0m \u001b[32m━━━━━━━━━━━━━━━━━━━━\u001b[0m\u001b[37m\u001b[0m \u001b[1m1s\u001b[0m 34ms/step - accuracy: 0.6925 - loss: 0.8401\n",
            "\u001b[1m16/16\u001b[0m \u001b[32m━━━━━━━━━━━━━━━━━━━━\u001b[0m\u001b[37m\u001b[0m \u001b[1m1s\u001b[0m 37ms/step - accuracy: 0.9716 - loss: 0.1239\n",
            "\u001b[1m16/16\u001b[0m \u001b[32m━━━━━━━━━━━━━━━━━━━━\u001b[0m\u001b[37m\u001b[0m \u001b[1m1s\u001b[0m 35ms/step - accuracy: 0.7999 - loss: 0.5664\n",
            "\u001b[1m16/16\u001b[0m \u001b[32m━━━━━━━━━━━━━━━━━━━━\u001b[0m\u001b[37m\u001b[0m \u001b[1m1s\u001b[0m 39ms/step - accuracy: 0.9512 - loss: 0.2084\n",
            "\u001b[1m16/16\u001b[0m \u001b[32m━━━━━━━━━━━━━━━━━━━━\u001b[0m\u001b[37m\u001b[0m \u001b[1m1s\u001b[0m 38ms/step - accuracy: 0.9404 - loss: 0.1726\n",
            "\u001b[1m16/16\u001b[0m \u001b[32m━━━━━━━━━━━━━━━━━━━━\u001b[0m\u001b[37m\u001b[0m \u001b[1m1s\u001b[0m 35ms/step - accuracy: 0.8692 - loss: 0.3784\n",
            "\u001b[1m16/16\u001b[0m \u001b[32m━━━━━━━━━━━━━━━━━━━━\u001b[0m\u001b[37m\u001b[0m \u001b[1m1s\u001b[0m 37ms/step - accuracy: 0.8681 - loss: 0.3217\n",
            "\u001b[1m16/16\u001b[0m \u001b[32m━━━━━━━━━━━━━━━━━━━━\u001b[0m\u001b[37m\u001b[0m \u001b[1m1s\u001b[0m 34ms/step - accuracy: 0.7588 - loss: 0.6206\n",
            "\u001b[1m16/16\u001b[0m \u001b[32m━━━━━━━━━━━━━━━━━━━━\u001b[0m\u001b[37m\u001b[0m \u001b[1m1s\u001b[0m 37ms/step - accuracy: 0.9928 - loss: 0.0353\n",
            "\u001b[1m16/16\u001b[0m \u001b[32m━━━━━━━━━━━━━━━━━━━━\u001b[0m\u001b[37m\u001b[0m \u001b[1m1s\u001b[0m 38ms/step - accuracy: 0.9951 - loss: 0.0154\n",
            "\u001b[1m16/16\u001b[0m \u001b[32m━━━━━━━━━━━━━━━━━━━━\u001b[0m\u001b[37m\u001b[0m \u001b[1m1s\u001b[0m 36ms/step - accuracy: 0.9682 - loss: 0.0983\n",
            "\u001b[1m16/16\u001b[0m \u001b[32m━━━━━━━━━━━━━━━━━━━━\u001b[0m\u001b[37m\u001b[0m \u001b[1m1s\u001b[0m 37ms/step - accuracy: 0.8953 - loss: 0.3048\n",
            "\u001b[1m16/16\u001b[0m \u001b[32m━━━━━━━━━━━━━━━━━━━━\u001b[0m\u001b[37m\u001b[0m \u001b[1m1s\u001b[0m 34ms/step - accuracy: 0.9053 - loss: 0.2456\n",
            "\u001b[1m16/16\u001b[0m \u001b[32m━━━━━━━━━━━━━━━━━━━━\u001b[0m\u001b[37m\u001b[0m \u001b[1m1s\u001b[0m 39ms/step - accuracy: 0.5275 - loss: 1.2192\n",
            "\u001b[1m16/16\u001b[0m \u001b[32m━━━━━━━━━━━━━━━━━━━━\u001b[0m\u001b[37m\u001b[0m \u001b[1m1s\u001b[0m 39ms/step - accuracy: 0.9748 - loss: 0.1165\n",
            "\u001b[1m16/16\u001b[0m \u001b[32m━━━━━━━━━━━━━━━━━━━━\u001b[0m\u001b[37m\u001b[0m \u001b[1m1s\u001b[0m 37ms/step - accuracy: 0.9964 - loss: 0.0496\n",
            "\u001b[1m16/16\u001b[0m \u001b[32m━━━━━━━━━━━━━━━━━━━━\u001b[0m\u001b[37m\u001b[0m \u001b[1m1s\u001b[0m 36ms/step - accuracy: 0.9833 - loss: 0.0852\n",
            "\u001b[1m16/16\u001b[0m \u001b[32m━━━━━━━━━━━━━━━━━━━━\u001b[0m\u001b[37m\u001b[0m \u001b[1m1s\u001b[0m 35ms/step - accuracy: 0.3742 - loss: 3.0780\n",
            "\u001b[1m16/16\u001b[0m \u001b[32m━━━━━━━━━━━━━━━━━━━━\u001b[0m\u001b[37m\u001b[0m \u001b[1m1s\u001b[0m 38ms/step - accuracy: 0.5903 - loss: 1.0480\n",
            "\u001b[1m16/16\u001b[0m \u001b[32m━━━━━━━━━━━━━━━━━━━━\u001b[0m\u001b[37m\u001b[0m \u001b[1m1s\u001b[0m 39ms/step - accuracy: 0.8890 - loss: 0.3345\n",
            "\u001b[1m16/16\u001b[0m \u001b[32m━━━━━━━━━━━━━━━━━━━━\u001b[0m\u001b[37m\u001b[0m \u001b[1m1s\u001b[0m 37ms/step - accuracy: 0.2593 - loss: 2.6563\n",
            "\u001b[1m16/16\u001b[0m \u001b[32m━━━━━━━━━━━━━━━━━━━━\u001b[0m\u001b[37m\u001b[0m \u001b[1m1s\u001b[0m 37ms/step - accuracy: 0.7898 - loss: 0.6581\n",
            "\u001b[1m16/16\u001b[0m \u001b[32m━━━━━━━━━━━━━━━━━━━━\u001b[0m\u001b[37m\u001b[0m \u001b[1m1s\u001b[0m 36ms/step - accuracy: 0.2188 - loss: 2.5823\n",
            "\u001b[1m16/16\u001b[0m \u001b[32m━━━━━━━━━━━━━━━━━━━━\u001b[0m\u001b[37m\u001b[0m \u001b[1m1s\u001b[0m 36ms/step - accuracy: 0.7387 - loss: 0.6776\n",
            "\u001b[1m16/16\u001b[0m \u001b[32m━━━━━━━━━━━━━━━━━━━━\u001b[0m\u001b[37m\u001b[0m \u001b[1m1s\u001b[0m 38ms/step - accuracy: 0.9124 - loss: 0.2560\n",
            "\u001b[1m16/16\u001b[0m \u001b[32m━━━━━━━━━━━━━━━━━━━━\u001b[0m\u001b[37m\u001b[0m \u001b[1m1s\u001b[0m 36ms/step - accuracy: 0.9890 - loss: 0.0414\n",
            "\u001b[1m16/16\u001b[0m \u001b[32m━━━━━━━━━━━━━━━━━━━━\u001b[0m\u001b[37m\u001b[0m \u001b[1m1s\u001b[0m 36ms/step - accuracy: 0.6934 - loss: 1.1031\n",
            "\u001b[1m16/16\u001b[0m \u001b[32m━━━━━━━━━━━━━━━━━━━━\u001b[0m\u001b[37m\u001b[0m \u001b[1m1s\u001b[0m 36ms/step - accuracy: 0.8455 - loss: 0.6186\n",
            "\u001b[1m16/16\u001b[0m \u001b[32m━━━━━━━━━━━━━━━━━━━━\u001b[0m\u001b[37m\u001b[0m \u001b[1m1s\u001b[0m 39ms/step - accuracy: 0.8828 - loss: 0.4295\n",
            "\u001b[1m16/16\u001b[0m \u001b[32m━━━━━━━━━━━━━━━━━━━━\u001b[0m\u001b[37m\u001b[0m \u001b[1m1s\u001b[0m 39ms/step - accuracy: 0.5591 - loss: 0.9842\n",
            "\u001b[1m16/16\u001b[0m \u001b[32m━━━━━━━━━━━━━━━━━━━━\u001b[0m\u001b[37m\u001b[0m \u001b[1m1s\u001b[0m 39ms/step - accuracy: 0.7311 - loss: 0.8014\n",
            "\u001b[1m16/16\u001b[0m \u001b[32m━━━━━━━━━━━━━━━━━━━━\u001b[0m\u001b[37m\u001b[0m \u001b[1m1s\u001b[0m 40ms/step - accuracy: 0.8248 - loss: 0.5734\n",
            "\u001b[1m16/16\u001b[0m \u001b[32m━━━━━━━━━━━━━━━━━━━━\u001b[0m\u001b[37m\u001b[0m \u001b[1m1s\u001b[0m 38ms/step - accuracy: 0.8307 - loss: 0.4488\n",
            "\u001b[1m16/16\u001b[0m \u001b[32m━━━━━━━━━━━━━━━━━━━━\u001b[0m\u001b[37m\u001b[0m \u001b[1m1s\u001b[0m 41ms/step - accuracy: 0.9797 - loss: 0.0728\n",
            "\u001b[1m16/16\u001b[0m \u001b[32m━━━━━━━━━━━━━━━━━━━━\u001b[0m\u001b[37m\u001b[0m \u001b[1m1s\u001b[0m 38ms/step - accuracy: 0.9330 - loss: 0.1966\n",
            "\u001b[1m16/16\u001b[0m \u001b[32m━━━━━━━━━━━━━━━━━━━━\u001b[0m\u001b[37m\u001b[0m \u001b[1m1s\u001b[0m 36ms/step - accuracy: 0.7178 - loss: 0.8444\n",
            "\u001b[1m16/16\u001b[0m \u001b[32m━━━━━━━━━━━━━━━━━━━━\u001b[0m\u001b[37m\u001b[0m \u001b[1m1s\u001b[0m 37ms/step - accuracy: 0.8748 - loss: 0.3575\n",
            "\u001b[1m16/16\u001b[0m \u001b[32m━━━━━━━━━━━━━━━━━━━━\u001b[0m\u001b[37m\u001b[0m \u001b[1m1s\u001b[0m 35ms/step - accuracy: 0.7641 - loss: 0.7502\n"
          ]
        },
        {
          "output_type": "stream",
          "name": "stderr",
          "text": [
            "WARNING:absl:You are saving your model as an HDF5 file via `model.save()` or `keras.saving.save_model(model)`. This file format is considered legacy. We recommend using instead the native Keras format, e.g. `model.save('my_model.keras')` or `keras.saving.save_model(model, 'my_model.keras')`. \n"
          ]
        },
        {
          "output_type": "stream",
          "name": "stdout",
          "text": [
            " Epoch 9 average val accuracy: 0.8158\n",
            " Saving best model (manual check)...\n",
            "\n",
            "🔁 Epoch 10/10\n",
            "\u001b[1m16/16\u001b[0m \u001b[32m━━━━━━━━━━━━━━━━━━━━\u001b[0m\u001b[37m\u001b[0m \u001b[1m1s\u001b[0m 37ms/step - accuracy: 0.6529 - loss: 1.0043\n",
            "\u001b[1m2/2\u001b[0m \u001b[32m━━━━━━━━━━━━━━━━━━━━\u001b[0m\u001b[37m\u001b[0m \u001b[1m0s\u001b[0m 52ms/step - accuracy: 0.4046 - loss: 2.0599\n",
            "\u001b[1m16/16\u001b[0m \u001b[32m━━━━━━━━━━━━━━━━━━━━\u001b[0m\u001b[37m\u001b[0m \u001b[1m1s\u001b[0m 38ms/step - accuracy: 0.4286 - loss: 1.3377\n",
            "\u001b[1m16/16\u001b[0m \u001b[32m━━━━━━━━━━━━━━━━━━━━\u001b[0m\u001b[37m\u001b[0m \u001b[1m1s\u001b[0m 39ms/step - accuracy: 0.9914 - loss: 0.0719\n",
            "\u001b[1m16/16\u001b[0m \u001b[32m━━━━━━━━━━━━━━━━━━━━\u001b[0m\u001b[37m\u001b[0m \u001b[1m1s\u001b[0m 38ms/step - accuracy: 0.8351 - loss: 0.4377\n",
            "\u001b[1m16/16\u001b[0m \u001b[32m━━━━━━━━━━━━━━━━━━━━\u001b[0m\u001b[37m\u001b[0m \u001b[1m1s\u001b[0m 39ms/step - accuracy: 0.9630 - loss: 0.1118\n",
            "\u001b[1m16/16\u001b[0m \u001b[32m━━━━━━━━━━━━━━━━━━━━\u001b[0m\u001b[37m\u001b[0m \u001b[1m1s\u001b[0m 41ms/step - accuracy: 0.5105 - loss: 1.2523\n",
            "\u001b[1m16/16\u001b[0m \u001b[32m━━━━━━━━━━━━━━━━━━━━\u001b[0m\u001b[37m\u001b[0m \u001b[1m1s\u001b[0m 38ms/step - accuracy: 0.8969 - loss: 0.3243\n",
            "\u001b[1m16/16\u001b[0m \u001b[32m━━━━━━━━━━━━━━━━━━━━\u001b[0m\u001b[37m\u001b[0m \u001b[1m1s\u001b[0m 38ms/step - accuracy: 0.9700 - loss: 0.0905\n",
            "\u001b[1m16/16\u001b[0m \u001b[32m━━━━━━━━━━━━━━━━━━━━\u001b[0m\u001b[37m\u001b[0m \u001b[1m1s\u001b[0m 37ms/step - accuracy: 0.9952 - loss: 0.0136\n",
            "\u001b[1m16/16\u001b[0m \u001b[32m━━━━━━━━━━━━━━━━━━━━\u001b[0m\u001b[37m\u001b[0m \u001b[1m1s\u001b[0m 39ms/step - accuracy: 0.9901 - loss: 0.0252\n",
            "\u001b[1m16/16\u001b[0m \u001b[32m━━━━━━━━━━━━━━━━━━━━\u001b[0m\u001b[37m\u001b[0m \u001b[1m1s\u001b[0m 40ms/step - accuracy: 0.9991 - loss: 0.0044\n",
            "\u001b[1m16/16\u001b[0m \u001b[32m━━━━━━━━━━━━━━━━━━━━\u001b[0m\u001b[37m\u001b[0m \u001b[1m1s\u001b[0m 38ms/step - accuracy: 0.2555 - loss: 3.9114\n",
            "\u001b[1m16/16\u001b[0m \u001b[32m━━━━━━━━━━━━━━━━━━━━\u001b[0m\u001b[37m\u001b[0m \u001b[1m1s\u001b[0m 38ms/step - accuracy: 0.9986 - loss: 0.0144\n",
            "\u001b[1m16/16\u001b[0m \u001b[32m━━━━━━━━━━━━━━━━━━━━\u001b[0m\u001b[37m\u001b[0m \u001b[1m1s\u001b[0m 37ms/step - accuracy: 0.5716 - loss: 1.5672\n",
            "\u001b[1m16/16\u001b[0m \u001b[32m━━━━━━━━━━━━━━━━━━━━\u001b[0m\u001b[37m\u001b[0m \u001b[1m1s\u001b[0m 40ms/step - accuracy: 0.9621 - loss: 0.3301\n",
            "\u001b[1m16/16\u001b[0m \u001b[32m━━━━━━━━━━━━━━━━━━━━\u001b[0m\u001b[37m\u001b[0m \u001b[1m1s\u001b[0m 38ms/step - accuracy: 0.5935 - loss: 1.1683\n",
            "\u001b[1m16/16\u001b[0m \u001b[32m━━━━━━━━━━━━━━━━━━━━\u001b[0m\u001b[37m\u001b[0m \u001b[1m1s\u001b[0m 37ms/step - accuracy: 0.8233 - loss: 0.5765\n",
            "\u001b[1m16/16\u001b[0m \u001b[32m━━━━━━━━━━━━━━━━━━━━\u001b[0m\u001b[37m\u001b[0m \u001b[1m1s\u001b[0m 38ms/step - accuracy: 0.9534 - loss: 0.1914\n",
            "\u001b[1m16/16\u001b[0m \u001b[32m━━━━━━━━━━━━━━━━━━━━\u001b[0m\u001b[37m\u001b[0m \u001b[1m1s\u001b[0m 38ms/step - accuracy: 0.9522 - loss: 0.1981\n",
            "\u001b[1m16/16\u001b[0m \u001b[32m━━━━━━━━━━━━━━━━━━━━\u001b[0m\u001b[37m\u001b[0m \u001b[1m1s\u001b[0m 42ms/step - accuracy: 0.3694 - loss: 1.8667\n",
            "\u001b[1m16/16\u001b[0m \u001b[32m━━━━━━━━━━━━━━━━━━━━\u001b[0m\u001b[37m\u001b[0m \u001b[1m1s\u001b[0m 36ms/step - accuracy: 0.7448 - loss: 0.7354\n",
            "\u001b[1m16/16\u001b[0m \u001b[32m━━━━━━━━━━━━━━━━━━━━\u001b[0m\u001b[37m\u001b[0m \u001b[1m1s\u001b[0m 38ms/step - accuracy: 0.7477 - loss: 0.6157\n",
            "\u001b[1m16/16\u001b[0m \u001b[32m━━━━━━━━━━━━━━━━━━━━\u001b[0m\u001b[37m\u001b[0m \u001b[1m1s\u001b[0m 36ms/step - accuracy: 0.9432 - loss: 0.2130\n",
            "\u001b[1m16/16\u001b[0m \u001b[32m━━━━━━━━━━━━━━━━━━━━\u001b[0m\u001b[37m\u001b[0m \u001b[1m1s\u001b[0m 36ms/step - accuracy: 0.8481 - loss: 0.5234\n",
            "\u001b[1m16/16\u001b[0m \u001b[32m━━━━━━━━━━━━━━━━━━━━\u001b[0m\u001b[37m\u001b[0m \u001b[1m1s\u001b[0m 41ms/step - accuracy: 0.9383 - loss: 0.2125\n",
            "\u001b[1m16/16\u001b[0m \u001b[32m━━━━━━━━━━━━━━━━━━━━\u001b[0m\u001b[37m\u001b[0m \u001b[1m1s\u001b[0m 37ms/step - accuracy: 0.6760 - loss: 0.8391\n",
            "\u001b[1m16/16\u001b[0m \u001b[32m━━━━━━━━━━━━━━━━━━━━\u001b[0m\u001b[37m\u001b[0m \u001b[1m1s\u001b[0m 34ms/step - accuracy: 0.7697 - loss: 0.6319\n",
            "\u001b[1m16/16\u001b[0m \u001b[32m━━━━━━━━━━━━━━━━━━━━\u001b[0m\u001b[37m\u001b[0m \u001b[1m1s\u001b[0m 38ms/step - accuracy: 0.8886 - loss: 0.3993\n",
            "\u001b[1m16/16\u001b[0m \u001b[32m━━━━━━━━━━━━━━━━━━━━\u001b[0m\u001b[37m\u001b[0m \u001b[1m1s\u001b[0m 34ms/step - accuracy: 0.7616 - loss: 0.9898\n",
            "\u001b[1m16/16\u001b[0m \u001b[32m━━━━━━━━━━━━━━━━━━━━\u001b[0m\u001b[37m\u001b[0m \u001b[1m1s\u001b[0m 42ms/step - accuracy: 0.5406 - loss: 1.5065\n",
            "\u001b[1m16/16\u001b[0m \u001b[32m━━━━━━━━━━━━━━━━━━━━\u001b[0m\u001b[37m\u001b[0m \u001b[1m1s\u001b[0m 38ms/step - accuracy: 0.7177 - loss: 0.7326\n",
            "\u001b[1m16/16\u001b[0m \u001b[32m━━━━━━━━━━━━━━━━━━━━\u001b[0m\u001b[37m\u001b[0m \u001b[1m1s\u001b[0m 37ms/step - accuracy: 0.9634 - loss: 0.1437\n",
            "\u001b[1m16/16\u001b[0m \u001b[32m━━━━━━━━━━━━━━━━━━━━\u001b[0m\u001b[37m\u001b[0m \u001b[1m1s\u001b[0m 36ms/step - accuracy: 0.9452 - loss: 0.1618\n",
            "\u001b[1m16/16\u001b[0m \u001b[32m━━━━━━━━━━━━━━━━━━━━\u001b[0m\u001b[37m\u001b[0m \u001b[1m1s\u001b[0m 37ms/step - accuracy: 0.9098 - loss: 0.4154\n",
            "\u001b[1m16/16\u001b[0m \u001b[32m━━━━━━━━━━━━━━━━━━━━\u001b[0m\u001b[37m\u001b[0m \u001b[1m1s\u001b[0m 41ms/step - accuracy: 0.9870 - loss: 0.0643\n",
            "\u001b[1m16/16\u001b[0m \u001b[32m━━━━━━━━━━━━━━━━━━━━\u001b[0m\u001b[37m\u001b[0m \u001b[1m1s\u001b[0m 35ms/step - accuracy: 0.1306 - loss: 3.1739\n",
            "\u001b[1m16/16\u001b[0m \u001b[32m━━━━━━━━━━━━━━━━━━━━\u001b[0m\u001b[37m\u001b[0m \u001b[1m1s\u001b[0m 34ms/step - accuracy: 0.6468 - loss: 0.8135\n",
            "\u001b[1m16/16\u001b[0m \u001b[32m━━━━━━━━━━━━━━━━━━━━\u001b[0m\u001b[37m\u001b[0m \u001b[1m1s\u001b[0m 37ms/step - accuracy: 0.8819 - loss: 0.3821\n",
            "\u001b[1m16/16\u001b[0m \u001b[32m━━━━━━━━━━━━━━━━━━━━\u001b[0m\u001b[37m\u001b[0m \u001b[1m1s\u001b[0m 39ms/step - accuracy: 0.3502 - loss: 2.1990\n",
            "\u001b[1m16/16\u001b[0m \u001b[32m━━━━━━━━━━━━━━━━━━━━\u001b[0m\u001b[37m\u001b[0m \u001b[1m1s\u001b[0m 37ms/step - accuracy: 0.7292 - loss: 0.6349\n",
            "\u001b[1m16/16\u001b[0m \u001b[32m━━━━━━━━━━━━━━━━━━━━\u001b[0m\u001b[37m\u001b[0m \u001b[1m1s\u001b[0m 34ms/step - accuracy: 0.7844 - loss: 0.5707\n",
            "\u001b[1m16/16\u001b[0m \u001b[32m━━━━━━━━━━━━━━━━━━━━\u001b[0m\u001b[37m\u001b[0m \u001b[1m1s\u001b[0m 36ms/step - accuracy: 0.7633 - loss: 0.6257\n",
            "\u001b[1m16/16\u001b[0m \u001b[32m━━━━━━━━━━━━━━━━━━━━\u001b[0m\u001b[37m\u001b[0m \u001b[1m1s\u001b[0m 35ms/step - accuracy: 0.3600 - loss: 1.9870\n",
            "\u001b[1m16/16\u001b[0m \u001b[32m━━━━━━━━━━━━━━━━━━━━\u001b[0m\u001b[37m\u001b[0m \u001b[1m1s\u001b[0m 35ms/step - accuracy: 0.9693 - loss: 0.1733\n",
            "\u001b[1m16/16\u001b[0m \u001b[32m━━━━━━━━━━━━━━━━━━━━\u001b[0m\u001b[37m\u001b[0m \u001b[1m1s\u001b[0m 39ms/step - accuracy: 0.6196 - loss: 1.3808\n",
            "\u001b[1m16/16\u001b[0m \u001b[32m━━━━━━━━━━━━━━━━━━━━\u001b[0m\u001b[37m\u001b[0m \u001b[1m1s\u001b[0m 35ms/step - accuracy: 0.8995 - loss: 0.3403\n",
            "\u001b[1m16/16\u001b[0m \u001b[32m━━━━━━━━━━━━━━━━━━━━\u001b[0m\u001b[37m\u001b[0m \u001b[1m1s\u001b[0m 38ms/step - accuracy: 0.9833 - loss: 0.0968\n",
            "\u001b[1m16/16\u001b[0m \u001b[32m━━━━━━━━━━━━━━━━━━━━\u001b[0m\u001b[37m\u001b[0m \u001b[1m1s\u001b[0m 38ms/step - accuracy: 0.7352 - loss: 0.7704\n",
            "\u001b[1m16/16\u001b[0m \u001b[32m━━━━━━━━━━━━━━━━━━━━\u001b[0m\u001b[37m\u001b[0m \u001b[1m1s\u001b[0m 39ms/step - accuracy: 0.4425 - loss: 1.7175\n",
            "\u001b[1m16/16\u001b[0m \u001b[32m━━━━━━━━━━━━━━━━━━━━\u001b[0m\u001b[37m\u001b[0m \u001b[1m1s\u001b[0m 39ms/step - accuracy: 0.5692 - loss: 1.6173\n",
            "\u001b[1m16/16\u001b[0m \u001b[32m━━━━━━━━━━━━━━━━━━━━\u001b[0m\u001b[37m\u001b[0m \u001b[1m1s\u001b[0m 38ms/step - accuracy: 0.6443 - loss: 0.9684\n",
            "\u001b[1m16/16\u001b[0m \u001b[32m━━━━━━━━━━━━━━━━━━━━\u001b[0m\u001b[37m\u001b[0m \u001b[1m1s\u001b[0m 34ms/step - accuracy: 0.8208 - loss: 0.5273\n",
            "\u001b[1m16/16\u001b[0m \u001b[32m━━━━━━━━━━━━━━━━━━━━\u001b[0m\u001b[37m\u001b[0m \u001b[1m1s\u001b[0m 34ms/step - accuracy: 0.8420 - loss: 0.4356\n",
            "\u001b[1m16/16\u001b[0m \u001b[32m━━━━━━━━━━━━━━━━━━━━\u001b[0m\u001b[37m\u001b[0m \u001b[1m1s\u001b[0m 39ms/step - accuracy: 0.7863 - loss: 0.6269\n",
            "\u001b[1m16/16\u001b[0m \u001b[32m━━━━━━━━━━━━━━━━━━━━\u001b[0m\u001b[37m\u001b[0m \u001b[1m1s\u001b[0m 34ms/step - accuracy: 0.9870 - loss: 0.0669\n",
            "\u001b[1m16/16\u001b[0m \u001b[32m━━━━━━━━━━━━━━━━━━━━\u001b[0m\u001b[37m\u001b[0m \u001b[1m1s\u001b[0m 36ms/step - accuracy: 0.9971 - loss: 0.0231\n",
            "\u001b[1m16/16\u001b[0m \u001b[32m━━━━━━━━━━━━━━━━━━━━\u001b[0m\u001b[37m\u001b[0m \u001b[1m1s\u001b[0m 35ms/step - accuracy: 0.9015 - loss: 0.2985\n",
            "\u001b[1m16/16\u001b[0m \u001b[32m━━━━━━━━━━━━━━━━━━━━\u001b[0m\u001b[37m\u001b[0m \u001b[1m1s\u001b[0m 38ms/step - accuracy: 0.7125 - loss: 0.6418\n",
            "\u001b[1m16/16\u001b[0m \u001b[32m━━━━━━━━━━━━━━━━━━━━\u001b[0m\u001b[37m\u001b[0m \u001b[1m1s\u001b[0m 36ms/step - accuracy: 0.8647 - loss: 0.3296\n",
            "\u001b[1m16/16\u001b[0m \u001b[32m━━━━━━━━━━━━━━━━━━━━\u001b[0m\u001b[37m\u001b[0m \u001b[1m1s\u001b[0m 35ms/step - accuracy: 0.8933 - loss: 0.3461\n",
            "\u001b[1m16/16\u001b[0m \u001b[32m━━━━━━━━━━━━━━━━━━━━\u001b[0m\u001b[37m\u001b[0m \u001b[1m1s\u001b[0m 35ms/step - accuracy: 0.8610 - loss: 0.4145\n",
            "\u001b[1m16/16\u001b[0m \u001b[32m━━━━━━━━━━━━━━━━━━━━\u001b[0m\u001b[37m\u001b[0m \u001b[1m1s\u001b[0m 36ms/step - accuracy: 0.8770 - loss: 0.3417\n",
            "\u001b[1m16/16\u001b[0m \u001b[32m━━━━━━━━━━━━━━━━━━━━\u001b[0m\u001b[37m\u001b[0m \u001b[1m1s\u001b[0m 38ms/step - accuracy: 0.3780 - loss: 1.9005\n",
            "\u001b[1m16/16\u001b[0m \u001b[32m━━━━━━━━━━━━━━━━━━━━\u001b[0m\u001b[37m\u001b[0m \u001b[1m1s\u001b[0m 39ms/step - accuracy: 0.6291 - loss: 1.1105\n",
            "\u001b[1m16/16\u001b[0m \u001b[32m━━━━━━━━━━━━━━━━━━━━\u001b[0m\u001b[37m\u001b[0m \u001b[1m1s\u001b[0m 35ms/step - accuracy: 0.8704 - loss: 0.3550\n",
            "\u001b[1m16/16\u001b[0m \u001b[32m━━━━━━━━━━━━━━━━━━━━\u001b[0m\u001b[37m\u001b[0m \u001b[1m1s\u001b[0m 37ms/step - accuracy: 0.9816 - loss: 0.0536\n",
            "\u001b[1m16/16\u001b[0m \u001b[32m━━━━━━━━━━━━━━━━━━━━\u001b[0m\u001b[37m\u001b[0m \u001b[1m1s\u001b[0m 38ms/step - accuracy: 0.7757 - loss: 0.5438\n",
            "\u001b[1m16/16\u001b[0m \u001b[32m━━━━━━━━━━━━━━━━━━━━\u001b[0m\u001b[37m\u001b[0m \u001b[1m1s\u001b[0m 38ms/step - accuracy: 0.6409 - loss: 1.0312\n",
            "\u001b[1m16/16\u001b[0m \u001b[32m━━━━━━━━━━━━━━━━━━━━\u001b[0m\u001b[37m\u001b[0m \u001b[1m1s\u001b[0m 39ms/step - accuracy: 0.8789 - loss: 0.3350\n",
            "\u001b[1m16/16\u001b[0m \u001b[32m━━━━━━━━━━━━━━━━━━━━\u001b[0m\u001b[37m\u001b[0m \u001b[1m1s\u001b[0m 37ms/step - accuracy: 0.7307 - loss: 0.7429\n",
            "\u001b[1m16/16\u001b[0m \u001b[32m━━━━━━━━━━━━━━━━━━━━\u001b[0m\u001b[37m\u001b[0m \u001b[1m1s\u001b[0m 36ms/step - accuracy: 0.8686 - loss: 0.3369\n",
            "\u001b[1m16/16\u001b[0m \u001b[32m━━━━━━━━━━━━━━━━━━━━\u001b[0m\u001b[37m\u001b[0m \u001b[1m1s\u001b[0m 37ms/step - accuracy: 0.8819 - loss: 0.2998\n",
            "\u001b[1m16/16\u001b[0m \u001b[32m━━━━━━━━━━━━━━━━━━━━\u001b[0m\u001b[37m\u001b[0m \u001b[1m1s\u001b[0m 41ms/step - accuracy: 0.9942 - loss: 0.0483\n",
            "\u001b[1m16/16\u001b[0m \u001b[32m━━━━━━━━━━━━━━━━━━━━\u001b[0m\u001b[37m\u001b[0m \u001b[1m1s\u001b[0m 37ms/step - accuracy: 0.9416 - loss: 0.1372\n",
            "\u001b[1m16/16\u001b[0m \u001b[32m━━━━━━━━━━━━━━━━━━━━\u001b[0m\u001b[37m\u001b[0m \u001b[1m1s\u001b[0m 37ms/step - accuracy: 0.8650 - loss: 0.3626\n",
            "\u001b[1m16/16\u001b[0m \u001b[32m━━━━━━━━━━━━━━━━━━━━\u001b[0m\u001b[37m\u001b[0m \u001b[1m1s\u001b[0m 35ms/step - accuracy: 0.7493 - loss: 0.8123\n",
            "\u001b[1m16/16\u001b[0m \u001b[32m━━━━━━━━━━━━━━━━━━━━\u001b[0m\u001b[37m\u001b[0m \u001b[1m1s\u001b[0m 36ms/step - accuracy: 0.9299 - loss: 0.2587\n",
            "\u001b[1m16/16\u001b[0m \u001b[32m━━━━━━━━━━━━━━━━━━━━\u001b[0m\u001b[37m\u001b[0m \u001b[1m1s\u001b[0m 40ms/step - accuracy: 0.8198 - loss: 0.4385\n",
            "\u001b[1m16/16\u001b[0m \u001b[32m━━━━━━━━━━━━━━━━━━━━\u001b[0m\u001b[37m\u001b[0m \u001b[1m1s\u001b[0m 38ms/step - accuracy: 0.8883 - loss: 0.2495\n",
            " Epoch 10 average val accuracy: 0.7760\n",
            "\n",
            "✅ CNN training complete. Best model saved at: models/cnn_model.h5\n"
          ]
        }
      ]
    },
    {
      "cell_type": "markdown",
      "source": [
        "###  tuned cnn and test set evaluated cnn files after deleting cell for tuned cnn and test cnn"
      ],
      "metadata": {
        "id": "J8WbweQp0rOR"
      }
    },
    {
      "cell_type": "code",
      "source": [
        "# === Step 22 Cleanup: Delete tuned CNN model + test results, then verify ===\n",
        "import os\n",
        "\n",
        "files_to_delete = [\n",
        "    'models/cnn_model_tuned_simple.h5',\n",
        "    'results/cnn_test_preds.npy',\n",
        "    'results/cnn_test_labels.npy'\n",
        "]\n",
        "\n",
        "# A. Delete files if present\n",
        "print(\"🧹 Deleting files...\")\n",
        "for file_path in files_to_delete:\n",
        "    if os.path.exists(file_path):\n",
        "        os.remove(file_path)\n",
        "        print(f\"✅ Deleted: {file_path}\")\n",
        "    else:\n",
        "        print(f\"⚠️ Not found (already deleted or never created): {file_path}\")\n",
        "\n",
        "# B. Post-deletion verification\n",
        "print(\"\\n🔍 Verifying deletion...\")\n",
        "for file_path in files_to_delete:\n",
        "    if os.path.exists(file_path):\n",
        "        print(f\"❌ Still exists: {file_path}\")\n",
        "    else:\n",
        "        print(f\"✅ Confirmed deleted: {file_path}\")"
      ],
      "metadata": {
        "colab": {
          "base_uri": "https://localhost:8080/"
        },
        "id": "h7maTtDP0E2-",
        "outputId": "5d0297a2-1f73-4f00-f1e9-b6ac233af162"
      },
      "execution_count": null,
      "outputs": [
        {
          "output_type": "stream",
          "name": "stdout",
          "text": [
            "🧹 Deleting files...\n",
            "✅ Deleted: models/cnn_model_tuned_simple.h5\n",
            "✅ Deleted: results/cnn_test_preds.npy\n",
            "✅ Deleted: results/cnn_test_labels.npy\n",
            "\n",
            "🔍 Verifying deletion...\n",
            "✅ Confirmed deleted: models/cnn_model_tuned_simple.h5\n",
            "✅ Confirmed deleted: results/cnn_test_preds.npy\n",
            "✅ Confirmed deleted: results/cnn_test_labels.npy\n"
          ]
        }
      ]
    },
    {
      "cell_type": "markdown",
      "source": [
        "### 22.2 set up for CNN tuning"
      ],
      "metadata": {
        "id": "Ec1JkXoh08mY"
      }
    },
    {
      "cell_type": "code",
      "source": [
        "# ===== Step 22.2-A: Class Weights + Generator Setup ===\n",
        "\n",
        "import os\n",
        "import numpy as np\n",
        "import tensorflow as tf\n",
        "import gc\n",
        "import pickle\n",
        "from sklearn.utils.class_weight import compute_class_weight\n",
        "from tensorflow.keras.utils import Sequence\n",
        "\n",
        "# === A. Paths and settings ===\n",
        "train_dir = 'train_parts'\n",
        "val_dir   = 'val_parts'\n",
        "cw_path   = 'cnn_class_weights.pkl'\n",
        "num_classes = 15\n",
        "input_shape = (128, 128, 3)\n",
        "batch_size = 64\n",
        "\n",
        "# === B. Compute or load class weights ===\n",
        "if os.path.exists(cw_path):\n",
        "    print(f\"⏩ Skipping class weight computation — already exists at: {cw_path}\")\n",
        "    with open(cw_path, 'rb') as f:\n",
        "        class_weights_dict = pickle.load(f)\n",
        "else:\n",
        "    print(\" Computing class weights from training labels...\")\n",
        "    all_labels = []\n",
        "    label_files = sorted([f for f in os.listdir(train_dir) if f.startswith('y_train_part_')])\n",
        "\n",
        "    for fname in label_files:\n",
        "        y_path = os.path.join(train_dir, fname)\n",
        "        if not os.path.exists(y_path):\n",
        "            print(f\" Missing file: {y_path}\")\n",
        "            continue\n",
        "        y = np.load(y_path)\n",
        "        all_labels.extend(y.tolist())\n",
        "        del y\n",
        "        gc.collect()\n",
        "\n",
        "    class_weights = compute_class_weight(class_weight='balanced',\n",
        "                                         classes=np.arange(num_classes),\n",
        "                                         y=all_labels)\n",
        "    class_weights_dict = dict(enumerate(class_weights))\n",
        "\n",
        "    with open(cw_path, 'wb') as f:\n",
        "        pickle.dump(class_weights_dict, f)\n",
        "    print(f\"✅ Saved computed class weights to: {cw_path}\")\n",
        "\n",
        "print(\"✅ Class weights ready:\", class_weights_dict)\n",
        "\n",
        "# === C. Define generator class ===\n",
        "class PatchDataGenerator(Sequence):\n",
        "    def __init__(self, part_dir, part_prefix, batch_size=64, input_shape=(128,128,3), shuffle=True):\n",
        "        super().__init__()\n",
        "        self.part_dir = part_dir\n",
        "        self.part_prefix = part_prefix\n",
        "        self.batch_size = batch_size\n",
        "        self.input_shape = input_shape\n",
        "        self.shuffle = shuffle\n",
        "        self.part_files = sorted([f for f in os.listdir(part_dir) if f.startswith(f'X_{part_prefix}')])\n",
        "        self.on_epoch_end()\n",
        "\n",
        "    def __len__(self):\n",
        "        return len(self.part_files)\n",
        "\n",
        "    def __getitem__(self, index):\n",
        "        part_file = self.part_files[index]\n",
        "        part_id = part_file.split('_')[-1].replace('.npy', '')\n",
        "        X_path = os.path.join(self.part_dir, part_file)\n",
        "        y_path = os.path.join(self.part_dir, f'y_{self.part_prefix}_{part_id}.npy')\n",
        "\n",
        "        X = np.load(X_path)\n",
        "        y = np.load(y_path)\n",
        "        return X, y\n",
        "\n",
        "    def on_epoch_end(self):\n",
        "        if self.shuffle:\n",
        "            np.random.shuffle(self.part_files)\n",
        "\n",
        "# === D. Instantiate generators ===\n",
        "train_gen = PatchDataGenerator(train_dir, 'train', batch_size=batch_size, input_shape=input_shape)\n",
        "val_gen   = PatchDataGenerator(val_dir,   'val',   batch_size=batch_size, input_shape=input_shape, shuffle=False)\n",
        "\n",
        "print(\"✅ Batch generators initialized.\")\n",
        "\n"
      ],
      "metadata": {
        "colab": {
          "base_uri": "https://localhost:8080/"
        },
        "id": "VRJD0QjD06je",
        "outputId": "ccce31b4-f265-438c-8013-112bbab4c25b"
      },
      "execution_count": null,
      "outputs": [
        {
          "output_type": "stream",
          "name": "stdout",
          "text": [
            " Computing class weights from training labels...\n",
            "✅ Saved computed class weights to: cnn_class_weights.pkl\n",
            "✅ Class weights ready: {0: np.float64(15.888353413654619), 1: np.float64(12.803236245954693), 2: np.float64(3.22035002035002), 3: np.float64(20.288205128205128), 4: np.float64(1.1021590750800947), 5: np.float64(10.466137566137567), 6: np.float64(0.3885770411295273), 7: np.float64(0.8271810151063719), 8: np.float64(16.53584117032393), 9: np.float64(0.23492176598082004), 10: np.float64(0.252377079246607), 11: np.float64(20.210472541507023), 12: np.float64(1.3111939680172342), 13: np.float64(3.797648188144948), 14: np.float64(2.786546927275929)}\n",
            "✅ Batch generators initialized.\n"
          ]
        }
      ]
    },
    {
      "cell_type": "markdown",
      "source": [
        "### Verification of x and y files"
      ],
      "metadata": {
        "id": "kKe_DM-GTmX5"
      }
    },
    {
      "cell_type": "code",
      "source": [
        "import os\n",
        "\n",
        "x_files = sorted([f for f in os.listdir('train_parts') if f.startswith('X_train_part_')])\n",
        "y_files = sorted([f for f in os.listdir('train_parts') if f.startswith('y_train_part_')])\n",
        "\n",
        "print(f\"🧩 Found {len(x_files)} X files and {len(y_files)} Y files\")\n",
        "\n",
        "# Find mismatches\n",
        "x_ids = {f.split('_')[-1].replace('.npy', '') for f in x_files}\n",
        "y_ids = {f.split('_')[-1].replace('.npy', '') for f in y_files}\n",
        "missing = x_ids - y_ids\n",
        "\n",
        "if missing:\n",
        "    print(f\"⚠️ Missing y_train_part_###.npy files for these parts: {sorted(missing)}\")\n",
        "else:\n",
        "    print(\"✅ All part IDs are correctly paired.\")"
      ],
      "metadata": {
        "colab": {
          "base_uri": "https://localhost:8080/"
        },
        "id": "MgjnMxHiVITt",
        "outputId": "e18e297b-e22a-4920-a695-553ec9a6c379"
      },
      "execution_count": null,
      "outputs": [
        {
          "output_type": "stream",
          "name": "stdout",
          "text": [
            "🧩 Found 80 X files and 80 Y files\n",
            "✅ All part IDs are correctly paired.\n"
          ]
        }
      ]
    },
    {
      "cell_type": "markdown",
      "source": [
        "### 22.2-B Tuning of CNN"
      ],
      "metadata": {
        "id": "r933ioGjhvfW"
      }
    },
    {
      "cell_type": "code",
      "source": [
        "# ===== Step 22.2-B: Final Tuning (Filename-matched, memory-safe, no assumptions) =====\n",
        "\n",
        "import os\n",
        "import numpy as np\n",
        "import tensorflow as tf\n",
        "import pickle\n",
        "import gc\n",
        "from tensorflow.keras import layers, models, callbacks\n",
        "from tensorflow.keras.utils import Sequence\n",
        "\n",
        "# === A. Settings ===\n",
        "train_dir = 'train_parts'\n",
        "val_dir = 'val_parts'\n",
        "model_save_path = 'models/cnn_model_tuned_fresh.h5'\n",
        "class_weights_path = 'cnn_class_weights.pkl'\n",
        "batch_size = 16\n",
        "epochs = 20\n",
        "num_classes = 15\n",
        "input_shape = (128, 128, 3)\n",
        "\n",
        "# === B. Skip if model already exists ===\n",
        "if os.path.exists(model_save_path):\n",
        "    print(f\"⏩ Skipping training — model already exists at: {model_save_path}\")\n",
        "\n",
        "else:\n",
        "    # === C. Load class weights ===\n",
        "    with open(class_weights_path, 'rb') as f:\n",
        "        class_weights = pickle.load(f)\n",
        "    gc.collect()\n",
        "\n",
        "    # === D. Improved generator (file-matched, robust) ===\n",
        "    class PatchDataGenerator(Sequence):\n",
        "        def __init__(self, part_dir, prefix, batch_size=64, input_shape=(128,128,3), shuffle=True):\n",
        "            super().__init__()\n",
        "            self.batch_size = batch_size\n",
        "            self.input_shape = input_shape\n",
        "            self.shuffle = shuffle\n",
        "\n",
        "            self.X_paths = []\n",
        "            self.y_paths = []\n",
        "\n",
        "            for f in sorted(os.listdir(part_dir)):\n",
        "                if f.startswith(f'X_{prefix}_part_'):\n",
        "                    part_id = f.split('_')[-1].replace('.npy', '')\n",
        "                    x_path = os.path.join(part_dir, f)\n",
        "                    y_path = os.path.join(part_dir, f'y_{prefix}_part_{part_id}.npy')\n",
        "                    if os.path.exists(y_path):\n",
        "                        self.X_paths.append(x_path)\n",
        "                        self.y_paths.append(y_path)\n",
        "\n",
        "            self.on_epoch_end()\n",
        "\n",
        "        def __len__(self):\n",
        "            return len(self.X_paths)\n",
        "\n",
        "        def __getitem__(self, index):\n",
        "            X = np.load(self.X_paths[index])\n",
        "            y = np.load(self.y_paths[index])\n",
        "            gc.collect()\n",
        "            return X, y\n",
        "\n",
        "        def on_epoch_end(self):\n",
        "            if self.shuffle:\n",
        "                combined = list(zip(self.X_paths, self.y_paths))\n",
        "                np.random.shuffle(combined)\n",
        "                self.X_paths, self.y_paths = zip(*combined)\n",
        "\n",
        "    # === E. Instantiate generators ===\n",
        "    train_gen = PatchDataGenerator(train_dir, 'train', batch_size=batch_size, input_shape=input_shape)\n",
        "    val_gen   = PatchDataGenerator(val_dir, 'val', batch_size=batch_size, input_shape=input_shape, shuffle=False)\n",
        "    gc.collect()\n",
        "\n",
        "    # === F. Build model ===\n",
        "    def build_model():\n",
        "        model = models.Sequential([\n",
        "            layers.Rescaling(1./255, input_shape=input_shape),\n",
        "            layers.Conv2D(32, 3, padding='same'),\n",
        "            layers.BatchNormalization(),\n",
        "            layers.Activation('relu'),\n",
        "            layers.MaxPooling2D(),\n",
        "\n",
        "            layers.Conv2D(64, 3, padding='same'),\n",
        "            layers.BatchNormalization(),\n",
        "            layers.Activation('relu'),\n",
        "            layers.MaxPooling2D(),\n",
        "\n",
        "            layers.Flatten(),\n",
        "            layers.Dense(256, activation='relu'),\n",
        "            layers.Dropout(0.3),\n",
        "            layers.Dense(num_classes, activation='softmax')\n",
        "        ])\n",
        "        model.compile(optimizer='adam', loss='sparse_categorical_crossentropy', metrics=['accuracy'])\n",
        "        return model\n",
        "\n",
        "    model = build_model()\n",
        "    gc.collect()\n",
        "\n",
        "    # === G. Callbacks ===\n",
        "    cb = [\n",
        "        callbacks.ModelCheckpoint(model_save_path, monitor='val_accuracy', save_best_only=True, verbose=1),\n",
        "        callbacks.EarlyStopping(monitor='val_loss', patience=5, restore_best_weights=True, verbose=1),\n",
        "        callbacks.ReduceLROnPlateau(monitor='val_loss', factor=0.5, patience=2, verbose=1)\n",
        "    ]\n",
        "\n",
        "    # === H. Train model ===\n",
        "    history = model.fit(\n",
        "        train_gen,\n",
        "        validation_data=val_gen,\n",
        "        epochs=epochs,\n",
        "        class_weight=class_weights,\n",
        "        callbacks=cb,\n",
        "        verbose=1\n",
        "    )\n",
        "\n",
        "    print(f\"✅ CNN tuning complete. Best model saved to: {model_save_path}\")\n",
        "\n",
        "    # === I. Cleanup ===\n",
        "    del model, train_gen, val_gen, history\n",
        "    gc.collect()"
      ],
      "metadata": {
        "colab": {
          "base_uri": "https://localhost:8080/"
        },
        "id": "jNR32_beTsLi",
        "outputId": "6100ee4d-8ae2-42e5-983b-66f98c906193"
      },
      "execution_count": null,
      "outputs": [
        {
          "output_type": "stream",
          "name": "stdout",
          "text": [
            "Epoch 1/20\n",
            "\u001b[1m80/80\u001b[0m \u001b[32m━━━━━━━━━━━━━━━━━━━━\u001b[0m\u001b[37m\u001b[0m \u001b[1m0s\u001b[0m 2s/step - accuracy: 0.1949 - loss: 12.4526\n",
            "Epoch 1: val_accuracy improved from -inf to 0.17157, saving model to models/cnn_model_tuned_fresh.h5\n"
          ]
        },
        {
          "output_type": "stream",
          "name": "stderr",
          "text": [
            "WARNING:absl:You are saving your model as an HDF5 file via `model.save()` or `keras.saving.save_model(model)`. This file format is considered legacy. We recommend using instead the native Keras format, e.g. `model.save('my_model.keras')` or `keras.saving.save_model(model, 'my_model.keras')`. \n"
          ]
        },
        {
          "output_type": "stream",
          "name": "stdout",
          "text": [
            "\b\b\b\b\b\b\b\b\b\b\b\b\b\b\b\b\b\b\b\b\b\b\b\b\b\b\b\b\b\b\b\b\b\b\b\b\b\b\b\b\b\b\b\b\b\b\b\b\b\b\b\b\b\b\b\b\b\b\b\b\b\b\b\b\b\b\b\b\b\b\b\b\r\u001b[1m80/80\u001b[0m \u001b[32m━━━━━━━━━━━━━━━━━━━━\u001b[0m\u001b[37m\u001b[0m \u001b[1m291s\u001b[0m 3s/step - accuracy: 0.1938 - loss: 12.3863 - val_accuracy: 0.1716 - val_loss: 2.7093 - learning_rate: 0.0010\n",
            "Epoch 2/20\n",
            "\u001b[1m80/80\u001b[0m \u001b[32m━━━━━━━━━━━━━━━━━━━━\u001b[0m\u001b[37m\u001b[0m \u001b[1m0s\u001b[0m 2s/step - accuracy: 0.1032 - loss: 2.8743\n",
            "Epoch 2: val_accuracy did not improve from 0.17157\n",
            "\u001b[1m80/80\u001b[0m \u001b[32m━━━━━━━━━━━━━━━━━━━━\u001b[0m\u001b[37m\u001b[0m \u001b[1m151s\u001b[0m 2s/step - accuracy: 0.1028 - loss: 2.8725 - val_accuracy: 0.0240 - val_loss: 2.7118 - learning_rate: 0.0010\n",
            "Epoch 3/20\n",
            "\u001b[1m80/80\u001b[0m \u001b[32m━━━━━━━━━━━━━━━━━━━━\u001b[0m\u001b[37m\u001b[0m \u001b[1m0s\u001b[0m 2s/step - accuracy: 0.0593 - loss: 2.3204\n",
            "Epoch 3: val_accuracy did not improve from 0.17157\n",
            "\n",
            "Epoch 3: ReduceLROnPlateau reducing learning rate to 0.0005000000237487257.\n",
            "\u001b[1m80/80\u001b[0m \u001b[32m━━━━━━━━━━━━━━━━━━━━\u001b[0m\u001b[37m\u001b[0m \u001b[1m150s\u001b[0m 2s/step - accuracy: 0.0593 - loss: 2.3245 - val_accuracy: 0.0240 - val_loss: 2.7120 - learning_rate: 0.0010\n",
            "Epoch 4/20\n",
            "\u001b[1m80/80\u001b[0m \u001b[32m━━━━━━━━━━━━━━━━━━━━\u001b[0m\u001b[37m\u001b[0m \u001b[1m0s\u001b[0m 2s/step - accuracy: 0.1194 - loss: 2.4796\n",
            "Epoch 4: val_accuracy did not improve from 0.17157\n",
            "\u001b[1m80/80\u001b[0m \u001b[32m━━━━━━━━━━━━━━━━━━━━\u001b[0m\u001b[37m\u001b[0m \u001b[1m153s\u001b[0m 2s/step - accuracy: 0.1189 - loss: 2.4810 - val_accuracy: 0.0240 - val_loss: 2.7130 - learning_rate: 5.0000e-04\n",
            "Epoch 5/20\n",
            "\u001b[1m80/80\u001b[0m \u001b[32m━━━━━━━━━━━━━━━━━━━━\u001b[0m\u001b[37m\u001b[0m \u001b[1m0s\u001b[0m 2s/step - accuracy: 0.0456 - loss: 2.7757\n",
            "Epoch 5: val_accuracy did not improve from 0.17157\n",
            "\u001b[1m80/80\u001b[0m \u001b[32m━━━━━━━━━━━━━━━━━━━━\u001b[0m\u001b[37m\u001b[0m \u001b[1m152s\u001b[0m 2s/step - accuracy: 0.0461 - loss: 2.7727 - val_accuracy: 0.0233 - val_loss: 2.6972 - learning_rate: 5.0000e-04\n",
            "Epoch 6/20\n",
            "\u001b[1m80/80\u001b[0m \u001b[32m━━━━━━━━━━━━━━━━━━━━\u001b[0m\u001b[37m\u001b[0m \u001b[1m0s\u001b[0m 2s/step - accuracy: 0.0704 - loss: 1.7760\n",
            "Epoch 6: val_accuracy improved from 0.17157 to 0.26317, saving model to models/cnn_model_tuned_fresh.h5\n"
          ]
        },
        {
          "output_type": "stream",
          "name": "stderr",
          "text": [
            "WARNING:absl:You are saving your model as an HDF5 file via `model.save()` or `keras.saving.save_model(model)`. This file format is considered legacy. We recommend using instead the native Keras format, e.g. `model.save('my_model.keras')` or `keras.saving.save_model(model, 'my_model.keras')`. \n"
          ]
        },
        {
          "output_type": "stream",
          "name": "stdout",
          "text": [
            "\b\b\b\b\b\b\b\b\b\b\b\b\b\b\b\b\b\b\b\b\b\b\b\b\b\b\b\b\b\b\b\b\b\b\b\b\b\b\b\b\b\b\b\b\b\b\b\b\b\b\b\b\b\b\b\b\b\b\b\b\b\b\b\b\b\b\b\b\b\b\b\r\u001b[1m80/80\u001b[0m \u001b[32m━━━━━━━━━━━━━━━━━━━━\u001b[0m\u001b[37m\u001b[0m \u001b[1m155s\u001b[0m 2s/step - accuracy: 0.0709 - loss: 1.7851 - val_accuracy: 0.2632 - val_loss: 2.7020 - learning_rate: 5.0000e-04\n",
            "Epoch 7/20\n",
            "\u001b[1m80/80\u001b[0m \u001b[32m━━━━━━━━━━━━━━━━━━━━\u001b[0m\u001b[37m\u001b[0m \u001b[1m0s\u001b[0m 2s/step - accuracy: 0.1660 - loss: 2.0199\n",
            "Epoch 7: val_accuracy did not improve from 0.26317\n",
            "\n",
            "Epoch 7: ReduceLROnPlateau reducing learning rate to 0.0002500000118743628.\n",
            "\u001b[1m80/80\u001b[0m \u001b[32m━━━━━━━━━━━━━━━━━━━━\u001b[0m\u001b[37m\u001b[0m \u001b[1m171s\u001b[0m 2s/step - accuracy: 0.1666 - loss: 2.0257 - val_accuracy: 0.0175 - val_loss: 3.6725 - learning_rate: 5.0000e-04\n",
            "Epoch 8/20\n",
            "\u001b[1m80/80\u001b[0m \u001b[32m━━━━━━━━━━━━━━━━━━━━\u001b[0m\u001b[37m\u001b[0m \u001b[1m0s\u001b[0m 2s/step - accuracy: 0.1446 - loss: 2.2053\n",
            "Epoch 8: val_accuracy did not improve from 0.26317\n",
            "\u001b[1m80/80\u001b[0m \u001b[32m━━━━━━━━━━━━━━━━━━━━\u001b[0m\u001b[37m\u001b[0m \u001b[1m152s\u001b[0m 2s/step - accuracy: 0.1445 - loss: 2.2072 - val_accuracy: 0.0175 - val_loss: 3.8597 - learning_rate: 2.5000e-04\n",
            "Epoch 9/20\n",
            "\u001b[1m80/80\u001b[0m \u001b[32m━━━━━━━━━━━━━━━━━━━━\u001b[0m\u001b[37m\u001b[0m \u001b[1m0s\u001b[0m 2s/step - accuracy: 0.1859 - loss: 2.0490\n",
            "Epoch 9: val_accuracy did not improve from 0.26317\n",
            "\n",
            "Epoch 9: ReduceLROnPlateau reducing learning rate to 0.0001250000059371814.\n",
            "\u001b[1m80/80\u001b[0m \u001b[32m━━━━━━━━━━━━━━━━━━━━\u001b[0m\u001b[37m\u001b[0m \u001b[1m151s\u001b[0m 2s/step - accuracy: 0.1861 - loss: 2.0525 - val_accuracy: 0.0271 - val_loss: 3.6543 - learning_rate: 2.5000e-04\n",
            "Epoch 10/20\n",
            "\u001b[1m80/80\u001b[0m \u001b[32m━━━━━━━━━━━━━━━━━━━━\u001b[0m\u001b[37m\u001b[0m \u001b[1m0s\u001b[0m 2s/step - accuracy: 0.3030 - loss: 1.5826\n",
            "Epoch 10: val_accuracy did not improve from 0.26317\n",
            "\u001b[1m80/80\u001b[0m \u001b[32m━━━━━━━━━━━━━━━━━━━━\u001b[0m\u001b[37m\u001b[0m \u001b[1m180s\u001b[0m 2s/step - accuracy: 0.3024 - loss: 1.5909 - val_accuracy: 0.0359 - val_loss: 6.3186 - learning_rate: 1.2500e-04\n",
            "Epoch 10: early stopping\n",
            "Restoring model weights from the end of the best epoch: 5.\n",
            "✅ CNN tuning complete. Best model saved to: models/cnn_model_tuned_fresh.h5\n"
          ]
        }
      ]
    },
    {
      "cell_type": "markdown",
      "source": [
        "### 22.3 Evaluation of Best fitted CNN tuned model on test set"
      ],
      "metadata": {
        "id": "uoAlDBq8iNKN"
      }
    },
    {
      "cell_type": "code",
      "source": [
        "# ===== Step 22.3: CNN Test Evaluation (Batch-safe, skip-safe, no crash) =====\n",
        "\n",
        "import os\n",
        "import numpy as np\n",
        "import tensorflow as tf\n",
        "import gc\n",
        "from tensorflow.keras.models import load_model\n",
        "from tensorflow.keras.utils import Sequence\n",
        "\n",
        "# === A. Paths and settings ===\n",
        "test_dir = 'test_parts'\n",
        "model_path = 'models/cnn_model_tuned_fresh.h5'\n",
        "preds_path = 'results/cnn_test_preds.npy'\n",
        "labels_path = 'results/cnn_test_labels.npy'\n",
        "input_shape = (128, 128, 3)\n",
        "batch_size = 64\n",
        "\n",
        "# === B. Skip if already evaluated ===\n",
        "if os.path.exists(preds_path) and os.path.exists(labels_path):\n",
        "    print(f\"⏩ Skipping test evaluation — files already exist:\\n- {preds_path}\\n- {labels_path}\")\n",
        "\n",
        "else:\n",
        "    # === C. Load model ===\n",
        "    model = load_model(model_path)\n",
        "    print(f\"✅ Loaded trained CNN model from: {model_path}\")\n",
        "    gc.collect()\n",
        "\n",
        "    # === D. Define test generator ===\n",
        "    class PatchDataGenerator(Sequence):\n",
        "        def __init__(self, part_dir, prefix, batch_size=64, input_shape=(128,128,3)):\n",
        "            super().__init__()\n",
        "            self.batch_size = batch_size\n",
        "            self.input_shape = input_shape\n",
        "            self.X_paths = sorted([os.path.join(part_dir, f) for f in os.listdir(part_dir) if f.startswith(f'X_{prefix}_part_')])\n",
        "            self.y_paths = [p.replace('X_', 'y_') for p in self.X_paths]\n",
        "\n",
        "        def __len__(self):\n",
        "            return len(self.X_paths)\n",
        "\n",
        "        def __getitem__(self, index):\n",
        "            X = np.load(self.X_paths[index])\n",
        "            y = np.load(self.y_paths[index])\n",
        "            return X, y\n",
        "\n",
        "    test_gen = PatchDataGenerator(test_dir, 'test', batch_size=batch_size, input_shape=input_shape)\n",
        "\n",
        "    # === E. Predict batch-by-batch ===\n",
        "    all_preds = []\n",
        "    all_labels = []\n",
        "\n",
        "    for i in range(len(test_gen)):\n",
        "        X_batch, y_batch = test_gen[i]\n",
        "        preds = model.predict(X_batch, verbose=0)\n",
        "        preds_labels = np.argmax(preds, axis=1)\n",
        "\n",
        "        all_preds.extend(preds_labels.tolist())\n",
        "        all_labels.extend(y_batch.tolist())\n",
        "\n",
        "        del X_batch, y_batch, preds, preds_labels\n",
        "        gc.collect()\n",
        "\n",
        "        print(f\"✅ Processed batch {i+1}/{len(test_gen)}\")\n",
        "\n",
        "    # === F. Save predictions and labels ===\n",
        "    os.makedirs('results', exist_ok=True)\n",
        "    np.save(preds_path, np.array(all_preds, dtype=np.uint8))\n",
        "    np.save(labels_path, np.array(all_labels, dtype=np.uint8))\n",
        "\n",
        "    print(f\"✅ Test predictions saved to: {preds_path}\")\n",
        "    print(f\"✅ Test labels saved to: {labels_path}\")\n",
        "    gc.collect()"
      ],
      "metadata": {
        "colab": {
          "base_uri": "https://localhost:8080/"
        },
        "id": "8T7dQVSkiWsD",
        "outputId": "d5f1a0f7-5083-4f24-bffa-24cc4d8257e6"
      },
      "execution_count": null,
      "outputs": [
        {
          "output_type": "stream",
          "name": "stderr",
          "text": [
            "WARNING:absl:Compiled the loaded model, but the compiled metrics have yet to be built. `model.compile_metrics` will be empty until you train or evaluate the model.\n"
          ]
        },
        {
          "output_type": "stream",
          "name": "stdout",
          "text": [
            "✅ Loaded trained CNN model from: models/cnn_model_tuned_fresh.h5\n",
            "✅ Processed batch 1/29\n",
            "✅ Processed batch 2/29\n",
            "✅ Processed batch 3/29\n",
            "✅ Processed batch 4/29\n",
            "✅ Processed batch 5/29\n",
            "✅ Processed batch 6/29\n",
            "✅ Processed batch 7/29\n",
            "✅ Processed batch 8/29\n",
            "✅ Processed batch 9/29\n",
            "✅ Processed batch 10/29\n",
            "✅ Processed batch 11/29\n",
            "✅ Processed batch 12/29\n",
            "✅ Processed batch 13/29\n",
            "✅ Processed batch 14/29\n",
            "✅ Processed batch 15/29\n",
            "✅ Processed batch 16/29\n",
            "✅ Processed batch 17/29\n",
            "✅ Processed batch 18/29\n",
            "✅ Processed batch 19/29\n",
            "✅ Processed batch 20/29\n",
            "✅ Processed batch 21/29\n",
            "✅ Processed batch 22/29\n",
            "✅ Processed batch 23/29\n",
            "✅ Processed batch 24/29\n",
            "✅ Processed batch 25/29\n",
            "✅ Processed batch 26/29\n",
            "✅ Processed batch 27/29\n",
            "✅ Processed batch 28/29\n",
            "✅ Processed batch 29/29\n",
            "✅ Test predictions saved to: results/cnn_test_preds.npy\n",
            "✅ Test labels saved to: results/cnn_test_labels.npy\n"
          ]
        }
      ]
    },
    {
      "cell_type": "markdown",
      "source": [
        "### 22.4 CNN Classification Report"
      ],
      "metadata": {
        "id": "Xh1pNo_PkhRn"
      }
    },
    {
      "cell_type": "code",
      "source": [
        "# ===== Step 22.4: CNN Test Confusion Matrix and Accuracy Report =====\n",
        "\n",
        "import numpy as np\n",
        "import matplotlib.pyplot as plt\n",
        "import seaborn as sns\n",
        "from sklearn.metrics import confusion_matrix, classification_report, accuracy_score\n",
        "\n",
        "# === A. Load saved predictions and labels ===\n",
        "preds = np.load('results/cnn_test_preds.npy')\n",
        "labels = np.load('results/cnn_test_labels.npy')\n",
        "\n",
        "# === B. Compute confusion matrix and accuracy ===\n",
        "cm = confusion_matrix(labels, preds)\n",
        "acc = accuracy_score(labels, preds)\n",
        "\n",
        "print(f\"✅ Test Accuracy: {acc:.4f}\\n\")\n",
        "\n",
        "# Optional detailed report\n",
        "print(\" Classification Report:\")\n",
        "print(classification_report(labels, preds, digits=3))\n",
        "\n",
        "# === C. Plot confusion matrix ===\n",
        "plt.figure(figsize=(10, 8))\n",
        "sns.heatmap(cm, annot=True, fmt='d', cmap='Blues', cbar=False)\n",
        "plt.title(f'CNN Confusion Matrix (Accuracy: {acc:.2%})')\n",
        "plt.xlabel('Predicted Label')\n",
        "plt.ylabel('True Label')\n",
        "plt.tight_layout()\n",
        "plt.show()"
      ],
      "metadata": {
        "colab": {
          "base_uri": "https://localhost:8080/",
          "height": 1000
        },
        "id": "unbTmrdKknHq",
        "outputId": "faa6b176-de8b-470c-a290-f5406436a09c"
      },
      "execution_count": null,
      "outputs": [
        {
          "output_type": "stream",
          "name": "stdout",
          "text": [
            "✅ Test Accuracy: 0.1856\n",
            "\n",
            " Classification Report:\n",
            "              precision    recall  f1-score   support\n",
            "\n",
            "           0      0.000     0.000     0.000       214\n",
            "           1      0.000     0.000     0.000       132\n",
            "           2      0.000     0.000     0.000       464\n",
            "           3      0.000     0.000     0.000       144\n",
            "           4      0.000     0.000     0.000      2090\n",
            "           5      0.000     0.000     0.000        73\n",
            "           6      0.000     0.000     0.000      4387\n",
            "           7      0.000     0.000     0.000      2531\n",
            "           8      0.000     0.000     0.000       179\n",
            "           9      0.000     0.000     0.000      8960\n",
            "          10      0.193     0.977     0.322      5438\n",
            "          11      0.000     0.000     0.000       153\n",
            "          12      0.000     0.000     0.000      2888\n",
            "          13      0.033     0.095     0.049       440\n",
            "          14      0.000     0.000     0.000       760\n",
            "\n",
            "    accuracy                          0.186     28853\n",
            "   macro avg      0.015     0.072     0.025     28853\n",
            "weighted avg      0.037     0.186     0.061     28853\n",
            "\n"
          ]
        },
        {
          "output_type": "stream",
          "name": "stderr",
          "text": [
            "/usr/local/lib/python3.11/dist-packages/sklearn/metrics/_classification.py:1565: UndefinedMetricWarning: Precision is ill-defined and being set to 0.0 in labels with no predicted samples. Use `zero_division` parameter to control this behavior.\n",
            "  _warn_prf(average, modifier, f\"{metric.capitalize()} is\", len(result))\n",
            "/usr/local/lib/python3.11/dist-packages/sklearn/metrics/_classification.py:1565: UndefinedMetricWarning: Precision is ill-defined and being set to 0.0 in labels with no predicted samples. Use `zero_division` parameter to control this behavior.\n",
            "  _warn_prf(average, modifier, f\"{metric.capitalize()} is\", len(result))\n",
            "/usr/local/lib/python3.11/dist-packages/sklearn/metrics/_classification.py:1565: UndefinedMetricWarning: Precision is ill-defined and being set to 0.0 in labels with no predicted samples. Use `zero_division` parameter to control this behavior.\n",
            "  _warn_prf(average, modifier, f\"{metric.capitalize()} is\", len(result))\n"
          ]
        },
        {
          "output_type": "display_data",
          "data": {
            "text/plain": [
              "<Figure size 1000x800 with 1 Axes>"
            ],
            "image/png": "[encoded data removed]"
          },
          "metadata": {}
        }
      ]
    },
    {
      "cell_type": "markdown",
      "source": [
        "### 23.1 Build and save Base TL model"
      ],
      "metadata": {
        "id": "QpYUUQN4k-NH"
      }
    },
    {
      "cell_type": "code",
      "source": [
        " # ===== Step 23.1: Load & Build Transfer Learning Model (MobileNetV2 base frozen) =====\n",
        "\n",
        "import os\n",
        "import tensorflow as tf\n",
        "from tensorflow.keras import layers, models\n",
        "import gc\n",
        "\n",
        "# === A. Settings ===\n",
        "model_save_path = 'models/tl_mobilenetv2_base.h5'\n",
        "input_shape = (128, 128, 3)\n",
        "num_classes = 15\n",
        "\n",
        "# === B. Skip logic ===\n",
        "if os.path.exists(model_save_path):\n",
        "    print(f\"⏩ Skipping model creation — already exists at: {model_save_path}\")\n",
        "\n",
        "else:\n",
        "    # === C. Load pretrained MobileNetV2 base ===\n",
        "    base_model = tf.keras.applications.MobileNetV2(\n",
        "        input_shape=input_shape,\n",
        "        include_top=False,\n",
        "        weights='imagenet',\n",
        "        pooling='avg'\n",
        "    )\n",
        "    base_model.trainable = False  # Freeze base layers\n",
        "\n",
        "    # === D. Add custom classification head ===\n",
        "    model = models.Sequential([\n",
        "        tf.keras.Input(shape=input_shape),\n",
        "        base_model,\n",
        "        layers.BatchNormalization(),\n",
        "        layers.Dense(256, activation='relu'),\n",
        "        layers.Dropout(0.4),\n",
        "        layers.Dense(num_classes, activation='softmax')\n",
        "    ])\n",
        "\n",
        "    # === E. Compile model ===\n",
        "    model.compile(optimizer='adam',\n",
        "                  loss='sparse_categorical_crossentropy',\n",
        "                  metrics=['accuracy'])\n",
        "\n",
        "    # === F. Save model ===\n",
        "    os.makedirs('models', exist_ok=True)\n",
        "    model.save(model_save_path)\n",
        "    print(f\"✅ Base TL model built and saved to: {model_save_path}\")\n",
        "\n",
        "    # Cleanup\n",
        "    del model, base_model\n",
        "    gc.collect()"
      ],
      "metadata": {
        "id": "F_rGQOGMoqhk",
        "colab": {
          "base_uri": "https://localhost:8080/"
        },
        "outputId": "b0c3e1e7-cb11-4beb-9356-925ee6d69272"
      },
      "execution_count": 3,
      "outputs": [
        {
          "output_type": "stream",
          "name": "stdout",
          "text": [
            "Downloading data from https://storage.googleapis.com/tensorflow/keras-applications/mobilenet_v2/mobilenet_v2_weights_tf_dim_ordering_tf_kernels_1.0_128_no_top.h5\n",
            "\u001b[1m9406464/9406464\u001b[0m \u001b[32m━━━━━━━━━━━━━━━━━━━━\u001b[0m\u001b[37m\u001b[0m \u001b[1m0s\u001b[0m 0us/step\n"
          ]
        },
        {
          "output_type": "stream",
          "name": "stderr",
          "text": [
            "WARNING:absl:You are saving your model as an HDF5 file via `model.save()` or `keras.saving.save_model(model)`. This file format is considered legacy. We recommend using instead the native Keras format, e.g. `model.save('my_model.keras')` or `keras.saving.save_model(model, 'my_model.keras')`. \n"
          ]
        },
        {
          "output_type": "stream",
          "name": "stdout",
          "text": [
            "✅ Base TL model built and saved to: models/tl_mobilenetv2_base.h5\n"
          ]
        }
      ]
    },
    {
      "cell_type": "markdown",
      "source": [
        "### 23.2 Training TL model"
      ],
      "metadata": {
        "id": "Ld9Xs356xxJL"
      }
    },
    {
      "cell_type": "code",
      "source": [
        "# ===== Step 23.2: Train Transfer Learning Model (MobileNetV2 frozen base) =====\n",
        "\n",
        "import os\n",
        "import numpy as np\n",
        "import tensorflow as tf\n",
        "import pickle\n",
        "import gc\n",
        "from tensorflow.keras.models import load_model\n",
        "from tensorflow.keras import callbacks\n",
        "from tensorflow.keras.utils import Sequence\n",
        "\n",
        "# === A. Paths and settings ===\n",
        "train_dir = 'train_parts'\n",
        "val_dir = 'val_parts'\n",
        "base_model_path = 'models/tl_mobilenetv2_base.h5'\n",
        "tuned_model_path = 'models/tl_mobilenetv2_tuned.h5'\n",
        "class_weights_path = 'cnn_class_weights.pkl'\n",
        "batch_size = 16\n",
        "epochs = 20\n",
        "input_shape = (128, 128, 3)\n",
        "\n",
        "# === B. Skip if already trained ===\n",
        "if os.path.exists(tuned_model_path):\n",
        "    print(f\"⏩ Skipping training — model already exists at: {tuned_model_path}\")\n",
        "\n",
        "else:\n",
        "    # === C. Load model and recompile (Fix for eager execution + generator bug) ===\n",
        "    model = load_model(base_model_path)\n",
        "\n",
        "    # ✅ FIX: Recompile the model after loading\n",
        "    model.compile(optimizer='adam',\n",
        "                  loss='sparse_categorical_crossentropy',\n",
        "                  metrics=['accuracy'])\n",
        "\n",
        "    # Load class weights\n",
        "    with open(class_weights_path, 'rb') as f:\n",
        "        class_weights = pickle.load(f)\n",
        "    gc.collect()\n",
        "\n",
        "    # === D. Generator using real file lists ===\n",
        "    class PatchDataGenerator(Sequence):\n",
        "        def __init__(self, part_dir, prefix, input_shape, shuffle=True):\n",
        "            super().__init__()\n",
        "            self.input_shape = input_shape\n",
        "            self.shuffle = shuffle\n",
        "            self.X_paths = sorted([os.path.join(part_dir, f) for f in os.listdir(part_dir) if f.startswith(f'X_{prefix}_part_')])\n",
        "            self.y_paths = [p.replace('X_', 'y_') for p in self.X_paths]\n",
        "            self.on_epoch_end()\n",
        "\n",
        "        def __len__(self):\n",
        "            return len(self.X_paths)\n",
        "\n",
        "        def __getitem__(self, index):\n",
        "            X = np.load(self.X_paths[index])\n",
        "            y = np.load(self.y_paths[index])\n",
        "            gc.collect()\n",
        "            return X, y\n",
        "\n",
        "        def on_epoch_end(self):\n",
        "            if self.shuffle:\n",
        "                combined = list(zip(self.X_paths, self.y_paths))\n",
        "                np.random.shuffle(combined)\n",
        "                self.X_paths, self.y_paths = zip(*combined)\n",
        "\n",
        "    train_gen = PatchDataGenerator(train_dir, 'train', input_shape=input_shape, shuffle=True)\n",
        "    val_gen = PatchDataGenerator(val_dir, 'val', input_shape=input_shape, shuffle=False)\n",
        "    gc.collect()\n",
        "\n",
        "    # === E. Callbacks ===\n",
        "    cb = [\n",
        "        callbacks.ModelCheckpoint(tuned_model_path, monitor='val_accuracy', save_best_only=True, verbose=1),\n",
        "        callbacks.EarlyStopping(monitor='val_loss', patience=5, restore_best_weights=True, verbose=1),\n",
        "        callbacks.ReduceLROnPlateau(monitor='val_loss', factor=0.5, patience=2, verbose=1)\n",
        "    ]\n",
        "\n",
        "    # === F. Train the model ===\n",
        "    history = model.fit(\n",
        "        train_gen,\n",
        "        validation_data=val_gen,\n",
        "        epochs=epochs,\n",
        "        class_weight=class_weights,\n",
        "        callbacks=cb,\n",
        "        verbose=1\n",
        "    )\n",
        "\n",
        "    print(f\"✅ Transfer Learning training complete. Model saved at: {tuned_model_path}\")\n",
        "\n",
        "    # === G. Cleanup ===\n",
        "    del model, train_gen, val_gen, history\n",
        "    gc.collect()"
      ],
      "metadata": {
        "colab": {
          "base_uri": "https://localhost:8080/"
        },
        "id": "U3Jk9jbJx5GJ",
        "outputId": "4cfcdef8-8b7f-4352-c1cc-c8b229c64c19"
      },
      "execution_count": 5,
      "outputs": [
        {
          "output_type": "stream",
          "name": "stderr",
          "text": [
            "WARNING:absl:Compiled the loaded model, but the compiled metrics have yet to be built. `model.compile_metrics` will be empty until you train or evaluate the model.\n"
          ]
        },
        {
          "output_type": "stream",
          "name": "stdout",
          "text": [
            "Epoch 1/20\n",
            "\u001b[1m80/80\u001b[0m \u001b[32m━━━━━━━━━━━━━━━━━━━━\u001b[0m\u001b[37m\u001b[0m \u001b[1m0s\u001b[0m 2s/step - accuracy: 0.1058 - loss: 4.8136\n",
            "Epoch 1: val_accuracy improved from -inf to 0.16793, saving model to models/tl_mobilenetv2_tuned.h5\n"
          ]
        },
        {
          "output_type": "stream",
          "name": "stderr",
          "text": [
            "WARNING:absl:You are saving your model as an HDF5 file via `model.save()` or `keras.saving.save_model(model)`. This file format is considered legacy. We recommend using instead the native Keras format, e.g. `model.save('my_model.keras')` or `keras.saving.save_model(model, 'my_model.keras')`. \n"
          ]
        },
        {
          "output_type": "stream",
          "name": "stdout",
          "text": [
            "\b\b\b\b\b\b\b\b\b\b\b\b\b\b\b\b\b\b\b\b\b\b\b\b\b\b\b\b\b\b\b\b\b\b\b\b\b\b\b\b\b\b\b\b\b\b\b\b\b\b\b\b\b\b\b\b\b\b\b\b\b\b\b\b\b\b\b\b\b\b\b\r\u001b[1m80/80\u001b[0m \u001b[32m━━━━━━━━━━━━━━━━━━━━\u001b[0m\u001b[37m\u001b[0m \u001b[1m281s\u001b[0m 3s/step - accuracy: 0.1060 - loss: 4.8059 - val_accuracy: 0.1679 - val_loss: 2.6040 - learning_rate: 0.0010\n",
            "Epoch 2/20\n",
            "\u001b[1m80/80\u001b[0m \u001b[32m━━━━━━━━━━━━━━━━━━━━\u001b[0m\u001b[37m\u001b[0m \u001b[1m0s\u001b[0m 2s/step - accuracy: 0.2071 - loss: 2.2742\n",
            "Epoch 2: val_accuracy improved from 0.16793 to 0.33748, saving model to models/tl_mobilenetv2_tuned.h5\n"
          ]
        },
        {
          "output_type": "stream",
          "name": "stderr",
          "text": [
            "WARNING:absl:You are saving your model as an HDF5 file via `model.save()` or `keras.saving.save_model(model)`. This file format is considered legacy. We recommend using instead the native Keras format, e.g. `model.save('my_model.keras')` or `keras.saving.save_model(model, 'my_model.keras')`. \n"
          ]
        },
        {
          "output_type": "stream",
          "name": "stdout",
          "text": [
            "\b\b\b\b\b\b\b\b\b\b\b\b\b\b\b\b\b\b\b\b\b\b\b\b\b\b\b\b\b\b\b\b\b\b\b\b\b\b\b\b\b\b\b\b\b\b\b\b\b\b\b\b\b\b\b\b\b\b\b\b\b\b\b\b\b\b\b\b\b\b\b\r\u001b[1m80/80\u001b[0m \u001b[32m━━━━━━━━━━━━━━━━━━━━\u001b[0m\u001b[37m\u001b[0m \u001b[1m156s\u001b[0m 2s/step - accuracy: 0.2073 - loss: 2.2755 - val_accuracy: 0.3375 - val_loss: 2.0190 - learning_rate: 0.0010\n",
            "Epoch 3/20\n",
            "\u001b[1m80/80\u001b[0m \u001b[32m━━━━━━━━━━━━━━━━━━━━\u001b[0m\u001b[37m\u001b[0m \u001b[1m0s\u001b[0m 2s/step - accuracy: 0.3245 - loss: 1.6325\n",
            "Epoch 3: val_accuracy improved from 0.33748 to 0.41396, saving model to models/tl_mobilenetv2_tuned.h5\n"
          ]
        },
        {
          "output_type": "stream",
          "name": "stderr",
          "text": [
            "WARNING:absl:You are saving your model as an HDF5 file via `model.save()` or `keras.saving.save_model(model)`. This file format is considered legacy. We recommend using instead the native Keras format, e.g. `model.save('my_model.keras')` or `keras.saving.save_model(model, 'my_model.keras')`. \n"
          ]
        },
        {
          "output_type": "stream",
          "name": "stdout",
          "text": [
            "\b\b\b\b\b\b\b\b\b\b\b\b\b\b\b\b\b\b\b\b\b\b\b\b\b\b\b\b\b\b\b\b\b\b\b\b\b\b\b\b\b\b\b\b\b\b\b\b\b\b\b\b\b\b\b\b\b\b\b\b\b\b\b\b\b\b\b\b\b\b\b\r\u001b[1m80/80\u001b[0m \u001b[32m━━━━━━━━━━━━━━━━━━━━\u001b[0m\u001b[37m\u001b[0m \u001b[1m154s\u001b[0m 2s/step - accuracy: 0.3246 - loss: 1.6326 - val_accuracy: 0.4140 - val_loss: 1.6855 - learning_rate: 0.0010\n",
            "Epoch 4/20\n",
            "\u001b[1m80/80\u001b[0m \u001b[32m━━━━━━━━━━━━━━━━━━━━\u001b[0m\u001b[37m\u001b[0m \u001b[1m0s\u001b[0m 2s/step - accuracy: 0.4194 - loss: 1.1775\n",
            "Epoch 4: val_accuracy improved from 0.41396 to 0.47649, saving model to models/tl_mobilenetv2_tuned.h5\n"
          ]
        },
        {
          "output_type": "stream",
          "name": "stderr",
          "text": [
            "WARNING:absl:You are saving your model as an HDF5 file via `model.save()` or `keras.saving.save_model(model)`. This file format is considered legacy. We recommend using instead the native Keras format, e.g. `model.save('my_model.keras')` or `keras.saving.save_model(model, 'my_model.keras')`. \n"
          ]
        },
        {
          "output_type": "stream",
          "name": "stdout",
          "text": [
            "\b\b\b\b\b\b\b\b\b\b\b\b\b\b\b\b\b\b\b\b\b\b\b\b\b\b\b\b\b\b\b\b\b\b\b\b\b\b\b\b\b\b\b\b\b\b\b\b\b\b\b\b\b\b\b\b\b\b\b\b\b\b\b\b\b\b\b\b\b\b\b\r\u001b[1m80/80\u001b[0m \u001b[32m━━━━━━━━━━━━━━━━━━━━\u001b[0m\u001b[37m\u001b[0m \u001b[1m166s\u001b[0m 2s/step - accuracy: 0.4196 - loss: 1.1778 - val_accuracy: 0.4765 - val_loss: 1.5487 - learning_rate: 0.0010\n",
            "Epoch 5/20\n",
            "\u001b[1m80/80\u001b[0m \u001b[32m━━━━━━━━━━━━━━━━━━━━\u001b[0m\u001b[37m\u001b[0m \u001b[1m0s\u001b[0m 2s/step - accuracy: 0.5002 - loss: 0.8903\n",
            "Epoch 5: val_accuracy improved from 0.47649 to 0.51840, saving model to models/tl_mobilenetv2_tuned.h5\n"
          ]
        },
        {
          "output_type": "stream",
          "name": "stderr",
          "text": [
            "WARNING:absl:You are saving your model as an HDF5 file via `model.save()` or `keras.saving.save_model(model)`. This file format is considered legacy. We recommend using instead the native Keras format, e.g. `model.save('my_model.keras')` or `keras.saving.save_model(model, 'my_model.keras')`. \n"
          ]
        },
        {
          "output_type": "stream",
          "name": "stdout",
          "text": [
            "\b\b\b\b\b\b\b\b\b\b\b\b\b\b\b\b\b\b\b\b\b\b\b\b\b\b\b\b\b\b\b\b\b\b\b\b\b\b\b\b\b\b\b\b\b\b\b\b\b\b\b\b\b\b\b\b\b\b\b\b\b\b\b\b\b\b\b\b\b\b\b\r\u001b[1m80/80\u001b[0m \u001b[32m━━━━━━━━━━━━━━━━━━━━\u001b[0m\u001b[37m\u001b[0m \u001b[1m154s\u001b[0m 2s/step - accuracy: 0.5004 - loss: 0.8923 - val_accuracy: 0.5184 - val_loss: 1.4229 - learning_rate: 0.0010\n",
            "Epoch 6/20\n",
            "\u001b[1m80/80\u001b[0m \u001b[32m━━━━━━━━━━━━━━━━━━━━\u001b[0m\u001b[37m\u001b[0m \u001b[1m0s\u001b[0m 2s/step - accuracy: 0.4887 - loss: 0.7848\n",
            "Epoch 6: val_accuracy improved from 0.51840 to 0.55313, saving model to models/tl_mobilenetv2_tuned.h5\n"
          ]
        },
        {
          "output_type": "stream",
          "name": "stderr",
          "text": [
            "WARNING:absl:You are saving your model as an HDF5 file via `model.save()` or `keras.saving.save_model(model)`. This file format is considered legacy. We recommend using instead the native Keras format, e.g. `model.save('my_model.keras')` or `keras.saving.save_model(model, 'my_model.keras')`. \n"
          ]
        },
        {
          "output_type": "stream",
          "name": "stdout",
          "text": [
            "\b\b\b\b\b\b\b\b\b\b\b\b\b\b\b\b\b\b\b\b\b\b\b\b\b\b\b\b\b\b\b\b\b\b\b\b\b\b\b\b\b\b\b\b\b\b\b\b\b\b\b\b\b\b\b\b\b\b\b\b\b\b\b\b\b\b\b\b\b\b\b\r\u001b[1m80/80\u001b[0m \u001b[32m━━━━━━━━━━━━━━━━━━━━\u001b[0m\u001b[37m\u001b[0m \u001b[1m157s\u001b[0m 2s/step - accuracy: 0.4895 - loss: 0.7854 - val_accuracy: 0.5531 - val_loss: 1.3513 - learning_rate: 0.0010\n",
            "Epoch 7/20\n",
            "\u001b[1m80/80\u001b[0m \u001b[32m━━━━━━━━━━━━━━━━━━━━\u001b[0m\u001b[37m\u001b[0m \u001b[1m0s\u001b[0m 2s/step - accuracy: 0.5759 - loss: 1.0527\n",
            "Epoch 7: val_accuracy improved from 0.55313 to 0.62491, saving model to models/tl_mobilenetv2_tuned.h5\n"
          ]
        },
        {
          "output_type": "stream",
          "name": "stderr",
          "text": [
            "WARNING:absl:You are saving your model as an HDF5 file via `model.save()` or `keras.saving.save_model(model)`. This file format is considered legacy. We recommend using instead the native Keras format, e.g. `model.save('my_model.keras')` or `keras.saving.save_model(model, 'my_model.keras')`. \n"
          ]
        },
        {
          "output_type": "stream",
          "name": "stdout",
          "text": [
            "\b\b\b\b\b\b\b\b\b\b\b\b\b\b\b\b\b\b\b\b\b\b\b\b\b\b\b\b\b\b\b\b\b\b\b\b\b\b\b\b\b\b\b\b\b\b\b\b\b\b\b\b\b\b\b\b\b\b\b\b\b\b\b\b\b\b\b\b\b\b\b\r\u001b[1m80/80\u001b[0m \u001b[32m━━━━━━━━━━━━━━━━━━━━\u001b[0m\u001b[37m\u001b[0m \u001b[1m169s\u001b[0m 2s/step - accuracy: 0.5762 - loss: 1.0489 - val_accuracy: 0.6249 - val_loss: 1.1498 - learning_rate: 0.0010\n",
            "Epoch 8/20\n",
            "\u001b[1m80/80\u001b[0m \u001b[32m━━━━━━━━━━━━━━━━━━━━\u001b[0m\u001b[37m\u001b[0m \u001b[1m0s\u001b[0m 2s/step - accuracy: 0.6777 - loss: 0.5769\n",
            "Epoch 8: val_accuracy did not improve from 0.62491\n",
            "\u001b[1m80/80\u001b[0m \u001b[32m━━━━━━━━━━━━━━━━━━━━\u001b[0m\u001b[37m\u001b[0m \u001b[1m156s\u001b[0m 2s/step - accuracy: 0.6778 - loss: 0.5771 - val_accuracy: 0.5691 - val_loss: 1.2699 - learning_rate: 0.0010\n",
            "Epoch 9/20\n",
            "\u001b[1m80/80\u001b[0m \u001b[32m━━━━━━━━━━━━━━━━━━━━\u001b[0m\u001b[37m\u001b[0m \u001b[1m0s\u001b[0m 2s/step - accuracy: 0.6922 - loss: 0.4848\n",
            "Epoch 9: val_accuracy improved from 0.62491 to 0.63669, saving model to models/tl_mobilenetv2_tuned.h5\n"
          ]
        },
        {
          "output_type": "stream",
          "name": "stderr",
          "text": [
            "WARNING:absl:You are saving your model as an HDF5 file via `model.save()` or `keras.saving.save_model(model)`. This file format is considered legacy. We recommend using instead the native Keras format, e.g. `model.save('my_model.keras')` or `keras.saving.save_model(model, 'my_model.keras')`. \n"
          ]
        },
        {
          "output_type": "stream",
          "name": "stdout",
          "text": [
            "\b\b\b\b\b\b\b\b\b\b\b\b\b\b\b\b\b\b\b\b\b\b\b\b\b\b\b\b\b\b\b\b\b\b\b\b\b\b\b\b\b\b\b\b\b\b\b\b\b\b\b\b\b\b\b\b\b\b\b\b\b\b\b\b\b\b\b\b\b\b\b\r\u001b[1m80/80\u001b[0m \u001b[32m━━━━━━━━━━━━━━━━━━━━\u001b[0m\u001b[37m\u001b[0m \u001b[1m208s\u001b[0m 2s/step - accuracy: 0.6922 - loss: 0.4850 - val_accuracy: 0.6367 - val_loss: 1.0922 - learning_rate: 0.0010\n",
            "Epoch 10/20\n",
            "\u001b[1m80/80\u001b[0m \u001b[32m━━━━━━━━━━━━━━━━━━━━\u001b[0m\u001b[37m\u001b[0m \u001b[1m0s\u001b[0m 2s/step - accuracy: 0.7296 - loss: 0.4910\n",
            "Epoch 10: val_accuracy did not improve from 0.63669\n",
            "\u001b[1m80/80\u001b[0m \u001b[32m━━━━━━━━━━━━━━━━━━━━\u001b[0m\u001b[37m\u001b[0m \u001b[1m159s\u001b[0m 2s/step - accuracy: 0.7297 - loss: 0.4903 - val_accuracy: 0.6266 - val_loss: 1.0906 - learning_rate: 0.0010\n",
            "Epoch 11/20\n",
            "\u001b[1m80/80\u001b[0m \u001b[32m━━━━━━━━━━━━━━━━━━━━\u001b[0m\u001b[37m\u001b[0m \u001b[1m0s\u001b[0m 2s/step - accuracy: 0.7755 - loss: 0.4056\n",
            "Epoch 11: val_accuracy improved from 0.63669 to 0.65479, saving model to models/tl_mobilenetv2_tuned.h5\n"
          ]
        },
        {
          "output_type": "stream",
          "name": "stderr",
          "text": [
            "WARNING:absl:You are saving your model as an HDF5 file via `model.save()` or `keras.saving.save_model(model)`. This file format is considered legacy. We recommend using instead the native Keras format, e.g. `model.save('my_model.keras')` or `keras.saving.save_model(model, 'my_model.keras')`. \n"
          ]
        },
        {
          "output_type": "stream",
          "name": "stdout",
          "text": [
            "\b\b\b\b\b\b\b\b\b\b\b\b\b\b\b\b\b\b\b\b\b\b\b\b\b\b\b\b\b\b\b\b\b\b\b\b\b\b\b\b\b\b\b\b\b\b\b\b\b\b\b\b\b\b\b\b\b\b\b\b\b\b\b\b\b\b\b\b\b\b\b\r\u001b[1m80/80\u001b[0m \u001b[32m━━━━━━━━━━━━━━━━━━━━\u001b[0m\u001b[37m\u001b[0m \u001b[1m158s\u001b[0m 2s/step - accuracy: 0.7756 - loss: 0.4053 - val_accuracy: 0.6548 - val_loss: 1.0048 - learning_rate: 0.0010\n",
            "Epoch 12/20\n",
            "\u001b[1m80/80\u001b[0m \u001b[32m━━━━━━━━━━━━━━━━━━━━\u001b[0m\u001b[37m\u001b[0m \u001b[1m0s\u001b[0m 2s/step - accuracy: 0.7643 - loss: 0.3007\n",
            "Epoch 12: val_accuracy did not improve from 0.65479\n",
            "\u001b[1m80/80\u001b[0m \u001b[32m━━━━━━━━━━━━━━━━━━━━\u001b[0m\u001b[37m\u001b[0m \u001b[1m157s\u001b[0m 2s/step - accuracy: 0.7645 - loss: 0.3013 - val_accuracy: 0.6189 - val_loss: 1.1422 - learning_rate: 0.0010\n",
            "Epoch 13/20\n",
            "\u001b[1m80/80\u001b[0m \u001b[32m━━━━━━━━━━━━━━━━━━━━\u001b[0m\u001b[37m\u001b[0m \u001b[1m0s\u001b[0m 2s/step - accuracy: 0.7974 - loss: 0.2799\n",
            "Epoch 13: val_accuracy did not improve from 0.65479\n",
            "\n",
            "Epoch 13: ReduceLROnPlateau reducing learning rate to 0.0005000000237487257.\n",
            "\u001b[1m80/80\u001b[0m \u001b[32m━━━━━━━━━━━━━━━━━━━━\u001b[0m\u001b[37m\u001b[0m \u001b[1m181s\u001b[0m 2s/step - accuracy: 0.7973 - loss: 0.2804 - val_accuracy: 0.6500 - val_loss: 1.0352 - learning_rate: 0.0010\n",
            "Epoch 14/20\n",
            "\u001b[1m80/80\u001b[0m \u001b[32m━━━━━━━━━━━━━━━━━━━━\u001b[0m\u001b[37m\u001b[0m \u001b[1m0s\u001b[0m 2s/step - accuracy: 0.8378 - loss: 0.2471\n",
            "Epoch 14: val_accuracy improved from 0.65479 to 0.67142, saving model to models/tl_mobilenetv2_tuned.h5\n"
          ]
        },
        {
          "output_type": "stream",
          "name": "stderr",
          "text": [
            "WARNING:absl:You are saving your model as an HDF5 file via `model.save()` or `keras.saving.save_model(model)`. This file format is considered legacy. We recommend using instead the native Keras format, e.g. `model.save('my_model.keras')` or `keras.saving.save_model(model, 'my_model.keras')`. \n"
          ]
        },
        {
          "output_type": "stream",
          "name": "stdout",
          "text": [
            "\b\b\b\b\b\b\b\b\b\b\b\b\b\b\b\b\b\b\b\b\b\b\b\b\b\b\b\b\b\b\b\b\b\b\b\b\b\b\b\b\b\b\b\b\b\b\b\b\b\b\b\b\b\b\b\b\b\b\b\b\b\b\b\b\b\b\b\b\b\b\b\r\u001b[1m80/80\u001b[0m \u001b[32m━━━━━━━━━━━━━━━━━━━━\u001b[0m\u001b[37m\u001b[0m \u001b[1m181s\u001b[0m 2s/step - accuracy: 0.8377 - loss: 0.2473 - val_accuracy: 0.6714 - val_loss: 0.9889 - learning_rate: 5.0000e-04\n",
            "Epoch 15/20\n",
            "\u001b[1m80/80\u001b[0m \u001b[32m━━━━━━━━━━━━━━━━━━━━\u001b[0m\u001b[37m\u001b[0m \u001b[1m0s\u001b[0m 2s/step - accuracy: 0.8242 - loss: 0.2499\n",
            "Epoch 15: val_accuracy did not improve from 0.67142\n",
            "\u001b[1m80/80\u001b[0m \u001b[32m━━━━━━━━━━━━━━━━━━━━\u001b[0m\u001b[37m\u001b[0m \u001b[1m186s\u001b[0m 2s/step - accuracy: 0.8244 - loss: 0.2497 - val_accuracy: 0.6422 - val_loss: 1.0368 - learning_rate: 5.0000e-04\n",
            "Epoch 16/20\n",
            "\u001b[1m80/80\u001b[0m \u001b[32m━━━━━━━━━━━━━━━━━━━━\u001b[0m\u001b[37m\u001b[0m \u001b[1m0s\u001b[0m 2s/step - accuracy: 0.8400 - loss: 0.2053\n",
            "Epoch 16: val_accuracy did not improve from 0.67142\n",
            "\n",
            "Epoch 16: ReduceLROnPlateau reducing learning rate to 0.0002500000118743628.\n",
            "\u001b[1m80/80\u001b[0m \u001b[32m━━━━━━━━━━━━━━━━━━━━\u001b[0m\u001b[37m\u001b[0m \u001b[1m182s\u001b[0m 2s/step - accuracy: 0.8402 - loss: 0.2055 - val_accuracy: 0.6692 - val_loss: 0.9962 - learning_rate: 5.0000e-04\n",
            "Epoch 17/20\n",
            "\u001b[1m80/80\u001b[0m \u001b[32m━━━━━━━━━━━━━━━━━━━━\u001b[0m\u001b[37m\u001b[0m \u001b[1m0s\u001b[0m 2s/step - accuracy: 0.8655 - loss: 0.1930\n",
            "Epoch 17: val_accuracy did not improve from 0.67142\n",
            "\u001b[1m80/80\u001b[0m \u001b[32m━━━━━━━━━━━━━━━━━━━━\u001b[0m\u001b[37m\u001b[0m \u001b[1m183s\u001b[0m 2s/step - accuracy: 0.8654 - loss: 0.1932 - val_accuracy: 0.6645 - val_loss: 0.9937 - learning_rate: 2.5000e-04\n",
            "Epoch 18/20\n",
            "\u001b[1m80/80\u001b[0m \u001b[32m━━━━━━━━━━━━━━━━━━━━\u001b[0m\u001b[37m\u001b[0m \u001b[1m0s\u001b[0m 2s/step - accuracy: 0.8679 - loss: 0.1971\n",
            "Epoch 18: val_accuracy did not improve from 0.67142\n",
            "\n",
            "Epoch 18: ReduceLROnPlateau reducing learning rate to 0.0001250000059371814.\n",
            "\u001b[1m80/80\u001b[0m \u001b[32m━━━━━━━━━━━━━━━━━━━━\u001b[0m\u001b[37m\u001b[0m \u001b[1m182s\u001b[0m 2s/step - accuracy: 0.8679 - loss: 0.1971 - val_accuracy: 0.6653 - val_loss: 0.9927 - learning_rate: 2.5000e-04\n",
            "Epoch 19/20\n",
            "\u001b[1m80/80\u001b[0m \u001b[32m━━━━━━━━━━━━━━━━━━━━\u001b[0m\u001b[37m\u001b[0m \u001b[1m0s\u001b[0m 2s/step - accuracy: 0.8715 - loss: 0.1603\n",
            "Epoch 19: val_accuracy did not improve from 0.67142\n",
            "\u001b[1m80/80\u001b[0m \u001b[32m━━━━━━━━━━━━━━━━━━━━\u001b[0m\u001b[37m\u001b[0m \u001b[1m184s\u001b[0m 2s/step - accuracy: 0.8715 - loss: 0.1607 - val_accuracy: 0.6656 - val_loss: 0.9906 - learning_rate: 1.2500e-04\n",
            "Epoch 19: early stopping\n",
            "Restoring model weights from the end of the best epoch: 14.\n",
            "✅ Transfer Learning training complete. Model saved at: models/tl_mobilenetv2_tuned.h5\n"
          ]
        }
      ]
    },
    {
      "cell_type": "markdown",
      "source": [
        "### 23.3 Fine tuning mobilenetv2 last lunfrozen layers"
      ],
      "metadata": {
        "id": "MpdjzGSNEE1a"
      }
    },
    {
      "cell_type": "code",
      "source": [
        "# ===== Step 23.3: Fine-Tune TL Model (Unfreeze last 30 layers of MobileNetV2) =====\n",
        "\n",
        "import os\n",
        "import numpy as np\n",
        "import tensorflow as tf\n",
        "import pickle\n",
        "import gc\n",
        "from tensorflow.keras.models import load_model\n",
        "from tensorflow.keras import callbacks\n",
        "from tensorflow.keras.utils import Sequence\n",
        "\n",
        "# === A. Paths and settings ===\n",
        "train_dir = 'train_parts'\n",
        "val_dir = 'val_parts'\n",
        "tuned_model_path = 'models/tl_mobilenetv2_tuned.h5'\n",
        "finetuned_model_path = 'models/tl_mobilenetv2_finetuned.h5'\n",
        "class_weights_path = 'cnn_class_weights.pkl'\n",
        "batch_size = 16\n",
        "epochs = 15\n",
        "input_shape = (128, 128, 3)\n",
        "\n",
        "# === B. Skip if fine-tuned model already exists ===\n",
        "if os.path.exists(finetuned_model_path):\n",
        "    print(f\"⏩ Skipping fine-tuning — model already exists at: {finetuned_model_path}\")\n",
        "\n",
        "else:\n",
        "    # === C. Load tuned model ===\n",
        "    model = load_model(tuned_model_path)\n",
        "\n",
        "    # ✅ Identify the MobileNetV2 base inside the Sequential model\n",
        "    base_model = None\n",
        "    for layer in model.layers:\n",
        "        if isinstance(layer, tf.keras.Model) and len(layer.layers) > 100:\n",
        "            base_model = layer\n",
        "            break\n",
        "\n",
        "    if base_model is None:\n",
        "        raise ValueError(\"❌ MobileNetV2 base not found in model.\")\n",
        "\n",
        "    for layer in base_model.layers[-30:]:\n",
        "        layer.trainable = True\n",
        "\n",
        "    print(\"✅ Successfully unfroze last 30 layers of MobileNetV2.\")\n",
        "\n",
        "    # === D. Recompile with lower learning rate for fine-tuning ===\n",
        "    model.compile(\n",
        "        optimizer=tf.keras.optimizers.Adam(learning_rate=1e-5),\n",
        "        loss='sparse_categorical_crossentropy',\n",
        "        metrics=['accuracy']\n",
        "    )\n",
        "\n",
        "    # === E. Load class weights ===\n",
        "    with open(class_weights_path, 'rb') as f:\n",
        "        class_weights = pickle.load(f)\n",
        "    gc.collect()\n",
        "\n",
        "    # === F. Generator for batch loading ===\n",
        "    class PatchDataGenerator(Sequence):\n",
        "        def __init__(self, part_dir, prefix, input_shape, shuffle=True):\n",
        "            super().__init__()\n",
        "            self.input_shape = input_shape\n",
        "            self.shuffle = shuffle\n",
        "            self.X_paths = sorted([os.path.join(part_dir, f) for f in os.listdir(part_dir) if f.startswith(f'X_{prefix}_part_')])\n",
        "            self.y_paths = [p.replace('X_', 'y_') for p in self.X_paths]\n",
        "            self.on_epoch_end()\n",
        "\n",
        "        def __len__(self):\n",
        "            return len(self.X_paths)\n",
        "\n",
        "        def __getitem__(self, index):\n",
        "            X = np.load(self.X_paths[index])\n",
        "            y = np.load(self.y_paths[index])\n",
        "            gc.collect()\n",
        "            return X, y\n",
        "\n",
        "        def on_epoch_end(self):\n",
        "            if self.shuffle:\n",
        "                combined = list(zip(self.X_paths, self.y_paths))\n",
        "                np.random.shuffle(combined)\n",
        "                self.X_paths, self.y_paths = zip(*combined)\n",
        "\n",
        "    train_gen = PatchDataGenerator(train_dir, 'train', input_shape=input_shape, shuffle=True)\n",
        "    val_gen = PatchDataGenerator(val_dir, 'val', input_shape=input_shape, shuffle=False)\n",
        "    gc.collect()\n",
        "\n",
        "    # === G. Callbacks ===\n",
        "    cb = [\n",
        "        callbacks.ModelCheckpoint(finetuned_model_path, monitor='val_accuracy', save_best_only=True, verbose=1),\n",
        "        callbacks.EarlyStopping(monitor='val_loss', patience=3, restore_best_weights=True, verbose=1),\n",
        "        callbacks.ReduceLROnPlateau(monitor='val_loss', factor=0.5, patience=2, verbose=1)\n",
        "    ]\n",
        "\n",
        "    # === H. Train ===\n",
        "    history = model.fit(\n",
        "        train_gen,\n",
        "        validation_data=val_gen,\n",
        "        epochs=epochs,\n",
        "        class_weight=class_weights,\n",
        "        callbacks=cb,\n",
        "        verbose=1\n",
        "    )\n",
        "\n",
        "    print(f\"✅ Fine-tuning complete. Model saved at: {finetuned_model_path}\")\n",
        "\n",
        "    # === I. Cleanup ===\n",
        "    del model, train_gen, val_gen, history, base_model\n",
        "    gc.collect()"
      ],
      "metadata": {
        "colab": {
          "base_uri": "https://localhost:8080/"
        },
        "id": "Xxz0wf4zEhjC",
        "outputId": "53c21e6f-aca3-4e7a-975d-034421cc5010"
      },
      "execution_count": 8,
      "outputs": [
        {
          "output_type": "stream",
          "name": "stderr",
          "text": [
            "WARNING:absl:Compiled the loaded model, but the compiled metrics have yet to be built. `model.compile_metrics` will be empty until you train or evaluate the model.\n"
          ]
        },
        {
          "output_type": "stream",
          "name": "stdout",
          "text": [
            "✅ Successfully unfroze last 30 layers of MobileNetV2.\n",
            "Epoch 1/15\n",
            "\u001b[1m80/80\u001b[0m \u001b[32m━━━━━━━━━━━━━━━━━━━━\u001b[0m\u001b[37m\u001b[0m \u001b[1m0s\u001b[0m 2s/step - accuracy: 0.2726 - loss: 3.7540\n",
            "Epoch 1: val_accuracy improved from -inf to 0.33935, saving model to models/tl_mobilenetv2_finetuned.h5\n"
          ]
        },
        {
          "output_type": "stream",
          "name": "stderr",
          "text": [
            "WARNING:absl:You are saving your model as an HDF5 file via `model.save()` or `keras.saving.save_model(model)`. This file format is considered legacy. We recommend using instead the native Keras format, e.g. `model.save('my_model.keras')` or `keras.saving.save_model(model, 'my_model.keras')`. \n"
          ]
        },
        {
          "output_type": "stream",
          "name": "stdout",
          "text": [
            "\b\b\b\b\b\b\b\b\b\b\b\b\b\b\b\b\b\b\b\b\b\b\b\b\b\b\b\b\b\b\b\b\b\b\b\b\b\b\b\b\b\b\b\b\b\b\b\b\b\b\b\b\b\b\b\b\b\b\b\b\b\b\b\b\b\b\b\b\b\b\b\r\u001b[1m80/80\u001b[0m \u001b[32m━━━━━━━━━━━━━━━━━━━━\u001b[0m\u001b[37m\u001b[0m \u001b[1m221s\u001b[0m 2s/step - accuracy: 0.2729 - loss: 3.7396 - val_accuracy: 0.3393 - val_loss: 2.1924 - learning_rate: 1.0000e-05\n",
            "Epoch 2/15\n",
            "\u001b[1m80/80\u001b[0m \u001b[32m━━━━━━━━━━━━━━━━━━━━\u001b[0m\u001b[37m\u001b[0m \u001b[1m0s\u001b[0m 2s/step - accuracy: 0.3200 - loss: 2.0577\n",
            "Epoch 2: val_accuracy did not improve from 0.33935\n",
            "\u001b[1m80/80\u001b[0m \u001b[32m━━━━━━━━━━━━━━━━━━━━\u001b[0m\u001b[37m\u001b[0m \u001b[1m187s\u001b[0m 2s/step - accuracy: 0.3199 - loss: 2.0589 - val_accuracy: 0.2390 - val_loss: 3.0896 - learning_rate: 1.0000e-05\n",
            "Epoch 3/15\n",
            "\u001b[1m80/80\u001b[0m \u001b[32m━━━━━━━━━━━━━━━━━━━━\u001b[0m\u001b[37m\u001b[0m \u001b[1m0s\u001b[0m 2s/step - accuracy: 0.3299 - loss: 1.5023\n",
            "Epoch 3: val_accuracy did not improve from 0.33935\n",
            "\n",
            "Epoch 3: ReduceLROnPlateau reducing learning rate to 4.999999873689376e-06.\n",
            "\u001b[1m80/80\u001b[0m \u001b[32m━━━━━━━━━━━━━━━━━━━━\u001b[0m\u001b[37m\u001b[0m \u001b[1m183s\u001b[0m 2s/step - accuracy: 0.3300 - loss: 1.5061 - val_accuracy: 0.2186 - val_loss: 3.4447 - learning_rate: 1.0000e-05\n",
            "Epoch 4/15\n",
            "\u001b[1m80/80\u001b[0m \u001b[32m━━━━━━━━━━━━━━━━━━━━\u001b[0m\u001b[37m\u001b[0m \u001b[1m0s\u001b[0m 2s/step - accuracy: 0.3355 - loss: 1.3359\n",
            "Epoch 4: val_accuracy did not improve from 0.33935\n",
            "\u001b[1m80/80\u001b[0m \u001b[32m━━━━━━━━━━━━━━━━━━━━\u001b[0m\u001b[37m\u001b[0m \u001b[1m187s\u001b[0m 2s/step - accuracy: 0.3357 - loss: 1.3394 - val_accuracy: 0.2220 - val_loss: 3.4719 - learning_rate: 5.0000e-06\n",
            "Epoch 4: early stopping\n",
            "Restoring model weights from the end of the best epoch: 1.\n",
            "✅ Fine-tuning complete. Model saved at: models/tl_mobilenetv2_finetuned.h5\n"
          ]
        }
      ]
    },
    {
      "cell_type": "markdown",
      "source": [
        "### 23.4 Tuned TL and not Fine tuned TL model fitting on Test set"
      ],
      "metadata": {
        "id": "k3bcnMIXNCOi"
      }
    },
    {
      "cell_type": "code",
      "source": [
        "# ===== Step 23.4: Evaluate Transfer Learning Model on Test Set (batch-wise, RAM-safe) =====\n",
        "\n",
        "import os\n",
        "import numpy as np\n",
        "import tensorflow as tf\n",
        "import pickle\n",
        "import gc\n",
        "from tensorflow.keras.models import load_model\n",
        "from sklearn.metrics import accuracy_score, classification_report, confusion_matrix\n",
        "import seaborn as sns\n",
        "import matplotlib.pyplot as plt\n",
        "\n",
        "# === A. Paths ===\n",
        "test_dir = 'test_parts'\n",
        "model_path = 'models/tl_mobilenetv2_tuned.h5'\n",
        "class_names_path = 'train_label_classes.pkl'\n",
        "preds_save_path = 'results/tl_test_preds.npy'\n",
        "labels_save_path = 'results/tl_test_labels.npy'\n",
        "\n",
        "# === B. Skip if already saved ===\n",
        "if os.path.exists(preds_save_path) and os.path.exists(labels_save_path):\n",
        "    print(f\"⏩ Skipping evaluation — results already saved.\")\n",
        "    y_pred = np.load(preds_save_path)\n",
        "    y_true = np.load(labels_save_path)\n",
        "\n",
        "else:\n",
        "    # === C. Load model and class names ===\n",
        "    model = load_model(model_path)\n",
        "    with open(class_names_path, 'rb') as f:\n",
        "        class_names = pickle.load(f)\n",
        "\n",
        "    # === D. Load test files ===\n",
        "    X_files = sorted([os.path.join(test_dir, f) for f in os.listdir(test_dir) if f.startswith('X_test_part_')])\n",
        "    y_files = [x.replace('X_', 'y_') for x in X_files]\n",
        "\n",
        "    y_true = []\n",
        "    y_pred = []\n",
        "\n",
        "    # === E. Predict batch-wise ===\n",
        "    for X_path, y_path in zip(X_files, y_files):\n",
        "        X = np.load(X_path)\n",
        "        y = np.load(y_path)\n",
        "        preds = model.predict(X, verbose=0)\n",
        "        pred_classes = np.argmax(preds, axis=1)\n",
        "\n",
        "        y_true.extend(y)\n",
        "        y_pred.extend(pred_classes)\n",
        "\n",
        "        del X, y, preds, pred_classes\n",
        "        gc.collect()\n",
        "\n",
        "    y_true = np.array(y_true)\n",
        "    y_pred = np.array(y_pred)\n",
        "\n",
        "    # === F. Save results ===\n",
        "    np.save(preds_save_path, y_pred)\n",
        "    np.save(labels_save_path, y_true)\n",
        "    print(f\"Test predictions saved to: {preds_save_path}\")\n",
        "    print(f\"✅ Test labels saved to: {labels_save_path}\")\n",
        "\n",
        "# === G. Metrics ===\n",
        "acc = accuracy_score(y_true, y_pred)\n",
        "print(f\"\\n✅ Test Accuracy: {acc:.4f}\\n\")\n",
        "\n",
        "print(\" Classification Report:\")\n",
        "print(classification_report(y_true, y_pred, target_names=class_names, zero_division=0))\n",
        "\n",
        "# === H. Confusion Matrix ===\n",
        "cm = confusion_matrix(y_true, y_pred)\n",
        "plt.figure(figsize=(10, 8))\n",
        "sns.heatmap(cm, annot=False, fmt='d', cmap='Blues', xticklabels=class_names, yticklabels=class_names)\n",
        "plt.title(\"Confusion Matrix — TL Model\")\n",
        "plt.xlabel(\"Predicted\")\n",
        "plt.ylabel(\"True\")\n",
        "plt.tight_layout()\n",
        "plt.show()"
      ],
      "metadata": {
        "colab": {
          "base_uri": "https://localhost:8080/",
          "height": 1000
        },
        "id": "GGVFCKsTNNZm",
        "outputId": "c62396ef-d09a-463e-dcb7-04611b115858"
      },
      "execution_count": 9,
      "outputs": [
        {
          "output_type": "stream",
          "name": "stderr",
          "text": [
            "WARNING:absl:Compiled the loaded model, but the compiled metrics have yet to be built. `model.compile_metrics` will be empty until you train or evaluate the model.\n"
          ]
        },
        {
          "output_type": "stream",
          "name": "stdout",
          "text": [
            "Test predictions saved to: results/tl_test_preds.npy\n",
            "✅ Test labels saved to: results/tl_test_labels.npy\n",
            "\n",
            "✅ Test Accuracy: 0.6331\n",
            "\n",
            " Classification Report:\n",
            "                    precision    recall  f1-score   support\n",
            "\n",
            "  baseball-diamond       0.78      0.45      0.57       214\n",
            "  basketball-court       0.21      0.06      0.09       132\n",
            "            bridge       0.23      0.17      0.20       464\n",
            "ground-track-field       0.33      0.58      0.43       144\n",
            "            harbor       0.70      0.57      0.63      2090\n",
            "        helicopter       0.08      0.71      0.14        73\n",
            "     large-vehicle       0.74      0.49      0.59      4387\n",
            "             plane       0.90      0.79      0.84      2531\n",
            "        roundabout       0.07      0.94      0.13       179\n",
            "              ship       0.81      0.72      0.76      8960\n",
            "     small-vehicle       0.60      0.83      0.69      5438\n",
            " soccer-ball-field       0.14      0.91      0.25       153\n",
            "      storage-tank       0.99      0.25      0.40      2888\n",
            "     swimming-pool       0.32      0.28      0.30       440\n",
            "      tennis-court       0.98      0.61      0.75       760\n",
            "\n",
            "          accuracy                           0.63     28853\n",
            "         macro avg       0.53      0.56      0.45     28853\n",
            "      weighted avg       0.75      0.63      0.65     28853\n",
            "\n"
          ]
        },
        {
          "output_type": "display_data",
          "data": {
            "text/plain": [
              "<Figure size 1000x800 with 2 Axes>"
            ],
            "image/png": "[encoded data removed]"
          },
          "metadata": {}
        }
      ]
    },
    {
      "cell_type": "markdown",
      "source": [
        "### Confusion Matrix for SGD CLASSIFIER and CNN with class labels"
      ],
      "metadata": {
        "id": "npcbKwh1QQ5U"
      }
    },
    {
      "cell_type": "code",
      "source": [
        "import numpy as np\n",
        "import matplotlib.pyplot as plt\n",
        "import seaborn as sns\n",
        "from sklearn.metrics import confusion_matrix\n",
        "import pickle\n",
        "\n",
        "# Load class labels\n",
        "with open('train_label_classes.pkl', 'rb') as f:\n",
        "    class_names = pickle.load(f)\n",
        "\n",
        "# Load CNN results\n",
        "cnn_preds = np.load('results/cnn_test_preds.npy')\n",
        "cnn_labels = np.load('results/cnn_test_labels.npy')\n",
        "cm_cnn = confusion_matrix(cnn_labels, cnn_preds)\n",
        "\n",
        "# Load SGD results\n",
        "sgd_preds = np.load('results/sgd_test_preds.npy')\n",
        "sgd_labels = np.load('results/sgd_test_labels.npy')\n",
        "cm_sgd = confusion_matrix(sgd_labels, sgd_preds)\n",
        "\n",
        "# Plot both side by side\n",
        "plt.figure(figsize=(18, 7))\n",
        "\n",
        "# CNN\n",
        "plt.subplot(1, 2, 1)\n",
        "sns.heatmap(cm_cnn, annot=False, fmt='d', cmap='Blues',\n",
        "            xticklabels=class_names, yticklabels=class_names)\n",
        "plt.title(\"Confusion Matrix — CNN\")\n",
        "plt.xlabel(\"Predicted\")\n",
        "plt.ylabel(\"True\")\n",
        "\n",
        "# SGD\n",
        "plt.subplot(1, 2, 2)\n",
        "sns.heatmap(cm_sgd, annot=False, fmt='d', cmap='Greens',\n",
        "            xticklabels=class_names, yticklabels=class_names)\n",
        "plt.title(\"Confusion Matrix — SGD\")\n",
        "plt.xlabel(\"Predicted\")\n",
        "plt.ylabel(\"True\")\n",
        "\n",
        "plt.tight_layout()\n",
        "plt.show()"
      ],
      "metadata": {
        "colab": {
          "base_uri": "https://localhost:8080/",
          "height": 575
        },
        "id": "5lacv2KPQR0T",
        "outputId": "cf65a746-2304-41dd-f59f-6525a3ecb07d"
      },
      "execution_count": 10,
      "outputs": [
        {
          "output_type": "display_data",
          "data": {
            "text/plain": [
              "<Figure size 1800x700 with 4 Axes>"
            ],
            "image/png": "[encoded data removed]"
          },
          "metadata": {}
        }
      ]
    },
    {
      "cell_type": "code",
      "source": [],
      "metadata": {
        "id": "vKt77WbAYdu0"
      },
      "execution_count": null,
      "outputs": []
    }
  ],
  "metadata": {
    "colab": {
      "provenance": [],
      "authorship_tag": "ABX9TyPwDT813Rbtw456og+f1oJQ",
      "include_colab_link": true
    },
    "kernelspec": {
      "display_name": "Python 3",
      "name": "python3"
    },
    "language_info": {
      "name": "python"
    }
  },
  "nbformat": 4,
  "nbformat_minor": 0
}